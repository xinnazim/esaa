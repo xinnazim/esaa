{
  "nbformat": 4,
  "nbformat_minor": 0,
  "metadata": {
    "colab": {
      "provenance": [],
      "authorship_tag": "ABX9TyP+SdQom1dCGLk7Exj7wScX",
      "include_colab_link": true
    },
    "kernelspec": {
      "name": "python3",
      "display_name": "Python 3"
    },
    "language_info": {
      "name": "python"
    }
  },
  "cells": [
    {
      "cell_type": "markdown",
      "metadata": {
        "id": "view-in-github",
        "colab_type": "text"
      },
      "source": [
        "<a href=\"https://colab.research.google.com/github/xinnazim/esaa/blob/main/%ED%86%B5%ED%94%84hw5.ipynb\" target=\"_parent\"><img src=\"https://colab.research.google.com/assets/colab-badge.svg\" alt=\"Open In Colab\"/></a>"
      ]
    },
    {
      "cell_type": "markdown",
      "source": [
        "# 2031031 유지민 통프 HW5"
      ],
      "metadata": {
        "id": "3AwM20PyOCNQ"
      }
    },
    {
      "cell_type": "markdown",
      "source": [
        "## Exercise 2.3.4 Revisiting Iris data (HW)\n",
        "\n",
        "We use `train_loader` to train the model, and use `test_loader` to calculate the test accuracy. Use the following code to train the model, and calculate the test accuracy. In this case, you need to define your own loss function to calculate cross-entropy function from `q_hat` and `tt`.\n",
        "```\n",
        "z_model = nn.Linear(784, 10, bias=True)\n",
        "```\n",
        "and\n",
        "```\n",
        "for xx, tt in train_loader:\n",
        "  zhat = z_model(xx)\n",
        "  q_hat = torch.softmax()\n",
        "```"
      ],
      "metadata": {
        "id": "a2wB8GZWTAtV"
      }
    },
    {
      "cell_type": "code",
      "source": [
        "# import library\n",
        "\n",
        "import numpy as np\n",
        "import torch\n",
        "import torchvision\n",
        "import matplotlib.pyplot as plt\n",
        "import sklearn.datasets\n",
        "import torch.nn as nn\n",
        "from torch.utils.data import Dataset, DataLoader, TensorDataset\n",
        "import pandas as pd\n",
        "from tqdm import tqdm"
      ],
      "metadata": {
        "id": "QqfXRW_6c5zf"
      },
      "execution_count": null,
      "outputs": []
    },
    {
      "cell_type": "code",
      "source": [
        "from sklearn.datasets import load_iris\n",
        "from sklearn.model_selection import train_test_split\n",
        "\n",
        "# Load the Iris dataset\n",
        "iris = load_iris()\n",
        "\n",
        "# Convert the data to PyTorch tensors\n",
        "X = torch.tensor(iris.data, dtype=torch.float32)\n",
        "y = torch.tensor(iris.target, dtype=torch.long)\n",
        "\n",
        "t = torch.nn.functional.one_hot(torch.tensor(y, dtype=torch.int64), num_classes=3) #원핫인코딩\n",
        "t = torch.tensor(t, dtype=torch.float32)\n",
        "\n",
        "\n",
        "# Normalize the input data\n",
        "mean = torch.mean(X, dim=0)\n",
        "std = torch.std(X, dim=0)\n",
        "X = (X - mean) / std\n",
        "\n",
        "# Split the dataset into training and validation sets\n",
        "X_train, X_val, t_train, t_val = train_test_split(X, t, test_size=0.2, random_state=42)\n",
        "\n",
        "# Create PyTorch Datasets\n",
        "train_dataset = TensorDataset(X_train, t_train)\n",
        "val_dataset = TensorDataset(X_val, t_val)\n",
        "\n",
        "# Define the data loaders\n",
        "batch_size = 16\n",
        "train_loader = DataLoader(train_dataset, batch_size=batch_size, shuffle=True)\n",
        "test_loader = DataLoader(val_dataset, batch_size=batch_size, shuffle=False)"
      ],
      "metadata": {
        "colab": {
          "base_uri": "https://localhost:8080/"
        },
        "id": "XOBWKx37dfhj",
        "outputId": "86129757-38c6-4119-8bd9-cb07105d630c"
      },
      "execution_count": null,
      "outputs": [
        {
          "output_type": "stream",
          "name": "stderr",
          "text": [
            "<ipython-input-2-a18e89a69626>:11: UserWarning: To copy construct from a tensor, it is recommended to use sourceTensor.clone().detach() or sourceTensor.clone().detach().requires_grad_(True), rather than torch.tensor(sourceTensor).\n",
            "  t = torch.nn.functional.one_hot(torch.tensor(y, dtype=torch.int64), num_classes=3) #원핫인코딩\n",
            "<ipython-input-2-a18e89a69626>:12: UserWarning: To copy construct from a tensor, it is recommended to use sourceTensor.clone().detach() or sourceTensor.clone().detach().requires_grad_(True), rather than torch.tensor(sourceTensor).\n",
            "  t = torch.tensor(t, dtype=torch.float32)\n"
          ]
        }
      ]
    },
    {
      "cell_type": "markdown",
      "source": [
        "X: 설명변수\n",
        "y: 클래스 값\n",
        "t: y의 원핫인코딩"
      ],
      "metadata": {
        "id": "CgRfi8mneiTK"
      }
    },
    {
      "cell_type": "code",
      "source": [
        "X[:1]"
      ],
      "metadata": {
        "id": "YDVLeqWbK_jf",
        "colab": {
          "base_uri": "https://localhost:8080/"
        },
        "outputId": "094dca8d-5e89-41f4-da94-4f5c519ec66e"
      },
      "execution_count": null,
      "outputs": [
        {
          "output_type": "execute_result",
          "data": {
            "text/plain": [
              "tensor([[-0.8977,  1.0156, -1.3358, -1.3111]])"
            ]
          },
          "metadata": {},
          "execution_count": 3
        }
      ]
    },
    {
      "cell_type": "code",
      "source": [
        "y[:1]"
      ],
      "metadata": {
        "colab": {
          "base_uri": "https://localhost:8080/"
        },
        "id": "1mtvfFf6e03G",
        "outputId": "14cf82c2-af4a-4cce-b31e-a5a63cb90e7f"
      },
      "execution_count": null,
      "outputs": [
        {
          "output_type": "execute_result",
          "data": {
            "text/plain": [
              "tensor([0])"
            ]
          },
          "metadata": {},
          "execution_count": 4
        }
      ]
    },
    {
      "cell_type": "markdown",
      "source": [
        "1. 모델링, 훈련"
      ],
      "metadata": {
        "id": "ijtQq1-NfPub"
      }
    },
    {
      "cell_type": "code",
      "source": [
        "# 모델 정의\n",
        "z_model = nn.Linear(4, 3, bias=True) # 4개의 입력 특성, 3개의 클래스를 갖는 선형 모델\n",
        "\n",
        "# 옵티마이저 설정\n",
        "optimizer = torch.optim.SGD(z_model.parameters(), lr=0.01)\n",
        "\n",
        "#loss ftn 정의\n",
        "def loss_ftn(qhat, tt):\n",
        "  loss = - torch.mean(torch.sum(tt * torch.log(qhat), axis=1))\n",
        "  return loss\n",
        "\n",
        "\n",
        "n=X_train.shape[0]\n",
        "history=[]\n",
        "epochs = 200\n",
        "\n",
        "for epoch in tqdm(range(epochs)):\n",
        "    Loss = 0\n",
        "    for xx, tt in train_loader:\n",
        "        zhat = z_model(xx)\n",
        "        qhat = torch.softmax(zhat, dim=1)\n",
        "\n",
        "        #loss 계산\n",
        "        loss = loss_ftn(qhat, tt)\n",
        "        Loss = Loss + loss.item()*len(xx)\n",
        "\n",
        "        optimizer.zero_grad()\n",
        "        loss.backward()\n",
        "        optimizer.step()\n",
        "\n",
        "    history.append(Loss/n)\n",
        "\n",
        "#시각화\n",
        "plt.plot(history)"
      ],
      "metadata": {
        "colab": {
          "base_uri": "https://localhost:8080/",
          "height": 466
        },
        "id": "Mj4UKXF2gZLB",
        "outputId": "5da5f617-2084-4373-96ee-57fb9c91cf0f"
      },
      "execution_count": null,
      "outputs": [
        {
          "output_type": "stream",
          "name": "stderr",
          "text": [
            "100%|██████████| 200/200 [00:04<00:00, 49.27it/s]\n"
          ]
        },
        {
          "output_type": "execute_result",
          "data": {
            "text/plain": [
              "[<matplotlib.lines.Line2D at 0x7c8f6631f820>]"
            ]
          },
          "metadata": {},
          "execution_count": 5
        },
        {
          "output_type": "display_data",
          "data": {
            "text/plain": [
              "<Figure size 640x480 with 1 Axes>"
            ],
            "image/png": "[encoded data removed]"
          },
          "metadata": {}
        }
      ]
    },
    {
      "cell_type": "markdown",
      "source": [
        "2. accuracy 계산"
      ],
      "metadata": {
        "id": "34MSWuisnMxl"
      }
    },
    {
      "cell_type": "code",
      "source": [
        "qhat"
      ],
      "metadata": {
        "colab": {
          "base_uri": "https://localhost:8080/"
        },
        "id": "ToW0OHJ2n4wG",
        "outputId": "c6accdb2-095b-46e6-8c63-0d1886b5a32b"
      },
      "execution_count": null,
      "outputs": [
        {
          "output_type": "execute_result",
          "data": {
            "text/plain": [
              "tensor([[3.0697e-02, 2.8960e-01, 6.7970e-01],\n",
              "        [9.8883e-01, 1.0926e-02, 2.4468e-04],\n",
              "        [1.3980e-01, 5.9367e-01, 2.6653e-01],\n",
              "        [9.9538e-01, 4.4931e-03, 1.2502e-04],\n",
              "        [2.1093e-03, 5.9638e-02, 9.3825e-01],\n",
              "        [9.5650e-03, 8.0613e-01, 1.8431e-01],\n",
              "        [9.7353e-01, 2.6035e-02, 4.3759e-04],\n",
              "        [2.0468e-02, 8.9948e-01, 8.0056e-02]], grad_fn=<SoftmaxBackward0>)"
            ]
          },
          "metadata": {},
          "execution_count": 6
        }
      ]
    },
    {
      "cell_type": "code",
      "source": [
        "def accuracy_ftn(qhat, t):\n",
        "  yhat = torch.argmax(qhat, axis=1).to(torch.float32) # argmax 사용해서 열 기준으로 max값 도출(예측)\n",
        "  y = torch.argmax(t, axis=1).to(torch.float32) # (실제)\n",
        "  accuracy = torch.sum((y==yhat).to(torch.float32)) #예측과 실제가 일치하는 경우의 수\n",
        "  return accuracy\n",
        "\n",
        "acc_sum=0\n",
        "\n",
        "for X,T in test_loader:\n",
        "    qhat = torch.softmax(z_model(X), dim=1) #예측 확률\n",
        "    acc_sum = acc_sum + accuracy_ftn(qhat, T).item() #각 배치의 예측 정확도 누적\n",
        "\n",
        "# 전체 정확도 출력\n",
        "print(\"accuracy:\",(acc_sum/len(X_val)))"
      ],
      "metadata": {
        "colab": {
          "base_uri": "https://localhost:8080/"
        },
        "id": "czoeuaN4XS0t",
        "outputId": "36d3690d-c17d-4bab-c882-e1ad538dd542"
      },
      "execution_count": null,
      "outputs": [
        {
          "output_type": "stream",
          "name": "stdout",
          "text": [
            "accuracy: 0.9666666666666667\n"
          ]
        }
      ]
    },
    {
      "cell_type": "markdown",
      "source": [
        "> accuracy: 약 96%"
      ],
      "metadata": {
        "id": "_iruyk6DupcQ"
      }
    },
    {
      "cell_type": "markdown",
      "metadata": {
        "id": "6MMnjhQOPR-2"
      },
      "source": [
        "## Exercise 2.3.5: Fashion MNIST data (HW)"
      ]
    },
    {
      "cell_type": "markdown",
      "metadata": {
        "id": "Q0wBOhSpRP6A"
      },
      "source": [
        "You are given the following fashion MNIST data. Do the multinomial regression so that the regression machine can determine the label from the images. Calculate the test accuracy. In the test dataset, identify at least 5 cases where your predictions are wrong, and explain why possibly they were mis-classified.\n",
        "\n",
        "> 5 case\n",
        "\n",
        "1. the picture\n",
        "\n",
        "2. predicted label\n",
        "\n",
        "3. real label\n",
        "\n",
        "4. Explain the possible reason why your model is wrong in this case."
      ]
    },
    {
      "cell_type": "code",
      "execution_count": null,
      "metadata": {
        "id": "E-OllAGT6pr-"
      },
      "outputs": [],
      "source": [
        "import torch\n",
        "from torch import nn, optim\n",
        "import torch.nn.functional as F\n",
        "from torch.utils.data import DataLoader\n",
        "from torchvision import datasets, transforms"
      ]
    },
    {
      "cell_type": "code",
      "execution_count": null,
      "metadata": {
        "id": "Y2dqyxnr6psU"
      },
      "outputs": [],
      "source": [
        "# transform to normalize the data\n",
        "transform = transforms.Compose([transforms.ToTensor(),\n",
        "                                transforms.Normalize((0.5,), (0.5,))])\n",
        "\n",
        "# Download and load the training data\n",
        "trainset = datasets.FashionMNIST('./data', download=True, train=True, transform=transform)\n",
        "train_loader = DataLoader(trainset, batch_size=64, shuffle=True)\n",
        "\n",
        "# Download and load the test data\n",
        "validationset = datasets.FashionMNIST('./data', download=True, train=False, transform=transform)\n",
        "test_loader = DataLoader(validationset, batch_size=64, shuffle=True)"
      ]
    },
    {
      "cell_type": "code",
      "source": [
        "xx, yy = trainset[0]"
      ],
      "metadata": {
        "id": "fH_-sM1iXlj4"
      },
      "execution_count": null,
      "outputs": []
    },
    {
      "cell_type": "code",
      "source": [
        "xx.shape"
      ],
      "metadata": {
        "colab": {
          "base_uri": "https://localhost:8080/"
        },
        "id": "-bvkatZ7uiVK",
        "outputId": "f74cc4f8-a115-44f9-e07f-bb747a361bd9"
      },
      "execution_count": null,
      "outputs": [
        {
          "output_type": "execute_result",
          "data": {
            "text/plain": [
              "torch.Size([1, 28, 28])"
            ]
          },
          "metadata": {},
          "execution_count": 11
        }
      ]
    },
    {
      "cell_type": "code",
      "source": [
        "plt.imshow(xx.reshape(28,28))\n",
        "my_name = { 0: \"T-shirt/top\", 1: \"Trouser\",\n",
        "              2: \"Pullover\", 3: \"Dress\", 4: \"Coat\", 5: \"Sandal\", 6: \"Shirt\", 7: \"Sneaker\", 8: \"Bag\", 9: \"Ankle boot\"}\n",
        "print(my_name[yy])\n",
        "\n"
      ],
      "metadata": {
        "colab": {
          "base_uri": "https://localhost:8080/",
          "height": 448
        },
        "id": "PEu4G4HsXug4",
        "outputId": "325d9ac4-3248-462c-c140-d86016dd9444"
      },
      "execution_count": null,
      "outputs": [
        {
          "output_type": "stream",
          "name": "stdout",
          "text": [
            "Ankle boot\n"
          ]
        },
        {
          "output_type": "display_data",
          "data": {
            "text/plain": [
              "<Figure size 640x480 with 1 Axes>"
            ],
            "image/png": "[encoded data removed]"
          },
          "metadata": {}
        }
      ]
    },
    {
      "cell_type": "markdown",
      "source": [
        "1. 모델링\n",
        "2. 모델링으로 각 class별 확률 구하고 그걸 기준으로 예측값이 분류한 class 라벨 붙임\n",
        "3. 실제 라벨과 비교"
      ],
      "metadata": {
        "id": "asJ0FzlGuxEu"
      }
    },
    {
      "cell_type": "code",
      "metadata": {
        "id": "jx4Y_8aqRHOd",
        "colab": {
          "base_uri": "https://localhost:8080/"
        },
        "outputId": "be210e4b-ed36-426f-e996-4305f0e26f6c"
      },
      "source": [
        "trainset"
      ],
      "execution_count": null,
      "outputs": [
        {
          "output_type": "execute_result",
          "data": {
            "text/plain": [
              "Dataset FashionMNIST\n",
              "    Number of datapoints: 60000\n",
              "    Root location: ./data\n",
              "    Split: Train\n",
              "    StandardTransform\n",
              "Transform: Compose(\n",
              "               ToTensor()\n",
              "               Normalize(mean=(0.5,), std=(0.5,))\n",
              "           )"
            ]
          },
          "metadata": {},
          "execution_count": 13
        }
      ]
    },
    {
      "cell_type": "markdown",
      "source": [
        "> trainset 개수= 60000"
      ],
      "metadata": {
        "id": "aelR1MZNdydm"
      }
    },
    {
      "cell_type": "code",
      "source": [
        "# 모델링\n",
        "\n",
        "z_model = nn.Linear(28*28, 10, bias=True) # 입력 크기는 28*28, 출력 클래스는 10개\n",
        "\n",
        "# loss ftn 정의\n",
        "def loss_ftn(qhat, tt):\n",
        "    loss = -torch.mean(torch.sum(tt * torch.log(qhat), axis=1))\n",
        "    return loss\n",
        "\n",
        "# 옵티마이저 설정\n",
        "optimizer = torch.optim.SGD(z_model.parameters(), lr=0.01)\n",
        "\n",
        "# 훈련\n",
        "n = 60000\n",
        "history = []\n",
        "epochs = 20\n",
        "\n",
        "for epoch in tqdm(range(epochs)):\n",
        "    Loss = 0\n",
        "\n",
        "    # 각 미니배치에 대한 반복\n",
        "    for xx, tt in train_loader:\n",
        "\n",
        "        zhat = z_model(xx.reshape([-1, 28*28])) #linear modeld에서 사용하기 위해 784 벡터 꼴로 reshape\n",
        "\n",
        "        # 소프트맥스 함수를 통해 확률로 변환\n",
        "        qhat = torch.softmax(zhat, dim=1)\n",
        "\n",
        "        # 원핫인코딩\n",
        "        t_ = torch.nn.functional.one_hot(torch.tensor(tt, dtype=torch.int64), num_classes=10)\n",
        "        t_ = torch.tensor(t_, dtype=torch.float32)\n",
        "\n",
        "        # loss 계산\n",
        "        loss = loss_ftn(qhat, t_)\n",
        "        Loss += loss.item() * len(xx)\n",
        "\n",
        "        optimizer.zero_grad()\n",
        "        loss.backward()\n",
        "        optimizer.step()\n",
        "\n",
        "    history.append(Loss/n)\n",
        "\n",
        "# 시각화\n",
        "plt.plot(history)\n"
      ],
      "metadata": {
        "colab": {
          "base_uri": "https://localhost:8080/",
          "height": 559
        },
        "id": "V26vzkoZn5jx",
        "outputId": "c7fcc854-4712-4f0b-e5a6-2db30effb7d4"
      },
      "execution_count": null,
      "outputs": [
        {
          "output_type": "stream",
          "name": "stderr",
          "text": [
            "\r  0%|          | 0/20 [00:00<?, ?it/s]<ipython-input-14-a385900e32ed>:30: UserWarning: To copy construct from a tensor, it is recommended to use sourceTensor.clone().detach() or sourceTensor.clone().detach().requires_grad_(True), rather than torch.tensor(sourceTensor).\n",
            "  t_ = torch.nn.functional.one_hot(torch.tensor(tt, dtype=torch.int64), num_classes=10)\n",
            "<ipython-input-14-a385900e32ed>:31: UserWarning: To copy construct from a tensor, it is recommended to use sourceTensor.clone().detach() or sourceTensor.clone().detach().requires_grad_(True), rather than torch.tensor(sourceTensor).\n",
            "  t_ = torch.tensor(t_, dtype=torch.float32)\n",
            "100%|██████████| 20/20 [05:34<00:00, 16.72s/it]\n"
          ]
        },
        {
          "output_type": "execute_result",
          "data": {
            "text/plain": [
              "[<matplotlib.lines.Line2D at 0x7c8f638815d0>]"
            ]
          },
          "metadata": {},
          "execution_count": 14
        },
        {
          "output_type": "display_data",
          "data": {
            "text/plain": [
              "<Figure size 640x480 with 1 Axes>"
            ],
            "image/png": "[encoded data removed]"
          },
          "metadata": {}
        }
      ]
    },
    {
      "cell_type": "markdown",
      "source": [
        "class별로 나타낸 Y와 확률을 기반으로 class로 분류된 Yhat이 같아지는 것이 accuracy임\n",
        "달라지는 것을 mis_pred 로 담아서 그림으로 확인"
      ],
      "metadata": {
        "id": "py4kMxqjz1ku"
      }
    },
    {
      "cell_type": "code",
      "source": [
        "# accuracy 확인\n",
        "\n",
        "# 모델링으로 각 class 별 확률을 기준으로 라벨 생성\n",
        "for X,Y in test_loader:\n",
        "  qhat = torch.softmax(z_model(X.reshape([-1,28*28])), dim=1)\n",
        "  # 확률기반 클래스 분류\n",
        "  Yhat = torch.argmax(qhat, axis=1).to(torch.float32)\n",
        "\n",
        "  Y=Y.to(torch.float32)\n",
        "  acc_sum = acc_sum + torch.sum((Y==Yhat).to(torch.float32))\n",
        "\n",
        "print(\"accuracy:\",(acc_sum/len(validationset)))"
      ],
      "metadata": {
        "colab": {
          "base_uri": "https://localhost:8080/"
        },
        "id": "6AF9LTXdyyt_",
        "outputId": "60de54ed-d5ba-4cd2-c5f1-a85f65843ab6"
      },
      "execution_count": null,
      "outputs": [
        {
          "output_type": "stream",
          "name": "stdout",
          "text": [
            "accuracy: tensor(0.8446)\n"
          ]
        }
      ]
    },
    {
      "cell_type": "markdown",
      "source": [
        "> 약 84%"
      ],
      "metadata": {
        "id": "l_uz2FegqNpR"
      }
    },
    {
      "cell_type": "code",
      "source": [
        "#mis data\n",
        "print(Y!=Yhat,Y[Y!=Yhat])"
      ],
      "metadata": {
        "colab": {
          "base_uri": "https://localhost:8080/"
        },
        "id": "DwSivakV1VfJ",
        "outputId": "cf7476e3-00e6-48e0-a9fa-ec48621053f1"
      },
      "execution_count": null,
      "outputs": [
        {
          "output_type": "stream",
          "name": "stdout",
          "text": [
            "tensor([False, False, False, False, False, False, False, False, False, False,\n",
            "        False,  True, False,  True, False, False]) tensor([6., 8.])\n"
          ]
        }
      ]
    },
    {
      "cell_type": "markdown",
      "source": [
        "> * True-> 오분류\n",
        "* True 위치에서 예측이 틀렸고 실제 레이블은 각각 6,8 이라는 뜻"
      ],
      "metadata": {
        "id": "DhGhw-VehPgM"
      }
    },
    {
      "cell_type": "markdown",
      "source": [
        "다중 클래스 로지스틱 회귀 모델:\n",
        "\n",
        "Fashion MNIST 데이터셋에 대한 다중 클래스 로지스틱 회귀 모델을 만듭니다. 훈련 후 테스트 데이터셋에서의 정확도를 계산합니다.\n",
        "틀린 예측 식별:\n",
        "\n",
        "테스트 데이터셋에서 모델이 틀린 경우를 식별합니다. 이를 위해 예측과 실제 레이블을 비교하여 틀린 경우를 찾습니다.\n",
        "틀린 경우 설명:\n",
        "\n",
        "적어도 5개의 틀린 예측에 대해 왜 모델이 틀렸는지 설명합니다. 특히, 이미지의 특징, 모델이 혼란스러워하는 클래스 등을 고려하여 설명합니다."
      ],
      "metadata": {
        "id": "tW_i2ez9pLhq"
      }
    },
    {
      "cell_type": "code",
      "source": [
        "mis_samples = [] #오분류된 이미지 데이터 저장 리스트\n",
        "mis_labels = [] # 모델의 오분류 예측 레이블 저장 리스트\n",
        "true_labels = [] # 실제 레이블 저장 리스트\n",
        "\n",
        "# 모든 테스트 데이터에 대해 반복(각 class 별 확률을 기준으로 라벨 생성)\n",
        "for X, Y in test_loader:\n",
        "    qhat = torch.softmax(z_model(X.reshape([-1, 28*28])), dim=1)\n",
        "\n",
        "    # 확률 기반 클래스 분류\n",
        "    Yhat = torch.argmax(qhat, axis=1).to(torch.float32)\n",
        "    Y = Y.to(torch.float32)\n",
        "\n",
        "    # 오분류된 데이터 저장\n",
        "    mis_samples.append(X[Y != Yhat])\n",
        "    mis_labels.append(Yhat[Y != Yhat])\n",
        "    true_labels.append(Y[Y != Yhat])\n",
        "\n",
        "# 다시 텐서로 변환\n",
        "mis_samples = torch.cat(mis_samples)\n",
        "mis_labels = torch.cat(mis_labels)\n",
        "true_labels = torch.cat(true_labels)"
      ],
      "metadata": {
        "id": "qXnMUa-rh16V"
      },
      "execution_count": null,
      "outputs": []
    },
    {
      "cell_type": "code",
      "source": [
        "mis_samples.shape"
      ],
      "metadata": {
        "colab": {
          "base_uri": "https://localhost:8080/"
        },
        "id": "0IbyIlAkihco",
        "outputId": "7db99f20-eb7b-4823-ffc9-c441c9ec00c7"
      },
      "execution_count": null,
      "outputs": [
        {
          "output_type": "execute_result",
          "data": {
            "text/plain": [
              "torch.Size([1583, 1, 28, 28])"
            ]
          },
          "metadata": {},
          "execution_count": 18
        }
      ]
    },
    {
      "cell_type": "markdown",
      "source": [
        "> 1594개가 잘못 예측되었다."
      ],
      "metadata": {
        "id": "jD_cbfwXr2pQ"
      }
    },
    {
      "cell_type": "markdown",
      "source": [
        "Hint: Each training and test example is assigned to one of the following labels:\n",
        "\n",
        "0 T-shirt/top\n",
        "\n",
        "1 Trouser 바지\n",
        "\n",
        "2 Pullover 니트\n",
        "\n",
        "3 Dress\n",
        "\n",
        "4 Coat\n",
        "\n",
        "5 Sandal\n",
        "\n",
        "6 Shirt\n",
        "\n",
        "7 Sneaker\n",
        "\n",
        "8 Bag\n",
        "\n",
        "9 Ankle boot"
      ],
      "metadata": {
        "id": "f0332X2pWmn0"
      }
    },
    {
      "cell_type": "markdown",
      "source": [
        "1. the picture\n",
        "\n",
        "2. predicted label\n",
        "\n",
        "3. real label\n",
        "\n",
        "4. Explain the possible reason why your model is wrong in this case."
      ],
      "metadata": {
        "id": "v5JnS2c4l2uQ"
      }
    },
    {
      "cell_type": "code",
      "source": [
        "# 1.\n",
        "plt.imshow(mis_samples[0].reshape(28,28))\n",
        "print(mis_labels[0])\n",
        "print(true_labels[0])"
      ],
      "metadata": {
        "id": "3CLTgLPL2ww3",
        "colab": {
          "base_uri": "https://localhost:8080/",
          "height": 466
        },
        "outputId": "97ceb307-4ac7-43a3-a0f3-aa6fc795b6f0"
      },
      "execution_count": null,
      "outputs": [
        {
          "output_type": "stream",
          "name": "stdout",
          "text": [
            "tensor(1.)\n",
            "tensor(3.)\n"
          ]
        },
        {
          "output_type": "display_data",
          "data": {
            "text/plain": [
              "<Figure size 640x480 with 1 Axes>"
            ],
            "image/png": "[encoded data removed]"
          },
          "metadata": {}
        }
      ]
    },
    {
      "cell_type": "markdown",
      "source": [
        "> dress를 Trouser이라고 잘못 예측\n",
        "* 길이가 비슷해보임"
      ],
      "metadata": {
        "id": "_DqpvqgQjFaZ"
      }
    },
    {
      "cell_type": "code",
      "source": [
        "#2.\n",
        "plt.imshow(mis_samples[1].reshape(28,28))\n",
        "print(mis_labels[1])\n",
        "print(true_labels[1])"
      ],
      "metadata": {
        "colab": {
          "base_uri": "https://localhost:8080/",
          "height": 466
        },
        "id": "Iq2ZbBpDjNyr",
        "outputId": "9cab3929-fdda-4bdd-eebc-5a59e51fc996"
      },
      "execution_count": null,
      "outputs": [
        {
          "output_type": "stream",
          "name": "stdout",
          "text": [
            "tensor(4.)\n",
            "tensor(2.)\n"
          ]
        },
        {
          "output_type": "display_data",
          "data": {
            "text/plain": [
              "<Figure size 640x480 with 1 Axes>"
            ],
            "image/png": "[encoded data removed]"
          },
          "metadata": {}
        }
      ]
    },
    {
      "cell_type": "markdown",
      "source": [
        "> Pullover를 Coat라고 예측\n",
        "* 길이, 모양이 비슷함"
      ],
      "metadata": {
        "id": "1RXb1VJ71B50"
      }
    },
    {
      "cell_type": "code",
      "source": [
        "#3.\n",
        "plt.imshow(mis_samples[2].reshape(28,28))\n",
        "print(mis_labels[2])\n",
        "print(true_labels[2])"
      ],
      "metadata": {
        "colab": {
          "base_uri": "https://localhost:8080/",
          "height": 466
        },
        "id": "eMmCprDJspg_",
        "outputId": "6d6b43e7-c3b9-446b-a2a3-05b6caa798c6"
      },
      "execution_count": null,
      "outputs": [
        {
          "output_type": "stream",
          "name": "stdout",
          "text": [
            "tensor(6.)\n",
            "tensor(2.)\n"
          ]
        },
        {
          "output_type": "display_data",
          "data": {
            "text/plain": [
              "<Figure size 640x480 with 1 Axes>"
            ],
            "image/png": "[encoded data removed]"
          },
          "metadata": {}
        }
      ]
    },
    {
      "cell_type": "markdown",
      "source": [
        "> Pullover를 shirt라고 예측\n",
        "* 길이, 모양이 비슷"
      ],
      "metadata": {
        "id": "cMauPl1M1h94"
      }
    },
    {
      "cell_type": "code",
      "source": [
        "#4.\n",
        "plt.imshow(mis_samples[3].reshape(28,28))\n",
        "print(mis_labels[3])\n",
        "print(true_labels[3])"
      ],
      "metadata": {
        "colab": {
          "base_uri": "https://localhost:8080/",
          "height": 466
        },
        "id": "GZjHgst-jXiK",
        "outputId": "fd387ef2-8510-45b8-e370-27ffcc5876b8"
      },
      "execution_count": null,
      "outputs": [
        {
          "output_type": "stream",
          "name": "stdout",
          "text": [
            "tensor(9.)\n",
            "tensor(5.)\n"
          ]
        },
        {
          "output_type": "display_data",
          "data": {
            "text/plain": [
              "<Figure size 640x480 with 1 Axes>"
            ],
            "image/png": "[encoded data removed]"
          },
          "metadata": {}
        }
      ]
    },
    {
      "cell_type": "markdown",
      "source": [
        "> Sandal을 Ankle boots라고 예측함\n",
        "* 전체적으로 모양이 비슷하고 뚫려있는 부분을 구분 못하면 오분류하기 쉬워보임"
      ],
      "metadata": {
        "id": "DIm78XN-1qwc"
      }
    },
    {
      "cell_type": "code",
      "source": [
        "#5.\n",
        "i=14\n",
        "plt.imshow(mis_samples[i].reshape(28,28))\n",
        "print(mis_labels[i])\n",
        "print(true_labels[i])"
      ],
      "metadata": {
        "colab": {
          "base_uri": "https://localhost:8080/",
          "height": 466
        },
        "id": "6zEGpeVqtDS-",
        "outputId": "312a6358-d1a0-4f3d-81d4-b52f9069770f"
      },
      "execution_count": null,
      "outputs": [
        {
          "output_type": "stream",
          "name": "stdout",
          "text": [
            "tensor(0.)\n",
            "tensor(8.)\n"
          ]
        },
        {
          "output_type": "display_data",
          "data": {
            "text/plain": [
              "<Figure size 640x480 with 1 Axes>"
            ],
            "image/png": "[encoded data removed]"
          },
          "metadata": {}
        }
      ]
    },
    {
      "cell_type": "markdown",
      "source": [
        "> Bag를 T-shirt/top으로 예측\n",
        "* 가방의 실루엣이 top과 비슷하고 디테일하게 분석하지 못해서 잘못 분류한 것 같음"
      ],
      "metadata": {
        "id": "_X463yix27N8"
      }
    },
    {
      "cell_type": "markdown",
      "source": [
        "> 더 다양한 데이터를 수집하고 복잡한 모델을 통해 유사한 클래스 간의 경계를 학습을 시킨다면, 오분류가 줄어들 것 같다."
      ],
      "metadata": {
        "id": "zJIijWKD3164"
      }
    }
  ]
}
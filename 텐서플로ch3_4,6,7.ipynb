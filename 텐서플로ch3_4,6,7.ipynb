{
  "nbformat": 4,
  "nbformat_minor": 0,
  "metadata": {
    "colab": {
      "provenance": [],
      "authorship_tag": "ABX9TyOYBy+Hq7EcuND+Sp4MgsdP",
      "include_colab_link": true
    },
    "kernelspec": {
      "name": "python3",
      "display_name": "Python 3"
    },
    "language_info": {
      "name": "python"
    }
  },
  "cells": [
    {
      "cell_type": "markdown",
      "metadata": {
        "id": "view-in-github",
        "colab_type": "text"
      },
      "source": [
        "<a href=\"https://colab.research.google.com/github/xinnazim/esaa/blob/main/%ED%85%90%EC%84%9C%ED%94%8C%EB%A1%9Cch3_4%2C6%2C7.ipynb\" target=\"_parent\"><img src=\"https://colab.research.google.com/assets/colab-badge.svg\" alt=\"Open In Colab\"/></a>"
      ]
    },
    {
      "cell_type": "markdown",
      "source": [
        "기한: 11월 24일 (금) 18:30\n",
        "\n",
        "파이썬 딥러닝 텐서플로 ch3. 4, 6~7"
      ],
      "metadata": {
        "id": "PHp-xqOdXZYl"
      }
    },
    {
      "cell_type": "markdown",
      "source": [
        "## 04 모델 세부 설정"
      ],
      "metadata": {
        "id": "rcqPSmrZ4zku"
      }
    },
    {
      "cell_type": "code",
      "source": [
        "import tensorflow as tf\n",
        "\n",
        "# 케라스의 내장 데이터셋에서 mnist 데이터셋 로드\n",
        "mnist = tf.keras.datasets.mnist\n",
        "\n",
        "# load_data()로 데이터셋 로드\n",
        "(x_train, y_train), (x_test, y_test) = mnist.load_data()\n",
        "\n",
        "#로드된 데이터셋 확인\n",
        "print('train set:' , x_train.shape, y_train.shape)\n",
        "print('test set:' , x_test.shape, y_test.shape)\n",
        "\n",
        "# 데이터 정규화\n",
        "x_train = x_train/ x_train.max()  # max:255\n",
        "x_test = x_test / x_test.max()    # max: 255"
      ],
      "metadata": {
        "colab": {
          "base_uri": "https://localhost:8080/"
        },
        "id": "vnyTd2ovXco6",
        "outputId": "d4e49f1d-ec28-4115-c493-5dc71d25ee36"
      },
      "execution_count": 1,
      "outputs": [
        {
          "output_type": "stream",
          "name": "stdout",
          "text": [
            "Downloading data from https://storage.googleapis.com/tensorflow/tf-keras-datasets/mnist.npz\n",
            "11490434/11490434 [==============================] - 0s 0us/step\n",
            "train set: (60000, 28, 28) (60000,)\n",
            "test set: (10000, 28, 28) (10000,)\n"
          ]
        }
      ]
    },
    {
      "cell_type": "markdown",
      "source": [
        "4-1 초기값 설정\n",
        "* 레이어의 초기화 방법을 다르게 설정\n",
        "* dense 레이어 기본 초기화 방법: Glorot Uniform 초기화 방법"
      ],
      "metadata": {
        "id": "eq2qMTuB42oC"
      }
    },
    {
      "cell_type": "code",
      "source": [
        "dense = tf.keras.layers.Dense(236, activation='relu')\n",
        "dense.get_config()['kernel_initializer']"
      ],
      "metadata": {
        "colab": {
          "base_uri": "https://localhost:8080/"
        },
        "id": "mXrU341uXdAL",
        "outputId": "a3d1577d-4c2f-4d7c-b87c-26f4d2a6282b"
      },
      "execution_count": 2,
      "outputs": [
        {
          "output_type": "execute_result",
          "data": {
            "text/plain": [
              "{'module': 'keras.initializers',\n",
              " 'class_name': 'GlorotUniform',\n",
              " 'config': {'seed': None},\n",
              " 'registered_name': None}"
            ]
          },
          "metadata": {},
          "execution_count": 2
        }
      ]
    },
    {
      "cell_type": "markdown",
      "source": [
        "* 초기화방법을 HeNormal로 변경"
      ],
      "metadata": {
        "id": "wJuetolE5Eui"
      }
    },
    {
      "cell_type": "code",
      "source": [
        "# 문자열 초기화\n",
        "dense = tf.keras.layers.Dense(256, kernel_initializer='he_normal', activation='relu')\n",
        "print(dense.get_config()['kernel_initializer'])\n",
        "\n",
        "# 클래스 인스턴스 초기화\n",
        "he_normal = tf.keras.initializers.HeNormal()\n",
        "dense = tf.keras.layers.Dense(256, kernel_initializer=he_normal,activation='relu')\n",
        "print(dense.get_config()['kernel_initializer'])"
      ],
      "metadata": {
        "colab": {
          "base_uri": "https://localhost:8080/"
        },
        "id": "DzLsgkV3Xc9R",
        "outputId": "50107e41-6cf4-4e9f-dc4e-b9410cbb9b67"
      },
      "execution_count": 3,
      "outputs": [
        {
          "output_type": "stream",
          "name": "stdout",
          "text": [
            "{'module': 'keras.initializers', 'class_name': 'HeNormal', 'config': {'seed': None}, 'registered_name': None}\n",
            "{'module': 'keras.initializers', 'class_name': 'HeNormal', 'config': {'seed': None}, 'registered_name': None}\n"
          ]
        }
      ]
    },
    {
      "cell_type": "markdown",
      "source": [
        "4-2 규제\n",
        "* 과대적합 해소를 위해 규제 적용\n",
        "* 케라스 레이어는 별도로 설정 필요"
      ],
      "metadata": {
        "id": "tf8a1ReJ5Nax"
      }
    },
    {
      "cell_type": "code",
      "source": [
        "# 기본값\n",
        "dense=tf.keras.layers.Dense(256,activation='relu')\n",
        "dense.get_config()"
      ],
      "metadata": {
        "colab": {
          "base_uri": "https://localhost:8080/"
        },
        "id": "dH0LIeB5Xc68",
        "outputId": "407b5a2a-ab39-49ad-b726-437a51b0c86b"
      },
      "execution_count": 4,
      "outputs": [
        {
          "output_type": "execute_result",
          "data": {
            "text/plain": [
              "{'name': 'dense_3',\n",
              " 'trainable': True,\n",
              " 'dtype': 'float32',\n",
              " 'units': 256,\n",
              " 'activation': 'relu',\n",
              " 'use_bias': True,\n",
              " 'kernel_initializer': {'module': 'keras.initializers',\n",
              "  'class_name': 'GlorotUniform',\n",
              "  'config': {'seed': None},\n",
              "  'registered_name': None},\n",
              " 'bias_initializer': {'module': 'keras.initializers',\n",
              "  'class_name': 'Zeros',\n",
              "  'config': {},\n",
              "  'registered_name': None},\n",
              " 'kernel_regularizer': None,\n",
              " 'bias_regularizer': None,\n",
              " 'activity_regularizer': None,\n",
              " 'kernel_constraint': None,\n",
              " 'bias_constraint': None}"
            ]
          },
          "metadata": {},
          "execution_count": 4
        }
      ]
    },
    {
      "cell_type": "code",
      "source": [
        "# L1 규제 적용\n",
        "dense = tf.keras.layers.Dense(256, kernel_regularizer='l1', activation='relu')\n",
        "print(dense.get_config()['kernel_regularizer'])\n",
        "\n",
        "# 클래스 인스턴스 적용 , alpha=0.1 변경\n",
        "regularizer = tf.keras.regularizers.l1(l1=0.1)\n",
        "dense = tf.keras.layers.Dense(256, kernel_regularizer=regularizer, activation='relu')\n",
        "print(dense.get_config()['kernel_regularizer'])"
      ],
      "metadata": {
        "colab": {
          "base_uri": "https://localhost:8080/"
        },
        "id": "JCckA0n5Xc41",
        "outputId": "30b5a640-076c-4a32-ede4-38a28544a832"
      },
      "execution_count": 5,
      "outputs": [
        {
          "output_type": "stream",
          "name": "stdout",
          "text": [
            "{'module': 'keras.regularizers', 'class_name': 'L1', 'config': {'l1': 0.009999999776482582}, 'registered_name': None}\n",
            "{'module': 'keras.regularizers', 'class_name': 'L1', 'config': {'l1': 0.10000000149011612}, 'registered_name': None}\n"
          ]
        }
      ]
    },
    {
      "cell_type": "markdown",
      "source": [
        "4-3 드롭아웃\n",
        "![image.png](data:image/png;base64,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)\n",
        "\n",
        "* 과대적합 문제 해결을 위해 제안된 아이디어\n",
        "* 노드의 일부 신호를 임의로 삭제\n"
      ],
      "metadata": {
        "id": "aPLrpJME5ZJh"
      }
    },
    {
      "cell_type": "code",
      "source": [
        "# dropout 25% 비율 적용(25%의 노드가 삭제)\n",
        "tf.keras.layers.Dropout(0.25)"
      ],
      "metadata": {
        "colab": {
          "base_uri": "https://localhost:8080/"
        },
        "id": "tC2AOt-4Xc2e",
        "outputId": "8536153e-ad01-407d-e85e-40a2d6b35946"
      },
      "execution_count": 6,
      "outputs": [
        {
          "output_type": "execute_result",
          "data": {
            "text/plain": [
              "<keras.src.layers.regularization.dropout.Dropout at 0x7e9fe6157370>"
            ]
          },
          "metadata": {},
          "execution_count": 6
        }
      ]
    },
    {
      "cell_type": "markdown",
      "source": [
        "4-4 배치 정규화\n",
        "* 각 층에서 활성화 함수를 통과하기 전 미니 배치의 스케일 정규화\n",
        "* dense 레이어에 relu 활성함수를 추가한 모델과 배치 정규화 적용 후 활성함수 추가한 모델 성능 비교"
      ],
      "metadata": {
        "id": "t03RuO-c6-M7"
      }
    },
    {
      "cell_type": "code",
      "source": [
        "# Model A : Dense + ReLU\n",
        "model_a = tf.keras.Sequential([\n",
        "          tf.keras.layers.Flatten(input_shape=(28,28)),\n",
        "          tf.keras.layers.Dense(64, activation='relu'),\n",
        "          tf.keras.layers.Dense(32, activation='relu'),\n",
        "          tf.keras.layers.Dense(10, activation='softmax')\n",
        "\n",
        "])\n",
        "model_a.summary()"
      ],
      "metadata": {
        "colab": {
          "base_uri": "https://localhost:8080/"
        },
        "id": "EhzIbbWuXc0W",
        "outputId": "19f74e3d-dbf8-4b6a-eba4-31973e6e54f0"
      },
      "execution_count": 7,
      "outputs": [
        {
          "output_type": "stream",
          "name": "stdout",
          "text": [
            "Model: \"sequential\"\n",
            "_________________________________________________________________\n",
            " Layer (type)                Output Shape              Param #   \n",
            "=================================================================\n",
            " flatten (Flatten)           (None, 784)               0         \n",
            "                                                                 \n",
            " dense_6 (Dense)             (None, 64)                50240     \n",
            "                                                                 \n",
            " dense_7 (Dense)             (None, 32)                2080      \n",
            "                                                                 \n",
            " dense_8 (Dense)             (None, 10)                330       \n",
            "                                                                 \n",
            "=================================================================\n",
            "Total params: 52650 (205.66 KB)\n",
            "Trainable params: 52650 (205.66 KB)\n",
            "Non-trainable params: 0 (0.00 Byte)\n",
            "_________________________________________________________________\n"
          ]
        }
      ]
    },
    {
      "cell_type": "code",
      "source": [
        "model_b=tf.keras.Sequential([\n",
        "    tf.keras.layers.Flatten(input_shape=(28, 28)),\n",
        "    tf.keras.layers.Dense(64),\n",
        "    #여기서 배치 정규화 적용\n",
        "    tf.keras.layers.BatchNormalization(),\n",
        "    #배치 정규화 후 활성화 함수 적용\n",
        "    tf.keras.layers.Activation('relu'),\n",
        "\n",
        "    tf.keras.layers.Dense(32),\n",
        "    #배치 정규화 적용\n",
        "    tf.keras.layers.BatchNormalization(),\n",
        "    #배치 정규화 후 활성화 함수 적용\n",
        "    tf.keras.layers.Activation('relu'),\n",
        "\n",
        "    tf.keras.layers.Dense(10, activation='softmax')\n",
        "])\n",
        "\n",
        "model_b.summary()"
      ],
      "metadata": {
        "colab": {
          "base_uri": "https://localhost:8080/"
        },
        "id": "OLIXU5Q5Xcxa",
        "outputId": "42fede0f-63fe-4002-894e-e93405c9357a"
      },
      "execution_count": 8,
      "outputs": [
        {
          "output_type": "stream",
          "name": "stdout",
          "text": [
            "Model: \"sequential_1\"\n",
            "_________________________________________________________________\n",
            " Layer (type)                Output Shape              Param #   \n",
            "=================================================================\n",
            " flatten_1 (Flatten)         (None, 784)               0         \n",
            "                                                                 \n",
            " dense_9 (Dense)             (None, 64)                50240     \n",
            "                                                                 \n",
            " batch_normalization (Batch  (None, 64)                256       \n",
            " Normalization)                                                  \n",
            "                                                                 \n",
            " activation (Activation)     (None, 64)                0         \n",
            "                                                                 \n",
            " dense_10 (Dense)            (None, 32)                2080      \n",
            "                                                                 \n",
            " batch_normalization_1 (Bat  (None, 32)                128       \n",
            " chNormalization)                                                \n",
            "                                                                 \n",
            " activation_1 (Activation)   (None, 32)                0         \n",
            "                                                                 \n",
            " dense_11 (Dense)            (None, 10)                330       \n",
            "                                                                 \n",
            "=================================================================\n",
            "Total params: 53034 (207.16 KB)\n",
            "Trainable params: 52842 (206.41 KB)\n",
            "Non-trainable params: 192 (768.00 Byte)\n",
            "_________________________________________________________________\n"
          ]
        }
      ]
    },
    {
      "cell_type": "markdown",
      "source": [
        "> b가 손실은 더 안정적이면서 빠르게 수렴"
      ],
      "metadata": {
        "id": "6Nh8_t527SUf"
      }
    },
    {
      "cell_type": "markdown",
      "source": [
        "4-5 활성화 함수"
      ],
      "metadata": {
        "id": "yncH818W7W3n"
      }
    },
    {
      "cell_type": "code",
      "source": [
        "#LeakyReLU 기본 설정\n",
        "tf.keras.layers.LeakyReLU()\n",
        "\n",
        "#LeakyReLU, alpha=0.2로 변경\n",
        "tf.keras.layers.LeakyReLU(alpha=0.2)"
      ],
      "metadata": {
        "colab": {
          "base_uri": "https://localhost:8080/"
        },
        "id": "maE1RU39XcuZ",
        "outputId": "d3246a69-749f-47e4-f708-ebd1e9bd5b43"
      },
      "execution_count": 10,
      "outputs": [
        {
          "output_type": "execute_result",
          "data": {
            "text/plain": [
              "<keras.src.layers.activation.leaky_relu.LeakyReLU at 0x7e9fe58af910>"
            ]
          },
          "metadata": {},
          "execution_count": 10
        }
      ]
    },
    {
      "cell_type": "code",
      "source": [
        "#model C: Dense + BatchNorm + LeakyReLU(0,2)\n",
        "model_c=tf.keras.Sequential([\n",
        "    tf.keras.layers.Flatten(input_shape=(28, 28)),\n",
        "    tf.keras.layers.Dense(64),\n",
        "    # 배치 정규화 적용\n",
        "    tf.keras.layers.BatchNormalization(),\n",
        "    # LeakyReLU, alpha=0.2 적용\n",
        "    tf.keras.layers.LeakyReLU(alpha=0.2),\n",
        "\n",
        "    tf.keras.layers.Dense(32),\n",
        "    # 배치 정규화 적용\n",
        "    tf.keras.layers.BatchNormalization(),\n",
        "    # LeakyReLU, alpha=0.2 적용\n",
        "    tf.keras.layers.LeakyReLU(alpha=0.2),\n",
        "\n",
        "    tf.keras.layers.Dense(10, activation='softmax')\n",
        "])\n",
        "\n",
        "model_c.summary()"
      ],
      "metadata": {
        "colab": {
          "base_uri": "https://localhost:8080/"
        },
        "id": "zhI6FqIOXcrN",
        "outputId": "5fed37ab-a3f5-4cd1-f9b5-7834d150002a"
      },
      "execution_count": 11,
      "outputs": [
        {
          "output_type": "stream",
          "name": "stdout",
          "text": [
            "Model: \"sequential_2\"\n",
            "_________________________________________________________________\n",
            " Layer (type)                Output Shape              Param #   \n",
            "=================================================================\n",
            " flatten_2 (Flatten)         (None, 784)               0         \n",
            "                                                                 \n",
            " dense_12 (Dense)            (None, 64)                50240     \n",
            "                                                                 \n",
            " batch_normalization_2 (Bat  (None, 64)                256       \n",
            " chNormalization)                                                \n",
            "                                                                 \n",
            " leaky_re_lu_4 (LeakyReLU)   (None, 64)                0         \n",
            "                                                                 \n",
            " dense_13 (Dense)            (None, 32)                2080      \n",
            "                                                                 \n",
            " batch_normalization_3 (Bat  (None, 32)                128       \n",
            " chNormalization)                                                \n",
            "                                                                 \n",
            " leaky_re_lu_5 (LeakyReLU)   (None, 32)                0         \n",
            "                                                                 \n",
            " dense_14 (Dense)            (None, 10)                330       \n",
            "                                                                 \n",
            "=================================================================\n",
            "Total params: 53034 (207.16 KB)\n",
            "Trainable params: 52842 (206.41 KB)\n",
            "Non-trainable params: 192 (768.00 Byte)\n",
            "_________________________________________________________________\n"
          ]
        }
      ]
    },
    {
      "cell_type": "code",
      "execution_count": 12,
      "metadata": {
        "colab": {
          "base_uri": "https://localhost:8080/"
        },
        "id": "HJhVxX94XRze",
        "outputId": "a7834125-0719-4033-e287-b11b240faff7"
      },
      "outputs": [
        {
          "output_type": "stream",
          "name": "stdout",
          "text": [
            "Epoch 1/10\n",
            "1875/1875 [==============================] - 9s 4ms/step - loss: 0.2854 - accuracy: 0.9180 - val_loss: 0.1506 - val_accuracy: 0.9569\n",
            "Epoch 2/10\n",
            "1875/1875 [==============================] - 6s 3ms/step - loss: 0.1318 - accuracy: 0.9609 - val_loss: 0.1211 - val_accuracy: 0.9642\n",
            "Epoch 3/10\n",
            "1875/1875 [==============================] - 9s 5ms/step - loss: 0.0961 - accuracy: 0.9707 - val_loss: 0.1061 - val_accuracy: 0.9695\n",
            "Epoch 4/10\n",
            "1875/1875 [==============================] - 8s 4ms/step - loss: 0.0764 - accuracy: 0.9759 - val_loss: 0.0945 - val_accuracy: 0.9735\n",
            "Epoch 5/10\n",
            "1875/1875 [==============================] - 10s 6ms/step - loss: 0.0623 - accuracy: 0.9805 - val_loss: 0.0947 - val_accuracy: 0.9714\n",
            "Epoch 6/10\n",
            "1875/1875 [==============================] - 6s 3ms/step - loss: 0.0517 - accuracy: 0.9840 - val_loss: 0.0901 - val_accuracy: 0.9740\n",
            "Epoch 7/10\n",
            "1875/1875 [==============================] - 10s 5ms/step - loss: 0.0428 - accuracy: 0.9865 - val_loss: 0.0878 - val_accuracy: 0.9751\n",
            "Epoch 8/10\n",
            "1875/1875 [==============================] - 9s 5ms/step - loss: 0.0396 - accuracy: 0.9872 - val_loss: 0.0968 - val_accuracy: 0.9734\n",
            "Epoch 9/10\n",
            "1875/1875 [==============================] - 9s 5ms/step - loss: 0.0332 - accuracy: 0.9890 - val_loss: 0.1053 - val_accuracy: 0.9705\n",
            "Epoch 10/10\n",
            "1875/1875 [==============================] - 8s 4ms/step - loss: 0.0312 - accuracy: 0.9900 - val_loss: 0.0919 - val_accuracy: 0.9752\n",
            "Epoch 1/10\n",
            "1875/1875 [==============================] - 14s 7ms/step - loss: 0.3218 - accuracy: 0.9128 - val_loss: 0.1343 - val_accuracy: 0.9597\n",
            "Epoch 2/10\n",
            "1875/1875 [==============================] - 17s 9ms/step - loss: 0.1436 - accuracy: 0.9567 - val_loss: 0.0977 - val_accuracy: 0.9686\n",
            "Epoch 3/10\n",
            "1875/1875 [==============================] - 14s 7ms/step - loss: 0.1126 - accuracy: 0.9651 - val_loss: 0.0901 - val_accuracy: 0.9725\n",
            "Epoch 4/10\n",
            "1875/1875 [==============================] - 10s 5ms/step - loss: 0.0950 - accuracy: 0.9704 - val_loss: 0.0902 - val_accuracy: 0.9719\n",
            "Epoch 5/10\n",
            "1875/1875 [==============================] - 8s 4ms/step - loss: 0.0848 - accuracy: 0.9732 - val_loss: 0.0838 - val_accuracy: 0.9764\n",
            "Epoch 6/10\n",
            "1875/1875 [==============================] - 8s 4ms/step - loss: 0.0732 - accuracy: 0.9762 - val_loss: 0.0820 - val_accuracy: 0.9770\n",
            "Epoch 7/10\n",
            "1875/1875 [==============================] - 12s 6ms/step - loss: 0.0694 - accuracy: 0.9775 - val_loss: 0.0778 - val_accuracy: 0.9765\n",
            "Epoch 8/10\n",
            "1875/1875 [==============================] - 11s 6ms/step - loss: 0.0624 - accuracy: 0.9797 - val_loss: 0.0772 - val_accuracy: 0.9785\n",
            "Epoch 9/10\n",
            "1875/1875 [==============================] - 8s 4ms/step - loss: 0.0575 - accuracy: 0.9813 - val_loss: 0.0777 - val_accuracy: 0.9783\n",
            "Epoch 10/10\n",
            "1875/1875 [==============================] - 9s 5ms/step - loss: 0.0537 - accuracy: 0.9824 - val_loss: 0.0773 - val_accuracy: 0.9786\n",
            "Epoch 1/10\n",
            "1875/1875 [==============================] - 8s 4ms/step - loss: 0.3180 - accuracy: 0.9126 - val_loss: 0.1593 - val_accuracy: 0.9518\n",
            "Epoch 2/10\n",
            "1875/1875 [==============================] - 8s 4ms/step - loss: 0.1537 - accuracy: 0.9531 - val_loss: 0.1110 - val_accuracy: 0.9649\n",
            "Epoch 3/10\n",
            "1875/1875 [==============================] - 6s 3ms/step - loss: 0.1191 - accuracy: 0.9632 - val_loss: 0.0998 - val_accuracy: 0.9679\n",
            "Epoch 4/10\n",
            "1875/1875 [==============================] - 8s 4ms/step - loss: 0.1039 - accuracy: 0.9672 - val_loss: 0.0968 - val_accuracy: 0.9698\n",
            "Epoch 5/10\n",
            "1875/1875 [==============================] - 6s 3ms/step - loss: 0.0924 - accuracy: 0.9702 - val_loss: 0.0879 - val_accuracy: 0.9735\n",
            "Epoch 6/10\n",
            "1875/1875 [==============================] - 8s 4ms/step - loss: 0.0850 - accuracy: 0.9731 - val_loss: 0.0893 - val_accuracy: 0.9701\n",
            "Epoch 7/10\n",
            "1875/1875 [==============================] - 7s 4ms/step - loss: 0.0768 - accuracy: 0.9753 - val_loss: 0.0824 - val_accuracy: 0.9735\n",
            "Epoch 8/10\n",
            "1875/1875 [==============================] - 8s 4ms/step - loss: 0.0712 - accuracy: 0.9769 - val_loss: 0.0801 - val_accuracy: 0.9752\n",
            "Epoch 9/10\n",
            "1875/1875 [==============================] - 7s 4ms/step - loss: 0.0667 - accuracy: 0.9781 - val_loss: 0.0831 - val_accuracy: 0.9741\n",
            "Epoch 10/10\n",
            "1875/1875 [==============================] - 8s 4ms/step - loss: 0.0638 - accuracy: 0.9791 - val_loss: 0.0803 - val_accuracy: 0.9756\n"
          ]
        }
      ],
      "source": [
        "model_a.compile(optimizer='adam', loss='sparse_categorical_crossentropy', metrics=['accuracy'])\n",
        "model_b.compile(optimizer='adam', loss='sparse_categorical_crossentropy', metrics=['accuracy'])\n",
        "model_c.compile(optimizer='adam', loss='sparse_categorical_crossentropy', metrics=['accuracy'])\n",
        "\n",
        "#Model A : Dense + ReLU\n",
        "history_a=model_a.fit(x_train, y_train,\n",
        "                      validation_data=(x_test, y_test), epochs=10)\n",
        "#Model B : Dense + BatchNorm + ReLU\n",
        "history_b=model_b.fit(x_train, y_train,\n",
        "                      validation_data=(x_test, y_test), epochs=10)\n",
        "#Model C : Dense + BatchNorm + LeakyReLU(0,2)\n",
        "history_c=model_c.fit(x_train, y_train,\n",
        "                      validation_data=(x_test, y_test), epochs=10)"
      ]
    },
    {
      "cell_type": "code",
      "source": [
        "import matplotlib.pyplot as plt\n",
        "import numpy as np\n",
        "\n",
        "plt.figure(figsize=(12, 9))\n",
        "plt.plot(np.arange(1, 11), history_a.history['val_loss'], color='navy', linestyle=':')\n",
        "plt.plot(np.arange(1, 11), history_b.history['val_loss'], color='tomato', linestyle='-.')\n",
        "plt.plot(np.arange(1, 11), history_c.history['val_loss'], color='green', linestyle='-')\n",
        "\n",
        "plt.title('Losses', fontsize=20)\n",
        "plt.xlabel('epochs')\n",
        "plt.ylabel('Losses')\n",
        "plt.legend(['ReLU', 'BatchNorm+ReLU', 'BatchNorm+LeakyReLU'], fontsize=12)\n",
        "plt.show()"
      ],
      "metadata": {
        "colab": {
          "base_uri": "https://localhost:8080/",
          "height": 803
        },
        "id": "EX8xHRAyXp_8",
        "outputId": "4b859d42-0742-4355-b5af-412b7721dc56"
      },
      "execution_count": 13,
      "outputs": [
        {
          "output_type": "display_data",
          "data": {
            "text/plain": [
              "<Figure size 1200x900 with 1 Axes>"
            ],
            "image/png": "[encoded data removed]"
          },
          "metadata": {}
        }
      ]
    },
    {
      "cell_type": "markdown",
      "source": [
        "## 06 모델 저장 및 불러오기\n",
        "6-1 모델을 파일로 저장\n",
        "* HDF5 포맷\n",
        "* SavedModel 포맷"
      ],
      "metadata": {
        "id": "2Jd568DZ7irU"
      }
    },
    {
      "cell_type": "code",
      "source": [
        "# 모델명을 h5 포맷으로 저장\n",
        "model_b.save('h5-model.h5')"
      ],
      "metadata": {
        "colab": {
          "base_uri": "https://localhost:8080/"
        },
        "id": "GcsKRwHLXrcR",
        "outputId": "9a5a3841-9620-460a-dc8f-773c18b64c0f"
      },
      "execution_count": 14,
      "outputs": [
        {
          "output_type": "stream",
          "name": "stderr",
          "text": [
            "/usr/local/lib/python3.10/dist-packages/keras/src/engine/training.py:3079: UserWarning: You are saving your model as an HDF5 file via `model.save()`. This file format is considered legacy. We recommend using instead the native Keras format, e.g. `model.save('my_model.keras')`.\n",
            "  saving_api.save_model(\n"
          ]
        }
      ]
    },
    {
      "cell_type": "markdown",
      "source": [
        "6-2 저장된 모델 복원\n",
        "* 텐서플로우 keras.models.load_model"
      ],
      "metadata": {
        "id": "L8zt6B9Z7xN6"
      }
    },
    {
      "cell_type": "code",
      "source": [
        "# 모델 복원\n",
        "h5_model=tf.keras.models.load_model('h5-model.h5')\n",
        "h5_model.summary()"
      ],
      "metadata": {
        "colab": {
          "base_uri": "https://localhost:8080/"
        },
        "id": "q89cvj8CXrYn",
        "outputId": "d95d2a24-a4b4-452e-fcd6-2f366e39b298"
      },
      "execution_count": 15,
      "outputs": [
        {
          "output_type": "stream",
          "name": "stdout",
          "text": [
            "Model: \"sequential_1\"\n",
            "_________________________________________________________________\n",
            " Layer (type)                Output Shape              Param #   \n",
            "=================================================================\n",
            " flatten_1 (Flatten)         (None, 784)               0         \n",
            "                                                                 \n",
            " dense_9 (Dense)             (None, 64)                50240     \n",
            "                                                                 \n",
            " batch_normalization (Batch  (None, 64)                256       \n",
            " Normalization)                                                  \n",
            "                                                                 \n",
            " activation (Activation)     (None, 64)                0         \n",
            "                                                                 \n",
            " dense_10 (Dense)            (None, 32)                2080      \n",
            "                                                                 \n",
            " batch_normalization_1 (Bat  (None, 32)                128       \n",
            " chNormalization)                                                \n",
            "                                                                 \n",
            " activation_1 (Activation)   (None, 32)                0         \n",
            "                                                                 \n",
            " dense_11 (Dense)            (None, 10)                330       \n",
            "                                                                 \n",
            "=================================================================\n",
            "Total params: 53034 (207.16 KB)\n",
            "Trainable params: 52842 (206.41 KB)\n",
            "Non-trainable params: 192 (768.00 Byte)\n",
            "_________________________________________________________________\n"
          ]
        }
      ]
    },
    {
      "cell_type": "code",
      "source": [
        "# 모델 검증 : 손실함수와 평가지표 계산\n",
        "loss, acc=h5_model.evaluate(x_test, y_test, verbose=0)\n",
        "print(f'h5_model] loss: {loss:.5f}, acc: {acc:.5f}')"
      ],
      "metadata": {
        "colab": {
          "base_uri": "https://localhost:8080/"
        },
        "id": "qIMAq0JJXuGt",
        "outputId": "6295e216-b76f-4d3d-e1ef-023e6ee9fe79"
      },
      "execution_count": 16,
      "outputs": [
        {
          "output_type": "stream",
          "name": "stdout",
          "text": [
            "h5_model] loss: 0.07729, acc: 0.97860\n"
          ]
        }
      ]
    },
    {
      "cell_type": "code",
      "source": [
        "# 모델을 SavedModel 포맷으로 저장\n",
        "model_b.save('saved-model')"
      ],
      "metadata": {
        "id": "UrwaqvCdXuEc"
      },
      "execution_count": 17,
      "outputs": []
    },
    {
      "cell_type": "code",
      "source": [
        "# 모델 복원\n",
        "saved_model=tf.keras.models.load_model('saved-model')\n",
        "saved_model.summary()"
      ],
      "metadata": {
        "colab": {
          "base_uri": "https://localhost:8080/"
        },
        "id": "1azh_wtSXuB7",
        "outputId": "f1347687-f603-4a54-ee7b-b231d165e303"
      },
      "execution_count": 18,
      "outputs": [
        {
          "output_type": "stream",
          "name": "stdout",
          "text": [
            "Model: \"sequential_1\"\n",
            "_________________________________________________________________\n",
            " Layer (type)                Output Shape              Param #   \n",
            "=================================================================\n",
            " flatten_1 (Flatten)         (None, 784)               0         \n",
            "                                                                 \n",
            " dense_9 (Dense)             (None, 64)                50240     \n",
            "                                                                 \n",
            " batch_normalization (Batch  (None, 64)                256       \n",
            " Normalization)                                                  \n",
            "                                                                 \n",
            " activation (Activation)     (None, 64)                0         \n",
            "                                                                 \n",
            " dense_10 (Dense)            (None, 32)                2080      \n",
            "                                                                 \n",
            " batch_normalization_1 (Bat  (None, 32)                128       \n",
            " chNormalization)                                                \n",
            "                                                                 \n",
            " activation_1 (Activation)   (None, 32)                0         \n",
            "                                                                 \n",
            " dense_11 (Dense)            (None, 10)                330       \n",
            "                                                                 \n",
            "=================================================================\n",
            "Total params: 53034 (207.16 KB)\n",
            "Trainable params: 52842 (206.41 KB)\n",
            "Non-trainable params: 192 (768.00 Byte)\n",
            "_________________________________________________________________\n"
          ]
        }
      ]
    },
    {
      "cell_type": "code",
      "source": [
        "#모델 검증 (HDF5 포맷)\n",
        "loss, acc=h5_model.evaluate(x_test, y_test, verbose=0)\n",
        "print(f'h5_model] loss: {loss:.5f}, acc: {acc:.5f}')\n",
        "\n",
        "#모델 검증 (SavedModel 포맷)\n",
        "loss, acc=saved_model.evaluate(x_test, y_test, verbose= 0)\n",
        "print(f'saved_model] loss: {loss:.5f}, acc: {acc:.5f}')"
      ],
      "metadata": {
        "colab": {
          "base_uri": "https://localhost:8080/"
        },
        "id": "nKGJc_6fXt_e",
        "outputId": "d209d313-46b4-453d-f7c7-b3879cf6453d"
      },
      "execution_count": 19,
      "outputs": [
        {
          "output_type": "stream",
          "name": "stdout",
          "text": [
            "h5_model] loss: 0.07729, acc: 0.97860\n",
            "saved_model] loss: 0.07729, acc: 0.97860\n"
          ]
        }
      ]
    },
    {
      "cell_type": "markdown",
      "source": [
        "## 07 복잡한 모델 생성\n",
        "7-1 함수형 API\n",
        "![image.png](data:image/png;base64,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)\n",
        "\n",
        "* Seguential -> 함수형으로 동일하게 구현"
      ],
      "metadata": {
        "id": "-T1IGj4O8Bem"
      }
    },
    {
      "cell_type": "code",
      "source": [
        "import tensorflow as tf\n",
        "\n",
        "#모델의 레이어를 체인 구조로 연결 input 레이어 정의\n",
        "input_layer=tf.keras.Input(shape=(28, 28), name='InputLayer')\n",
        "\n",
        "#모델의 레이어를 체인 구조로 연결\n",
        "x1=tf.keras.layers.Flatten(name='Flatten')(input_layer)\n",
        "x2=tf.keras.layers.Dense(256, activation='relu', name='Dense1')(x1)\n",
        "x3=tf.keras.layers.Dense(64, activation='relu', name='Dense2')(x2)\n",
        "x4=tf.keras.layers.Dense(10, activation='softmax', name='OutputLayer')(x3)"
      ],
      "metadata": {
        "id": "eSd0DojPXt9H"
      },
      "execution_count": 20,
      "outputs": []
    },
    {
      "cell_type": "code",
      "source": [
        "#모델 생성\n",
        "func_model=tf.keras.Model(inputs=input_layer, outputs=x4, name='FunctionalModel')\n",
        "\n",
        "#모델 요약\n",
        "func_model.summary()"
      ],
      "metadata": {
        "colab": {
          "base_uri": "https://localhost:8080/"
        },
        "id": "9kKC_rNsXzt0",
        "outputId": "8ff8ecba-58f4-4853-bca6-028aff10806e"
      },
      "execution_count": 21,
      "outputs": [
        {
          "output_type": "stream",
          "name": "stdout",
          "text": [
            "Model: \"FunctionalModel\"\n",
            "_________________________________________________________________\n",
            " Layer (type)                Output Shape              Param #   \n",
            "=================================================================\n",
            " InputLayer (InputLayer)     [(None, 28, 28)]          0         \n",
            "                                                                 \n",
            " Flatten (Flatten)           (None, 784)               0         \n",
            "                                                                 \n",
            " Dense1 (Dense)              (None, 256)               200960    \n",
            "                                                                 \n",
            " Dense2 (Dense)              (None, 64)                16448     \n",
            "                                                                 \n",
            " OutputLayer (Dense)         (None, 10)                650       \n",
            "                                                                 \n",
            "=================================================================\n",
            "Total params: 218058 (851.79 KB)\n",
            "Trainable params: 218058 (851.79 KB)\n",
            "Non-trainable params: 0 (0.00 Byte)\n",
            "_________________________________________________________________\n"
          ]
        }
      ]
    },
    {
      "cell_type": "code",
      "source": [
        "from tensorflow.keras.utils import plot_model\n",
        "\n",
        "#구조도 시각화\n",
        "plot_model(func_model, show_shapes=True, show_layer_names=True, to_file='model.png')"
      ],
      "metadata": {
        "colab": {
          "base_uri": "https://localhost:8080/",
          "height": 533
        },
        "id": "S6huR_CsXzrI",
        "outputId": "c7d408a6-3a7d-45bc-b556-c56c0c1f56fc"
      },
      "execution_count": 22,
      "outputs": [
        {
          "output_type": "execute_result",
          "data": {
            "image/png": "[encoded data removed]",
            "text/plain": [
              "<IPython.core.display.Image object>"
            ]
          },
          "metadata": {},
          "execution_count": 22
        }
      ]
    },
    {
      "cell_type": "code",
      "source": [
        "#컴파일\n",
        "func_model.compile(optimizer='adam', loss='sparse_categorical_crossentropy', metrics=['accuracy'])\n",
        "\n",
        "#훈련\n",
        "func_model.fit(x_train, y_train, epochs=3)\n",
        "\n",
        "#검증\n",
        "loss, acc=func_model.evaluate(x_test, y_test, verbose=0)\n",
        "print(f'Functional Model] loss: {loss:.5f}, acc: {acc:.5f}')"
      ],
      "metadata": {
        "colab": {
          "base_uri": "https://localhost:8080/"
        },
        "id": "NBibPM9cXzo9",
        "outputId": "c4d661fe-2fef-4322-eb7c-10b9c6349002"
      },
      "execution_count": 23,
      "outputs": [
        {
          "output_type": "stream",
          "name": "stdout",
          "text": [
            "Epoch 1/3\n",
            "1875/1875 [==============================] - 19s 10ms/step - loss: 0.2147 - accuracy: 0.9368\n",
            "Epoch 2/3\n",
            "1875/1875 [==============================] - 12s 6ms/step - loss: 0.0887 - accuracy: 0.9719\n",
            "Epoch 3/3\n",
            "1875/1875 [==============================] - 11s 6ms/step - loss: 0.0584 - accuracy: 0.9813\n",
            "Functional Model] loss: 0.08750, acc: 0.97350\n"
          ]
        }
      ]
    },
    {
      "cell_type": "markdown",
      "source": [
        "7-2 모델 서브클래싱\n",
        "* 파이썬 클래스 개념 사용"
      ],
      "metadata": {
        "id": "kKYGpx2S8vCG"
      }
    },
    {
      "cell_type": "code",
      "source": [
        "# 모델 클래스 구현\n",
        "\n",
        "class MyModel(tf.keras.Model):\n",
        "  def __init__(self):\n",
        "    super(MyModel, self).__init__()\n",
        "    #초기값 설정\n",
        "    self.flatten=tf.keras.layers.Flatten()\n",
        "    self.dense1=tf.keras.layers.Dense(256, activation='relu')\n",
        "    self.dense2=tf.keras.layers.Dense(64, activation='relu')\n",
        "    self.dense3=tf.keras.layers.Dense(10, activation='softmax')\n",
        "\n",
        "  #method overiding\n",
        "  #훈련용 함수 정의\n",
        "  #x는 input\n",
        "  def call(self, x):\n",
        "    x=self.flatten(x)\n",
        "    x=self.dense1(x)\n",
        "    x=self.dense2(x)\n",
        "    x=self.dense3(x)\n",
        "    return x"
      ],
      "metadata": {
        "id": "tBsI-w5_X3RD"
      },
      "execution_count": 24,
      "outputs": []
    },
    {
      "cell_type": "code",
      "source": [
        "#모델 생성\n",
        "mymodel=MyModel()\n",
        "\n",
        "#모델의 이름 설정\n",
        "mymodel._name='subclass_model'\n",
        "\n",
        "#모델 input 정의\n",
        "mymodel(tf.keras.layers.Input(shape=(28, 28)))\n",
        "\n",
        "#모델 요약\n",
        "mymodel.summary()"
      ],
      "metadata": {
        "colab": {
          "base_uri": "https://localhost:8080/"
        },
        "id": "bTDOnYoKX3OJ",
        "outputId": "f4983c54-ef36-4b38-dc32-bc9a22f38f5e"
      },
      "execution_count": 25,
      "outputs": [
        {
          "output_type": "stream",
          "name": "stdout",
          "text": [
            "Model: \"subclass_model\"\n",
            "_________________________________________________________________\n",
            " Layer (type)                Output Shape              Param #   \n",
            "=================================================================\n",
            " flatten_3 (Flatten)         multiple                  0         \n",
            "                                                                 \n",
            " dense_15 (Dense)            multiple                  200960    \n",
            "                                                                 \n",
            " dense_16 (Dense)            multiple                  16448     \n",
            "                                                                 \n",
            " dense_17 (Dense)            multiple                  650       \n",
            "                                                                 \n",
            "=================================================================\n",
            "Total params: 218058 (851.79 KB)\n",
            "Trainable params: 218058 (851.79 KB)\n",
            "Non-trainable params: 0 (0.00 Byte)\n",
            "_________________________________________________________________\n"
          ]
        }
      ]
    },
    {
      "cell_type": "code",
      "source": [
        "#컴파일\n",
        "mymodel.compile(optimizer='adam', loss='sparse_categorical_crossentropy', metrics=['accuracy'])\n",
        "\n",
        "#훈련\n",
        "mymodel.fit(x_train, y_train, epochs=3)\n",
        "\n",
        "#검증\n",
        "loss, acc=mymodel.evaluate(x_test, y_test, verbose=0)\n",
        "print(f'Subclassing Model] loss: {loss:.5f}, acc: {acc:.5f}')"
      ],
      "metadata": {
        "colab": {
          "base_uri": "https://localhost:8080/"
        },
        "id": "h_H5fWZXX3MA",
        "outputId": "284daa98-5238-406a-af4b-a185cb719b29"
      },
      "execution_count": 26,
      "outputs": [
        {
          "output_type": "stream",
          "name": "stdout",
          "text": [
            "Epoch 1/3\n",
            "1875/1875 [==============================] - 11s 6ms/step - loss: 0.2113 - accuracy: 0.9372\n",
            "Epoch 2/3\n",
            "1875/1875 [==============================] - 12s 6ms/step - loss: 0.0882 - accuracy: 0.9736\n",
            "Epoch 3/3\n",
            "1875/1875 [==============================] - 13s 7ms/step - loss: 0.0603 - accuracy: 0.9808\n",
            "Subclassing Model] loss: 0.08623, acc: 0.97240\n"
          ]
        }
      ]
    },
    {
      "cell_type": "markdown",
      "source": [
        "7-3 서브클래싱 모델 파라미터를 활용한 생성\n",
        "* 생성자 파라미터로 모델 내부 레이어의 하이퍼파라미터를 지정 가능"
      ],
      "metadata": {
        "id": "QlZ6vCcO9Uc3"
      }
    },
    {
      "cell_type": "code",
      "source": [
        "# 모델 생성자 파라미터 추가, 동적 레이어 유닛 개수 초기화\n",
        "class MyModel(tf.keras.Model):\n",
        "\n",
        "  # 생성자 파라미터 추가\n",
        "  def __init__(self, units, num_classes):\n",
        "    super(MyModel, self).__init__()\n",
        "    # 초기값 설정\n",
        "    self.flatten=tf.keras.layers.Flatten()\n",
        "    self.dense1=tf.keras.layers.Dense(units, activation='relu')\n",
        "    self.dense2=tf.keras.layers.Dense(units/4, activation='relu')\n",
        "    self.dense3=tf.keras.layers.Dense(num_classes, activation='softmax')\n",
        "\n",
        "  # class overiding\n",
        "  # 훈련용 함수 정의\n",
        "  # x는 input\n",
        "  def call(self, x):\n",
        "    x=self.flatten(x)\n",
        "    x=self.dense1(x)\n",
        "    x=self.dense2(x)\n",
        "    x=self.dense3(x)\n",
        "    return x"
      ],
      "metadata": {
        "id": "RbWNMaQMX638"
      },
      "execution_count": 27,
      "outputs": []
    },
    {
      "cell_type": "code",
      "source": [
        "# 모델 생성\n",
        "mymodel=MyModel(256, 10)\n",
        "\n",
        "# 모델 input 정의\n",
        "mymodel(tf.keras.layers.Input(shape=(28, 28)))\n",
        "\n",
        "# 모델 요약\n",
        "mymodel.summary()\n",
        ""
      ],
      "metadata": {
        "colab": {
          "base_uri": "https://localhost:8080/"
        },
        "id": "IQjilMsmX601",
        "outputId": "8c787620-e63a-449c-f86e-b2b434f82643"
      },
      "execution_count": 28,
      "outputs": [
        {
          "output_type": "stream",
          "name": "stdout",
          "text": [
            "Model: \"my_model_1\"\n",
            "_________________________________________________________________\n",
            " Layer (type)                Output Shape              Param #   \n",
            "=================================================================\n",
            " flatten_4 (Flatten)         multiple                  0         \n",
            "                                                                 \n",
            " dense_18 (Dense)            multiple                  200960    \n",
            "                                                                 \n",
            " dense_19 (Dense)            multiple                  16448     \n",
            "                                                                 \n",
            " dense_20 (Dense)            multiple                  650       \n",
            "                                                                 \n",
            "=================================================================\n",
            "Total params: 218058 (851.79 KB)\n",
            "Trainable params: 218058 (851.79 KB)\n",
            "Non-trainable params: 0 (0.00 Byte)\n",
            "_________________________________________________________________\n"
          ]
        }
      ]
    },
    {
      "cell_type": "code",
      "source": [
        "# 컴파일\n",
        "mymodel.compile(optimizer='adam', loss='sparse_categorical_crossentropy', metrics=['accuracy'])\n",
        "\n",
        "# 훈련\n",
        "mymodel.fit(x_train, y_train, epochs=3)\n",
        "\n",
        "# 검증\n",
        "loss, acc=mymodel.evaluate(x_test, y_test, verbose=0)\n",
        "print(f'Subclassing Model w.parameters] loss: {loss:.5f}, acc: {acc:.5f}')"
      ],
      "metadata": {
        "colab": {
          "base_uri": "https://localhost:8080/"
        },
        "id": "xhRe4tN1YAXs",
        "outputId": "5f7c73ec-b263-4e4e-cb7d-e61ed9d2ce96"
      },
      "execution_count": 29,
      "outputs": [
        {
          "output_type": "stream",
          "name": "stdout",
          "text": [
            "Epoch 1/3\n",
            "1875/1875 [==============================] - 11s 5ms/step - loss: 0.2130 - accuracy: 0.9357\n",
            "Epoch 2/3\n",
            "1875/1875 [==============================] - 11s 6ms/step - loss: 0.0893 - accuracy: 0.9733\n",
            "Epoch 3/3\n",
            "1875/1875 [==============================] - 12s 6ms/step - loss: 0.0612 - accuracy: 0.9806\n",
            "Subclassing Model w.parameters] loss: 0.07740, acc: 0.97520\n"
          ]
        }
      ]
    }
  ]
}
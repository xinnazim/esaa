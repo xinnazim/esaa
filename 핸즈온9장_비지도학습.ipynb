{
  "nbformat": 4,
  "nbformat_minor": 0,
  "metadata": {
    "colab": {
      "provenance": [],
      "authorship_tag": "ABX9TyNwezDSpMdK3GULEa59VX8K",
      "include_colab_link": true
    },
    "kernelspec": {
      "name": "python3",
      "display_name": "Python 3"
    },
    "language_info": {
      "name": "python"
    }
  },
  "cells": [
    {
      "cell_type": "markdown",
      "metadata": {
        "id": "view-in-github",
        "colab_type": "text"
      },
      "source": [
        "<a href=\"https://colab.research.google.com/github/xinnazim/esaa/blob/main/%ED%95%B8%EC%A6%88%EC%98%A89%EC%9E%A5_%EB%B9%84%EC%A7%80%EB%8F%84%ED%95%99%EC%8A%B5.ipynb\" target=\"_parent\"><img src=\"https://colab.research.google.com/assets/colab-badge.svg\" alt=\"Open In Colab\"/></a>"
      ]
    },
    {
      "cell_type": "markdown",
      "source": [
        "# CH09. 비지도 학습\n",
        "\n",
        "### 9.1 군집\n",
        "* 비슷한 샘플을 구별해 하나의 클러스터로 할당하는 작업\n",
        "* 레이블 없음\n",
        "\n",
        "> ex. 고객분류(추천시스템), 데이터 분석, 차원축소, 이상치 탐치, 준지도 학습, 검색엔진, 이미지 분할\n",
        "\n",
        "#### 9.1.1 K-평균"
      ],
      "metadata": {
        "id": "d5rH5Nmb46F5"
      }
    },
    {
      "cell_type": "code",
      "source": [
        "import warnings\n",
        "warnings.filterwarnings(action='ignore')"
      ],
      "metadata": {
        "id": "zFqMJzov8ZaC"
      },
      "execution_count": 9,
      "outputs": []
    },
    {
      "cell_type": "code",
      "source": [
        "from sklearn.datasets import make_blobs\n",
        "import numpy as np\n",
        "\n",
        "\n",
        "blob_centers = np.array(\n",
        "    [[ 0.2,  2.3],\n",
        "     [-1.5 ,  2.3],\n",
        "     [-2.8,  1.8],\n",
        "     [-2.8,  2.8],\n",
        "     [-2.8,  1.3]])\n",
        "blob_std = np.array([0.4, 0.3, 0.1, 0.1, 0.1])\n",
        "X, y = make_blobs(n_samples=2000, centers=blob_centers,\n",
        "                  cluster_std=blob_std, random_state=7)"
      ],
      "metadata": {
        "id": "3UIxP9876IKz"
      },
      "execution_count": 2,
      "outputs": []
    },
    {
      "cell_type": "code",
      "execution_count": 5,
      "metadata": {
        "colab": {
          "base_uri": "https://localhost:8080/"
        },
        "id": "eh8jAmcr41Y2",
        "outputId": "20272299-63dd-4247-c1cf-8b563580cb0e"
      },
      "outputs": [
        {
          "output_type": "stream",
          "name": "stderr",
          "text": [
            "/usr/local/lib/python3.10/dist-packages/sklearn/cluster/_kmeans.py:870: FutureWarning: The default value of `n_init` will change from 10 to 'auto' in 1.4. Set the value of `n_init` explicitly to suppress the warning\n",
            "  warnings.warn(\n"
          ]
        }
      ],
      "source": [
        "from sklearn.cluster import KMeans\n",
        "k = 5\n",
        "kmeans = KMeans(n_clusters = k)\n",
        "y_pred = kmeans.fit_predict(X)"
      ]
    },
    {
      "cell_type": "code",
      "source": [
        "y_pred"
      ],
      "metadata": {
        "colab": {
          "base_uri": "https://localhost:8080/"
        },
        "id": "3ei4XUw87P1R",
        "outputId": "858477ca-60d7-4fb7-f671-6dc35fa0aba2"
      },
      "execution_count": 6,
      "outputs": [
        {
          "output_type": "execute_result",
          "data": {
            "text/plain": [
              "array([0, 4, 1, ..., 2, 1, 4], dtype=int32)"
            ]
          },
          "metadata": {},
          "execution_count": 6
        }
      ]
    },
    {
      "cell_type": "code",
      "source": [
        "y_pred is kmeans.labels_"
      ],
      "metadata": {
        "colab": {
          "base_uri": "https://localhost:8080/"
        },
        "id": "GZNc5H3s-Kkd",
        "outputId": "e542d379-325e-405c-f5f4-3f3722d44aca"
      },
      "execution_count": 11,
      "outputs": [
        {
          "output_type": "execute_result",
          "data": {
            "text/plain": [
              "True"
            ]
          },
          "metadata": {},
          "execution_count": 11
        }
      ]
    },
    {
      "cell_type": "code",
      "source": [
        "# 알고리즘이 찾은 센트로이드 5개 확인\n",
        "kmeans.cluster_centers_"
      ],
      "metadata": {
        "colab": {
          "base_uri": "https://localhost:8080/"
        },
        "id": "blvJA0XR7R4t",
        "outputId": "fa1dbf43-e67d-4bd3-c26c-df3309b53275"
      },
      "execution_count": 12,
      "outputs": [
        {
          "output_type": "execute_result",
          "data": {
            "text/plain": [
              "array([[-2.80037642,  1.30082566],\n",
              "       [ 0.20876306,  2.25551336],\n",
              "       [-2.79290307,  2.79641063],\n",
              "       [-1.46679593,  2.28585348],\n",
              "       [-2.80389616,  1.80117999]])"
            ]
          },
          "metadata": {},
          "execution_count": 12
        }
      ]
    },
    {
      "cell_type": "code",
      "source": [
        "# 새로운 샘플에 가까운 센트로이드 클러스터 할당\n",
        "X_new = np.array([[0,2], [3,2], [-3,3], [-3,2.5]])\n",
        "kmeans.predict(X_new)"
      ],
      "metadata": {
        "colab": {
          "base_uri": "https://localhost:8080/"
        },
        "id": "x2P9HlEO55kn",
        "outputId": "2de12d5e-99fd-48a6-ebfd-a1de03ffc6b7"
      },
      "execution_count": 13,
      "outputs": [
        {
          "output_type": "execute_result",
          "data": {
            "text/plain": [
              "array([1, 1, 2, 2], dtype=int32)"
            ]
          },
          "metadata": {},
          "execution_count": 13
        }
      ]
    },
    {
      "cell_type": "markdown",
      "source": [
        "> * 하드 군집: 샘플을 하나의 클러스터에 할당\n",
        "* 소프트 군집: 클러스터마다 샘플에 점수를 부여하는 것"
      ],
      "metadata": {
        "id": "Ff1q8TdmBwTG"
      }
    },
    {
      "cell_type": "code",
      "source": [
        "# 샘플과 각 센트로이드 사이의 거리 반환\n",
        "kmeans.transform(X_new)"
      ],
      "metadata": {
        "colab": {
          "base_uri": "https://localhost:8080/"
        },
        "id": "vFF7i_Ji7UyG",
        "outputId": "30fc907b-6899-4d84-d329-a7f51ae9c7c0"
      },
      "execution_count": 15,
      "outputs": [
        {
          "output_type": "execute_result",
          "data": {
            "text/plain": [
              "array([[2.88633901, 0.32995317, 2.9042344 , 1.49439034, 2.81093633],\n",
              "       [5.84236351, 2.80290755, 5.84739223, 4.4759332 , 5.80730058],\n",
              "       [1.71086031, 3.29399768, 0.29040966, 1.69136631, 1.21475352],\n",
              "       [1.21567622, 3.21806371, 0.36159148, 1.54808703, 0.72581411]])"
            ]
          },
          "metadata": {},
          "execution_count": 15
        }
      ]
    },
    {
      "cell_type": "markdown",
      "source": [
        "K-Means 평균 알고리즘 작동 방식\n",
        "*  랜덤으로 중심(센트로이드)을 할당\n",
        "* 샘플에 레이블 할당\n",
        "* 센트로이드 업데이트, 변화 없을 때까지 반복"
      ],
      "metadata": {
        "id": "I29ZN0BhCXdA"
      }
    },
    {
      "cell_type": "code",
      "source": [
        "# 센트로이드 초기화\n",
        "\n",
        "good_init = np.array([[-3, 3], [-3, 2], [-3, 1], [-1, 2], [0, 2]])\n",
        "kmeans = KMeans(n_clusters=5, init=good_init, n_init=1)"
      ],
      "metadata": {
        "id": "_k8ull-J7WMG"
      },
      "execution_count": 23,
      "outputs": []
    },
    {
      "cell_type": "code",
      "source": [
        "kmeans.fit(X)"
      ],
      "metadata": {
        "colab": {
          "base_uri": "https://localhost:8080/",
          "height": 161
        },
        "id": "0mP0zu99D2u2",
        "outputId": "ad9d47a0-034d-4a22-b23e-e54084fb4079"
      },
      "execution_count": 26,
      "outputs": [
        {
          "output_type": "execute_result",
          "data": {
            "text/plain": [
              "KMeans(init=array([[-3,  3],\n",
              "       [-3,  2],\n",
              "       [-3,  1],\n",
              "       [-1,  2],\n",
              "       [ 0,  2]]),\n",
              "       n_clusters=5, n_init=1)"
            ],
            "text/html": [
              "<style>#sk-container-id-1 {color: black;background-color: white;}#sk-container-id-1 pre{padding: 0;}#sk-container-id-1 div.sk-toggleable {background-color: white;}#sk-container-id-1 label.sk-toggleable__label {cursor: pointer;display: block;width: 100%;margin-bottom: 0;padding: 0.3em;box-sizing: border-box;text-align: center;}#sk-container-id-1 label.sk-toggleable__label-arrow:before {content: \"▸\";float: left;margin-right: 0.25em;color: #696969;}#sk-container-id-1 label.sk-toggleable__label-arrow:hover:before {color: black;}#sk-container-id-1 div.sk-estimator:hover label.sk-toggleable__label-arrow:before {color: black;}#sk-container-id-1 div.sk-toggleable__content {max-height: 0;max-width: 0;overflow: hidden;text-align: left;background-color: #f0f8ff;}#sk-container-id-1 div.sk-toggleable__content pre {margin: 0.2em;color: black;border-radius: 0.25em;background-color: #f0f8ff;}#sk-container-id-1 input.sk-toggleable__control:checked~div.sk-toggleable__content {max-height: 200px;max-width: 100%;overflow: auto;}#sk-container-id-1 input.sk-toggleable__control:checked~label.sk-toggleable__label-arrow:before {content: \"▾\";}#sk-container-id-1 div.sk-estimator input.sk-toggleable__control:checked~label.sk-toggleable__label {background-color: #d4ebff;}#sk-container-id-1 div.sk-label input.sk-toggleable__control:checked~label.sk-toggleable__label {background-color: #d4ebff;}#sk-container-id-1 input.sk-hidden--visually {border: 0;clip: rect(1px 1px 1px 1px);clip: rect(1px, 1px, 1px, 1px);height: 1px;margin: -1px;overflow: hidden;padding: 0;position: absolute;width: 1px;}#sk-container-id-1 div.sk-estimator {font-family: monospace;background-color: #f0f8ff;border: 1px dotted black;border-radius: 0.25em;box-sizing: border-box;margin-bottom: 0.5em;}#sk-container-id-1 div.sk-estimator:hover {background-color: #d4ebff;}#sk-container-id-1 div.sk-parallel-item::after {content: \"\";width: 100%;border-bottom: 1px solid gray;flex-grow: 1;}#sk-container-id-1 div.sk-label:hover label.sk-toggleable__label {background-color: #d4ebff;}#sk-container-id-1 div.sk-serial::before {content: \"\";position: absolute;border-left: 1px solid gray;box-sizing: border-box;top: 0;bottom: 0;left: 50%;z-index: 0;}#sk-container-id-1 div.sk-serial {display: flex;flex-direction: column;align-items: center;background-color: white;padding-right: 0.2em;padding-left: 0.2em;position: relative;}#sk-container-id-1 div.sk-item {position: relative;z-index: 1;}#sk-container-id-1 div.sk-parallel {display: flex;align-items: stretch;justify-content: center;background-color: white;position: relative;}#sk-container-id-1 div.sk-item::before, #sk-container-id-1 div.sk-parallel-item::before {content: \"\";position: absolute;border-left: 1px solid gray;box-sizing: border-box;top: 0;bottom: 0;left: 50%;z-index: -1;}#sk-container-id-1 div.sk-parallel-item {display: flex;flex-direction: column;z-index: 1;position: relative;background-color: white;}#sk-container-id-1 div.sk-parallel-item:first-child::after {align-self: flex-end;width: 50%;}#sk-container-id-1 div.sk-parallel-item:last-child::after {align-self: flex-start;width: 50%;}#sk-container-id-1 div.sk-parallel-item:only-child::after {width: 0;}#sk-container-id-1 div.sk-dashed-wrapped {border: 1px dashed gray;margin: 0 0.4em 0.5em 0.4em;box-sizing: border-box;padding-bottom: 0.4em;background-color: white;}#sk-container-id-1 div.sk-label label {font-family: monospace;font-weight: bold;display: inline-block;line-height: 1.2em;}#sk-container-id-1 div.sk-label-container {text-align: center;}#sk-container-id-1 div.sk-container {/* jupyter's `normalize.less` sets `[hidden] { display: none; }` but bootstrap.min.css set `[hidden] { display: none !important; }` so we also need the `!important` here to be able to override the default hidden behavior on the sphinx rendered scikit-learn.org. See: https://github.com/scikit-learn/scikit-learn/issues/21755 */display: inline-block !important;position: relative;}#sk-container-id-1 div.sk-text-repr-fallback {display: none;}</style><div id=\"sk-container-id-1\" class=\"sk-top-container\"><div class=\"sk-text-repr-fallback\"><pre>KMeans(init=array([[-3,  3],\n",
              "       [-3,  2],\n",
              "       [-3,  1],\n",
              "       [-1,  2],\n",
              "       [ 0,  2]]),\n",
              "       n_clusters=5, n_init=1)</pre><b>In a Jupyter environment, please rerun this cell to show the HTML representation or trust the notebook. <br />On GitHub, the HTML representation is unable to render, please try loading this page with nbviewer.org.</b></div><div class=\"sk-container\" hidden><div class=\"sk-item\"><div class=\"sk-estimator sk-toggleable\"><input class=\"sk-toggleable__control sk-hidden--visually\" id=\"sk-estimator-id-1\" type=\"checkbox\" checked><label for=\"sk-estimator-id-1\" class=\"sk-toggleable__label sk-toggleable__label-arrow\">KMeans</label><div class=\"sk-toggleable__content\"><pre>KMeans(init=array([[-3,  3],\n",
              "       [-3,  2],\n",
              "       [-3,  1],\n",
              "       [-1,  2],\n",
              "       [ 0,  2]]),\n",
              "       n_clusters=5, n_init=1)</pre></div></div></div></div></div>"
            ]
          },
          "metadata": {},
          "execution_count": 26
        }
      ]
    },
    {
      "cell_type": "code",
      "source": [
        "# 샘플과 가장 가까운 센트로이드 사이의 평균 제곱 거리: 이너셔\n",
        "kmeans.inertia_"
      ],
      "metadata": {
        "colab": {
          "base_uri": "https://localhost:8080/"
        },
        "id": "t8MRkFfR7Yx5",
        "outputId": "3e579841-b2e3-47f7-e0c0-65e7a843bf8a"
      },
      "execution_count": 27,
      "outputs": [
        {
          "output_type": "execute_result",
          "data": {
            "text/plain": [
              "211.5985372581684"
            ]
          },
          "metadata": {},
          "execution_count": 27
        }
      ]
    },
    {
      "cell_type": "code",
      "source": [
        "# 이너셔의 음숫값 반환, 큰 값이 좋음\n",
        "kmeans.score(X)"
      ],
      "metadata": {
        "colab": {
          "base_uri": "https://localhost:8080/"
        },
        "id": "lh-ELxqE7YvV",
        "outputId": "56c6e6e1-8d23-47ba-ccc7-18165b013de2"
      },
      "execution_count": 28,
      "outputs": [
        {
          "output_type": "execute_result",
          "data": {
            "text/plain": [
              "-211.59853725816836"
            ]
          },
          "metadata": {},
          "execution_count": 28
        }
      ]
    },
    {
      "cell_type": "markdown",
      "source": [
        "K-평균 속도 개선과 미니배치 K-평균\n",
        "* 불필요한 계산 피함, 알고리즘 속도 높임"
      ],
      "metadata": {
        "id": "54zdZ244EX6w"
      }
    },
    {
      "cell_type": "code",
      "source": [
        "from sklearn.cluster import MiniBatchKMeans\n",
        "\n",
        "minibatch_kmeans = MiniBatchKMeans(n_clusters = 5)\n",
        "minibatch_kmeans.fit(X)"
      ],
      "metadata": {
        "colab": {
          "base_uri": "https://localhost:8080/",
          "height": 74
        },
        "id": "Svtj8EhI55iS",
        "outputId": "9a718a2f-574f-4e6a-aef3-ddd09cf0ae56"
      },
      "execution_count": 29,
      "outputs": [
        {
          "output_type": "execute_result",
          "data": {
            "text/plain": [
              "MiniBatchKMeans(n_clusters=5)"
            ],
            "text/html": [
              "<style>#sk-container-id-2 {color: black;background-color: white;}#sk-container-id-2 pre{padding: 0;}#sk-container-id-2 div.sk-toggleable {background-color: white;}#sk-container-id-2 label.sk-toggleable__label {cursor: pointer;display: block;width: 100%;margin-bottom: 0;padding: 0.3em;box-sizing: border-box;text-align: center;}#sk-container-id-2 label.sk-toggleable__label-arrow:before {content: \"▸\";float: left;margin-right: 0.25em;color: #696969;}#sk-container-id-2 label.sk-toggleable__label-arrow:hover:before {color: black;}#sk-container-id-2 div.sk-estimator:hover label.sk-toggleable__label-arrow:before {color: black;}#sk-container-id-2 div.sk-toggleable__content {max-height: 0;max-width: 0;overflow: hidden;text-align: left;background-color: #f0f8ff;}#sk-container-id-2 div.sk-toggleable__content pre {margin: 0.2em;color: black;border-radius: 0.25em;background-color: #f0f8ff;}#sk-container-id-2 input.sk-toggleable__control:checked~div.sk-toggleable__content {max-height: 200px;max-width: 100%;overflow: auto;}#sk-container-id-2 input.sk-toggleable__control:checked~label.sk-toggleable__label-arrow:before {content: \"▾\";}#sk-container-id-2 div.sk-estimator input.sk-toggleable__control:checked~label.sk-toggleable__label {background-color: #d4ebff;}#sk-container-id-2 div.sk-label input.sk-toggleable__control:checked~label.sk-toggleable__label {background-color: #d4ebff;}#sk-container-id-2 input.sk-hidden--visually {border: 0;clip: rect(1px 1px 1px 1px);clip: rect(1px, 1px, 1px, 1px);height: 1px;margin: -1px;overflow: hidden;padding: 0;position: absolute;width: 1px;}#sk-container-id-2 div.sk-estimator {font-family: monospace;background-color: #f0f8ff;border: 1px dotted black;border-radius: 0.25em;box-sizing: border-box;margin-bottom: 0.5em;}#sk-container-id-2 div.sk-estimator:hover {background-color: #d4ebff;}#sk-container-id-2 div.sk-parallel-item::after {content: \"\";width: 100%;border-bottom: 1px solid gray;flex-grow: 1;}#sk-container-id-2 div.sk-label:hover label.sk-toggleable__label {background-color: #d4ebff;}#sk-container-id-2 div.sk-serial::before {content: \"\";position: absolute;border-left: 1px solid gray;box-sizing: border-box;top: 0;bottom: 0;left: 50%;z-index: 0;}#sk-container-id-2 div.sk-serial {display: flex;flex-direction: column;align-items: center;background-color: white;padding-right: 0.2em;padding-left: 0.2em;position: relative;}#sk-container-id-2 div.sk-item {position: relative;z-index: 1;}#sk-container-id-2 div.sk-parallel {display: flex;align-items: stretch;justify-content: center;background-color: white;position: relative;}#sk-container-id-2 div.sk-item::before, #sk-container-id-2 div.sk-parallel-item::before {content: \"\";position: absolute;border-left: 1px solid gray;box-sizing: border-box;top: 0;bottom: 0;left: 50%;z-index: -1;}#sk-container-id-2 div.sk-parallel-item {display: flex;flex-direction: column;z-index: 1;position: relative;background-color: white;}#sk-container-id-2 div.sk-parallel-item:first-child::after {align-self: flex-end;width: 50%;}#sk-container-id-2 div.sk-parallel-item:last-child::after {align-self: flex-start;width: 50%;}#sk-container-id-2 div.sk-parallel-item:only-child::after {width: 0;}#sk-container-id-2 div.sk-dashed-wrapped {border: 1px dashed gray;margin: 0 0.4em 0.5em 0.4em;box-sizing: border-box;padding-bottom: 0.4em;background-color: white;}#sk-container-id-2 div.sk-label label {font-family: monospace;font-weight: bold;display: inline-block;line-height: 1.2em;}#sk-container-id-2 div.sk-label-container {text-align: center;}#sk-container-id-2 div.sk-container {/* jupyter's `normalize.less` sets `[hidden] { display: none; }` but bootstrap.min.css set `[hidden] { display: none !important; }` so we also need the `!important` here to be able to override the default hidden behavior on the sphinx rendered scikit-learn.org. See: https://github.com/scikit-learn/scikit-learn/issues/21755 */display: inline-block !important;position: relative;}#sk-container-id-2 div.sk-text-repr-fallback {display: none;}</style><div id=\"sk-container-id-2\" class=\"sk-top-container\"><div class=\"sk-text-repr-fallback\"><pre>MiniBatchKMeans(n_clusters=5)</pre><b>In a Jupyter environment, please rerun this cell to show the HTML representation or trust the notebook. <br />On GitHub, the HTML representation is unable to render, please try loading this page with nbviewer.org.</b></div><div class=\"sk-container\" hidden><div class=\"sk-item\"><div class=\"sk-estimator sk-toggleable\"><input class=\"sk-toggleable__control sk-hidden--visually\" id=\"sk-estimator-id-2\" type=\"checkbox\" checked><label for=\"sk-estimator-id-2\" class=\"sk-toggleable__label sk-toggleable__label-arrow\">MiniBatchKMeans</label><div class=\"sk-toggleable__content\"><pre>MiniBatchKMeans(n_clusters=5)</pre></div></div></div></div></div>"
            ]
          },
          "metadata": {},
          "execution_count": 29
        }
      ]
    },
    {
      "cell_type": "markdown",
      "source": [
        "최적의 클러스터 개수 찾기\n",
        "* 실루엣 점수= 실루엣 계수의 평균"
      ],
      "metadata": {
        "id": "K3SiADT9Evuo"
      }
    },
    {
      "cell_type": "code",
      "source": [
        "from sklearn.metrics import silhouette_score\n",
        "silhouette_score(X, kmeans.labels_)"
      ],
      "metadata": {
        "colab": {
          "base_uri": "https://localhost:8080/"
        },
        "id": "rV34EcBf55gA",
        "outputId": "3038fb99-a292-4fa1-c1a4-b8f429d737a3"
      },
      "execution_count": 30,
      "outputs": [
        {
          "output_type": "execute_result",
          "data": {
            "text/plain": [
              "0.655517642572828"
            ]
          },
          "metadata": {},
          "execution_count": 30
        }
      ]
    },
    {
      "cell_type": "markdown",
      "source": [
        "### 9.1.2 k-평균의 한계\n",
        "* 최적이 아닌 솔루션을 피하려면 알고리즘 여러 번 실행\n",
        "* 클러스터 개수를 지정해야함\n",
        "* 클러스터의 크기나 밀집도가 서로 다르거나 원형이 아닐 경우 잘 작동 X\n",
        "\n",
        "### 9.1.3 군집을 사용한 이미지 분할\n",
        "* 이미지 분할: 이미지를 세그먼트 여러개로 분할\n",
        "* 시맨틱 분할: 동일한 종류의 물체에 속한 모든 픽셀은 같은 세그먼트에 할당"
      ],
      "metadata": {
        "id": "XZHghM22FB83"
      }
    },
    {
      "cell_type": "code",
      "source": [
        "import os\n",
        "import urllib.request\n",
        "\n",
        "PROJECT_ROOT_DIR = \".\"\n",
        "CHAPTER_ID = \"unsupervised_learning\"\n",
        "IMAGES_PATH = os.path.join(PROJECT_ROOT_DIR, \"images\", CHAPTER_ID)\n",
        "os.makedirs(IMAGES_PATH, exist_ok=True)\n",
        "\n",
        "# 무당벌레 이미지 다운로드\n",
        "\n",
        "images_path = os.path.join(PROJECT_ROOT_DIR, \"images\", \"unsupervised_learning\")\n",
        "os.makedirs(images_path, exist_ok=True)\n",
        "DOWNLOAD_ROOT = \"https://raw.githubusercontent.com/rickiepark/handson-ml2/master/\"\n",
        "filename = \"ladybug.png\"\n",
        "print(\"Downloading\", filename)\n",
        "url = DOWNLOAD_ROOT + \"images/unsupervised_learning/\" + filename\n",
        "urllib.request.urlretrieve(url, os.path.join(images_path, filename))"
      ],
      "metadata": {
        "colab": {
          "base_uri": "https://localhost:8080/"
        },
        "id": "oKV37oQB55d5",
        "outputId": "5b3e51dd-398c-413b-9a9f-249df70637ee"
      },
      "execution_count": 31,
      "outputs": [
        {
          "output_type": "stream",
          "name": "stdout",
          "text": [
            "Downloading ladybug.png\n"
          ]
        },
        {
          "output_type": "execute_result",
          "data": {
            "text/plain": [
              "('./images/unsupervised_learning/ladybug.png',\n",
              " <http.client.HTTPMessage at 0x7f93e27396f0>)"
            ]
          },
          "metadata": {},
          "execution_count": 31
        }
      ]
    },
    {
      "cell_type": "code",
      "source": [
        "# 색상분할\n",
        "from matplotlib.image import imread\n",
        "image = imread(os.path.join('images','unsupervised_learning','ladybug.png'))\n",
        "image.shape"
      ],
      "metadata": {
        "colab": {
          "base_uri": "https://localhost:8080/"
        },
        "id": "rKZc4v_955bo",
        "outputId": "52d7298f-dee2-4891-9def-87e1dbf594ff"
      },
      "execution_count": 32,
      "outputs": [
        {
          "output_type": "execute_result",
          "data": {
            "text/plain": [
              "(533, 800, 3)"
            ]
          },
          "metadata": {},
          "execution_count": 32
        }
      ]
    },
    {
      "cell_type": "code",
      "source": [
        "# 배열을 RGB 색상의 긴 리스트로 변환하고 k-means 활용해 클러스터로 색상 모음\n",
        "X = image.reshape(-1,3)\n",
        "kmeans = KMeans(n_clusters=8).fit(X)\n",
        "segmented_img = kmeans.cluster_centers_[kmeans.labels_]\n",
        "segmented_img = segmented_img.reshape(image.shape)"
      ],
      "metadata": {
        "id": "Lmv7TCcI55ZM"
      },
      "execution_count": 33,
      "outputs": []
    },
    {
      "cell_type": "markdown",
      "source": [
        "### 9.1.4 군집 사용 전처리"
      ],
      "metadata": {
        "id": "G7s_PUdUF0zF"
      }
    },
    {
      "cell_type": "code",
      "source": [
        "# 데이터셋 불러오기\n",
        "from sklearn.datasets import load_digits\n",
        "X_digits,y_digits = load_digits(return_X_y=True)"
      ],
      "metadata": {
        "id": "34Sk8nOI55Wn"
      },
      "execution_count": 34,
      "outputs": []
    },
    {
      "cell_type": "code",
      "source": [
        "from sklearn.model_selection import train_test_split\n",
        "X_train, X_test, y_train, y_test = train_test_split(X_digits, y_digits)"
      ],
      "metadata": {
        "id": "nZYBilse7hsJ"
      },
      "execution_count": 35,
      "outputs": []
    },
    {
      "cell_type": "code",
      "source": [
        "from sklearn.linear_model import LogisticRegression\n",
        "\n",
        "log_reg = LogisticRegression()\n",
        "log_reg.fit(X_train, y_train)"
      ],
      "metadata": {
        "colab": {
          "base_uri": "https://localhost:8080/",
          "height": 74
        },
        "id": "31TF15Wk7jK1",
        "outputId": "511e0b92-85c4-4c7b-815d-a8b444ef3be8"
      },
      "execution_count": 36,
      "outputs": [
        {
          "output_type": "execute_result",
          "data": {
            "text/plain": [
              "LogisticRegression()"
            ],
            "text/html": [
              "<style>#sk-container-id-3 {color: black;background-color: white;}#sk-container-id-3 pre{padding: 0;}#sk-container-id-3 div.sk-toggleable {background-color: white;}#sk-container-id-3 label.sk-toggleable__label {cursor: pointer;display: block;width: 100%;margin-bottom: 0;padding: 0.3em;box-sizing: border-box;text-align: center;}#sk-container-id-3 label.sk-toggleable__label-arrow:before {content: \"▸\";float: left;margin-right: 0.25em;color: #696969;}#sk-container-id-3 label.sk-toggleable__label-arrow:hover:before {color: black;}#sk-container-id-3 div.sk-estimator:hover label.sk-toggleable__label-arrow:before {color: black;}#sk-container-id-3 div.sk-toggleable__content {max-height: 0;max-width: 0;overflow: hidden;text-align: left;background-color: #f0f8ff;}#sk-container-id-3 div.sk-toggleable__content pre {margin: 0.2em;color: black;border-radius: 0.25em;background-color: #f0f8ff;}#sk-container-id-3 input.sk-toggleable__control:checked~div.sk-toggleable__content {max-height: 200px;max-width: 100%;overflow: auto;}#sk-container-id-3 input.sk-toggleable__control:checked~label.sk-toggleable__label-arrow:before {content: \"▾\";}#sk-container-id-3 div.sk-estimator input.sk-toggleable__control:checked~label.sk-toggleable__label {background-color: #d4ebff;}#sk-container-id-3 div.sk-label input.sk-toggleable__control:checked~label.sk-toggleable__label {background-color: #d4ebff;}#sk-container-id-3 input.sk-hidden--visually {border: 0;clip: rect(1px 1px 1px 1px);clip: rect(1px, 1px, 1px, 1px);height: 1px;margin: -1px;overflow: hidden;padding: 0;position: absolute;width: 1px;}#sk-container-id-3 div.sk-estimator {font-family: monospace;background-color: #f0f8ff;border: 1px dotted black;border-radius: 0.25em;box-sizing: border-box;margin-bottom: 0.5em;}#sk-container-id-3 div.sk-estimator:hover {background-color: #d4ebff;}#sk-container-id-3 div.sk-parallel-item::after {content: \"\";width: 100%;border-bottom: 1px solid gray;flex-grow: 1;}#sk-container-id-3 div.sk-label:hover label.sk-toggleable__label {background-color: #d4ebff;}#sk-container-id-3 div.sk-serial::before {content: \"\";position: absolute;border-left: 1px solid gray;box-sizing: border-box;top: 0;bottom: 0;left: 50%;z-index: 0;}#sk-container-id-3 div.sk-serial {display: flex;flex-direction: column;align-items: center;background-color: white;padding-right: 0.2em;padding-left: 0.2em;position: relative;}#sk-container-id-3 div.sk-item {position: relative;z-index: 1;}#sk-container-id-3 div.sk-parallel {display: flex;align-items: stretch;justify-content: center;background-color: white;position: relative;}#sk-container-id-3 div.sk-item::before, #sk-container-id-3 div.sk-parallel-item::before {content: \"\";position: absolute;border-left: 1px solid gray;box-sizing: border-box;top: 0;bottom: 0;left: 50%;z-index: -1;}#sk-container-id-3 div.sk-parallel-item {display: flex;flex-direction: column;z-index: 1;position: relative;background-color: white;}#sk-container-id-3 div.sk-parallel-item:first-child::after {align-self: flex-end;width: 50%;}#sk-container-id-3 div.sk-parallel-item:last-child::after {align-self: flex-start;width: 50%;}#sk-container-id-3 div.sk-parallel-item:only-child::after {width: 0;}#sk-container-id-3 div.sk-dashed-wrapped {border: 1px dashed gray;margin: 0 0.4em 0.5em 0.4em;box-sizing: border-box;padding-bottom: 0.4em;background-color: white;}#sk-container-id-3 div.sk-label label {font-family: monospace;font-weight: bold;display: inline-block;line-height: 1.2em;}#sk-container-id-3 div.sk-label-container {text-align: center;}#sk-container-id-3 div.sk-container {/* jupyter's `normalize.less` sets `[hidden] { display: none; }` but bootstrap.min.css set `[hidden] { display: none !important; }` so we also need the `!important` here to be able to override the default hidden behavior on the sphinx rendered scikit-learn.org. See: https://github.com/scikit-learn/scikit-learn/issues/21755 */display: inline-block !important;position: relative;}#sk-container-id-3 div.sk-text-repr-fallback {display: none;}</style><div id=\"sk-container-id-3\" class=\"sk-top-container\"><div class=\"sk-text-repr-fallback\"><pre>LogisticRegression()</pre><b>In a Jupyter environment, please rerun this cell to show the HTML representation or trust the notebook. <br />On GitHub, the HTML representation is unable to render, please try loading this page with nbviewer.org.</b></div><div class=\"sk-container\" hidden><div class=\"sk-item\"><div class=\"sk-estimator sk-toggleable\"><input class=\"sk-toggleable__control sk-hidden--visually\" id=\"sk-estimator-id-3\" type=\"checkbox\" checked><label for=\"sk-estimator-id-3\" class=\"sk-toggleable__label sk-toggleable__label-arrow\">LogisticRegression</label><div class=\"sk-toggleable__content\"><pre>LogisticRegression()</pre></div></div></div></div></div>"
            ]
          },
          "metadata": {},
          "execution_count": 36
        }
      ]
    },
    {
      "cell_type": "code",
      "source": [
        "log_reg.score(X_test, y_test)"
      ],
      "metadata": {
        "colab": {
          "base_uri": "https://localhost:8080/"
        },
        "id": "LjhaNatQ7kj4",
        "outputId": "15f69729-6256-4c5a-a791-20d0364e3e3e"
      },
      "execution_count": 37,
      "outputs": [
        {
          "output_type": "execute_result",
          "data": {
            "text/plain": [
              "0.9666666666666667"
            ]
          },
          "metadata": {},
          "execution_count": 37
        }
      ]
    },
    {
      "cell_type": "code",
      "source": [
        "#k-평균을 전처리 단계로 사용\n",
        "from sklearn.pipeline import Pipeline\n",
        "\n",
        "pipeline = Pipeline([\n",
        "    ('kmeans', KMeans(n_clusters=50)),\n",
        "    ('log_reg', LogisticRegression()),\n",
        "])\n",
        "pipeline.fit(X_train, y_train)"
      ],
      "metadata": {
        "colab": {
          "base_uri": "https://localhost:8080/",
          "height": 126
        },
        "id": "2tSz_jEe7khR",
        "outputId": "8f0974cc-4885-42bd-8c99-c853d35a8d8a"
      },
      "execution_count": 38,
      "outputs": [
        {
          "output_type": "execute_result",
          "data": {
            "text/plain": [
              "Pipeline(steps=[('kmeans', KMeans(n_clusters=50)),\n",
              "                ('log_reg', LogisticRegression())])"
            ],
            "text/html": [
              "<style>#sk-container-id-4 {color: black;background-color: white;}#sk-container-id-4 pre{padding: 0;}#sk-container-id-4 div.sk-toggleable {background-color: white;}#sk-container-id-4 label.sk-toggleable__label {cursor: pointer;display: block;width: 100%;margin-bottom: 0;padding: 0.3em;box-sizing: border-box;text-align: center;}#sk-container-id-4 label.sk-toggleable__label-arrow:before {content: \"▸\";float: left;margin-right: 0.25em;color: #696969;}#sk-container-id-4 label.sk-toggleable__label-arrow:hover:before {color: black;}#sk-container-id-4 div.sk-estimator:hover label.sk-toggleable__label-arrow:before {color: black;}#sk-container-id-4 div.sk-toggleable__content {max-height: 0;max-width: 0;overflow: hidden;text-align: left;background-color: #f0f8ff;}#sk-container-id-4 div.sk-toggleable__content pre {margin: 0.2em;color: black;border-radius: 0.25em;background-color: #f0f8ff;}#sk-container-id-4 input.sk-toggleable__control:checked~div.sk-toggleable__content {max-height: 200px;max-width: 100%;overflow: auto;}#sk-container-id-4 input.sk-toggleable__control:checked~label.sk-toggleable__label-arrow:before {content: \"▾\";}#sk-container-id-4 div.sk-estimator input.sk-toggleable__control:checked~label.sk-toggleable__label {background-color: #d4ebff;}#sk-container-id-4 div.sk-label input.sk-toggleable__control:checked~label.sk-toggleable__label {background-color: #d4ebff;}#sk-container-id-4 input.sk-hidden--visually {border: 0;clip: rect(1px 1px 1px 1px);clip: rect(1px, 1px, 1px, 1px);height: 1px;margin: -1px;overflow: hidden;padding: 0;position: absolute;width: 1px;}#sk-container-id-4 div.sk-estimator {font-family: monospace;background-color: #f0f8ff;border: 1px dotted black;border-radius: 0.25em;box-sizing: border-box;margin-bottom: 0.5em;}#sk-container-id-4 div.sk-estimator:hover {background-color: #d4ebff;}#sk-container-id-4 div.sk-parallel-item::after {content: \"\";width: 100%;border-bottom: 1px solid gray;flex-grow: 1;}#sk-container-id-4 div.sk-label:hover label.sk-toggleable__label {background-color: #d4ebff;}#sk-container-id-4 div.sk-serial::before {content: \"\";position: absolute;border-left: 1px solid gray;box-sizing: border-box;top: 0;bottom: 0;left: 50%;z-index: 0;}#sk-container-id-4 div.sk-serial {display: flex;flex-direction: column;align-items: center;background-color: white;padding-right: 0.2em;padding-left: 0.2em;position: relative;}#sk-container-id-4 div.sk-item {position: relative;z-index: 1;}#sk-container-id-4 div.sk-parallel {display: flex;align-items: stretch;justify-content: center;background-color: white;position: relative;}#sk-container-id-4 div.sk-item::before, #sk-container-id-4 div.sk-parallel-item::before {content: \"\";position: absolute;border-left: 1px solid gray;box-sizing: border-box;top: 0;bottom: 0;left: 50%;z-index: -1;}#sk-container-id-4 div.sk-parallel-item {display: flex;flex-direction: column;z-index: 1;position: relative;background-color: white;}#sk-container-id-4 div.sk-parallel-item:first-child::after {align-self: flex-end;width: 50%;}#sk-container-id-4 div.sk-parallel-item:last-child::after {align-self: flex-start;width: 50%;}#sk-container-id-4 div.sk-parallel-item:only-child::after {width: 0;}#sk-container-id-4 div.sk-dashed-wrapped {border: 1px dashed gray;margin: 0 0.4em 0.5em 0.4em;box-sizing: border-box;padding-bottom: 0.4em;background-color: white;}#sk-container-id-4 div.sk-label label {font-family: monospace;font-weight: bold;display: inline-block;line-height: 1.2em;}#sk-container-id-4 div.sk-label-container {text-align: center;}#sk-container-id-4 div.sk-container {/* jupyter's `normalize.less` sets `[hidden] { display: none; }` but bootstrap.min.css set `[hidden] { display: none !important; }` so we also need the `!important` here to be able to override the default hidden behavior on the sphinx rendered scikit-learn.org. See: https://github.com/scikit-learn/scikit-learn/issues/21755 */display: inline-block !important;position: relative;}#sk-container-id-4 div.sk-text-repr-fallback {display: none;}</style><div id=\"sk-container-id-4\" class=\"sk-top-container\"><div class=\"sk-text-repr-fallback\"><pre>Pipeline(steps=[(&#x27;kmeans&#x27;, KMeans(n_clusters=50)),\n",
              "                (&#x27;log_reg&#x27;, LogisticRegression())])</pre><b>In a Jupyter environment, please rerun this cell to show the HTML representation or trust the notebook. <br />On GitHub, the HTML representation is unable to render, please try loading this page with nbviewer.org.</b></div><div class=\"sk-container\" hidden><div class=\"sk-item sk-dashed-wrapped\"><div class=\"sk-label-container\"><div class=\"sk-label sk-toggleable\"><input class=\"sk-toggleable__control sk-hidden--visually\" id=\"sk-estimator-id-4\" type=\"checkbox\" ><label for=\"sk-estimator-id-4\" class=\"sk-toggleable__label sk-toggleable__label-arrow\">Pipeline</label><div class=\"sk-toggleable__content\"><pre>Pipeline(steps=[(&#x27;kmeans&#x27;, KMeans(n_clusters=50)),\n",
              "                (&#x27;log_reg&#x27;, LogisticRegression())])</pre></div></div></div><div class=\"sk-serial\"><div class=\"sk-item\"><div class=\"sk-estimator sk-toggleable\"><input class=\"sk-toggleable__control sk-hidden--visually\" id=\"sk-estimator-id-5\" type=\"checkbox\" ><label for=\"sk-estimator-id-5\" class=\"sk-toggleable__label sk-toggleable__label-arrow\">KMeans</label><div class=\"sk-toggleable__content\"><pre>KMeans(n_clusters=50)</pre></div></div></div><div class=\"sk-item\"><div class=\"sk-estimator sk-toggleable\"><input class=\"sk-toggleable__control sk-hidden--visually\" id=\"sk-estimator-id-6\" type=\"checkbox\" ><label for=\"sk-estimator-id-6\" class=\"sk-toggleable__label sk-toggleable__label-arrow\">LogisticRegression</label><div class=\"sk-toggleable__content\"><pre>LogisticRegression()</pre></div></div></div></div></div></div></div>"
            ]
          },
          "metadata": {},
          "execution_count": 38
        }
      ]
    },
    {
      "cell_type": "code",
      "source": [
        "pipeline.score(X_train, y_train)"
      ],
      "metadata": {
        "colab": {
          "base_uri": "https://localhost:8080/"
        },
        "id": "_eef_HAN7ke7",
        "outputId": "98d660ce-4561-48a8-ba7c-34d970a9f8ca"
      },
      "execution_count": 39,
      "outputs": [
        {
          "output_type": "execute_result",
          "data": {
            "text/plain": [
              "0.9844097995545658"
            ]
          },
          "metadata": {},
          "execution_count": 39
        }
      ]
    },
    {
      "cell_type": "code",
      "source": [
        "from sklearn.model_selection import GridSearchCV\n",
        "\n",
        "param_grid = dict(kmeans__n_clusters=range(2,100))\n",
        "grid_clf = GridSearchCV(pipeline, param_grid, cv=3, verbose=2)\n",
        "grid_clf.fit(X_train, y_train)"
      ],
      "metadata": {
        "colab": {
          "base_uri": "https://localhost:8080/",
          "height": 1000
        },
        "id": "3lRvaqTp7kcP",
        "outputId": "1d4cd32e-feca-4825-c5cd-19adcb3089b1"
      },
      "execution_count": 40,
      "outputs": [
        {
          "output_type": "stream",
          "name": "stdout",
          "text": [
            "Fitting 3 folds for each of 98 candidates, totalling 294 fits\n",
            "[CV] END ...............................kmeans__n_clusters=2; total time=   0.8s\n",
            "[CV] END ...............................kmeans__n_clusters=2; total time=   0.6s\n",
            "[CV] END ...............................kmeans__n_clusters=2; total time=   0.3s\n",
            "[CV] END ...............................kmeans__n_clusters=3; total time=   0.4s\n",
            "[CV] END ...............................kmeans__n_clusters=3; total time=   0.5s\n",
            "[CV] END ...............................kmeans__n_clusters=3; total time=   0.3s\n",
            "[CV] END ...............................kmeans__n_clusters=4; total time=   0.6s\n",
            "[CV] END ...............................kmeans__n_clusters=4; total time=   0.5s\n",
            "[CV] END ...............................kmeans__n_clusters=4; total time=   0.6s\n",
            "[CV] END ...............................kmeans__n_clusters=5; total time=   1.1s\n",
            "[CV] END ...............................kmeans__n_clusters=5; total time=   1.4s\n",
            "[CV] END ...............................kmeans__n_clusters=5; total time=   0.8s\n",
            "[CV] END ...............................kmeans__n_clusters=6; total time=   0.7s\n",
            "[CV] END ...............................kmeans__n_clusters=6; total time=   0.5s\n",
            "[CV] END ...............................kmeans__n_clusters=6; total time=   0.9s\n",
            "[CV] END ...............................kmeans__n_clusters=7; total time=   0.7s\n",
            "[CV] END ...............................kmeans__n_clusters=7; total time=   0.5s\n",
            "[CV] END ...............................kmeans__n_clusters=7; total time=   0.5s\n",
            "[CV] END ...............................kmeans__n_clusters=8; total time=   0.4s\n",
            "[CV] END ...............................kmeans__n_clusters=8; total time=   0.4s\n",
            "[CV] END ...............................kmeans__n_clusters=8; total time=   0.4s\n",
            "[CV] END ...............................kmeans__n_clusters=9; total time=   0.5s\n",
            "[CV] END ...............................kmeans__n_clusters=9; total time=   0.5s\n",
            "[CV] END ...............................kmeans__n_clusters=9; total time=   0.5s\n",
            "[CV] END ..............................kmeans__n_clusters=10; total time=   0.6s\n",
            "[CV] END ..............................kmeans__n_clusters=10; total time=   0.5s\n",
            "[CV] END ..............................kmeans__n_clusters=10; total time=   0.4s\n",
            "[CV] END ..............................kmeans__n_clusters=11; total time=   1.0s\n",
            "[CV] END ..............................kmeans__n_clusters=11; total time=   1.9s\n",
            "[CV] END ..............................kmeans__n_clusters=11; total time=   0.5s\n",
            "[CV] END ..............................kmeans__n_clusters=12; total time=   0.6s\n",
            "[CV] END ..............................kmeans__n_clusters=12; total time=   0.8s\n",
            "[CV] END ..............................kmeans__n_clusters=12; total time=   0.5s\n",
            "[CV] END ..............................kmeans__n_clusters=13; total time=   0.6s\n",
            "[CV] END ..............................kmeans__n_clusters=13; total time=   0.8s\n",
            "[CV] END ..............................kmeans__n_clusters=13; total time=   0.6s\n",
            "[CV] END ..............................kmeans__n_clusters=14; total time=   0.9s\n",
            "[CV] END ..............................kmeans__n_clusters=14; total time=   0.6s\n",
            "[CV] END ..............................kmeans__n_clusters=14; total time=   0.7s\n",
            "[CV] END ..............................kmeans__n_clusters=15; total time=   0.7s\n",
            "[CV] END ..............................kmeans__n_clusters=15; total time=   0.8s\n",
            "[CV] END ..............................kmeans__n_clusters=15; total time=   0.8s\n",
            "[CV] END ..............................kmeans__n_clusters=16; total time=   0.8s\n",
            "[CV] END ..............................kmeans__n_clusters=16; total time=   1.5s\n",
            "[CV] END ..............................kmeans__n_clusters=16; total time=   1.3s\n",
            "[CV] END ..............................kmeans__n_clusters=17; total time=   0.6s\n",
            "[CV] END ..............................kmeans__n_clusters=17; total time=   0.6s\n",
            "[CV] END ..............................kmeans__n_clusters=17; total time=   0.7s\n",
            "[CV] END ..............................kmeans__n_clusters=18; total time=   0.7s\n",
            "[CV] END ..............................kmeans__n_clusters=18; total time=   1.3s\n",
            "[CV] END ..............................kmeans__n_clusters=18; total time=   1.4s\n",
            "[CV] END ..............................kmeans__n_clusters=19; total time=   0.8s\n",
            "[CV] END ..............................kmeans__n_clusters=19; total time=   0.9s\n",
            "[CV] END ..............................kmeans__n_clusters=19; total time=   0.8s\n",
            "[CV] END ..............................kmeans__n_clusters=20; total time=   0.8s\n",
            "[CV] END ..............................kmeans__n_clusters=20; total time=   0.6s\n",
            "[CV] END ..............................kmeans__n_clusters=20; total time=   0.7s\n",
            "[CV] END ..............................kmeans__n_clusters=21; total time=   2.2s\n",
            "[CV] END ..............................kmeans__n_clusters=21; total time=   0.8s\n",
            "[CV] END ..............................kmeans__n_clusters=21; total time=   1.6s\n",
            "[CV] END ..............................kmeans__n_clusters=22; total time=   0.5s\n",
            "[CV] END ..............................kmeans__n_clusters=22; total time=   1.0s\n",
            "[CV] END ..............................kmeans__n_clusters=22; total time=   0.9s\n",
            "[CV] END ..............................kmeans__n_clusters=23; total time=   1.2s\n",
            "[CV] END ..............................kmeans__n_clusters=23; total time=   1.1s\n",
            "[CV] END ..............................kmeans__n_clusters=23; total time=   1.1s\n",
            "[CV] END ..............................kmeans__n_clusters=24; total time=   0.7s\n",
            "[CV] END ..............................kmeans__n_clusters=24; total time=   1.3s\n",
            "[CV] END ..............................kmeans__n_clusters=24; total time=   2.3s\n",
            "[CV] END ..............................kmeans__n_clusters=25; total time=   0.8s\n",
            "[CV] END ..............................kmeans__n_clusters=25; total time=   0.9s\n",
            "[CV] END ..............................kmeans__n_clusters=25; total time=   0.8s\n",
            "[CV] END ..............................kmeans__n_clusters=26; total time=   0.9s\n",
            "[CV] END ..............................kmeans__n_clusters=26; total time=   0.8s\n",
            "[CV] END ..............................kmeans__n_clusters=26; total time=   0.9s\n",
            "[CV] END ..............................kmeans__n_clusters=27; total time=   1.2s\n",
            "[CV] END ..............................kmeans__n_clusters=27; total time=   1.2s\n",
            "[CV] END ..............................kmeans__n_clusters=27; total time=   0.9s\n",
            "[CV] END ..............................kmeans__n_clusters=28; total time=   0.9s\n",
            "[CV] END ..............................kmeans__n_clusters=28; total time=   1.1s\n",
            "[CV] END ..............................kmeans__n_clusters=28; total time=   1.9s\n",
            "[CV] END ..............................kmeans__n_clusters=29; total time=   1.2s\n",
            "[CV] END ..............................kmeans__n_clusters=29; total time=   0.9s\n",
            "[CV] END ..............................kmeans__n_clusters=29; total time=   0.9s\n",
            "[CV] END ..............................kmeans__n_clusters=30; total time=   1.1s\n",
            "[CV] END ..............................kmeans__n_clusters=30; total time=   1.0s\n",
            "[CV] END ..............................kmeans__n_clusters=30; total time=   1.2s\n",
            "[CV] END ..............................kmeans__n_clusters=31; total time=   1.0s\n",
            "[CV] END ..............................kmeans__n_clusters=31; total time=   1.3s\n",
            "[CV] END ..............................kmeans__n_clusters=31; total time=   1.3s\n",
            "[CV] END ..............................kmeans__n_clusters=32; total time=   1.8s\n",
            "[CV] END ..............................kmeans__n_clusters=32; total time=   1.7s\n",
            "[CV] END ..............................kmeans__n_clusters=32; total time=   1.1s\n",
            "[CV] END ..............................kmeans__n_clusters=33; total time=   1.9s\n",
            "[CV] END ..............................kmeans__n_clusters=33; total time=   1.2s\n",
            "[CV] END ..............................kmeans__n_clusters=33; total time=   1.0s\n",
            "[CV] END ..............................kmeans__n_clusters=34; total time=   1.1s\n",
            "[CV] END ..............................kmeans__n_clusters=34; total time=   0.9s\n",
            "[CV] END ..............................kmeans__n_clusters=34; total time=   1.1s\n",
            "[CV] END ..............................kmeans__n_clusters=35; total time=   1.4s\n",
            "[CV] END ..............................kmeans__n_clusters=35; total time=   2.3s\n",
            "[CV] END ..............................kmeans__n_clusters=35; total time=   1.2s\n",
            "[CV] END ..............................kmeans__n_clusters=36; total time=   1.0s\n",
            "[CV] END ..............................kmeans__n_clusters=36; total time=   2.4s\n",
            "[CV] END ..............................kmeans__n_clusters=36; total time=   1.0s\n",
            "[CV] END ..............................kmeans__n_clusters=37; total time=   1.9s\n",
            "[CV] END ..............................kmeans__n_clusters=37; total time=   1.5s\n",
            "[CV] END ..............................kmeans__n_clusters=37; total time=   1.1s\n",
            "[CV] END ..............................kmeans__n_clusters=38; total time=   1.7s\n",
            "[CV] END ..............................kmeans__n_clusters=38; total time=   1.1s\n",
            "[CV] END ..............................kmeans__n_clusters=38; total time=   0.7s\n",
            "[CV] END ..............................kmeans__n_clusters=39; total time=   1.0s\n",
            "[CV] END ..............................kmeans__n_clusters=39; total time=   1.2s\n",
            "[CV] END ..............................kmeans__n_clusters=39; total time=   1.0s\n",
            "[CV] END ..............................kmeans__n_clusters=40; total time=   1.0s\n",
            "[CV] END ..............................kmeans__n_clusters=40; total time=   1.2s\n",
            "[CV] END ..............................kmeans__n_clusters=40; total time=   0.8s\n",
            "[CV] END ..............................kmeans__n_clusters=41; total time=   1.3s\n",
            "[CV] END ..............................kmeans__n_clusters=41; total time=   1.5s\n",
            "[CV] END ..............................kmeans__n_clusters=41; total time=   1.4s\n",
            "[CV] END ..............................kmeans__n_clusters=42; total time=   1.3s\n",
            "[CV] END ..............................kmeans__n_clusters=42; total time=   1.1s\n",
            "[CV] END ..............................kmeans__n_clusters=42; total time=   1.0s\n",
            "[CV] END ..............................kmeans__n_clusters=43; total time=   1.3s\n",
            "[CV] END ..............................kmeans__n_clusters=43; total time=   1.1s\n",
            "[CV] END ..............................kmeans__n_clusters=43; total time=   0.7s\n",
            "[CV] END ..............................kmeans__n_clusters=44; total time=   1.2s\n",
            "[CV] END ..............................kmeans__n_clusters=44; total time=   1.4s\n",
            "[CV] END ..............................kmeans__n_clusters=44; total time=   0.9s\n",
            "[CV] END ..............................kmeans__n_clusters=45; total time=   0.8s\n",
            "[CV] END ..............................kmeans__n_clusters=45; total time=   2.4s\n",
            "[CV] END ..............................kmeans__n_clusters=45; total time=   0.8s\n",
            "[CV] END ..............................kmeans__n_clusters=46; total time=   1.4s\n",
            "[CV] END ..............................kmeans__n_clusters=46; total time=   1.1s\n",
            "[CV] END ..............................kmeans__n_clusters=46; total time=   1.2s\n",
            "[CV] END ..............................kmeans__n_clusters=47; total time=   1.3s\n",
            "[CV] END ..............................kmeans__n_clusters=47; total time=   1.1s\n",
            "[CV] END ..............................kmeans__n_clusters=47; total time=   1.7s\n",
            "[CV] END ..............................kmeans__n_clusters=48; total time=   1.1s\n",
            "[CV] END ..............................kmeans__n_clusters=48; total time=   2.6s\n",
            "[CV] END ..............................kmeans__n_clusters=48; total time=   1.5s\n",
            "[CV] END ..............................kmeans__n_clusters=49; total time=   1.4s\n",
            "[CV] END ..............................kmeans__n_clusters=49; total time=   1.3s\n",
            "[CV] END ..............................kmeans__n_clusters=49; total time=   1.4s\n",
            "[CV] END ..............................kmeans__n_clusters=50; total time=   1.6s\n",
            "[CV] END ..............................kmeans__n_clusters=50; total time=   1.2s\n",
            "[CV] END ..............................kmeans__n_clusters=50; total time=   1.4s\n",
            "[CV] END ..............................kmeans__n_clusters=51; total time=   2.9s\n",
            "[CV] END ..............................kmeans__n_clusters=51; total time=   1.2s\n",
            "[CV] END ..............................kmeans__n_clusters=51; total time=   2.7s\n",
            "[CV] END ..............................kmeans__n_clusters=52; total time=   1.8s\n",
            "[CV] END ..............................kmeans__n_clusters=52; total time=   1.3s\n",
            "[CV] END ..............................kmeans__n_clusters=52; total time=   1.4s\n",
            "[CV] END ..............................kmeans__n_clusters=53; total time=   1.2s\n",
            "[CV] END ..............................kmeans__n_clusters=53; total time=   1.9s\n",
            "[CV] END ..............................kmeans__n_clusters=53; total time=   1.5s\n",
            "[CV] END ..............................kmeans__n_clusters=54; total time=   1.2s\n",
            "[CV] END ..............................kmeans__n_clusters=54; total time=   0.9s\n",
            "[CV] END ..............................kmeans__n_clusters=54; total time=   0.6s\n",
            "[CV] END ..............................kmeans__n_clusters=55; total time=   0.7s\n",
            "[CV] END ..............................kmeans__n_clusters=55; total time=   1.0s\n",
            "[CV] END ..............................kmeans__n_clusters=55; total time=   0.8s\n",
            "[CV] END ..............................kmeans__n_clusters=56; total time=   1.2s\n",
            "[CV] END ..............................kmeans__n_clusters=56; total time=   1.5s\n",
            "[CV] END ..............................kmeans__n_clusters=56; total time=   1.8s\n",
            "[CV] END ..............................kmeans__n_clusters=57; total time=   3.2s\n",
            "[CV] END ..............................kmeans__n_clusters=57; total time=   1.5s\n",
            "[CV] END ..............................kmeans__n_clusters=57; total time=   3.0s\n",
            "[CV] END ..............................kmeans__n_clusters=58; total time=   1.7s\n",
            "[CV] END ..............................kmeans__n_clusters=58; total time=   1.8s\n",
            "[CV] END ..............................kmeans__n_clusters=58; total time=   2.2s\n",
            "[CV] END ..............................kmeans__n_clusters=59; total time=   3.0s\n",
            "[CV] END ..............................kmeans__n_clusters=59; total time=   2.9s\n",
            "[CV] END ..............................kmeans__n_clusters=59; total time=   1.8s\n",
            "[CV] END ..............................kmeans__n_clusters=60; total time=   1.1s\n",
            "[CV] END ..............................kmeans__n_clusters=60; total time=   1.4s\n",
            "[CV] END ..............................kmeans__n_clusters=60; total time=   1.3s\n",
            "[CV] END ..............................kmeans__n_clusters=61; total time=   1.6s\n",
            "[CV] END ..............................kmeans__n_clusters=61; total time=   2.6s\n",
            "[CV] END ..............................kmeans__n_clusters=61; total time=   1.4s\n",
            "[CV] END ..............................kmeans__n_clusters=62; total time=   1.1s\n",
            "[CV] END ..............................kmeans__n_clusters=62; total time=   1.7s\n",
            "[CV] END ..............................kmeans__n_clusters=62; total time=   1.4s\n",
            "[CV] END ..............................kmeans__n_clusters=63; total time=   1.8s\n",
            "[CV] END ..............................kmeans__n_clusters=63; total time=   1.3s\n",
            "[CV] END ..............................kmeans__n_clusters=63; total time=   3.2s\n",
            "[CV] END ..............................kmeans__n_clusters=64; total time=   2.3s\n",
            "[CV] END ..............................kmeans__n_clusters=64; total time=   1.2s\n",
            "[CV] END ..............................kmeans__n_clusters=64; total time=   1.4s\n",
            "[CV] END ..............................kmeans__n_clusters=65; total time=   0.9s\n",
            "[CV] END ..............................kmeans__n_clusters=65; total time=   1.1s\n",
            "[CV] END ..............................kmeans__n_clusters=65; total time=   0.9s\n",
            "[CV] END ..............................kmeans__n_clusters=66; total time=   1.2s\n",
            "[CV] END ..............................kmeans__n_clusters=66; total time=   1.1s\n",
            "[CV] END ..............................kmeans__n_clusters=66; total time=   2.5s\n",
            "[CV] END ..............................kmeans__n_clusters=67; total time=   1.7s\n",
            "[CV] END ..............................kmeans__n_clusters=67; total time=   1.7s\n",
            "[CV] END ..............................kmeans__n_clusters=67; total time=   1.3s\n",
            "[CV] END ..............................kmeans__n_clusters=68; total time=   1.3s\n",
            "[CV] END ..............................kmeans__n_clusters=68; total time=   1.5s\n",
            "[CV] END ..............................kmeans__n_clusters=68; total time=   1.6s\n",
            "[CV] END ..............................kmeans__n_clusters=69; total time=   1.0s\n",
            "[CV] END ..............................kmeans__n_clusters=69; total time=   2.8s\n",
            "[CV] END ..............................kmeans__n_clusters=69; total time=   1.7s\n",
            "[CV] END ..............................kmeans__n_clusters=70; total time=   2.3s\n",
            "[CV] END ..............................kmeans__n_clusters=70; total time=   2.0s\n",
            "[CV] END ..............................kmeans__n_clusters=70; total time=   1.3s\n",
            "[CV] END ..............................kmeans__n_clusters=71; total time=   1.0s\n",
            "[CV] END ..............................kmeans__n_clusters=71; total time=   0.8s\n",
            "[CV] END ..............................kmeans__n_clusters=71; total time=   1.1s\n",
            "[CV] END ..............................kmeans__n_clusters=72; total time=   1.8s\n",
            "[CV] END ..............................kmeans__n_clusters=72; total time=   1.7s\n",
            "[CV] END ..............................kmeans__n_clusters=72; total time=   1.8s\n",
            "[CV] END ..............................kmeans__n_clusters=73; total time=   1.4s\n",
            "[CV] END ..............................kmeans__n_clusters=73; total time=   1.2s\n",
            "[CV] END ..............................kmeans__n_clusters=73; total time=   1.3s\n",
            "[CV] END ..............................kmeans__n_clusters=74; total time=   1.0s\n",
            "[CV] END ..............................kmeans__n_clusters=74; total time=   1.4s\n",
            "[CV] END ..............................kmeans__n_clusters=74; total time=   1.7s\n",
            "[CV] END ..............................kmeans__n_clusters=75; total time=   3.0s\n",
            "[CV] END ..............................kmeans__n_clusters=75; total time=   1.0s\n",
            "[CV] END ..............................kmeans__n_clusters=75; total time=   1.0s\n",
            "[CV] END ..............................kmeans__n_clusters=76; total time=   1.4s\n",
            "[CV] END ..............................kmeans__n_clusters=76; total time=   1.3s\n",
            "[CV] END ..............................kmeans__n_clusters=76; total time=   1.4s\n",
            "[CV] END ..............................kmeans__n_clusters=77; total time=   2.3s\n",
            "[CV] END ..............................kmeans__n_clusters=77; total time=   2.3s\n",
            "[CV] END ..............................kmeans__n_clusters=77; total time=   1.8s\n",
            "[CV] END ..............................kmeans__n_clusters=78; total time=   1.0s\n",
            "[CV] END ..............................kmeans__n_clusters=78; total time=   1.2s\n",
            "[CV] END ..............................kmeans__n_clusters=78; total time=   0.9s\n",
            "[CV] END ..............................kmeans__n_clusters=79; total time=   0.9s\n",
            "[CV] END ..............................kmeans__n_clusters=79; total time=   0.7s\n",
            "[CV] END ..............................kmeans__n_clusters=79; total time=   1.1s\n",
            "[CV] END ..............................kmeans__n_clusters=80; total time=   1.0s\n",
            "[CV] END ..............................kmeans__n_clusters=80; total time=   0.9s\n",
            "[CV] END ..............................kmeans__n_clusters=80; total time=   1.0s\n",
            "[CV] END ..............................kmeans__n_clusters=81; total time=   1.0s\n",
            "[CV] END ..............................kmeans__n_clusters=81; total time=   2.4s\n",
            "[CV] END ..............................kmeans__n_clusters=81; total time=   1.0s\n",
            "[CV] END ..............................kmeans__n_clusters=82; total time=   1.0s\n",
            "[CV] END ..............................kmeans__n_clusters=82; total time=   1.2s\n",
            "[CV] END ..............................kmeans__n_clusters=82; total time=   0.9s\n",
            "[CV] END ..............................kmeans__n_clusters=83; total time=   1.2s\n",
            "[CV] END ..............................kmeans__n_clusters=83; total time=   2.0s\n",
            "[CV] END ..............................kmeans__n_clusters=83; total time=   2.4s\n",
            "[CV] END ..............................kmeans__n_clusters=84; total time=   2.8s\n",
            "[CV] END ..............................kmeans__n_clusters=84; total time=   1.1s\n",
            "[CV] END ..............................kmeans__n_clusters=84; total time=   0.9s\n",
            "[CV] END ..............................kmeans__n_clusters=85; total time=   1.1s\n",
            "[CV] END ..............................kmeans__n_clusters=85; total time=   1.0s\n",
            "[CV] END ..............................kmeans__n_clusters=85; total time=   0.9s\n",
            "[CV] END ..............................kmeans__n_clusters=86; total time=   1.2s\n",
            "[CV] END ..............................kmeans__n_clusters=86; total time=   1.3s\n",
            "[CV] END ..............................kmeans__n_clusters=86; total time=   0.9s\n",
            "[CV] END ..............................kmeans__n_clusters=87; total time=   1.1s\n",
            "[CV] END ..............................kmeans__n_clusters=87; total time=   1.6s\n",
            "[CV] END ..............................kmeans__n_clusters=87; total time=   2.5s\n",
            "[CV] END ..............................kmeans__n_clusters=88; total time=   0.9s\n",
            "[CV] END ..............................kmeans__n_clusters=88; total time=   0.8s\n",
            "[CV] END ..............................kmeans__n_clusters=88; total time=   1.1s\n",
            "[CV] END ..............................kmeans__n_clusters=89; total time=   1.1s\n",
            "[CV] END ..............................kmeans__n_clusters=89; total time=   1.3s\n",
            "[CV] END ..............................kmeans__n_clusters=89; total time=   1.1s\n",
            "[CV] END ..............................kmeans__n_clusters=90; total time=   1.0s\n",
            "[CV] END ..............................kmeans__n_clusters=90; total time=   0.9s\n",
            "[CV] END ..............................kmeans__n_clusters=90; total time=   1.2s\n",
            "[CV] END ..............................kmeans__n_clusters=91; total time=   2.5s\n",
            "[CV] END ..............................kmeans__n_clusters=91; total time=   1.1s\n",
            "[CV] END ..............................kmeans__n_clusters=91; total time=   1.2s\n",
            "[CV] END ..............................kmeans__n_clusters=92; total time=   1.5s\n",
            "[CV] END ..............................kmeans__n_clusters=92; total time=   1.7s\n",
            "[CV] END ..............................kmeans__n_clusters=92; total time=   1.8s\n",
            "[CV] END ..............................kmeans__n_clusters=93; total time=   1.3s\n",
            "[CV] END ..............................kmeans__n_clusters=93; total time=   0.9s\n",
            "[CV] END ..............................kmeans__n_clusters=93; total time=   2.1s\n",
            "[CV] END ..............................kmeans__n_clusters=94; total time=   1.5s\n",
            "[CV] END ..............................kmeans__n_clusters=94; total time=   1.1s\n",
            "[CV] END ..............................kmeans__n_clusters=94; total time=   1.1s\n",
            "[CV] END ..............................kmeans__n_clusters=95; total time=   1.0s\n",
            "[CV] END ..............................kmeans__n_clusters=95; total time=   1.1s\n",
            "[CV] END ..............................kmeans__n_clusters=95; total time=   1.0s\n",
            "[CV] END ..............................kmeans__n_clusters=96; total time=   1.2s\n",
            "[CV] END ..............................kmeans__n_clusters=96; total time=   0.9s\n",
            "[CV] END ..............................kmeans__n_clusters=96; total time=   1.3s\n",
            "[CV] END ..............................kmeans__n_clusters=97; total time=   1.0s\n",
            "[CV] END ..............................kmeans__n_clusters=97; total time=   2.5s\n",
            "[CV] END ..............................kmeans__n_clusters=97; total time=   1.0s\n",
            "[CV] END ..............................kmeans__n_clusters=98; total time=   1.1s\n",
            "[CV] END ..............................kmeans__n_clusters=98; total time=   0.9s\n",
            "[CV] END ..............................kmeans__n_clusters=98; total time=   1.1s\n",
            "[CV] END ..............................kmeans__n_clusters=99; total time=   0.9s\n",
            "[CV] END ..............................kmeans__n_clusters=99; total time=   0.9s\n",
            "[CV] END ..............................kmeans__n_clusters=99; total time=   0.8s\n"
          ]
        },
        {
          "output_type": "execute_result",
          "data": {
            "text/plain": [
              "GridSearchCV(cv=3,\n",
              "             estimator=Pipeline(steps=[('kmeans', KMeans(n_clusters=50)),\n",
              "                                       ('log_reg', LogisticRegression())]),\n",
              "             param_grid={'kmeans__n_clusters': range(2, 100)}, verbose=2)"
            ],
            "text/html": [
              "<style>#sk-container-id-5 {color: black;background-color: white;}#sk-container-id-5 pre{padding: 0;}#sk-container-id-5 div.sk-toggleable {background-color: white;}#sk-container-id-5 label.sk-toggleable__label {cursor: pointer;display: block;width: 100%;margin-bottom: 0;padding: 0.3em;box-sizing: border-box;text-align: center;}#sk-container-id-5 label.sk-toggleable__label-arrow:before {content: \"▸\";float: left;margin-right: 0.25em;color: #696969;}#sk-container-id-5 label.sk-toggleable__label-arrow:hover:before {color: black;}#sk-container-id-5 div.sk-estimator:hover label.sk-toggleable__label-arrow:before {color: black;}#sk-container-id-5 div.sk-toggleable__content {max-height: 0;max-width: 0;overflow: hidden;text-align: left;background-color: #f0f8ff;}#sk-container-id-5 div.sk-toggleable__content pre {margin: 0.2em;color: black;border-radius: 0.25em;background-color: #f0f8ff;}#sk-container-id-5 input.sk-toggleable__control:checked~div.sk-toggleable__content {max-height: 200px;max-width: 100%;overflow: auto;}#sk-container-id-5 input.sk-toggleable__control:checked~label.sk-toggleable__label-arrow:before {content: \"▾\";}#sk-container-id-5 div.sk-estimator input.sk-toggleable__control:checked~label.sk-toggleable__label {background-color: #d4ebff;}#sk-container-id-5 div.sk-label input.sk-toggleable__control:checked~label.sk-toggleable__label {background-color: #d4ebff;}#sk-container-id-5 input.sk-hidden--visually {border: 0;clip: rect(1px 1px 1px 1px);clip: rect(1px, 1px, 1px, 1px);height: 1px;margin: -1px;overflow: hidden;padding: 0;position: absolute;width: 1px;}#sk-container-id-5 div.sk-estimator {font-family: monospace;background-color: #f0f8ff;border: 1px dotted black;border-radius: 0.25em;box-sizing: border-box;margin-bottom: 0.5em;}#sk-container-id-5 div.sk-estimator:hover {background-color: #d4ebff;}#sk-container-id-5 div.sk-parallel-item::after {content: \"\";width: 100%;border-bottom: 1px solid gray;flex-grow: 1;}#sk-container-id-5 div.sk-label:hover label.sk-toggleable__label {background-color: #d4ebff;}#sk-container-id-5 div.sk-serial::before {content: \"\";position: absolute;border-left: 1px solid gray;box-sizing: border-box;top: 0;bottom: 0;left: 50%;z-index: 0;}#sk-container-id-5 div.sk-serial {display: flex;flex-direction: column;align-items: center;background-color: white;padding-right: 0.2em;padding-left: 0.2em;position: relative;}#sk-container-id-5 div.sk-item {position: relative;z-index: 1;}#sk-container-id-5 div.sk-parallel {display: flex;align-items: stretch;justify-content: center;background-color: white;position: relative;}#sk-container-id-5 div.sk-item::before, #sk-container-id-5 div.sk-parallel-item::before {content: \"\";position: absolute;border-left: 1px solid gray;box-sizing: border-box;top: 0;bottom: 0;left: 50%;z-index: -1;}#sk-container-id-5 div.sk-parallel-item {display: flex;flex-direction: column;z-index: 1;position: relative;background-color: white;}#sk-container-id-5 div.sk-parallel-item:first-child::after {align-self: flex-end;width: 50%;}#sk-container-id-5 div.sk-parallel-item:last-child::after {align-self: flex-start;width: 50%;}#sk-container-id-5 div.sk-parallel-item:only-child::after {width: 0;}#sk-container-id-5 div.sk-dashed-wrapped {border: 1px dashed gray;margin: 0 0.4em 0.5em 0.4em;box-sizing: border-box;padding-bottom: 0.4em;background-color: white;}#sk-container-id-5 div.sk-label label {font-family: monospace;font-weight: bold;display: inline-block;line-height: 1.2em;}#sk-container-id-5 div.sk-label-container {text-align: center;}#sk-container-id-5 div.sk-container {/* jupyter's `normalize.less` sets `[hidden] { display: none; }` but bootstrap.min.css set `[hidden] { display: none !important; }` so we also need the `!important` here to be able to override the default hidden behavior on the sphinx rendered scikit-learn.org. See: https://github.com/scikit-learn/scikit-learn/issues/21755 */display: inline-block !important;position: relative;}#sk-container-id-5 div.sk-text-repr-fallback {display: none;}</style><div id=\"sk-container-id-5\" class=\"sk-top-container\"><div class=\"sk-text-repr-fallback\"><pre>GridSearchCV(cv=3,\n",
              "             estimator=Pipeline(steps=[(&#x27;kmeans&#x27;, KMeans(n_clusters=50)),\n",
              "                                       (&#x27;log_reg&#x27;, LogisticRegression())]),\n",
              "             param_grid={&#x27;kmeans__n_clusters&#x27;: range(2, 100)}, verbose=2)</pre><b>In a Jupyter environment, please rerun this cell to show the HTML representation or trust the notebook. <br />On GitHub, the HTML representation is unable to render, please try loading this page with nbviewer.org.</b></div><div class=\"sk-container\" hidden><div class=\"sk-item sk-dashed-wrapped\"><div class=\"sk-label-container\"><div class=\"sk-label sk-toggleable\"><input class=\"sk-toggleable__control sk-hidden--visually\" id=\"sk-estimator-id-7\" type=\"checkbox\" ><label for=\"sk-estimator-id-7\" class=\"sk-toggleable__label sk-toggleable__label-arrow\">GridSearchCV</label><div class=\"sk-toggleable__content\"><pre>GridSearchCV(cv=3,\n",
              "             estimator=Pipeline(steps=[(&#x27;kmeans&#x27;, KMeans(n_clusters=50)),\n",
              "                                       (&#x27;log_reg&#x27;, LogisticRegression())]),\n",
              "             param_grid={&#x27;kmeans__n_clusters&#x27;: range(2, 100)}, verbose=2)</pre></div></div></div><div class=\"sk-parallel\"><div class=\"sk-parallel-item\"><div class=\"sk-item\"><div class=\"sk-label-container\"><div class=\"sk-label sk-toggleable\"><input class=\"sk-toggleable__control sk-hidden--visually\" id=\"sk-estimator-id-8\" type=\"checkbox\" ><label for=\"sk-estimator-id-8\" class=\"sk-toggleable__label sk-toggleable__label-arrow\">estimator: Pipeline</label><div class=\"sk-toggleable__content\"><pre>Pipeline(steps=[(&#x27;kmeans&#x27;, KMeans(n_clusters=50)),\n",
              "                (&#x27;log_reg&#x27;, LogisticRegression())])</pre></div></div></div><div class=\"sk-serial\"><div class=\"sk-item\"><div class=\"sk-serial\"><div class=\"sk-item\"><div class=\"sk-estimator sk-toggleable\"><input class=\"sk-toggleable__control sk-hidden--visually\" id=\"sk-estimator-id-9\" type=\"checkbox\" ><label for=\"sk-estimator-id-9\" class=\"sk-toggleable__label sk-toggleable__label-arrow\">KMeans</label><div class=\"sk-toggleable__content\"><pre>KMeans(n_clusters=50)</pre></div></div></div><div class=\"sk-item\"><div class=\"sk-estimator sk-toggleable\"><input class=\"sk-toggleable__control sk-hidden--visually\" id=\"sk-estimator-id-10\" type=\"checkbox\" ><label for=\"sk-estimator-id-10\" class=\"sk-toggleable__label sk-toggleable__label-arrow\">LogisticRegression</label><div class=\"sk-toggleable__content\"><pre>LogisticRegression()</pre></div></div></div></div></div></div></div></div></div></div></div></div>"
            ]
          },
          "metadata": {},
          "execution_count": 40
        }
      ]
    },
    {
      "cell_type": "code",
      "source": [
        "grid_clf.best_params_\n",
        "grid_clf.score(X_test, y_test)"
      ],
      "metadata": {
        "colab": {
          "base_uri": "https://localhost:8080/"
        },
        "id": "LP7QEvNI7kZj",
        "outputId": "e535e252-49bc-4c61-f68d-addd0c7785a1"
      },
      "execution_count": 41,
      "outputs": [
        {
          "output_type": "execute_result",
          "data": {
            "text/plain": [
              "0.96"
            ]
          },
          "metadata": {},
          "execution_count": 41
        }
      ]
    },
    {
      "cell_type": "markdown",
      "source": [
        "### 9.1.5 군집을 사용한 준지도 학습\n",
        "* 레이블 없는 데이터 많을 때 사용"
      ],
      "metadata": {
        "id": "vNczG7NkGRjA"
      }
    },
    {
      "cell_type": "code",
      "source": [
        "# 레이블된 50개 샘플에 로지스틱 회귀 모델\n",
        "n_labeled = 50\n",
        "log_reg = LogisticRegression()\n",
        "log_reg.fit(X_train[:n_labeled],y_train[:n_labeled])"
      ],
      "metadata": {
        "colab": {
          "base_uri": "https://localhost:8080/",
          "height": 74
        },
        "id": "l6hJjrrH7tY9",
        "outputId": "bb568e0c-065c-41d5-e9b8-7fc24c5781d9"
      },
      "execution_count": 42,
      "outputs": [
        {
          "output_type": "execute_result",
          "data": {
            "text/plain": [
              "LogisticRegression()"
            ],
            "text/html": [
              "<style>#sk-container-id-6 {color: black;background-color: white;}#sk-container-id-6 pre{padding: 0;}#sk-container-id-6 div.sk-toggleable {background-color: white;}#sk-container-id-6 label.sk-toggleable__label {cursor: pointer;display: block;width: 100%;margin-bottom: 0;padding: 0.3em;box-sizing: border-box;text-align: center;}#sk-container-id-6 label.sk-toggleable__label-arrow:before {content: \"▸\";float: left;margin-right: 0.25em;color: #696969;}#sk-container-id-6 label.sk-toggleable__label-arrow:hover:before {color: black;}#sk-container-id-6 div.sk-estimator:hover label.sk-toggleable__label-arrow:before {color: black;}#sk-container-id-6 div.sk-toggleable__content {max-height: 0;max-width: 0;overflow: hidden;text-align: left;background-color: #f0f8ff;}#sk-container-id-6 div.sk-toggleable__content pre {margin: 0.2em;color: black;border-radius: 0.25em;background-color: #f0f8ff;}#sk-container-id-6 input.sk-toggleable__control:checked~div.sk-toggleable__content {max-height: 200px;max-width: 100%;overflow: auto;}#sk-container-id-6 input.sk-toggleable__control:checked~label.sk-toggleable__label-arrow:before {content: \"▾\";}#sk-container-id-6 div.sk-estimator input.sk-toggleable__control:checked~label.sk-toggleable__label {background-color: #d4ebff;}#sk-container-id-6 div.sk-label input.sk-toggleable__control:checked~label.sk-toggleable__label {background-color: #d4ebff;}#sk-container-id-6 input.sk-hidden--visually {border: 0;clip: rect(1px 1px 1px 1px);clip: rect(1px, 1px, 1px, 1px);height: 1px;margin: -1px;overflow: hidden;padding: 0;position: absolute;width: 1px;}#sk-container-id-6 div.sk-estimator {font-family: monospace;background-color: #f0f8ff;border: 1px dotted black;border-radius: 0.25em;box-sizing: border-box;margin-bottom: 0.5em;}#sk-container-id-6 div.sk-estimator:hover {background-color: #d4ebff;}#sk-container-id-6 div.sk-parallel-item::after {content: \"\";width: 100%;border-bottom: 1px solid gray;flex-grow: 1;}#sk-container-id-6 div.sk-label:hover label.sk-toggleable__label {background-color: #d4ebff;}#sk-container-id-6 div.sk-serial::before {content: \"\";position: absolute;border-left: 1px solid gray;box-sizing: border-box;top: 0;bottom: 0;left: 50%;z-index: 0;}#sk-container-id-6 div.sk-serial {display: flex;flex-direction: column;align-items: center;background-color: white;padding-right: 0.2em;padding-left: 0.2em;position: relative;}#sk-container-id-6 div.sk-item {position: relative;z-index: 1;}#sk-container-id-6 div.sk-parallel {display: flex;align-items: stretch;justify-content: center;background-color: white;position: relative;}#sk-container-id-6 div.sk-item::before, #sk-container-id-6 div.sk-parallel-item::before {content: \"\";position: absolute;border-left: 1px solid gray;box-sizing: border-box;top: 0;bottom: 0;left: 50%;z-index: -1;}#sk-container-id-6 div.sk-parallel-item {display: flex;flex-direction: column;z-index: 1;position: relative;background-color: white;}#sk-container-id-6 div.sk-parallel-item:first-child::after {align-self: flex-end;width: 50%;}#sk-container-id-6 div.sk-parallel-item:last-child::after {align-self: flex-start;width: 50%;}#sk-container-id-6 div.sk-parallel-item:only-child::after {width: 0;}#sk-container-id-6 div.sk-dashed-wrapped {border: 1px dashed gray;margin: 0 0.4em 0.5em 0.4em;box-sizing: border-box;padding-bottom: 0.4em;background-color: white;}#sk-container-id-6 div.sk-label label {font-family: monospace;font-weight: bold;display: inline-block;line-height: 1.2em;}#sk-container-id-6 div.sk-label-container {text-align: center;}#sk-container-id-6 div.sk-container {/* jupyter's `normalize.less` sets `[hidden] { display: none; }` but bootstrap.min.css set `[hidden] { display: none !important; }` so we also need the `!important` here to be able to override the default hidden behavior on the sphinx rendered scikit-learn.org. See: https://github.com/scikit-learn/scikit-learn/issues/21755 */display: inline-block !important;position: relative;}#sk-container-id-6 div.sk-text-repr-fallback {display: none;}</style><div id=\"sk-container-id-6\" class=\"sk-top-container\"><div class=\"sk-text-repr-fallback\"><pre>LogisticRegression()</pre><b>In a Jupyter environment, please rerun this cell to show the HTML representation or trust the notebook. <br />On GitHub, the HTML representation is unable to render, please try loading this page with nbviewer.org.</b></div><div class=\"sk-container\" hidden><div class=\"sk-item\"><div class=\"sk-estimator sk-toggleable\"><input class=\"sk-toggleable__control sk-hidden--visually\" id=\"sk-estimator-id-11\" type=\"checkbox\" checked><label for=\"sk-estimator-id-11\" class=\"sk-toggleable__label sk-toggleable__label-arrow\">LogisticRegression</label><div class=\"sk-toggleable__content\"><pre>LogisticRegression()</pre></div></div></div></div></div>"
            ]
          },
          "metadata": {},
          "execution_count": 42
        }
      ]
    },
    {
      "cell_type": "code",
      "source": [
        "log_reg.score(X_test, y_test)"
      ],
      "metadata": {
        "colab": {
          "base_uri": "https://localhost:8080/"
        },
        "id": "WAL4hQzm7uSA",
        "outputId": "4dde5dfa-725f-4392-ff29-fbf92bce4c3b"
      },
      "execution_count": 43,
      "outputs": [
        {
          "output_type": "execute_result",
          "data": {
            "text/plain": [
              "0.8177777777777778"
            ]
          },
          "metadata": {},
          "execution_count": 43
        }
      ]
    },
    {
      "cell_type": "markdown",
      "source": [
        "> 각 클러스터에서 센트로이드에 가장 가까운 이미지 찾음-> 대표 이미지"
      ],
      "metadata": {
        "id": "j_Agdl6tGoLA"
      }
    },
    {
      "cell_type": "code",
      "source": [
        "k=50\n",
        "kmeans = KMeans(n_clusters=k)\n",
        "X_digits_dist = kmeans.fit_transform(X_train)\n",
        "representative_digit_idx = np.argmin(X_digits_dist, axis=0)\n",
        "X_representative_digits = X_train[representative_digit_idx]"
      ],
      "metadata": {
        "id": "shy3ES4P7vSF"
      },
      "execution_count": 44,
      "outputs": []
    },
    {
      "cell_type": "code",
      "source": [
        "y_train[representative_digit_idx]"
      ],
      "metadata": {
        "colab": {
          "base_uri": "https://localhost:8080/"
        },
        "id": "lrkgGrFR7wYf",
        "outputId": "b227c769-eb90-4aec-9950-610a33b35e8b"
      },
      "execution_count": 45,
      "outputs": [
        {
          "output_type": "execute_result",
          "data": {
            "text/plain": [
              "array([6, 5, 7, 9, 0, 1, 4, 2, 8, 3, 4, 9, 9, 1, 6, 5, 5, 1, 1, 8, 1, 7,\n",
              "       3, 0, 8, 3, 6, 9, 3, 8, 2, 4, 7, 7, 0, 4, 7, 6, 7, 2, 2, 5, 4, 3,\n",
              "       0, 1, 8, 5, 2, 7])"
            ]
          },
          "metadata": {},
          "execution_count": 45
        }
      ]
    },
    {
      "cell_type": "code",
      "source": [
        "y_representative_digits = np.array([6, 5, 7, 9, 0, 1, 4, 2, 8, 3, 4, 9, 9, 1, 6, 5, 5, 1, 1, 8, 1, 7,\n",
        "       3, 0, 8, 3, 6, 9, 3, 8, 2, 4, 7, 7, 0, 4, 7, 6, 7, 2, 2, 5, 4, 3,\n",
        "       0, 1, 8, 5, 2, 7])"
      ],
      "metadata": {
        "id": "0_hr7a-r7wV0"
      },
      "execution_count": 49,
      "outputs": []
    },
    {
      "cell_type": "code",
      "source": [
        "log_reg = LogisticRegression()\n",
        "log_reg.fit(X_representative_digits, y_representative_digits)\n",
        "log_reg.score(X_test, y_test)"
      ],
      "metadata": {
        "colab": {
          "base_uri": "https://localhost:8080/"
        },
        "id": "m6qB92Rp7wTn",
        "outputId": "50ec25fc-cd76-4d93-c0dc-498fa0418b50"
      },
      "execution_count": 50,
      "outputs": [
        {
          "output_type": "execute_result",
          "data": {
            "text/plain": [
              "0.8888888888888888"
            ]
          },
          "metadata": {},
          "execution_count": 50
        }
      ]
    },
    {
      "cell_type": "markdown",
      "source": [
        "> 성능 높아짐"
      ],
      "metadata": {
        "id": "JcsQbGs3G0xj"
      }
    },
    {
      "cell_type": "code",
      "source": [
        "# 레이블 전파: 레이블을 동일한 클러스터에 있는 모든 샘플로 전파\n",
        "y_train_propagated = np.empty(len(X_train),dtype=np.int32)\n",
        "for i in range(k):\n",
        "  y_train_propagated[kmeans.labels_==i] = y_representative_digits[i]"
      ],
      "metadata": {
        "id": "3MesvDcJ7wQV"
      },
      "execution_count": 51,
      "outputs": []
    },
    {
      "cell_type": "code",
      "source": [
        "log_reg = LogisticRegression()\n",
        "log_reg.fit(X_train, y_train_propagated)\n",
        "log_reg.score(X_test,y_test)"
      ],
      "metadata": {
        "colab": {
          "base_uri": "https://localhost:8080/"
        },
        "id": "eUFQSNDP70Fm",
        "outputId": "10921cb1-8aff-4006-aeae-82bbec138633"
      },
      "execution_count": 52,
      "outputs": [
        {
          "output_type": "execute_result",
          "data": {
            "text/plain": [
              "0.9133333333333333"
            ]
          },
          "metadata": {},
          "execution_count": 52
        }
      ]
    },
    {
      "cell_type": "markdown",
      "source": [
        "센트로이드와 가까운 샘플의 20%에만 레이블 전파해보기"
      ],
      "metadata": {
        "id": "slbxQq78G_6p"
      }
    },
    {
      "cell_type": "code",
      "source": [
        "percentile_closest = 20\n",
        "X_cluster_dist = X_digits_dist[np.arange(len(X_train)), kmeans.labels_]\n",
        "for i in range(k):\n",
        "  in_cluster = (kmeans.labels_ == i)\n",
        "  cluster_dist = X_cluster_dist[in_cluster]\n",
        "  cutoff_distance = np.percentile(cluster_dist, percentile_closest)\n",
        "  above_cutoff = (X_cluster_dist > cutoff_distance)\n",
        "  X_cluster_dist[in_cluster & above_cutoff] = -1\n",
        "\n",
        "partially_propagated = (X_cluster_dist != -1)\n",
        "X_train_partially_propagated = X_train[partially_propagated]\n",
        "y_train_partially_propagated = y_train_propagated[partially_propagated]"
      ],
      "metadata": {
        "id": "YDbFmXjf71KI"
      },
      "execution_count": 53,
      "outputs": []
    },
    {
      "cell_type": "code",
      "source": [
        "log_reg = LogisticRegression()\n",
        "log_reg.fit(X_train_partially_propagated, y_train_partially_propagated)\n",
        "log_reg.score(X_test,y_test)"
      ],
      "metadata": {
        "colab": {
          "base_uri": "https://localhost:8080/"
        },
        "id": "CpAnvzwZ72Lj",
        "outputId": "f7bceb9b-8896-4117-e607-3e024d15715e"
      },
      "execution_count": 54,
      "outputs": [
        {
          "output_type": "execute_result",
          "data": {
            "text/plain": [
              "0.9"
            ]
          },
          "metadata": {},
          "execution_count": 54
        }
      ]
    },
    {
      "cell_type": "code",
      "source": [
        "np.mean(y_train_partially_propagated==y_train[partially_propagated])"
      ],
      "metadata": {
        "colab": {
          "base_uri": "https://localhost:8080/"
        },
        "id": "aHsKAKd573F8",
        "outputId": "0293eee1-84b2-42ab-9c27-15a56fbe7c20"
      },
      "execution_count": 55,
      "outputs": [
        {
          "output_type": "execute_result",
          "data": {
            "text/plain": [
              "0.986013986013986"
            ]
          },
          "metadata": {},
          "execution_count": 55
        }
      ]
    },
    {
      "cell_type": "markdown",
      "source": [
        "### 9.1.6 DBSCAN\n",
        "* 밀집된 연속적 지역을 클러스터로 정의"
      ],
      "metadata": {
        "id": "2AE6IaMMHG9j"
      }
    },
    {
      "cell_type": "code",
      "source": [
        "from sklearn.cluster import DBSCAN\n",
        "from sklearn.datasets import make_moons\n",
        "\n",
        "X,y = make_moons(n_samples=1000, noise=0.05)\n",
        "dbscan = DBSCAN(eps=0.05, min_samples=5)\n",
        "dbscan.fit(X)"
      ],
      "metadata": {
        "colab": {
          "base_uri": "https://localhost:8080/",
          "height": 74
        },
        "id": "sNCbwCZt74Am",
        "outputId": "784d1439-27b6-4f34-e4cf-12dbea2e6c18"
      },
      "execution_count": 56,
      "outputs": [
        {
          "output_type": "execute_result",
          "data": {
            "text/plain": [
              "DBSCAN(eps=0.05)"
            ],
            "text/html": [
              "<style>#sk-container-id-7 {color: black;background-color: white;}#sk-container-id-7 pre{padding: 0;}#sk-container-id-7 div.sk-toggleable {background-color: white;}#sk-container-id-7 label.sk-toggleable__label {cursor: pointer;display: block;width: 100%;margin-bottom: 0;padding: 0.3em;box-sizing: border-box;text-align: center;}#sk-container-id-7 label.sk-toggleable__label-arrow:before {content: \"▸\";float: left;margin-right: 0.25em;color: #696969;}#sk-container-id-7 label.sk-toggleable__label-arrow:hover:before {color: black;}#sk-container-id-7 div.sk-estimator:hover label.sk-toggleable__label-arrow:before {color: black;}#sk-container-id-7 div.sk-toggleable__content {max-height: 0;max-width: 0;overflow: hidden;text-align: left;background-color: #f0f8ff;}#sk-container-id-7 div.sk-toggleable__content pre {margin: 0.2em;color: black;border-radius: 0.25em;background-color: #f0f8ff;}#sk-container-id-7 input.sk-toggleable__control:checked~div.sk-toggleable__content {max-height: 200px;max-width: 100%;overflow: auto;}#sk-container-id-7 input.sk-toggleable__control:checked~label.sk-toggleable__label-arrow:before {content: \"▾\";}#sk-container-id-7 div.sk-estimator input.sk-toggleable__control:checked~label.sk-toggleable__label {background-color: #d4ebff;}#sk-container-id-7 div.sk-label input.sk-toggleable__control:checked~label.sk-toggleable__label {background-color: #d4ebff;}#sk-container-id-7 input.sk-hidden--visually {border: 0;clip: rect(1px 1px 1px 1px);clip: rect(1px, 1px, 1px, 1px);height: 1px;margin: -1px;overflow: hidden;padding: 0;position: absolute;width: 1px;}#sk-container-id-7 div.sk-estimator {font-family: monospace;background-color: #f0f8ff;border: 1px dotted black;border-radius: 0.25em;box-sizing: border-box;margin-bottom: 0.5em;}#sk-container-id-7 div.sk-estimator:hover {background-color: #d4ebff;}#sk-container-id-7 div.sk-parallel-item::after {content: \"\";width: 100%;border-bottom: 1px solid gray;flex-grow: 1;}#sk-container-id-7 div.sk-label:hover label.sk-toggleable__label {background-color: #d4ebff;}#sk-container-id-7 div.sk-serial::before {content: \"\";position: absolute;border-left: 1px solid gray;box-sizing: border-box;top: 0;bottom: 0;left: 50%;z-index: 0;}#sk-container-id-7 div.sk-serial {display: flex;flex-direction: column;align-items: center;background-color: white;padding-right: 0.2em;padding-left: 0.2em;position: relative;}#sk-container-id-7 div.sk-item {position: relative;z-index: 1;}#sk-container-id-7 div.sk-parallel {display: flex;align-items: stretch;justify-content: center;background-color: white;position: relative;}#sk-container-id-7 div.sk-item::before, #sk-container-id-7 div.sk-parallel-item::before {content: \"\";position: absolute;border-left: 1px solid gray;box-sizing: border-box;top: 0;bottom: 0;left: 50%;z-index: -1;}#sk-container-id-7 div.sk-parallel-item {display: flex;flex-direction: column;z-index: 1;position: relative;background-color: white;}#sk-container-id-7 div.sk-parallel-item:first-child::after {align-self: flex-end;width: 50%;}#sk-container-id-7 div.sk-parallel-item:last-child::after {align-self: flex-start;width: 50%;}#sk-container-id-7 div.sk-parallel-item:only-child::after {width: 0;}#sk-container-id-7 div.sk-dashed-wrapped {border: 1px dashed gray;margin: 0 0.4em 0.5em 0.4em;box-sizing: border-box;padding-bottom: 0.4em;background-color: white;}#sk-container-id-7 div.sk-label label {font-family: monospace;font-weight: bold;display: inline-block;line-height: 1.2em;}#sk-container-id-7 div.sk-label-container {text-align: center;}#sk-container-id-7 div.sk-container {/* jupyter's `normalize.less` sets `[hidden] { display: none; }` but bootstrap.min.css set `[hidden] { display: none !important; }` so we also need the `!important` here to be able to override the default hidden behavior on the sphinx rendered scikit-learn.org. See: https://github.com/scikit-learn/scikit-learn/issues/21755 */display: inline-block !important;position: relative;}#sk-container-id-7 div.sk-text-repr-fallback {display: none;}</style><div id=\"sk-container-id-7\" class=\"sk-top-container\"><div class=\"sk-text-repr-fallback\"><pre>DBSCAN(eps=0.05)</pre><b>In a Jupyter environment, please rerun this cell to show the HTML representation or trust the notebook. <br />On GitHub, the HTML representation is unable to render, please try loading this page with nbviewer.org.</b></div><div class=\"sk-container\" hidden><div class=\"sk-item\"><div class=\"sk-estimator sk-toggleable\"><input class=\"sk-toggleable__control sk-hidden--visually\" id=\"sk-estimator-id-12\" type=\"checkbox\" checked><label for=\"sk-estimator-id-12\" class=\"sk-toggleable__label sk-toggleable__label-arrow\">DBSCAN</label><div class=\"sk-toggleable__content\"><pre>DBSCAN(eps=0.05)</pre></div></div></div></div></div>"
            ]
          },
          "metadata": {},
          "execution_count": 56
        }
      ]
    },
    {
      "cell_type": "code",
      "source": [
        "dbscan.labels_"
      ],
      "metadata": {
        "colab": {
          "base_uri": "https://localhost:8080/"
        },
        "id": "dx6hEd7E75PU",
        "outputId": "c2dde327-ded2-43de-8214-d75c86595ff0"
      },
      "execution_count": 57,
      "outputs": [
        {
          "output_type": "execute_result",
          "data": {
            "text/plain": [
              "array([-1,  0,  5,  1,  2,  0,  3,  4,  3,  0,  0,  5,  4,  3,  5,  2,  6,\n",
              "        3,  0,  6,  3,  5,  2,  5,  4,  1,  7,  4,  3,  8,  2,  8, -1,  8,\n",
              "        2,  8,  4, -1,  8,  7,  3,  6,  2,  1,  2,  3,  2,  5,  0,  9,  4,\n",
              "        5,  8, 10,  8,  0,  2, -1,  9,  3,  2, 10,  9, -1,  9,  3,  8, 10,\n",
              "        3,  5,  0,  3,  8, -1,  4,  0,  7,  3,  5,  4,  9,  3,  6,  4,  3,\n",
              "        0,  6,  6,  5,  3,  0,  3,  8,  2,  1,  3,  5,  0,  0,  3,  5,  3,\n",
              "        2,  6,  4,  4, 10,  0,  2,  6,  2,  9,  2,  0,  2,  3,  3,  1,  0,\n",
              "       11,  8,  5,  5,  0,  5,  3,  2,  0,  8,  9,  3,  3,  2,  2,  6,  0,\n",
              "        4,  4,  2,  8,  3,  8,  3,  4, 10, 11,  5,  0, -1,  3,  5,  4,  7,\n",
              "        5,  2, 10,  3, -1,  0,  8,  7, -1,  5,  2,  3, -1,  0,  6, -1,  0,\n",
              "        4,  3,  1,  3, -1,  2,  3,  3,  2,  7,  5, -1,  2,  3, -1,  8,  0,\n",
              "        2,  8,  8, -1,  7,  8,  9, -1,  3,  3,  6,  3,  1,  3,  4,  4,  3,\n",
              "        9,  2, -1, -1, -1,  4,  1,  3,  2,  8,  3,  8,  2,  8,  6,  4,  4,\n",
              "        2,  0,  5,  3,  8,  5,  0,  8,  3,  2,  7,  8,  7,  4,  8,  1,  8,\n",
              "        3,  2,  0, -1,  3,  0,  2, -1,  5,  3,  3,  5,  0,  4,  4,  8,  9,\n",
              "        5,  2,  3,  8,  2,  3,  2,  3,  2,  8,  4,  4,  4,  3,  5,  3, -1,\n",
              "        2,  3,  4,  7, -1,  7,  5,  3,  0,  0,  0,  9,  3,  5,  3,  3,  0,\n",
              "        9,  1,  3,  5, -1, -1,  8,  2,  1,  8,  3,  2, -1,  7, 10,  2,  2,\n",
              "        1,  3,  3,  5, -1,  5,  5, 11,  8,  6,  3,  2,  7,  0,  7, -1,  2,\n",
              "        5,  0,  5,  5,  5,  8,  1,  5,  4,  9,  2,  6,  8,  0, -1,  8,  3,\n",
              "        8,  2,  0, 10,  8,  5,  5,  0,  3,  4,  6,  4,  3,  4,  0,  7,  9,\n",
              "        3,  9,  0,  9,  7,  4,  8,  8, -1,  5,  0,  0, 10,  3,  4,  2,  0,\n",
              "        9,  5, 12,  0,  6,  0,  0,  0,  8,  8,  5,  9,  8,  1,  3,  2,  3,\n",
              "        2,  8,  2,  0,  9,  0,  7, -1,  6,  3,  1,  6,  3,  2, -1,  3,  8,\n",
              "        2,  0,  5,  7, 10,  7,  3,  5,  9,  4,  0,  3,  4,  7,  3,  9,  2,\n",
              "        2,  3,  3,  5,  3,  2,  1,  1,  6,  4,  0,  4,  1,  3,  3,  8,  0,\n",
              "        2,  8,  0,  1,  2,  3, -1,  4,  6,  8,  9,  3,  9,  9, -1,  8,  7,\n",
              "        5,  9,  9,  6,  5,  1, 10,  7,  2,  8, -1,  2,  8,  3,  3,  3,  5,\n",
              "        0,  3,  5,  5,  6, -1,  2,  3,  3,  3,  4,  4,  9,  8,  2,  2, -1,\n",
              "        7,  3,  2,  3,  5,  0,  5,  0,  3,  3,  9,  8,  9,  5, 10,  6,  8,\n",
              "        3,  5,  4,  6, -1,  8,  3,  4,  3,  3,  8, 10,  5,  0,  2,  9,  8,\n",
              "       -1,  5,  7,  2,  2,  5,  4,  2, 10,  2,  5, -1,  6,  0,  3, 10, 10,\n",
              "        5,  2,  8,  2,  2,  9,  3,  8,  8,  0,  3,  0,  8,  0,  0,  8,  9,\n",
              "        5, -1,  8,  2,  5, -1,  5,  8,  4,  5,  5,  3,  0, 10, 10,  9,  8,\n",
              "        8,  0,  4,  3,  2,  4,  7,  2, -1,  6,  2,  8,  3,  7,  2,  8,  1,\n",
              "        0,  8,  0,  3,  3,  5,  7,  5,  5,  7,  5, 10,  3,  2, 11,  3,  5,\n",
              "        6, -1,  0,  4, 10,  8,  4,  0,  1,  8,  1,  0,  3,  5,  3,  2,  3,\n",
              "        3,  9, -1,  3,  6,  8,  8,  3,  5,  3,  2,  1,  9,  3, 10,  0,  8,\n",
              "        3,  3,  5, -1, -1,  7,  8,  8,  9, 12,  5,  8,  6,  8,  2,  5,  0,\n",
              "        8,  3,  4, -1,  5,  5, -1,  9,  0,  3, 12,  7,  2,  2,  2, -1,  5,\n",
              "        5,  8,  5, -1,  4,  4, 10,  7,  3,  8,  3,  0,  8, -1,  3,  3,  4,\n",
              "        4,  2,  5,  1,  2,  4,  4,  3,  0,  6,  8,  3, -1,  3,  3,  2, 10,\n",
              "        4,  0,  8,  6,  2,  7,  5,  2,  2,  4,  4,  5,  2,  5,  8, -1,  9,\n",
              "        2,  3,  2,  5,  3,  8,  6,  2,  1,  9,  2,  0, -1,  5,  5,  3,  2,\n",
              "        9, -1,  8,  0,  0,  4,  0,  6,  4,  0,  3, -1,  3,  6,  4,  0,  4,\n",
              "        9,  4,  1,  3,  2, -1,  5,  0,  5,  2,  3,  6,  4,  5,  2,  5,  9,\n",
              "        5,  3,  6,  0,  3,  5,  5,  8,  8,  9,  8,  2, -1,  8,  3,  8,  8,\n",
              "       -1,  7,  0, -1,  2,  9,  9,  8,  2,  1,  8,  9,  8,  7,  5,  3,  3,\n",
              "        9, 12, -1,  8,  5, -1,  5,  3,  8, 10,  3,  2,  3,  8,  8,  0,  9,\n",
              "        8,  7,  8, -1,  1,  8,  4,  8,  1,  0,  3,  4,  3,  6,  7,  0,  9,\n",
              "        5,  1,  0,  1,  0,  4,  2,  8,  8,  5,  3,  4,  9,  0,  5,  8,  2,\n",
              "        2,  3,  5,  2, 11,  3,  2,  3,  8,  0,  9,  8,  5,  0,  0,  3,  8,\n",
              "       12,  8,  2,  7, 10,  5,  8,  3,  8,  4,  2,  6,  2, 10, 10,  0,  6,\n",
              "        4,  4,  4,  1,  8,  2,  5,  5,  3,  2,  3,  4, 12,  4,  5,  3,  3,\n",
              "        5,  9,  4,  0,  8,  3,  5,  3,  3,  3,  1, -1,  2,  3,  8,  8,  0,\n",
              "        7,  6,  0,  9,  7, 10,  1,  5,  8,  7,  3,  1,  2,  7,  0,  9,  4,\n",
              "        6,  7,  4, -1,  3,  0,  0,  0,  8,  3,  4,  3,  7,  9, -1,  3,  1,\n",
              "        2,  5,  5,  7,  8,  7,  8,  9,  3,  0,  0,  3,  1,  8, -1,  1,  0,\n",
              "       10,  6, 10,  5,  1,  3,  5,  5,  5,  7,  9,  5,  7, -1])"
            ]
          },
          "metadata": {},
          "execution_count": 57
        }
      ]
    },
    {
      "cell_type": "code",
      "source": [
        "# 핵심 샘플의 인덱스: core_sample_indices_\n",
        "len(dbscan.core_sample_indices_)"
      ],
      "metadata": {
        "colab": {
          "base_uri": "https://localhost:8080/"
        },
        "id": "KvgpZG_M76TS",
        "outputId": "91e752bd-f955-4eff-a8f1-5b9d43cb29f7"
      },
      "execution_count": 58,
      "outputs": [
        {
          "output_type": "execute_result",
          "data": {
            "text/plain": [
              "809"
            ]
          },
          "metadata": {},
          "execution_count": 58
        }
      ]
    },
    {
      "cell_type": "code",
      "source": [
        "dbscan.core_sample_indices_"
      ],
      "metadata": {
        "colab": {
          "base_uri": "https://localhost:8080/"
        },
        "id": "jE68MfNx77Hl",
        "outputId": "da3805f8-b6ce-4efa-81f3-75fff1d63179"
      },
      "execution_count": 59,
      "outputs": [
        {
          "output_type": "execute_result",
          "data": {
            "text/plain": [
              "array([  1,   3,   4,   5,   6,   7,   8,   9,  10,  11,  12,  13,  14,\n",
              "        15,  16,  18,  19,  20,  21,  22,  23,  24,  25,  26,  27,  28,\n",
              "        29,  30,  33,  35,  36,  38,  39,  40,  41,  42,  43,  44,  45,\n",
              "        46,  47,  48,  49,  50,  51,  52,  54,  55,  56,  58,  59,  60,\n",
              "        61,  62,  64,  65,  66,  67,  68,  69,  70,  71,  72,  74,  75,\n",
              "        76,  77,  78,  79,  80,  81,  82,  83,  84,  85,  86,  87,  88,\n",
              "        90,  91,  92,  93,  94,  95,  96,  97,  98,  99, 101, 102, 103,\n",
              "       104, 105, 106, 107, 108, 109, 110, 111, 112, 113, 115, 116, 117,\n",
              "       118, 120, 121, 123, 124, 125, 126, 127, 128, 129, 130, 131, 132,\n",
              "       133, 134, 135, 136, 137, 138, 139, 140, 141, 142, 143, 144, 145,\n",
              "       146, 147, 149, 150, 151, 153, 154, 155, 156, 158, 159, 160, 162,\n",
              "       163, 166, 167, 169, 170, 171, 173, 175, 176, 177, 178, 179, 180,\n",
              "       182, 183, 185, 187, 189, 191, 193, 195, 196, 197, 198, 199, 200,\n",
              "       201, 202, 203, 204, 205, 209, 210, 211, 212, 213, 214, 215, 216,\n",
              "       217, 218, 219, 220, 222, 223, 224, 225, 226, 228, 229, 230, 231,\n",
              "       237, 238, 239, 240, 242, 243, 244, 246, 247, 248, 249, 250, 251,\n",
              "       252, 253, 254, 255, 256, 258, 259, 260, 261, 262, 263, 265, 266,\n",
              "       267, 268, 269, 270, 272, 273, 274, 275, 277, 278, 279, 280, 282,\n",
              "       283, 284, 285, 288, 290, 291, 292, 295, 297, 299, 302, 303, 304,\n",
              "       306, 307, 308, 309, 311, 312, 315, 316, 317, 318, 319, 320, 322,\n",
              "       323, 324, 325, 326, 327, 328, 329, 330, 331, 332, 333, 335, 338,\n",
              "       339, 341, 342, 343, 344, 345, 346, 347, 348, 349, 350, 351, 352,\n",
              "       353, 354, 356, 357, 358, 359, 360, 361, 362, 363, 364, 366, 367,\n",
              "       369, 370, 371, 372, 373, 375, 376, 378, 379, 381, 382, 383, 384,\n",
              "       385, 386, 387, 388, 389, 390, 391, 392, 394, 395, 396, 397, 399,\n",
              "       401, 402, 403, 404, 406, 407, 408, 409, 410, 411, 412, 413, 414,\n",
              "       415, 416, 417, 418, 419, 420, 422, 423, 424, 425, 426, 427, 431,\n",
              "       433, 434, 436, 437, 438, 439, 440, 441, 442, 443, 444, 445, 447,\n",
              "       449, 451, 452, 453, 454, 455, 457, 458, 459, 460, 461, 463, 464,\n",
              "       466, 467, 468, 470, 471, 472, 473, 474, 475, 477, 478, 480, 482,\n",
              "       483, 484, 485, 486, 487, 488, 489, 490, 491, 493, 494, 496, 497,\n",
              "       498, 499, 500, 501, 502, 503, 504, 505, 506, 507, 509, 510, 512,\n",
              "       513, 515, 518, 519, 520, 522, 523, 524, 525, 526, 528, 530, 531,\n",
              "       532, 533, 534, 535, 536, 537, 539, 540, 541, 542, 548, 549, 550,\n",
              "       551, 552, 553, 554, 555, 556, 557, 558, 559, 561, 563, 564, 565,\n",
              "       567, 568, 571, 572, 573, 574, 575, 576, 577, 578, 580, 581, 582,\n",
              "       583, 584, 585, 587, 588, 589, 590, 591, 592, 593, 594, 595, 596,\n",
              "       597, 598, 599, 600, 601, 603, 604, 605, 606, 607, 608, 610, 612,\n",
              "       614, 615, 616, 617, 618, 619, 620, 621, 622, 623, 624, 625, 626,\n",
              "       627, 628, 629, 630, 634, 635, 636, 637, 638, 639, 640, 641, 642,\n",
              "       643, 644, 645, 646, 647, 648, 651, 652, 653, 654, 655, 657, 658,\n",
              "       659, 660, 661, 662, 663, 664, 667, 668, 670, 671, 672, 673, 674,\n",
              "       676, 677, 679, 680, 681, 684, 685, 686, 687, 688, 689, 690, 691,\n",
              "       692, 694, 695, 696, 697, 698, 699, 700, 702, 703, 704, 705, 706,\n",
              "       707, 708, 710, 711, 712, 713, 714, 715, 716, 717, 718, 719, 720,\n",
              "       721, 722, 723, 724, 725, 726, 727, 728, 730, 731, 732, 733, 734,\n",
              "       735, 736, 737, 738, 739, 740, 741, 742, 744, 745, 746, 747, 748,\n",
              "       750, 751, 752, 753, 754, 755, 756, 757, 758, 760, 761, 762, 763,\n",
              "       764, 765, 766, 768, 769, 771, 772, 773, 774, 775, 776, 777, 778,\n",
              "       779, 780, 781, 782, 783, 784, 786, 787, 788, 789, 790, 791, 793,\n",
              "       795, 796, 797, 800, 801, 803, 804, 805, 807, 808, 809, 810, 812,\n",
              "       813, 814, 817, 819, 822, 824, 825, 826, 827, 828, 829, 831, 833,\n",
              "       834, 835, 838, 839, 841, 842, 843, 844, 845, 846, 847, 848, 849,\n",
              "       850, 852, 853, 854, 855, 857, 860, 861, 862, 863, 864, 865, 866,\n",
              "       867, 868, 869, 870, 872, 873, 874, 875, 877, 878, 880, 881, 882,\n",
              "       883, 884, 885, 886, 888, 889, 890, 891, 892, 893, 894, 895, 898,\n",
              "       900, 901, 904, 905, 906, 907, 908, 909, 910, 911, 912, 914, 915,\n",
              "       916, 917, 918, 919, 922, 923, 924, 925, 926, 927, 928, 930, 931,\n",
              "       933, 935, 936, 937, 938, 939, 940, 941, 942, 944, 945, 946, 947,\n",
              "       948, 949, 950, 951, 952, 953, 954, 956, 957, 958, 959, 960, 961,\n",
              "       963, 964, 965, 967, 968, 969, 970, 971, 972, 974, 975, 976, 978,\n",
              "       979, 981, 982, 985, 986, 988, 989, 990, 991, 992, 993, 994, 995,\n",
              "       996, 997, 998])"
            ]
          },
          "metadata": {},
          "execution_count": 59
        }
      ]
    },
    {
      "cell_type": "code",
      "source": [
        "dbscan.components_"
      ],
      "metadata": {
        "colab": {
          "base_uri": "https://localhost:8080/"
        },
        "id": "U1t3AE4d78Rt",
        "outputId": "00a1c6b0-2ee0-44de-d057-0ce0befcb614"
      },
      "execution_count": 60,
      "outputs": [
        {
          "output_type": "execute_result",
          "data": {
            "text/plain": [
              "array([[ 1.32553619, -0.44236794],\n",
              "       [-0.95168477,  0.24543154],\n",
              "       [ 0.14034342,  0.08290975],\n",
              "       ...,\n",
              "       [ 1.61232161, -0.3313091 ],\n",
              "       [-0.30299159,  0.88839814],\n",
              "       [ 1.929103  ,  0.14551888]])"
            ]
          },
          "metadata": {},
          "execution_count": 60
        }
      ]
    },
    {
      "cell_type": "markdown",
      "source": [
        "> 샘플에 대해 클러스터 예측 불가-> KNeighborsClassifier 훈련"
      ],
      "metadata": {
        "id": "eoL39VX1IUs9"
      }
    },
    {
      "cell_type": "code",
      "source": [
        "from sklearn.neighbors import KNeighborsClassifier\n",
        "\n",
        "knn = KNeighborsClassifier(n_neighbors=50)\n",
        "knn.fit(dbscan.components_, dbscan.labels_[dbscan.core_sample_indices_])"
      ],
      "metadata": {
        "colab": {
          "base_uri": "https://localhost:8080/",
          "height": 74
        },
        "id": "KN1J9d5j79NW",
        "outputId": "ef1f12e1-b7a3-41c5-c4ed-24a1cf21671a"
      },
      "execution_count": 61,
      "outputs": [
        {
          "output_type": "execute_result",
          "data": {
            "text/plain": [
              "KNeighborsClassifier(n_neighbors=50)"
            ],
            "text/html": [
              "<style>#sk-container-id-8 {color: black;background-color: white;}#sk-container-id-8 pre{padding: 0;}#sk-container-id-8 div.sk-toggleable {background-color: white;}#sk-container-id-8 label.sk-toggleable__label {cursor: pointer;display: block;width: 100%;margin-bottom: 0;padding: 0.3em;box-sizing: border-box;text-align: center;}#sk-container-id-8 label.sk-toggleable__label-arrow:before {content: \"▸\";float: left;margin-right: 0.25em;color: #696969;}#sk-container-id-8 label.sk-toggleable__label-arrow:hover:before {color: black;}#sk-container-id-8 div.sk-estimator:hover label.sk-toggleable__label-arrow:before {color: black;}#sk-container-id-8 div.sk-toggleable__content {max-height: 0;max-width: 0;overflow: hidden;text-align: left;background-color: #f0f8ff;}#sk-container-id-8 div.sk-toggleable__content pre {margin: 0.2em;color: black;border-radius: 0.25em;background-color: #f0f8ff;}#sk-container-id-8 input.sk-toggleable__control:checked~div.sk-toggleable__content {max-height: 200px;max-width: 100%;overflow: auto;}#sk-container-id-8 input.sk-toggleable__control:checked~label.sk-toggleable__label-arrow:before {content: \"▾\";}#sk-container-id-8 div.sk-estimator input.sk-toggleable__control:checked~label.sk-toggleable__label {background-color: #d4ebff;}#sk-container-id-8 div.sk-label input.sk-toggleable__control:checked~label.sk-toggleable__label {background-color: #d4ebff;}#sk-container-id-8 input.sk-hidden--visually {border: 0;clip: rect(1px 1px 1px 1px);clip: rect(1px, 1px, 1px, 1px);height: 1px;margin: -1px;overflow: hidden;padding: 0;position: absolute;width: 1px;}#sk-container-id-8 div.sk-estimator {font-family: monospace;background-color: #f0f8ff;border: 1px dotted black;border-radius: 0.25em;box-sizing: border-box;margin-bottom: 0.5em;}#sk-container-id-8 div.sk-estimator:hover {background-color: #d4ebff;}#sk-container-id-8 div.sk-parallel-item::after {content: \"\";width: 100%;border-bottom: 1px solid gray;flex-grow: 1;}#sk-container-id-8 div.sk-label:hover label.sk-toggleable__label {background-color: #d4ebff;}#sk-container-id-8 div.sk-serial::before {content: \"\";position: absolute;border-left: 1px solid gray;box-sizing: border-box;top: 0;bottom: 0;left: 50%;z-index: 0;}#sk-container-id-8 div.sk-serial {display: flex;flex-direction: column;align-items: center;background-color: white;padding-right: 0.2em;padding-left: 0.2em;position: relative;}#sk-container-id-8 div.sk-item {position: relative;z-index: 1;}#sk-container-id-8 div.sk-parallel {display: flex;align-items: stretch;justify-content: center;background-color: white;position: relative;}#sk-container-id-8 div.sk-item::before, #sk-container-id-8 div.sk-parallel-item::before {content: \"\";position: absolute;border-left: 1px solid gray;box-sizing: border-box;top: 0;bottom: 0;left: 50%;z-index: -1;}#sk-container-id-8 div.sk-parallel-item {display: flex;flex-direction: column;z-index: 1;position: relative;background-color: white;}#sk-container-id-8 div.sk-parallel-item:first-child::after {align-self: flex-end;width: 50%;}#sk-container-id-8 div.sk-parallel-item:last-child::after {align-self: flex-start;width: 50%;}#sk-container-id-8 div.sk-parallel-item:only-child::after {width: 0;}#sk-container-id-8 div.sk-dashed-wrapped {border: 1px dashed gray;margin: 0 0.4em 0.5em 0.4em;box-sizing: border-box;padding-bottom: 0.4em;background-color: white;}#sk-container-id-8 div.sk-label label {font-family: monospace;font-weight: bold;display: inline-block;line-height: 1.2em;}#sk-container-id-8 div.sk-label-container {text-align: center;}#sk-container-id-8 div.sk-container {/* jupyter's `normalize.less` sets `[hidden] { display: none; }` but bootstrap.min.css set `[hidden] { display: none !important; }` so we also need the `!important` here to be able to override the default hidden behavior on the sphinx rendered scikit-learn.org. See: https://github.com/scikit-learn/scikit-learn/issues/21755 */display: inline-block !important;position: relative;}#sk-container-id-8 div.sk-text-repr-fallback {display: none;}</style><div id=\"sk-container-id-8\" class=\"sk-top-container\"><div class=\"sk-text-repr-fallback\"><pre>KNeighborsClassifier(n_neighbors=50)</pre><b>In a Jupyter environment, please rerun this cell to show the HTML representation or trust the notebook. <br />On GitHub, the HTML representation is unable to render, please try loading this page with nbviewer.org.</b></div><div class=\"sk-container\" hidden><div class=\"sk-item\"><div class=\"sk-estimator sk-toggleable\"><input class=\"sk-toggleable__control sk-hidden--visually\" id=\"sk-estimator-id-13\" type=\"checkbox\" checked><label for=\"sk-estimator-id-13\" class=\"sk-toggleable__label sk-toggleable__label-arrow\">KNeighborsClassifier</label><div class=\"sk-toggleable__content\"><pre>KNeighborsClassifier(n_neighbors=50)</pre></div></div></div></div></div>"
            ]
          },
          "metadata": {},
          "execution_count": 61
        }
      ]
    },
    {
      "cell_type": "code",
      "source": [
        "X_new = np.array([[-0.5,0],[0,0.5],[1,-0.1],[2,1]])\n",
        "knn.predict(X_new)\n",
        "knn.predict_proba(X_new)"
      ],
      "metadata": {
        "colab": {
          "base_uri": "https://localhost:8080/"
        },
        "id": "aZRIC-aL7-M2",
        "outputId": "9c23ae77-0e91-4e26-d893-a2fca03ad67b"
      },
      "execution_count": 62,
      "outputs": [
        {
          "output_type": "execute_result",
          "data": {
            "text/plain": [
              "array([[0.  , 0.5 , 0.22, 0.  , 0.  , 0.  , 0.  , 0.  , 0.28, 0.  , 0.  ,\n",
              "        0.  , 0.  ],\n",
              "       [0.  , 0.  , 0.5 , 0.  , 0.  , 0.  , 0.  , 0.  , 0.  , 0.  , 0.5 ,\n",
              "        0.  , 0.  ],\n",
              "       [0.32, 0.  , 0.  , 0.54, 0.04, 0.  , 0.  , 0.  , 0.  , 0.  , 0.  ,\n",
              "        0.  , 0.1 ],\n",
              "       [0.  , 0.  , 0.  , 0.  , 0.  , 0.  , 0.72, 0.28, 0.  , 0.  , 0.  ,\n",
              "        0.  , 0.  ]])"
            ]
          },
          "metadata": {},
          "execution_count": 62
        }
      ]
    },
    {
      "cell_type": "code",
      "source": [
        "# kneighbors(): 가장 가까운 이웃 k개의 거리와 인덱스 반환(열을 k개 가진 행렬 두개 반환)\n",
        "y_dist, y_pred_idx = knn.kneighbors(X_new, n_neighbors=1)\n",
        "y_pred = dbscan.labels_[dbscan.core_sample_indices_][y_pred_idx]\n",
        "y_pred[y_dist > 0.2] = -1\n",
        "y_pred.ravel()"
      ],
      "metadata": {
        "colab": {
          "base_uri": "https://localhost:8080/"
        },
        "id": "fkFjsSsk7_eD",
        "outputId": "43b091c0-18f8-4054-ae0e-ba9e04a93dea"
      },
      "execution_count": 63,
      "outputs": [
        {
          "output_type": "execute_result",
          "data": {
            "text/plain": [
              "array([-1, 10, 12, -1])"
            ]
          },
          "metadata": {},
          "execution_count": 63
        }
      ]
    },
    {
      "cell_type": "markdown",
      "source": [
        "### 9.1.7 다른 군집 알고리즘\n",
        "* 병합 군집\n",
        "  - 반복마다 병합 군집은 인접한 클러스터 쌍을 연결\n",
        "  - 쌍을 트리로 그리면 이진 트리 얻을 수 있음\n",
        "  - 대규모 샘플과 클러스터에 잘 확장됨\n",
        "* BIRCH\n",
        "  - 대규모 데이터셋\n",
        "  - 훈련 과정에서 새로운 샘플을 클러스터에 빠르게 할당할 수 있는 정보를 담은 트리 구조 생성\n",
        "  - 트리에 모든 샘플 저장 X, 제한된 메모리 사용\n",
        "* 평균-이동\n",
        "  - 클러스터 내부 밀집도 불균형할 때 여러 개로 나눔\n",
        "  - 대규모 데이터셋 부적합\n",
        "* 유사도 전파\n",
        "  - 투표 방식 사용\n",
        "  - 대규모 부적합\n",
        "* 스펙트럼 군집\n",
        "  - 유사도 행렬을 받아 저차원 임베딩 생성\n",
        "  - 저차원 공간에서 또 다른 군집 알고리즘 사용"
      ],
      "metadata": {
        "id": "pnrYgSmzIp6g"
      }
    },
    {
      "cell_type": "markdown",
      "source": [
        "## 9.2 가우시안 혼합\n",
        "* 가우시안 혼합 모델 GMM: 샘플이 파라미터가 알려지지 않은 여러 개의 혼합된 가우시안 분포에서 생성되었다고 가정하는 확률 모델"
      ],
      "metadata": {
        "id": "d-7E_tghJ7tx"
      }
    },
    {
      "cell_type": "code",
      "source": [
        "from sklearn.mixture import GaussianMixture\n",
        "\n",
        "gm = GaussianMixture(n_components=3, n_init=10)\n",
        "gm.fit(X)"
      ],
      "metadata": {
        "colab": {
          "base_uri": "https://localhost:8080/",
          "height": 74
        },
        "id": "aM6fzeQR8AqN",
        "outputId": "4af7f764-9af8-4b01-ae0b-8a8d5438c16b"
      },
      "execution_count": 64,
      "outputs": [
        {
          "output_type": "execute_result",
          "data": {
            "text/plain": [
              "GaussianMixture(n_components=3, n_init=10)"
            ],
            "text/html": [
              "<style>#sk-container-id-9 {color: black;background-color: white;}#sk-container-id-9 pre{padding: 0;}#sk-container-id-9 div.sk-toggleable {background-color: white;}#sk-container-id-9 label.sk-toggleable__label {cursor: pointer;display: block;width: 100%;margin-bottom: 0;padding: 0.3em;box-sizing: border-box;text-align: center;}#sk-container-id-9 label.sk-toggleable__label-arrow:before {content: \"▸\";float: left;margin-right: 0.25em;color: #696969;}#sk-container-id-9 label.sk-toggleable__label-arrow:hover:before {color: black;}#sk-container-id-9 div.sk-estimator:hover label.sk-toggleable__label-arrow:before {color: black;}#sk-container-id-9 div.sk-toggleable__content {max-height: 0;max-width: 0;overflow: hidden;text-align: left;background-color: #f0f8ff;}#sk-container-id-9 div.sk-toggleable__content pre {margin: 0.2em;color: black;border-radius: 0.25em;background-color: #f0f8ff;}#sk-container-id-9 input.sk-toggleable__control:checked~div.sk-toggleable__content {max-height: 200px;max-width: 100%;overflow: auto;}#sk-container-id-9 input.sk-toggleable__control:checked~label.sk-toggleable__label-arrow:before {content: \"▾\";}#sk-container-id-9 div.sk-estimator input.sk-toggleable__control:checked~label.sk-toggleable__label {background-color: #d4ebff;}#sk-container-id-9 div.sk-label input.sk-toggleable__control:checked~label.sk-toggleable__label {background-color: #d4ebff;}#sk-container-id-9 input.sk-hidden--visually {border: 0;clip: rect(1px 1px 1px 1px);clip: rect(1px, 1px, 1px, 1px);height: 1px;margin: -1px;overflow: hidden;padding: 0;position: absolute;width: 1px;}#sk-container-id-9 div.sk-estimator {font-family: monospace;background-color: #f0f8ff;border: 1px dotted black;border-radius: 0.25em;box-sizing: border-box;margin-bottom: 0.5em;}#sk-container-id-9 div.sk-estimator:hover {background-color: #d4ebff;}#sk-container-id-9 div.sk-parallel-item::after {content: \"\";width: 100%;border-bottom: 1px solid gray;flex-grow: 1;}#sk-container-id-9 div.sk-label:hover label.sk-toggleable__label {background-color: #d4ebff;}#sk-container-id-9 div.sk-serial::before {content: \"\";position: absolute;border-left: 1px solid gray;box-sizing: border-box;top: 0;bottom: 0;left: 50%;z-index: 0;}#sk-container-id-9 div.sk-serial {display: flex;flex-direction: column;align-items: center;background-color: white;padding-right: 0.2em;padding-left: 0.2em;position: relative;}#sk-container-id-9 div.sk-item {position: relative;z-index: 1;}#sk-container-id-9 div.sk-parallel {display: flex;align-items: stretch;justify-content: center;background-color: white;position: relative;}#sk-container-id-9 div.sk-item::before, #sk-container-id-9 div.sk-parallel-item::before {content: \"\";position: absolute;border-left: 1px solid gray;box-sizing: border-box;top: 0;bottom: 0;left: 50%;z-index: -1;}#sk-container-id-9 div.sk-parallel-item {display: flex;flex-direction: column;z-index: 1;position: relative;background-color: white;}#sk-container-id-9 div.sk-parallel-item:first-child::after {align-self: flex-end;width: 50%;}#sk-container-id-9 div.sk-parallel-item:last-child::after {align-self: flex-start;width: 50%;}#sk-container-id-9 div.sk-parallel-item:only-child::after {width: 0;}#sk-container-id-9 div.sk-dashed-wrapped {border: 1px dashed gray;margin: 0 0.4em 0.5em 0.4em;box-sizing: border-box;padding-bottom: 0.4em;background-color: white;}#sk-container-id-9 div.sk-label label {font-family: monospace;font-weight: bold;display: inline-block;line-height: 1.2em;}#sk-container-id-9 div.sk-label-container {text-align: center;}#sk-container-id-9 div.sk-container {/* jupyter's `normalize.less` sets `[hidden] { display: none; }` but bootstrap.min.css set `[hidden] { display: none !important; }` so we also need the `!important` here to be able to override the default hidden behavior on the sphinx rendered scikit-learn.org. See: https://github.com/scikit-learn/scikit-learn/issues/21755 */display: inline-block !important;position: relative;}#sk-container-id-9 div.sk-text-repr-fallback {display: none;}</style><div id=\"sk-container-id-9\" class=\"sk-top-container\"><div class=\"sk-text-repr-fallback\"><pre>GaussianMixture(n_components=3, n_init=10)</pre><b>In a Jupyter environment, please rerun this cell to show the HTML representation or trust the notebook. <br />On GitHub, the HTML representation is unable to render, please try loading this page with nbviewer.org.</b></div><div class=\"sk-container\" hidden><div class=\"sk-item\"><div class=\"sk-estimator sk-toggleable\"><input class=\"sk-toggleable__control sk-hidden--visually\" id=\"sk-estimator-id-14\" type=\"checkbox\" checked><label for=\"sk-estimator-id-14\" class=\"sk-toggleable__label sk-toggleable__label-arrow\">GaussianMixture</label><div class=\"sk-toggleable__content\"><pre>GaussianMixture(n_components=3, n_init=10)</pre></div></div></div></div></div>"
            ]
          },
          "metadata": {},
          "execution_count": 64
        }
      ]
    },
    {
      "cell_type": "code",
      "source": [
        "gm.weights_"
      ],
      "metadata": {
        "colab": {
          "base_uri": "https://localhost:8080/"
        },
        "id": "X9mV2MSg8BXq",
        "outputId": "2251b53b-dacd-4d43-95ca-f15c41dbae17"
      },
      "execution_count": 65,
      "outputs": [
        {
          "output_type": "execute_result",
          "data": {
            "text/plain": [
              "array([0.21411327, 0.1985313 , 0.58735544])"
            ]
          },
          "metadata": {},
          "execution_count": 65
        }
      ]
    },
    {
      "cell_type": "code",
      "source": [
        "gm.means_"
      ],
      "metadata": {
        "colab": {
          "base_uri": "https://localhost:8080/"
        },
        "id": "yu0F59Aq8CR7",
        "outputId": "54fdd36d-a5b8-4382-ded2-0ab48ef06e26"
      },
      "execution_count": 66,
      "outputs": [
        {
          "output_type": "execute_result",
          "data": {
            "text/plain": [
              "array([[ 1.71924659, -0.07014496],\n",
              "       [-0.75769404,  0.54667323],\n",
              "       [ 0.47728255,  0.2681875 ]])"
            ]
          },
          "metadata": {},
          "execution_count": 66
        }
      ]
    },
    {
      "cell_type": "code",
      "source": [
        "gm.covariances_"
      ],
      "metadata": {
        "colab": {
          "base_uri": "https://localhost:8080/"
        },
        "id": "lk74hhL08DUz",
        "outputId": "477a65f9-075d-49b6-b7a2-8ced02e6b22a"
      },
      "execution_count": 67,
      "outputs": [
        {
          "output_type": "execute_result",
          "data": {
            "text/plain": [
              "array([[[ 0.0628522 ,  0.06842964],\n",
              "        [ 0.06842964,  0.09014762]],\n",
              "\n",
              "       [[ 0.04808982,  0.05832104],\n",
              "        [ 0.05832104,  0.08749862]],\n",
              "\n",
              "       [[ 0.1664156 , -0.09808607],\n",
              "        [-0.09808607,  0.28564925]]])"
            ]
          },
          "metadata": {},
          "execution_count": 67
        }
      ]
    },
    {
      "cell_type": "markdown",
      "source": [
        "> 기댓값 최대화 알고리즘 사용\n",
        "* 기댓값 단계: 샘플을 클러스터에 할당\n",
        "* 최대화 단계: 클러스터 업데이트"
      ],
      "metadata": {
        "id": "Xb4leiRUKV27"
      }
    },
    {
      "cell_type": "code",
      "source": [
        "# 알고리즘 수렴 여부, 반복 횟수 확인\n",
        "gm.converged_"
      ],
      "metadata": {
        "colab": {
          "base_uri": "https://localhost:8080/"
        },
        "id": "yY7XQJqT8Eeg",
        "outputId": "3e77555b-62b9-4c6a-9181-8408ef54bdf8"
      },
      "execution_count": 69,
      "outputs": [
        {
          "output_type": "execute_result",
          "data": {
            "text/plain": [
              "True"
            ]
          },
          "metadata": {},
          "execution_count": 69
        }
      ]
    },
    {
      "cell_type": "code",
      "source": [
        "gm.n_iter_"
      ],
      "metadata": {
        "colab": {
          "base_uri": "https://localhost:8080/"
        },
        "id": "QO-0DyJUKl0l",
        "outputId": "844a45d4-cbb7-417e-f788-654bbfe54fba"
      },
      "execution_count": 70,
      "outputs": [
        {
          "output_type": "execute_result",
          "data": {
            "text/plain": [
              "15"
            ]
          },
          "metadata": {},
          "execution_count": 70
        }
      ]
    },
    {
      "cell_type": "code",
      "source": [
        "# predict(): 하드 군집, predict_proba(): 소프트 군집\n",
        "gm.predict(X)"
      ],
      "metadata": {
        "colab": {
          "base_uri": "https://localhost:8080/"
        },
        "id": "nKNsUZlR8Fc7",
        "outputId": "ff3b00dc-ec46-47f7-e3c3-ff9ca9441faa"
      },
      "execution_count": 71,
      "outputs": [
        {
          "output_type": "execute_result",
          "data": {
            "text/plain": [
              "array([1, 0, 2, 1, 2, 2, 2, 2, 2, 0, 0, 2, 2, 2, 2, 2, 0, 2, 0, 0, 2, 2,\n",
              "       2, 2, 2, 1, 0, 2, 2, 1, 2, 1, 0, 1, 2, 1, 2, 2, 1, 0, 2, 0, 2, 1,\n",
              "       2, 2, 2, 2, 0, 0, 2, 1, 1, 2, 1, 0, 2, 1, 0, 2, 2, 2, 0, 2, 0, 2,\n",
              "       1, 2, 2, 1, 0, 2, 1, 2, 2, 0, 0, 2, 2, 2, 0, 2, 0, 2, 2, 0, 0, 0,\n",
              "       2, 2, 0, 2, 1, 2, 1, 2, 2, 0, 0, 2, 1, 2, 2, 0, 2, 2, 2, 0, 2, 0,\n",
              "       2, 0, 2, 2, 2, 2, 2, 1, 2, 2, 1, 2, 2, 0, 1, 2, 2, 2, 1, 0, 2, 2,\n",
              "       2, 2, 0, 2, 2, 2, 2, 1, 2, 1, 2, 2, 2, 2, 2, 0, 1, 2, 2, 2, 0, 2,\n",
              "       2, 2, 2, 2, 2, 1, 0, 0, 2, 2, 2, 2, 0, 0, 2, 0, 2, 2, 1, 2, 0, 2,\n",
              "       2, 2, 2, 0, 2, 2, 2, 2, 2, 1, 2, 2, 1, 1, 2, 0, 1, 0, 2, 2, 2, 0,\n",
              "       2, 1, 2, 2, 2, 2, 0, 2, 1, 1, 2, 2, 1, 2, 2, 1, 2, 1, 2, 1, 0, 2,\n",
              "       2, 2, 0, 1, 2, 1, 2, 0, 1, 2, 2, 0, 1, 0, 2, 1, 1, 1, 2, 2, 0, 2,\n",
              "       2, 2, 2, 1, 1, 2, 2, 1, 0, 2, 2, 1, 0, 1, 2, 2, 1, 2, 2, 2, 2, 2,\n",
              "       1, 2, 2, 2, 2, 2, 2, 2, 2, 2, 2, 0, 2, 0, 2, 2, 0, 2, 2, 0, 2, 2,\n",
              "       2, 2, 0, 0, 1, 2, 2, 0, 2, 1, 2, 1, 1, 2, 2, 2, 0, 2, 2, 2, 1, 2,\n",
              "       2, 1, 2, 2, 2, 2, 1, 0, 2, 2, 0, 2, 0, 0, 2, 2, 0, 2, 2, 2, 1, 1,\n",
              "       2, 2, 0, 2, 0, 1, 2, 2, 1, 2, 1, 2, 0, 2, 1, 2, 2, 0, 2, 2, 0, 2,\n",
              "       2, 2, 2, 0, 0, 2, 0, 2, 0, 0, 2, 1, 1, 2, 2, 0, 0, 2, 2, 2, 2, 0,\n",
              "       0, 2, 2, 2, 0, 2, 2, 2, 1, 1, 2, 0, 1, 1, 2, 2, 2, 2, 1, 2, 0, 0,\n",
              "       2, 0, 0, 0, 2, 1, 0, 2, 2, 2, 2, 1, 2, 0, 1, 0, 2, 0, 2, 2, 0, 2,\n",
              "       2, 2, 2, 0, 2, 0, 2, 2, 2, 2, 1, 2, 2, 1, 1, 0, 2, 0, 2, 1, 2, 2,\n",
              "       1, 2, 2, 1, 2, 1, 2, 2, 1, 2, 0, 1, 0, 2, 0, 0, 2, 1, 0, 2, 0, 0,\n",
              "       0, 2, 1, 2, 0, 2, 1, 2, 2, 1, 2, 2, 2, 2, 0, 2, 2, 2, 0, 2, 2, 2,\n",
              "       2, 2, 2, 2, 0, 1, 2, 2, 2, 0, 2, 2, 2, 1, 2, 2, 2, 2, 2, 0, 1, 0,\n",
              "       2, 2, 0, 1, 2, 1, 2, 0, 2, 1, 2, 2, 2, 2, 1, 2, 2, 0, 2, 0, 1, 2,\n",
              "       2, 0, 2, 2, 2, 2, 2, 2, 2, 2, 1, 0, 0, 2, 2, 2, 2, 2, 1, 2, 2, 0,\n",
              "       2, 1, 1, 2, 2, 0, 1, 2, 2, 1, 0, 2, 0, 1, 2, 2, 1, 2, 1, 2, 2, 2,\n",
              "       2, 2, 2, 2, 0, 1, 1, 0, 2, 2, 2, 2, 0, 2, 2, 0, 2, 1, 2, 0, 2, 1,\n",
              "       1, 0, 1, 0, 2, 2, 2, 0, 2, 2, 0, 2, 2, 2, 2, 2, 2, 2, 0, 2, 0, 2,\n",
              "       2, 1, 2, 0, 1, 1, 1, 2, 2, 1, 2, 2, 2, 2, 0, 1, 2, 0, 1, 1, 2, 2,\n",
              "       2, 2, 1, 0, 2, 2, 2, 1, 2, 2, 2, 1, 2, 0, 1, 1, 0, 2, 2, 1, 0, 1,\n",
              "       2, 2, 0, 1, 2, 2, 2, 2, 2, 2, 0, 2, 2, 2, 0, 2, 2, 2, 1, 2, 2, 1,\n",
              "       1, 0, 2, 2, 2, 0, 2, 1, 2, 0, 1, 2, 2, 2, 2, 2, 2, 2, 1, 2, 2, 2,\n",
              "       2, 0, 0, 1, 2, 2, 2, 2, 2, 2, 2, 0, 1, 0, 2, 0, 2, 2, 2, 2, 2, 2,\n",
              "       2, 2, 1, 1, 0, 2, 2, 2, 2, 2, 1, 0, 2, 1, 0, 2, 2, 2, 2, 2, 2, 2,\n",
              "       0, 1, 1, 2, 2, 2, 0, 0, 2, 2, 2, 2, 2, 0, 2, 2, 2, 0, 2, 1, 2, 2,\n",
              "       0, 2, 0, 2, 2, 2, 0, 2, 2, 2, 2, 0, 2, 2, 0, 2, 2, 2, 2, 1, 1, 0,\n",
              "       1, 2, 2, 1, 2, 1, 1, 2, 0, 0, 2, 2, 0, 0, 1, 2, 1, 1, 0, 1, 0, 2,\n",
              "       2, 2, 0, 2, 2, 1, 2, 1, 2, 2, 1, 2, 2, 2, 2, 1, 1, 0, 0, 1, 0, 1,\n",
              "       1, 1, 1, 2, 1, 1, 0, 2, 2, 2, 0, 0, 0, 0, 1, 1, 0, 1, 0, 2, 2, 1,\n",
              "       1, 1, 2, 2, 0, 0, 1, 1, 2, 2, 2, 2, 2, 2, 2, 2, 2, 1, 0, 0, 1, 1,\n",
              "       0, 0, 2, 1, 2, 1, 2, 0, 2, 1, 1, 2, 1, 2, 2, 0, 2, 2, 2, 0, 0, 2,\n",
              "       2, 2, 1, 1, 2, 2, 2, 2, 2, 2, 2, 2, 2, 2, 2, 2, 2, 0, 2, 0, 1, 2,\n",
              "       2, 2, 2, 2, 1, 2, 2, 2, 1, 1, 0, 0, 0, 2, 0, 0, 2, 1, 2, 1, 0, 2,\n",
              "       1, 2, 0, 0, 0, 2, 0, 0, 2, 2, 2, 0, 0, 2, 1, 2, 2, 2, 0, 0, 1, 2,\n",
              "       1, 2, 2, 2, 0, 1, 0, 1, 0, 2, 2, 2, 2, 1, 1, 1, 1, 0, 2, 0, 2, 2,\n",
              "       1, 2, 2, 2, 1, 0, 0, 2, 0, 2])"
            ]
          },
          "metadata": {},
          "execution_count": 71
        }
      ]
    },
    {
      "cell_type": "code",
      "source": [
        "gm.predict_proba(X)"
      ],
      "metadata": {
        "colab": {
          "base_uri": "https://localhost:8080/"
        },
        "id": "fykHzFMQ8HaF",
        "outputId": "3660a025-4239-450b-8b97-d28c49a95923"
      },
      "execution_count": 72,
      "outputs": [
        {
          "output_type": "execute_result",
          "data": {
            "text/plain": [
              "array([[1.69926900e-187, 9.99641634e-001, 3.58365893e-004],\n",
              "       [8.50848352e-001, 7.82664210e-180, 1.49151648e-001],\n",
              "       [1.41088199e-106, 1.19347585e-011, 1.00000000e+000],\n",
              "       ...,\n",
              "       [1.83366734e-152, 3.24141596e-001, 6.75858404e-001],\n",
              "       [9.99655641e-001, 1.41554459e-206, 3.44358970e-004],\n",
              "       [6.64770386e-137, 2.21252457e-003, 9.97787475e-001]])"
            ]
          },
          "metadata": {},
          "execution_count": 72
        }
      ]
    },
    {
      "cell_type": "code",
      "source": [
        "X_new, y_new = gm.sample(6)\n",
        "X_new"
      ],
      "metadata": {
        "colab": {
          "base_uri": "https://localhost:8080/"
        },
        "id": "4H0I2wKb8HXh",
        "outputId": "30a58eae-3c1c-4f54-a440-64a5b4012e78"
      },
      "execution_count": 73,
      "outputs": [
        {
          "output_type": "execute_result",
          "data": {
            "text/plain": [
              "array([[ 1.82642548, -0.15275792],\n",
              "       [ 1.22111326, -0.5108873 ],\n",
              "       [-0.66015212,  0.6145284 ],\n",
              "       [-0.69427407,  0.4080961 ],\n",
              "       [ 0.64662615,  0.12765829],\n",
              "       [ 0.67785556,  0.33451208]])"
            ]
          },
          "metadata": {},
          "execution_count": 73
        }
      ]
    },
    {
      "cell_type": "code",
      "source": [
        "y_new"
      ],
      "metadata": {
        "colab": {
          "base_uri": "https://localhost:8080/"
        },
        "id": "d7UEI6RJ8HVH",
        "outputId": "286e1ee4-d0a0-4148-a94b-02548fc6131b"
      },
      "execution_count": 74,
      "outputs": [
        {
          "output_type": "execute_result",
          "data": {
            "text/plain": [
              "array([0, 0, 1, 1, 2, 2])"
            ]
          },
          "metadata": {},
          "execution_count": 74
        }
      ]
    },
    {
      "cell_type": "code",
      "source": [
        "# pdf 로그 예측\n",
        "gm.score_samples(X)"
      ],
      "metadata": {
        "colab": {
          "base_uri": "https://localhost:8080/"
        },
        "id": "t45kaR0O8HSf",
        "outputId": "ce2be6f2-beaf-4ca6-d1af-ae6745117985"
      },
      "execution_count": 75,
      "outputs": [
        {
          "output_type": "execute_result",
          "data": {
            "text/plain": [
              "array([-1.19501896e+00, -1.09019899e+00, -1.49259489e+00, -4.14012602e-01,\n",
              "       -1.39828656e+00, -2.09175889e+00, -1.73416646e+00, -1.78589807e+00,\n",
              "       -1.63278597e+00, -5.00699827e-01, -6.86426973e-01, -1.72025227e+00,\n",
              "       -1.74687128e+00, -1.74719980e+00, -1.54970578e+00, -1.49720908e+00,\n",
              "       -9.30159623e-01, -1.29685575e+00, -6.52375386e-01, -7.56427951e-01,\n",
              "       -1.54699018e+00, -1.70618804e+00, -1.48539461e+00, -1.69942598e+00,\n",
              "       -1.67919663e+00, -9.90438135e-01, -9.95134401e-02, -1.72891170e+00,\n",
              "       -1.65925440e+00, -7.18711071e-01, -1.69902483e+00, -1.06869411e+00,\n",
              "       -8.15658723e-01,  4.78299057e-02, -1.80950446e+00, -6.20742770e-01,\n",
              "       -1.86613150e+00, -1.51463648e+00, -4.69575729e-01, -1.84533347e-01,\n",
              "       -1.53003976e+00, -1.06588493e+00, -1.70079255e+00, -9.78608681e-01,\n",
              "       -1.66542749e+00, -1.76103533e+00, -1.53687642e+00, -1.76459685e+00,\n",
              "       -8.03571987e-01, -1.15443131e+00, -1.63071412e+00, -1.12482561e+00,\n",
              "       -1.18766346e-01, -1.85264542e+00,  3.75636946e-02, -8.78626399e-01,\n",
              "       -1.65221294e+00, -1.95759951e+00, -1.24283856e+00, -1.67864444e+00,\n",
              "       -1.78802985e+00, -1.55445578e+00, -6.83725233e-01, -1.33799320e+00,\n",
              "       -2.17268538e-01, -1.75821305e+00, -1.14185106e+00, -1.76505957e+00,\n",
              "       -1.59749516e+00, -1.55913708e+00, -5.41210728e-01, -1.82185041e+00,\n",
              "       -4.22057793e-01, -1.35289395e+00, -1.70803899e+00, -5.23498191e-01,\n",
              "       -3.51822214e-01, -1.74673005e+00, -1.70917950e+00, -1.41271912e+00,\n",
              "       -4.14963812e-01, -1.47880763e+00, -6.48204780e-01, -1.54574331e+00,\n",
              "       -1.69388844e+00, -7.13525087e-01, -3.16272359e+00, -9.26247894e-01,\n",
              "       -2.12677050e+00, -1.23540638e+00, -1.05002485e+00, -1.55985581e+00,\n",
              "       -1.14096667e-02, -1.66002989e+00, -9.68892496e-01, -1.84951192e+00,\n",
              "       -1.61779796e+00, -1.77598604e+00, -5.33068334e-01, -1.44100686e+00,\n",
              "       -9.54316094e-01, -1.51059999e+00, -1.32426142e+00, -8.14392991e-01,\n",
              "       -1.76661591e+00, -1.72389338e+00, -1.52798012e+00, -8.24797632e-01,\n",
              "       -1.62491154e+00, -1.03186179e+00, -1.40030245e+00, -1.02660301e-01,\n",
              "       -1.60434544e+00, -2.09509293e+00, -1.48088676e+00, -1.60165952e+00,\n",
              "       -1.57677125e+00, -1.76268895e+00, -2.09729339e+00, -2.07059792e+00,\n",
              "       -7.40048962e-01, -1.60222718e+00, -1.82073159e+00, -3.70809793e-01,\n",
              "       -1.75254983e+00, -1.34956124e+00, -1.65780266e+00, -2.17425859e+00,\n",
              "       -3.59891595e-01, -5.44180324e-01, -1.71361451e+00, -1.75547898e+00,\n",
              "       -1.62093616e+00, -1.71051027e+00, -8.27190696e-01, -2.16735790e+00,\n",
              "       -1.59554595e+00, -1.59607242e+00, -1.69058078e+00,  5.84613486e-02,\n",
              "       -1.69252788e+00, -2.66607033e-01, -1.68773856e+00, -1.65528827e+00,\n",
              "       -1.63083098e+00, -2.01108156e+00, -1.60890384e+00, -6.44497560e-01,\n",
              "       -9.90492240e-01, -1.50418925e+00, -1.69176921e+00, -1.52207515e+00,\n",
              "       -9.82652165e-01, -2.05448041e+00, -1.40218770e+00, -1.52089872e+00,\n",
              "       -1.51954301e+00, -1.94642578e+00, -2.19831692e+00, -4.54045800e-01,\n",
              "       -5.27161002e-01, -2.08872226e+00, -2.19702145e+00, -1.56350385e+00,\n",
              "       -1.85771680e+00, -2.04402494e+00, -4.11128340e-01, -1.61688426e+00,\n",
              "       -1.44223070e+00, -1.66941086e+00, -1.62753351e+00, -1.71416786e+00,\n",
              "       -8.09873498e-01, -1.73779369e+00, -4.60768368e+00, -1.45543753e+00,\n",
              "       -1.64939310e+00, -1.69665666e+00, -1.61914955e+00, -1.53824796e-01,\n",
              "       -2.23709559e+00, -1.30502024e+00, -1.77528502e+00, -1.52624636e+00,\n",
              "       -1.86709873e+00, -4.24433180e-01, -2.22207191e+00, -1.54831919e+00,\n",
              "       -5.88367280e-01, -2.69900809e-01, -1.72524189e+00, -3.04454367e-01,\n",
              "       -1.17491871e+00, -1.20755246e-01, -2.28847787e+00, -1.37256699e+00,\n",
              "       -1.51341599e+00, -3.22451034e+00, -1.53868018e+00, -9.92514939e-01,\n",
              "       -1.76069385e+00, -1.57893787e+00, -1.70999749e+00, -1.48337419e+00,\n",
              "       -1.31172113e-01, -1.77986836e+00, -1.68300361e+00, -2.21572506e+00,\n",
              "       -1.95536989e+00, -1.82733542e+00, -6.10980884e-01, -1.44889656e+00,\n",
              "       -1.42559807e+00, -4.70361995e-01, -1.45781878e+00, -3.70859124e-01,\n",
              "       -1.48865275e+00, -5.32513002e-01, -1.09282094e+00, -1.68051971e+00,\n",
              "       -1.73683865e+00, -1.85421752e+00, -8.13110078e-01, -1.28406761e+00,\n",
              "       -1.65152635e+00, -3.34501549e-01, -1.80291828e+00, -4.36026896e-01,\n",
              "       -3.64968111e-01, -1.47293728e+00, -1.79395270e+00, -2.12904318e-01,\n",
              "       -9.61867649e-01, -5.64760682e-01, -1.44709630e+00, -1.20764007e+00,\n",
              "       -1.24035991e+00, -3.02030908e-01, -1.49540014e+00, -1.39117634e+00,\n",
              "       -1.31460633e+00, -1.14623837e+00, -1.89955594e+00, -2.14000721e+00,\n",
              "       -1.71226399e+00, -8.93151101e-01, -1.58340469e+00, -1.58812053e+00,\n",
              "       -1.45268404e+00, -1.38826533e+00, -7.24924179e-01, -1.43253847e+00,\n",
              "       -1.50755043e+00, -2.79095558e-01, -1.31708896e+00, -1.67377482e+00,\n",
              "       -1.62403620e+00, -1.53363627e+00, -5.20550842e-03, -1.39741738e+00,\n",
              "       -1.67930504e+00, -1.31876407e+00, -1.63916959e+00, -1.55907593e+00,\n",
              "       -7.93541587e-01, -1.75081314e+00, -1.77060321e+00, -1.63007561e+00,\n",
              "       -1.57100336e+00, -1.70250736e+00, -1.62139067e+00, -1.27071689e+00,\n",
              "       -1.43679632e+00, -1.60917541e+00, -1.96231314e+00, -6.87052699e-01,\n",
              "       -1.33348429e+00, -7.10695935e-01, -2.27365415e+00, -1.82826564e+00,\n",
              "       -7.57182843e-01, -2.17315924e+00, -2.10557381e+00, -9.09459714e-01,\n",
              "       -1.63402436e+00, -2.14049904e+00, -1.59799337e+00, -1.79934146e+00,\n",
              "       -1.87984702e+00,  3.84255207e-02, -8.31093374e-01, -1.76624991e+00,\n",
              "       -1.72368326e+00, -1.64318521e+00, -1.86714990e+00, -6.30845692e-01,\n",
              "       -1.86677008e+00, -1.10489385e+00, -1.54968060e+00, -1.70740788e+00,\n",
              "       -1.80156680e+00, -1.59270019e+00, -1.20290993e-01, -1.44933785e+00,\n",
              "       -1.64292982e+00, -1.37813974e+00, -4.39099400e-01, -1.65068624e+00,\n",
              "       -1.46275161e+00, -1.93623776e+00, -1.24944365e+00, -1.78452767e+00,\n",
              "       -2.25386274e+00, -2.05744827e+00, -9.57525371e-01, -6.61452741e-01,\n",
              "       -1.71760487e+00, -1.66410599e+00, -5.48233386e-01, -2.05823867e+00,\n",
              "       -8.80845611e-01, -4.29596748e+00, -1.79053669e+00, -2.25378066e+00,\n",
              "       -1.33299161e+00, -1.64818629e+00, -1.74382627e+00, -1.87592366e+00,\n",
              "       -2.05035146e-01, -1.17727050e+00, -1.57342875e+00, -1.88661741e+00,\n",
              "       -3.00451857e-01, -1.46212306e+00, -5.19703488e-01, -2.68779113e-01,\n",
              "       -1.77326024e+00, -1.93336317e+00, -2.89197939e-01, -1.47192398e+00,\n",
              "       -8.94001641e-01, -1.62247684e+00, -1.60201947e+00, -1.31366480e+00,\n",
              "       -1.79459547e-01, -1.69717873e+00, -1.84770241e+00, -5.07752598e-01,\n",
              "       -1.70607143e+00, -1.54628721e+00, -5.43906740e-01, -1.70693196e+00,\n",
              "       -1.68396697e+00, -1.89581953e+00, -2.13653786e+00, -3.50428353e-01,\n",
              "       -3.21940886e-01, -1.73580175e+00, -2.08247927e-01, -2.18403317e+00,\n",
              "       -7.28770376e-01, -1.77046547e-01, -1.69387142e+00, -7.19710832e-01,\n",
              "        8.20519820e-05, -1.28004550e+00, -1.98049815e+00, -5.21992018e-01,\n",
              "       -9.07798534e-01, -1.40061726e+00, -1.52944515e+00, -1.67146768e+00,\n",
              "       -1.78022984e+00, -8.30440297e-01,  5.11924121e-02, -1.53611783e+00,\n",
              "       -1.51635005e+00, -2.08497365e+00, -9.57298293e-01, -2.00055159e+00,\n",
              "       -1.85332219e+00, -2.08476245e+00, -1.57695521e-01, -1.72563188e-01,\n",
              "       -1.72119100e+00, -4.11222801e-01, -3.63544474e-01, -1.40488527e+00,\n",
              "       -1.74793778e+00, -1.54531465e+00, -1.39010006e+00, -1.58210895e+00,\n",
              "       -4.35963057e-01, -1.20330305e+00, -7.72832438e-01, -5.26568181e-01,\n",
              "       -2.15978652e+00, -1.64062473e-01, -9.91819930e-01, -2.16199854e+00,\n",
              "       -1.29543076e+00, -6.80437771e-01, -1.01946384e+00, -1.56124338e+00,\n",
              "       -1.43020913e+00, -1.35218066e+00, -1.68750525e+00, -2.93174700e-01,\n",
              "       -1.70134221e+00, -1.33577539e+00, -1.09674855e+00, -9.12329227e-02,\n",
              "       -1.45696149e+00, -9.42776801e-01, -1.68991445e+00, -2.04629140e+00,\n",
              "       -2.80254338e-01, -1.51599842e+00, -2.04186648e+00, -1.85488199e+00,\n",
              "       -1.80820776e+00,  3.00192472e-02, -1.62991678e+00, -3.64407964e-02,\n",
              "       -1.42336800e+00, -1.47883792e+00, -1.64166577e+00, -1.65440376e+00,\n",
              "       -1.79337508e+00, -1.27556598e+00, -1.28941062e+00, -9.33512590e-01,\n",
              "       -1.42341603e+00, -5.44587475e-01, -1.84387962e+00, -1.26107989e+00,\n",
              "       -1.64151710e+00, -2.15926112e+00, -1.72698060e+00, -1.56595593e+00,\n",
              "       -2.75326853e-01, -1.96629737e+00, -1.70449190e+00, -4.40476185e-01,\n",
              "       -2.12752974e+00, -4.02523081e-01, -1.30953327e+00, -1.38144168e+00,\n",
              "       -3.67946301e+00, -1.78445728e+00, -4.38968707e+00, -4.20389913e-01,\n",
              "       -1.08269139e+00, -1.73073668e+00, -8.30972958e-02, -1.33768824e+00,\n",
              "       -1.74391572e+00, -2.84797676e-01, -3.83140395e-01, -1.73723085e+00,\n",
              "       -3.12188149e-01, -4.29764509e-02, -1.71107813e+00, -1.83168832e+00,\n",
              "       -1.52424103e+00, -1.41643278e+00, -8.32282136e-01, -1.39633784e+00,\n",
              "       -6.15485885e-01, -1.19242975e+00, -1.75048276e+00, -4.11398634e-01,\n",
              "       -1.76582390e+00, -1.76025634e+00, -1.44124847e+00, -2.24120211e+00,\n",
              "       -4.07189035e-01, -1.44213311e+00, -2.24773598e+00, -1.85418621e+00,\n",
              "       -6.95584834e-01, -1.40329395e+00, -1.76872915e+00, -1.59230713e+00,\n",
              "       -1.31037900e+00, -1.55678229e+00, -1.76206401e+00, -1.65438912e+00,\n",
              "       -2.59349166e-01, -4.82528656e-01, -1.59465582e+00, -1.52592929e+00,\n",
              "       -2.09136687e+00, -1.47169979e-01, -1.59948257e+00, -1.63790233e+00,\n",
              "       -1.62157105e+00, -1.36460149e+00, -2.20792635e+00, -2.02870657e+00,\n",
              "       -1.82252982e+00, -1.40168868e+00, -1.68378655e+00, -5.36843967e-01,\n",
              "       -4.55115213e-01, -4.82143984e-01, -1.56284160e+00, -1.54633314e+00,\n",
              "       -4.95990457e-01, -3.06304641e-01, -1.76967942e+00, -9.85184664e-01,\n",
              "       -1.55554279e+00, -1.68066845e+00, -1.95572354e+00,  5.82990907e-02,\n",
              "       -1.97474456e+00, -2.05294178e+00, -1.67759894e+00, -1.52715433e+00,\n",
              "        2.52473017e-03, -1.24782678e+00, -1.68329507e+00, -1.05441868e+00,\n",
              "       -1.63489034e+00,  5.93505030e-02,  1.51375092e-02, -1.12412054e+00,\n",
              "       -2.04174537e+00, -3.11926180e-01, -1.62594889e+00, -1.43408169e+00,\n",
              "       -1.50045047e+00, -1.50343930e+00, -1.56844946e+00, -1.29034533e+00,\n",
              "       -1.47572480e+00, -2.24984729e+00, -3.74101034e+00, -1.66166136e+00,\n",
              "       -9.37997223e-01, -1.48307936e+00, -1.44092394e+00, -1.71652083e+00,\n",
              "       -1.90427457e+00, -1.83708270e+00, -3.33075383e-01, -1.83952581e+00,\n",
              "       -1.69376820e+00, -7.73756877e-01, -1.47927807e+00, -5.69456024e-01,\n",
              "       -1.17589059e-01, -1.93010717e+00, -1.67711109e+00, -6.46196462e-01,\n",
              "       -2.70855827e-01, -2.06301862e+00, -2.17302060e+00, -2.11347802e-01,\n",
              "       -1.58871063e+00, -2.22250473e+00, -3.38665889e+00, -4.56006250e-01,\n",
              "       -1.74790931e+00, -1.78006138e+00, -3.50115964e+00, -1.73638703e+00,\n",
              "       -3.44743960e-01, -1.89465462e+00, -1.85786453e+00, -1.96995119e+00,\n",
              "       -1.35557827e+00, -2.02886431e+00, -1.55874847e+00, -1.60827941e+00,\n",
              "       -3.88451116e-01, -3.96240783e-01, -2.01953176e-01, -5.20982842e-01,\n",
              "       -1.74830777e+00, -1.53684858e+00, -1.76022531e+00, -1.77827426e+00,\n",
              "       -9.84099684e-02, -1.28554003e+00, -2.17516572e+00, -1.41887268e+00,\n",
              "       -1.58801217e+00, -2.56569544e-01, -1.43239189e+00, -3.07939861e-01,\n",
              "       -1.73759896e+00, -4.47526290e-01, -9.84087961e-01, -4.00106266e-01,\n",
              "       -9.59526689e-04, -1.50925320e+00, -1.57408900e+00, -1.74217487e+00,\n",
              "       -2.02930546e+00, -5.65122845e-01, -1.83883667e+00, -1.73383921e+00,\n",
              "       -3.59869077e-01, -1.87103028e+00, -1.47065054e+00, -1.43625888e+00,\n",
              "       -1.64464996e+00, -1.94018042e+00, -1.57509170e+00, -1.93753841e+00,\n",
              "       -1.69294566e+00, -2.03081017e+00, -6.83695550e-01, -1.61010853e+00,\n",
              "       -1.26934690e+00, -2.31862639e-01, -1.49538894e+00, -6.82096758e-01,\n",
              "       -6.78987993e-01, -2.86870486e-01, -9.61682371e-01, -1.92998850e+00,\n",
              "       -1.52621294e+00, -1.02731809e+00, -1.70918176e+00, -1.52703895e+00,\n",
              "       -1.71004705e+00, -1.61845802e+00, -1.83704943e-01, -3.10879377e+00,\n",
              "       -2.00412665e+00, -7.47554699e-01, -1.60552425e-01,  2.43544387e-02,\n",
              "       -1.73243643e+00, -2.16607547e+00, -1.40796223e+00, -1.59602405e+00,\n",
              "       -8.12032077e-01, -6.73856358e-01, -1.51640122e+00, -1.39719582e+00,\n",
              "       -1.97880683e+00, -2.51507399e-01, -1.67696625e+00, -1.39645734e+00,\n",
              "       -2.09595162e+00, -1.14170179e+00, -1.35763516e+00, -1.41529298e-01,\n",
              "       -1.22849561e+00, -5.73300562e-02, -8.02994198e-03, -1.43586001e+00,\n",
              "       -2.20761922e+00, -4.53353298e-01, -1.26673797e+00, -4.48999782e-01,\n",
              "       -1.37431271e+00, -2.19695857e+00, -6.19705061e-01, -8.79741535e-01,\n",
              "       -1.54165615e+00, -1.53344547e+00, -1.18236474e+00, -2.03387714e+00,\n",
              "       -2.02674844e+00, -1.53061062e+00, -5.66844255e-01, -2.10438923e+00,\n",
              "       -1.56900739e+00, -1.49546778e+00, -5.48431918e-01, -1.84362631e+00,\n",
              "       -1.44189286e+00, -1.88470074e+00,  9.23320963e-02, -1.64005766e+00,\n",
              "       -2.17859845e+00, -1.43337900e-02, -1.10372106e+00, -1.54567359e+00,\n",
              "       -1.53832730e+00, -1.65291485e+00, -1.71134314e+00, -1.39593151e-02,\n",
              "       -1.54843494e+00, -2.14658215e-02, -1.77674954e+00, -7.74492452e-01,\n",
              "       -5.44500991e-02, -1.34544817e+00, -1.79497088e+00, -1.44319461e+00,\n",
              "       -1.66331955e+00, -1.68182821e+00, -1.57769063e+00, -1.71127046e+00,\n",
              "       -1.78782314e+00, -1.34515938e+00, -1.44993352e+00, -1.91406191e+00,\n",
              "       -1.48543586e+00, -1.82515271e+00, -8.82180461e-01, -2.13961815e-01,\n",
              "       -1.65694240e+00, -1.99974794e+00, -1.39252268e+00, -1.61938948e+00,\n",
              "       -1.76206278e+00, -1.32990620e+00, -1.55838033e+00, -9.11750258e-01,\n",
              "       -1.08158445e-01, -1.16826387e+00, -1.54213637e+00, -2.61311787e-01,\n",
              "       -2.12743187e+00, -1.76848523e+00, -1.67295231e+00, -1.58944430e+00,\n",
              "       -1.67169966e+00, -2.02684893e+00, -1.57923801e+00, -2.16885913e+00,\n",
              "       -5.96337409e-01, -3.69577553e+00, -1.73120232e-01, -1.49342031e+00,\n",
              "       -1.39231243e+00, -1.64303860e+00, -1.77025470e+00, -1.70985453e+00,\n",
              "       -3.56082564e-01, -1.09708502e+00, -1.65076090e+00, -5.64877530e-01,\n",
              "       -4.69704484e-01, -1.61961639e+00, -1.90239018e+00, -1.92290182e+00,\n",
              "       -1.51067098e+00, -2.26188199e+00, -1.39561975e+00, -1.37432508e+00,\n",
              "       -9.81117091e-01, -1.95678063e+00, -5.97649893e-01, -2.08491726e+00,\n",
              "       -2.05398014e+00, -1.94612063e+00, -1.21541042e+00, -1.13231391e+00,\n",
              "       -1.87322526e+00, -2.11253072e+00, -1.83770757e+00, -2.04168984e+00,\n",
              "       -1.74853387e+00, -2.49545066e+00, -1.41273474e+00, -2.11325028e+00,\n",
              "       -1.73526543e+00, -6.44961737e-01, -1.58522272e+00, -1.02660363e+00,\n",
              "       -1.52748192e+00, -1.57456380e+00, -1.24002882e+00, -2.01643136e+00,\n",
              "       -1.60409879e+00, -2.25678650e+00, -1.53014467e+00, -1.48378263e+00,\n",
              "       -2.11559986e+00, -1.85673811e+00, -1.65071750e+00, -1.63515461e+00,\n",
              "       -1.71195016e+00, -8.12650425e-01, -1.87498488e+00, -1.38016745e+00,\n",
              "       -1.38656073e+00, -1.81951064e+00, -1.69043441e+00, -1.91312655e+00,\n",
              "       -1.74864836e+00, -1.51461000e-01, -2.40699356e-01,  6.21060767e-02,\n",
              "       -6.73095551e-01, -1.32554628e+00, -1.30922791e+00, -8.13079537e-01,\n",
              "       -1.42607809e+00, -5.18846532e-01, -2.22580870e-01, -1.28780598e+00,\n",
              "       -8.13100713e-02, -6.72984309e-01, -1.58993045e+00, -1.43535255e+00,\n",
              "       -5.99567247e-02, -1.19392813e-01, -2.89915584e-01, -1.40451619e+00,\n",
              "       -2.06071988e+00, -5.38985369e-01, -2.84640515e-01, -9.67588153e-01,\n",
              "       -8.01486377e-01, -1.74826026e+00, -1.40075844e+00, -1.38126729e+00,\n",
              "       -1.59592625e+00, -1.54002986e+00, -2.04057209e+00,  4.24976362e-02,\n",
              "       -1.91561616e+00, -3.98314283e+00, -1.94896474e+00, -1.52101349e+00,\n",
              "       -7.07109989e-01, -1.40100967e+00, -1.79890416e+00, -1.57037078e+00,\n",
              "       -1.34390164e+00, -2.35410365e-01, -1.23706563e+00, -4.05455829e-01,\n",
              "       -1.22425597e+00, -3.08696738e-02, -2.90806800e-01, -4.05009651e-01,\n",
              "       -2.88965149e+00, -3.77890055e-01, -9.20666479e-01, -1.69820099e+00,\n",
              "       -2.69736709e-01, -7.87895233e-01, -1.60464825e+00, -1.36599571e+00,\n",
              "       -1.90875846e+00, -1.69262267e+00, -5.72397607e-01, -5.87121040e-01,\n",
              "       -1.62685210e+00, -7.48570266e-01, -1.91062587e+00, -3.01625280e+00,\n",
              "       -1.68670810e+00, -6.80656001e-01, -6.48407740e-01, -1.55514478e+00,\n",
              "       -1.92185952e+00, -1.15053026e-01, -5.73203392e-02, -1.82928326e+00,\n",
              "       -1.56025386e+00, -1.46490527e+00, -2.03792212e-01, -8.26945535e-01,\n",
              "       -1.72724522e+00, -1.83771525e-01, -1.54603393e+00, -1.30234896e+00,\n",
              "       -1.57975982e+00, -2.22718614e+00, -1.59064155e+00, -1.99721764e+00,\n",
              "       -1.73385925e+00, -1.53264002e+00, -1.64757718e+00, -6.97130285e-01,\n",
              "       -1.84665162e+00, -8.78025942e-01, -5.57218667e-01, -7.57291537e-01,\n",
              "       -1.70447395e+00, -1.43190443e+00, -1.55408458e+00, -9.99416928e-02,\n",
              "       -1.48266041e+00, -5.34261260e-01, -1.64420700e+00, -5.56043493e-01,\n",
              "       -1.65569512e+00, -1.99653873e+00, -3.38674346e-01, -1.81854438e+00,\n",
              "        3.94915174e-03, -1.71643679e+00, -1.75396090e+00, -2.46901060e+00,\n",
              "       -1.28763015e+00, -1.74606696e+00, -1.71855391e+00, -2.89230024e-01,\n",
              "       -2.22479758e+00, -2.04783807e+00, -1.75761074e+00, -1.55327243e+00,\n",
              "       -1.17990665e+00, -2.65686452e-01, -1.62286457e+00, -2.24230642e+00,\n",
              "       -2.20534516e+00, -1.43074784e+00, -1.49661431e+00, -1.51063632e+00,\n",
              "       -1.57632891e+00, -1.37943855e+00, -1.70854238e+00, -2.25984953e+00,\n",
              "       -1.68622567e+00, -1.75423023e+00, -1.82477213e+00,  4.82530837e-02,\n",
              "       -1.97289850e+00, -9.55273210e-01, -4.68039459e-01, -1.56341369e+00,\n",
              "       -1.94794122e+00, -1.37045465e+00, -1.56985303e+00, -1.41348480e+00,\n",
              "       -7.11910140e-01, -1.93896509e+00, -1.48611448e+00, -1.45148262e+00,\n",
              "       -6.32665892e-02,  6.07755491e-02, -9.15143476e-01, -2.48370088e-01,\n",
              "       -6.48251327e-01, -2.09019034e+00, -4.50043311e-01, -2.80118519e-01,\n",
              "       -1.36050667e+00, -5.63058532e-01, -1.68904899e+00, -1.01762998e+00,\n",
              "        4.90535943e-02, -1.55414195e+00, -2.26946520e+00, -1.75000270e+00,\n",
              "       -8.23134829e-01, -1.33896822e+00, -3.08811905e-01, -1.96049920e+00,\n",
              "       -1.00316986e+00, -2.28885306e-01, -1.47275649e+00, -1.74924069e+00,\n",
              "       -1.56856396e+00, -6.90531272e-01, -1.43380691e+00, -2.22452294e+00,\n",
              "       -3.68433952e-01, -1.77158112e+00, -1.95548607e+00, -1.48865510e+00,\n",
              "       -3.85651688e-01, -4.52496255e-01, -1.85710005e+00, -1.69799449e+00,\n",
              "       -1.52115901e+00, -1.50154503e+00, -1.55581935e+00, -1.73549125e+00,\n",
              "       -2.16407673e-01, -1.25554902e+00,  2.57390753e-02, -7.52362791e-02,\n",
              "       -8.96884427e-02, -1.32774772e+00, -2.16396321e+00, -2.07312053e+00,\n",
              "       -1.42987657e+00, -9.45021502e-01, -5.89987230e-02, -1.78061288e+00,\n",
              "       -1.30832628e+00, -1.40852658e+00, -1.41677253e+00, -1.32004994e+00,\n",
              "       -1.64946686e+00, -1.67595466e+00, -5.44250599e-01, -1.60109940e+00,\n",
              "       -1.71386574e+00, -2.01536218e+00, -1.50730843e+00, -3.09896499e-01,\n",
              "       -6.58112684e-01, -2.22767419e+00, -2.72107394e-01, -2.06454720e+00])"
            ]
          },
          "metadata": {},
          "execution_count": 75
        }
      ]
    },
    {
      "cell_type": "markdown",
      "source": [
        "### 9.2.1 가우시안 혼합을 사용한 이상치 탐지\n"
      ],
      "metadata": {
        "id": "-Z2aiEe2KzaU"
      }
    },
    {
      "cell_type": "code",
      "source": [
        "densities = gm.score_samples(X)\n",
        "density_threshold = np.percentile(densities,4)\n",
        "anomalies = X[densities < density_threshold]"
      ],
      "metadata": {
        "id": "6B4FfAuV8Lup"
      },
      "execution_count": 76,
      "outputs": []
    },
    {
      "cell_type": "markdown",
      "source": [
        "### 9.2.2 클러스터 개수 선택\n",
        "* BIC, AIC를 최소화하는 모델을 찾음"
      ],
      "metadata": {
        "id": "abaQVhl3LDjY"
      }
    },
    {
      "cell_type": "code",
      "source": [
        "gm.bic(X)"
      ],
      "metadata": {
        "colab": {
          "base_uri": "https://localhost:8080/"
        },
        "id": "vZMO-luL8LsS",
        "outputId": "1082c44c-45dd-4645-b720-469a355a1813"
      },
      "execution_count": 77,
      "outputs": [
        {
          "output_type": "execute_result",
          "data": {
            "text/plain": [
              "2770.974768960084"
            ]
          },
          "metadata": {},
          "execution_count": 77
        }
      ]
    },
    {
      "cell_type": "code",
      "source": [
        "gm.aic(X)"
      ],
      "metadata": {
        "colab": {
          "base_uri": "https://localhost:8080/"
        },
        "id": "O6ESHTU9LRch",
        "outputId": "e2f5537a-2ba7-4c77-9f25-691b4ade8018"
      },
      "execution_count": 78,
      "outputs": [
        {
          "output_type": "execute_result",
          "data": {
            "text/plain": [
              "2687.5429292173876"
            ]
          },
          "metadata": {},
          "execution_count": 78
        }
      ]
    },
    {
      "cell_type": "markdown",
      "source": [
        "### 9.2.3 베이즈 가우시안 혼합 모델\n",
        "* 최적의 클러스터 개수를 수동으로 찾지않고 불필요한 클러스터의 가중치를 0으로 혹은 0에 가깝게 만드는 **BayesianGaussianMixture**사용"
      ],
      "metadata": {
        "id": "KZft4_YLLUR9"
      }
    },
    {
      "cell_type": "code",
      "source": [
        "from sklearn.mixture import BayesianGaussianMixture\n",
        "bgm = BayesianGaussianMixture(n_components=10, n_init=10)\n",
        "bgm.fit(X)\n",
        "np.round(bgm.weights_,2)"
      ],
      "metadata": {
        "colab": {
          "base_uri": "https://localhost:8080/"
        },
        "id": "r4mnns9b8Lp8",
        "outputId": "490f5104-6194-4b7a-c933-c3e9d687e43b"
      },
      "execution_count": 79,
      "outputs": [
        {
          "output_type": "execute_result",
          "data": {
            "text/plain": [
              "array([0.11, 0.12, 0.14, 0.13, 0.12, 0.13, 0.11, 0.13, 0.  , 0.  ])"
            ]
          },
          "metadata": {},
          "execution_count": 79
        }
      ]
    },
    {
      "cell_type": "markdown",
      "source": [
        "### 9.2.4 이상치 탐지와 특이치 탐지를 위한 알고리즘\n",
        "* PCA: 차원 축소 기법\n",
        "* Fast_MCD: 데이터셋 정제\n",
        "* 아이솔레이션 포레스트: 무작위로 성장한 결정 트리로 구성된 랜덤 포레스트 생성\n",
        "* LOF: 샘플 주위 밀도와 이웃 주위 밀도 비교\n",
        "* one-class SVM: 특이치 탐지에 잘 맞음"
      ],
      "metadata": {
        "id": "nBVjdTvRLmDc"
      }
    }
  ]
}
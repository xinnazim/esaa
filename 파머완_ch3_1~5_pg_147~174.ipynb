{
  "nbformat": 4,
  "nbformat_minor": 0,
  "metadata": {
    "colab": {
      "provenance": [],
      "authorship_tag": "ABX9TyOlfjjnMRkeRgqb6yHnBrRq",
      "include_colab_link": true
    },
    "kernelspec": {
      "name": "python3",
      "display_name": "Python 3"
    },
    "language_info": {
      "name": "python"
    }
  },
  "cells": [
    {
      "cell_type": "markdown",
      "metadata": {
        "id": "view-in-github",
        "colab_type": "text"
      },
      "source": [
        "<a href=\"https://colab.research.google.com/github/xinnazim/esaa/blob/main/%ED%8C%8C%EB%A8%B8%EC%99%84_ch3_1~5_pg_147~174.ipynb\" target=\"_parent\"><img src=\"https://colab.research.google.com/assets/colab-badge.svg\" alt=\"Open In Colab\"/></a>"
      ]
    },
    {
      "cell_type": "markdown",
      "source": [
        "# 3. 평가\n",
        "* 분류의 성능 평가 지표\n",
        "  * 정확도\n",
        "  * 오차행렬\n",
        "  * 정밀도\n",
        "  * F1스코어\n",
        "  * ROC AUC\n",
        "\n",
        "* 1. 정확도 : 실제데이터에서 예측 데이터가 얼마나 같은지를 판단하는 지표\n",
        "\n",
        "  * 정확도=예측 결과가 동일한 데이터 건수/전체 예측 데이터 건수 \n"
      ],
      "metadata": {
        "id": "iCxKbIwxjZwF"
      }
    },
    {
      "cell_type": "code",
      "execution_count": 1,
      "metadata": {
        "id": "hRuRza_XJmOd"
      },
      "outputs": [],
      "source": [
        "# 사이킷런의 BaseEstimator 클래스를 상속받아 아무런 학습을 하지지 않고 성별에 따라 생존자를 예측하는 단순한 classifier 생성 \n",
        "\n",
        "from sklearn.base import BaseEstimator\n",
        "\n",
        "class MyDummyClassifier(BaseEstimator):\n",
        "  #fit() 메서드는 아무것도 학습하지 않음.\n",
        "  def fit( self, X, y=None):\n",
        "    pass\n",
        "  #predict() 메서드는 단순히 Sex 피쳐가 1이면 0, 그렇지 않으면 1로 예측\n",
        "  def predict(self, X):\n",
        "    pred=np.zeros((X.shape[0],1))\n",
        "    for i in range( X.shape[0]):\n",
        "      if X['Sex'].iloc[i]==1:\n",
        "        pred[i]=0\n",
        "      else: pred[i]=1\n",
        "\n",
        "    return pred"
      ]
    },
    {
      "cell_type": "code",
      "source": [
        "# 앞선 장에서 만들어놓은 전처리함수 \n",
        "from sklearn.preprocessing import LabelEncoder\n",
        "#Null 처리 함수\n",
        "def fillna(df):\n",
        "    df['Age'].fillna(df['Age'].mean(), inplace=True)\n",
        "    df['Cabin'].fillna('N', inplace=True)\n",
        "    df['Embarked'].fillna('N', inplace=True)\n",
        "    df['Fare'].fillna(0, inplace=True)\n",
        "    return df\n",
        "\n",
        "#머신러닝 알고리즘에 불필요한 속성 제거\n",
        "def drop_features(df):\n",
        "    df.drop(['PassengerId', 'Name', 'Ticket'], axis=1, inplace=True)\n",
        "    return df\n",
        "\n",
        "#레이블 인코딩 수행\n",
        "def format_features(df):\n",
        "    df['Cabin'] = df['Cabin'].str[:1]\n",
        "    features = ['Cabin', 'Sex', 'Embarked']\n",
        "    for feature in features:\n",
        "        le = LabelEncoder()\n",
        "        le = le.fit(df[feature])\n",
        "        df[feature] = le.transform(df[feature])\n",
        "    return df\n",
        "\n",
        "#앞에서 설정한 데이터 전처리 함수 호출\n",
        "def transform_features(df):\n",
        "    df = fillna(df)\n",
        "    df = drop_features(df)\n",
        "    df = format_features(df)\n",
        "    return df"
      ],
      "metadata": {
        "id": "-6TO2Nw9ICvv"
      },
      "execution_count": 6,
      "outputs": []
    },
    {
      "cell_type": "code",
      "source": [
        "import pandas as pd\n",
        "import numpy as np\n",
        "from sklearn.model_selection import train_test_split\n",
        "from sklearn.metrics import accuracy_score\n",
        "from sklearn import preprocessing\n",
        "\n",
        "# 원본 데이터를 재로딩, 데이터 가공, 학습데이터/테스트 데이터 분할 \n",
        "titanic_df =pd.read_csv('train.csv')\n",
        "y_titanic_df = titanic_df['Survived']\n",
        "X_titanic_df= titanic_df.drop('Survived', axis=1)\n",
        "X_titanic_df = transform_features(X_titanic_df)\n",
        "X_train, X_test, y_train, y_test=train_test_split(X_titanic_df, y_titanic_df, test_size = 0.2, random_state=0)\n",
        "\n",
        "# 위에서 생성한 DummyClassifier를 이용해 학습/예측/평가 수행 \n",
        "myclf = MyDummyClassifier()\n",
        "myclf.fit(X_train ,y_train)\n",
        "\n",
        "mypredictions = myclf.predict(X_test)\n",
        "print('Dummy Classifier의 정확도는: {0:.4f}'.format(accuracy_score(y_test , mypredictions)))"
      ],
      "metadata": {
        "id": "BAd1SqeJMa1F",
        "colab": {
          "base_uri": "https://localhost:8080/"
        },
        "outputId": "3eee42e1-01b7-4068-9ec4-f3dc48a9ff8c"
      },
      "execution_count": 7,
      "outputs": [
        {
          "output_type": "stream",
          "name": "stdout",
          "text": [
            "Dummy Classifier의 정확도는: 0.7877\n"
          ]
        }
      ]
    },
    {
      "cell_type": "code",
      "source": [
        "#MNIST 데이터 세트를 변환해 불균형한 데이터 세트에 정확도 지표 적용시 어떤 문제?\n",
        "\n",
        "from sklearn.datasets import load_digits\n",
        "from sklearn.model_selection import train_test_split\n",
        "from sklearn.base import BaseEstimator\n",
        "from sklearn.metrics import accuracy_score\n",
        "import numpy as np\n",
        "import pandas as pd\n",
        "\n",
        "#불균형한 데이터 세트와 Dummy classifier 생성 \n",
        "\n",
        "class MyFakeClassifier(BaseEstimator):\n",
        "  def fit(Self,X,y):\n",
        "    pass\n",
        "\n",
        "  #입력값으로 들어오는 X데이터 세트의 크기만큼 모두 0값으로 만들어서 변환\n",
        "  def predict(self,X):\n",
        "    return np.zeros((len(X),1),dtype=bool)\n",
        "\n",
        "#사이킷런의 내장 데이터 세트인 load_digits()를 이용해 MNIST데이터 로딩\n",
        "digits=load_digits()\n",
        "\n",
        "#digits 번호가 7번이면 True이고 이를 astype(int)로 1로 변환, 7번이 아니면 False이고 0으로 변환\n",
        "y=(digits.target==7).astype(int)\n",
        "X_train, X_test, y_train, y_test=train_test_split(digits.data, y, random_state=11)"
      ],
      "metadata": {
        "id": "uQ5UXRXGIjus"
      },
      "execution_count": 8,
      "outputs": []
    },
    {
      "cell_type": "code",
      "source": [
        "\n",
        "#불균형한 레이블 데이터 분포도 확인\n",
        "print('레이블 테스트 세트 크기:', y_test.shape)\n",
        "print('테스트 세트 레이블 0 과 1의 분포도')\n",
        "print(pd.Series(y_test).value_counts())\n",
        "\n",
        "#Dummy Classifier로 학습/예측/정확도 평가\n",
        "fakeclf = MyFakeClassifier()\n",
        "fakeclf.fit(X_train,y_train)\n",
        "fakepred=fakeclf.predict(X_test)\n",
        "print('모든 예측을 0으로 하여도 정확도는:{: .3f}'.format(accuracy_score(y_test,fakepred)))"
      ],
      "metadata": {
        "id": "r-aFkBZiMauJ",
        "colab": {
          "base_uri": "https://localhost:8080/"
        },
        "outputId": "3fd6cb54-7203-4f69-dc11-92a35655502a"
      },
      "execution_count": 9,
      "outputs": [
        {
          "output_type": "stream",
          "name": "stdout",
          "text": [
            "레이블 테스트 세트 크기: (450,)\n",
            "테스트 세트 레이블 0 과 1의 분포도\n",
            "0    405\n",
            "1     45\n",
            "dtype: int64\n",
            "모든 예측을 0으로 하여도 정확도는: 0.900\n"
          ]
        }
      ]
    },
    {
      "cell_type": "markdown",
      "source": [
        "* 2. 오차행렬: 학습된 분류모델이 예측을 수행하면서 얼마나 헷갈리고 있는지도 보여줌\n",
        "\n",
        "![KakaoTalk_20230414_140701822.jpg](data:image/jpeg;base64,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)"
      ],
      "metadata": {
        "id": "F0xkdTbBIzm_"
      }
    },
    {
      "cell_type": "markdown",
      "source": [
        "* TN: 예측값을 Negative 값 0으로 예측했고 실제 값 역시 Negative 값 0\n",
        "* FP: 예측값을 Positive 값 1로 예측했는데 실제 값은 Negative 값 0\n",
        "* FN: 예측값을 Negative 값 0으로 예측했는데 실제 값은 Positive 값 1\n",
        "* TP: 예측값을 Positvie 값 1로 예측했고 실제 값 역시 Positive 값 1"
      ],
      "metadata": {
        "id": "7xy6pJk-KZuB"
      }
    },
    {
      "cell_type": "code",
      "source": [
        "from sklearn.metrics import confusion_matrix\n",
        "confusion_matrix(y_test,fakepred)\n",
        "# 오차 행렬과 동일한 위치"
      ],
      "metadata": {
        "id": "x34LQmjnMaru",
        "colab": {
          "base_uri": "https://localhost:8080/"
        },
        "outputId": "365e03c0-7bbe-4b70-8dce-246d8172c132"
      },
      "execution_count": 10,
      "outputs": [
        {
          "output_type": "execute_result",
          "data": {
            "text/plain": [
              "array([[405,   0],\n",
              "       [ 45,   0]])"
            ]
          },
          "metadata": {},
          "execution_count": 10
        }
      ]
    },
    {
      "cell_type": "markdown",
      "source": [
        "* 정확도=(TN+TP)/(TN+FP+FN+TP)\n",
        "* 불균형한 이진 분류 데이터 세트에서는 positive 건수가 매우 작아 데이터에 기반한 ML알고리즘은 Negative로 예측 정확도가 높아지는 경향이 발생\n",
        "* 정확도는 분류 모델의 성능을 측정할 수 있는 한가지 요소일 뿐."
      ],
      "metadata": {
        "id": "Hdo6Q7o0KuBy"
      }
    },
    {
      "cell_type": "markdown",
      "source": [
        "* 3. 정밀도와 재현율: positive 데이터 세트의 에측 성능에 좀 더 초점을 맞춘 평가지표\n",
        "\n",
        "* 정밀도=TP/(FP+TP)\n",
        "* 재현율=TP/(FN+TP)\n",
        "* 재현율이 중요 지표인 경우: 실제 양성 데이터를 음성으로 잘못판단하게 되면 업무상 큰 영향이 발생하는 경우 (ex.암 판단 모델, 보험 사기)\n",
        "* 정밀도가 중요 지표인 경우 : 실제 음성 데이터를 양성으로 잘못 판단 X 경우우"
      ],
      "metadata": {
        "id": "N4EYPIi9LONj"
      }
    },
    {
      "cell_type": "code",
      "source": [
        "#get_clf_eval(): 오차행렬, 정확도, 정밀도, 재현율 등의 평가 한번에 호출출\n",
        "from sklearn.metrics import accuracy_score, precision_score, recall_score, confusion_matrix\n",
        "\n",
        "def get_clf_eval(y_test, pred):\n",
        "  confusion = confusion_matrix(y_test, pred)\n",
        "  accuracy = accuracy_score(y_test, pred)\n",
        "  precision = precision_score(y_test, pred)\n",
        "  recall = recall_score(y_test, pred)\n",
        "  print('오차 행렬')\n",
        "  print(confusion)\n",
        "  print('정확도: {0:.4f}, 정밀도: {1:.4f}, 재현율: {2:.4f}'.format(accuracy, precision, recall))"
      ],
      "metadata": {
        "id": "_ZjElpJGMao5"
      },
      "execution_count": 11,
      "outputs": []
    },
    {
      "cell_type": "code",
      "source": [
        "import pandas as pd\n",
        "from sklearn.model_selection import train_test_split\n",
        "from sklearn.linear_model import LogisticRegression\n",
        "\n",
        "# 원본 데이터를 재로딩, 데이터 가공, 학습 데이터/테스트 분할.\n",
        "titanic_df=pd.read_csv('train.csv')\n",
        "y_titanic_df=titanic_df['Survived']\n",
        "X_titanic_df=titanic_df.drop('Survived', axis=1)\n",
        "X_titanic_df=transform_features(X_titanic_df)\n",
        "\n",
        "X_train, X_test, y_train, y_test= train_test_split(X_titanic_df, y_titanic_df, test_size=0.2, random_state=11)\n",
        "\n",
        "lr_clf=LogisticRegression()\n",
        "\n",
        "lr_clf.fit(X_train, y_train)\n",
        "pred=lr_clf.predict(X_test)\n",
        "get_clf_eval(y_test, pred)\n",
        "\n",
        "#정밀도>재현율"
      ],
      "metadata": {
        "id": "Axm82y0fMamY",
        "colab": {
          "base_uri": "https://localhost:8080/"
        },
        "outputId": "4d52b01c-58a0-499e-b41c-10ae5f6a4c5c"
      },
      "execution_count": 12,
      "outputs": [
        {
          "output_type": "stream",
          "name": "stdout",
          "text": [
            "오차 행렬\n",
            "[[104  14]\n",
            " [ 13  48]]\n",
            "정확도: 0.8492, 정밀도: 0.7742, 재현율: 0.7869\n"
          ]
        },
        {
          "output_type": "stream",
          "name": "stderr",
          "text": [
            "/usr/local/lib/python3.9/dist-packages/sklearn/linear_model/_logistic.py:458: ConvergenceWarning: lbfgs failed to converge (status=1):\n",
            "STOP: TOTAL NO. of ITERATIONS REACHED LIMIT.\n",
            "\n",
            "Increase the number of iterations (max_iter) or scale the data as shown in:\n",
            "    https://scikit-learn.org/stable/modules/preprocessing.html\n",
            "Please also refer to the documentation for alternative solver options:\n",
            "    https://scikit-learn.org/stable/modules/linear_model.html#logistic-regression\n",
            "  n_iter_i = _check_optimize_result(\n"
          ]
        }
      ]
    },
    {
      "cell_type": "markdown",
      "source": [
        "# 정밀도/재현율 트레이드 오프\n",
        "* 임곗값을 조정해 정밀도, 재현율 수치 변경 가능 (반드시 하나가 높아지면 다른 하나의 수치는 떨어짐)\n",
        "* 예측 확률이 큰 레이블값으로 예측\n",
        "* 이진 분류에서는 임곗값이 0.5로 이보다 크면 Positive, 작으면 Negative로 결정"
      ],
      "metadata": {
        "id": "M6zFhq3kMKdy"
      }
    },
    {
      "cell_type": "code",
      "source": [
        "pred_proba=lr_clf.predict_proba(X_test)\n",
        "pred=lr_clf.predict(X_test)\n",
        "print('pred_proba( ) 의 결과 Shape: {0}'.format(pred_proba.shape))\n",
        "print('pred_proba array에서 앞 3개만 샘플로 추출 \\n:', pred_proba[:3])\n",
        "\n",
        "# 예측 확률 array와 예측 결괏값 array를 병합(concatenate)해 예측 확률과 결괏값을 한눈에 확인\n",
        "pred_proba_result=np.concatenate([pred_proba, pred.reshape(-1, 1)], axis=1)\n",
        "print('두 개의 class 중에서 더 큰 확률을 클래스 값으로 예측 \\n', pred_proba_result[:3])"
      ],
      "metadata": {
        "id": "8mOQS9QMMaiO",
        "colab": {
          "base_uri": "https://localhost:8080/"
        },
        "outputId": "e0847f5e-4ec5-459b-9e63-bcb07e6675c7"
      },
      "execution_count": 13,
      "outputs": [
        {
          "output_type": "stream",
          "name": "stdout",
          "text": [
            "pred_proba( ) 의 결과 Shape: (179, 2)\n",
            "pred_proba array에서 앞 3개만 샘플로 추출 \n",
            ": [[0.46197474 0.53802526]\n",
            " [0.87872398 0.12127602]\n",
            " [0.87719492 0.12280508]]\n",
            "두 개의 class 중에서 더 큰 확률을 클래스 값으로 예측 \n",
            " [[0.46197474 0.53802526 1.        ]\n",
            " [0.87872398 0.12127602 0.        ]\n",
            " [0.87719492 0.12280508 0.        ]]\n"
          ]
        }
      ]
    },
    {
      "cell_type": "code",
      "source": [
        "# 넘파이 ndarray 입력\n",
        "from sklearn.preprocessing import Binarizer\n",
        "\n",
        "X = [[1, -1, 2],\n",
        "     [2, 0, 0],\n",
        "     [0, 1.1, 1.2]]\n",
        "\n",
        "# X의 개별 원소들이 threshold 값보다 같거나 작으면 0을, 크면 1을 반환\n",
        "binarizer = Binarizer(threshold=1.1)\n",
        "print(binarizer.fit_transform(X))"
      ],
      "metadata": {
        "id": "afoI_7-jMafX",
        "colab": {
          "base_uri": "https://localhost:8080/"
        },
        "outputId": "c6b18591-c3e7-4d19-d584-d918754cf3e6"
      },
      "execution_count": 14,
      "outputs": [
        {
          "output_type": "stream",
          "name": "stdout",
          "text": [
            "[[0. 0. 1.]\n",
            " [1. 0. 0.]\n",
            " [0. 0. 1.]]\n"
          ]
        }
      ]
    },
    {
      "cell_type": "code",
      "source": [
        "from sklearn.preprocessing import Binarizer\n",
        "\n",
        "# Binarizer의 threshold 설정값. 분류 결정 임곗값임.\n",
        "custom_threshold = 0.5\n",
        "\n",
        "# predict_proba() 반환값의 두 번째 칼럼\n",
        "pred_proba_1 = pred_proba[:, 1].reshape(-1,1)\n",
        "\n",
        "binarizer = Binarizer(threshold=custom_threshold).fit(pred_proba_1)\n",
        "custom_predict = binarizer.transform(pred_proba_1)\n",
        "\n",
        "get_clf_eval(y_test, custom_predict)"
      ],
      "metadata": {
        "id": "ae8lhO_AMvFP",
        "colab": {
          "base_uri": "https://localhost:8080/"
        },
        "outputId": "5fd379be-3673-4128-b81f-117ea342f742"
      },
      "execution_count": 15,
      "outputs": [
        {
          "output_type": "stream",
          "name": "stdout",
          "text": [
            "오차 행렬\n",
            "[[104  14]\n",
            " [ 13  48]]\n",
            "정확도: 0.8492, 정밀도: 0.7742, 재현율: 0.7869\n"
          ]
        }
      ]
    },
    {
      "cell_type": "code",
      "source": [
        "\n",
        "# Binarizer threshold임곗값을 0.4로 낮춤\n",
        "custom_threshold = 0.4\n",
        "pred_proba_1 = pred_proba[:, 1].reshape(-1, 1)\n",
        "binarizer = Binarizer(threshold=custom_threshold).fit(pred_proba_1)\n",
        "custom_predict = binarizer.transform(pred_proba_1)\n",
        "\n",
        "get_clf_eval(y_test, custom_predict)\n",
        "#재현율이 올라가고 정밀도가 떨어진다. "
      ],
      "metadata": {
        "id": "VAoJTTqoMvDA",
        "colab": {
          "base_uri": "https://localhost:8080/"
        },
        "outputId": "6b4c4a60-e97a-4d13-b44e-bf875ed292cc"
      },
      "execution_count": 16,
      "outputs": [
        {
          "output_type": "stream",
          "name": "stdout",
          "text": [
            "오차 행렬\n",
            "[[98 20]\n",
            " [10 51]]\n",
            "정확도: 0.8324, 정밀도: 0.7183, 재현율: 0.8361\n"
          ]
        }
      ]
    },
    {
      "cell_type": "code",
      "source": [
        "\n",
        "# 테스트를 수행할 모든 임곗값을 리스트 객체로 저장.\n",
        "thresholds = [0.4, 0.45, 0.50, 0.55, 0.60]\n",
        "\n",
        "def get_eval_by_threshold(y_test, pred_proba_c1, thresholds):\n",
        "    # thresholds list 객체 내의 값을 차례로 iteration하면서 Evaluation 수행.\n",
        "    for custom_threshold in thresholds:\n",
        "        binarizer = Binarizer(threshold=custom_threshold).fit(pred_proba_c1)\n",
        "        custom_predict = binarizer.transform(pred_proba_c1)\n",
        "        print('임곗값:', custom_threshold)\n",
        "        get_clf_eval(y_test, custom_predict)\n",
        "        \n",
        "get_eval_by_threshold(y_test, pred_proba[:, 1].reshape(-1, 1), thresholds)\n",
        "\n",
        "#재현율 향상시키면서 다른 수치 감소, 0.45 적당당"
      ],
      "metadata": {
        "id": "ulBU1K1TMvAu",
        "colab": {
          "base_uri": "https://localhost:8080/"
        },
        "outputId": "65afce21-13cd-4f2f-9b5a-58129e980601"
      },
      "execution_count": 17,
      "outputs": [
        {
          "output_type": "stream",
          "name": "stdout",
          "text": [
            "임곗값: 0.4\n",
            "오차 행렬\n",
            "[[98 20]\n",
            " [10 51]]\n",
            "정확도: 0.8324, 정밀도: 0.7183, 재현율: 0.8361\n",
            "임곗값: 0.45\n",
            "오차 행렬\n",
            "[[103  15]\n",
            " [ 12  49]]\n",
            "정확도: 0.8492, 정밀도: 0.7656, 재현율: 0.8033\n",
            "임곗값: 0.5\n",
            "오차 행렬\n",
            "[[104  14]\n",
            " [ 13  48]]\n",
            "정확도: 0.8492, 정밀도: 0.7742, 재현율: 0.7869\n",
            "임곗값: 0.55\n",
            "오차 행렬\n",
            "[[109   9]\n",
            " [ 15  46]]\n",
            "정확도: 0.8659, 정밀도: 0.8364, 재현율: 0.7541\n",
            "임곗값: 0.6\n",
            "오차 행렬\n",
            "[[112   6]\n",
            " [ 16  45]]\n",
            "정확도: 0.8771, 정밀도: 0.8824, 재현율: 0.7377\n"
          ]
        }
      ]
    },
    {
      "cell_type": "code",
      "source": [
        "from sklearn.metrics import precision_recall_curve\n",
        "\n",
        "# 레이블 값이 1일 때의 예측 확률을 추출\n",
        "pred_proba_class1 = lr_clf.predict_proba(X_test)[:, 1]\n",
        "\n",
        "# 실제값 데이터 세트와 레이블 값이 1일 때의 예측 확률을 precision_recall_curve 인자로 입력\n",
        "precisions, recalls, thresholds = precision_recall_curve(y_test, pred_proba_class1)\n",
        "print('반환된 분류 결정 임곗값 배열의 Shpae:', thresholds.shape)\n",
        "\n",
        "# 반환된 임곗값 로우가 143건이므로 샘플로 10건만 추출하되, 임곗값을 15 Step으로 추출.\n",
        "thr_index = np.arange(0, thresholds.shape[0], 15)\n",
        "print('샘플 추출을 위한 임계값 배열의 index 10개:', thr_index)\n",
        "print('샘플용 10개의 임곗값: ', np.round(thresholds[thr_index], 2))\n",
        "\n",
        "# 15 step 단위로 추출된 임계값에 따른 정밀도와 재현율 값\n",
        "print('샘플 임계값별 정밀도: ', np.round(precisions[thr_index], 3))\n",
        "print('샘플 임계값별 재현율: ', np.round(recalls[thr_index], 3))\n",
        "\n",
        "# 임곗값이 증가할수록 정밀도는 증가하고, 재현율은 감소소"
      ],
      "metadata": {
        "id": "vGR8f69dMu-Q",
        "colab": {
          "base_uri": "https://localhost:8080/"
        },
        "outputId": "55e4348e-7ec7-4635-aae8-fa1e9fb09ce7"
      },
      "execution_count": 18,
      "outputs": [
        {
          "output_type": "stream",
          "name": "stdout",
          "text": [
            "반환된 분류 결정 임곗값 배열의 Shpae: (165,)\n",
            "샘플 추출을 위한 임계값 배열의 index 10개: [  0  15  30  45  60  75  90 105 120 135 150]\n",
            "샘플용 10개의 임곗값:  [0.01 0.09 0.11 0.13 0.15 0.23 0.35 0.5  0.63 0.75 0.89]\n",
            "샘플 임계값별 정밀도:  [0.341 0.372 0.415 0.448 0.505 0.585 0.688 0.774 0.913 0.935 0.938]\n",
            "샘플 임계값별 재현율:  [1.    1.    0.967 0.918 0.902 0.902 0.869 0.787 0.689 0.475 0.246]\n"
          ]
        }
      ]
    },
    {
      "cell_type": "code",
      "source": [
        "import matplotlib.pyplot as plt\n",
        "import matplotlib.ticker as ticker\n",
        "%matplotlib inline\n",
        "\n",
        "def precision_recall_curve_plot(y_test, pred_proba_c1):\n",
        "    # threshold ndarray와 이 threshold에 따른 정밀도, 재현율 ndarray 추출\n",
        "    precisions, recalls, thresholds = precision_recall_curve(y_test, pred_proba_c1)\n",
        "    \n",
        "    # X축을 threshold값으로, Y축은 정밀도, 재현율 값으로 각각 Plot 수행. 정밀도는 점선으로 표시\n",
        "    plt.figure(figsize=(8, 6))\n",
        "    threshold_boundary = thresholds.shape[0]\n",
        "    plt.plot(thresholds, precisions[0:threshold_boundary], linestyle='--', label='precision')\n",
        "    plt.plot(thresholds, recalls[0:threshold_boundary], label='recall')\n",
        "    \n",
        "    # threshold 값 X 축의 Scale을 0,1 단위로 변경\n",
        "    start, end = plt.xlim()\n",
        "    plt.xticks(np.round(np.arange(start, end, 0.1), 2))\n",
        "    \n",
        "    # X축, y축 label과 legend, 그리고 grid 설정\n",
        "    plt.xlabel('Threshold value'); plt.ylabel('Precision and Recall value')\n",
        "    plt.legend(); plt.grid()\n",
        "    plt.show()\n",
        "    \n",
        "precision_recall_curve_plot(y_test, lr_clf.predict_proba(X_test)[:, 1])"
      ],
      "metadata": {
        "id": "tqqoOQcKMu2H",
        "colab": {
          "base_uri": "https://localhost:8080/",
          "height": 542
        },
        "outputId": "710091ba-4e74-4a54-ccdd-3998c5188ff3"
      },
      "execution_count": 19,
      "outputs": [
        {
          "output_type": "display_data",
          "data": {
            "text/plain": [
              "<Figure size 800x600 with 1 Axes>"
            ],
            "image/png": "[encoded data removed]"
          },
          "metadata": {}
        }
      ]
    },
    {
      "cell_type": "markdown",
      "source": [
        "# 정밀도와 재현율의 맹점\n",
        "* 정밀도가 100% 되는 방법 : 확실한 기준이 되는 경우=P ,나머지는 모두=N 으로 예측 \n",
        "* 재현율이 100 : 모든 환자=P\n"
      ],
      "metadata": {
        "id": "mzEoXnCzNQTg"
      }
    },
    {
      "cell_type": "markdown",
      "source": [
        "* 4.F1스코어: 정밀도와 재현율을 결합한 지표\n",
        "  * 정밀도와 재현율이 어느 한쪽으로 치우치지않는 수치를 나타낼 때 상대적으로 높은 값을 가짐짐"
      ],
      "metadata": {
        "id": "hM0CgEpeNktV"
      }
    },
    {
      "cell_type": "code",
      "source": [
        "from sklearn.metrics import f1_score\n",
        "f1 = f1_score(y_test, pred)\n",
        "print('F1 스코어: {0:.4f}'.format(f1))"
      ],
      "metadata": {
        "id": "kYbG0Tt8M3qB",
        "colab": {
          "base_uri": "https://localhost:8080/"
        },
        "outputId": "ce394fb6-49ed-4f15-81b8-abd6bfb6638a"
      },
      "execution_count": 20,
      "outputs": [
        {
          "output_type": "stream",
          "name": "stdout",
          "text": [
            "F1 스코어: 0.7805\n"
          ]
        }
      ]
    },
    {
      "cell_type": "code",
      "source": [
        "# 임곗값을 변화시키면서 F1스코어를 포함한 평가 지표를 구해보기기\n",
        "def get_clf_eval(y_test, pred):\n",
        "    confusion = confusion_matrix(y_test, pred)\n",
        "    accuracy = accuracy_score(y_test, pred)\n",
        "    precision = precision_score(y_test, pred)\n",
        "    recall = recall_score(y_test, pred)\n",
        "    # F1 스코어 추가\n",
        "    f1 = f1_score(y_test, pred)\n",
        "    print('오차행렬')\n",
        "    print(confusion)\n",
        "    # f1 score print 추가\n",
        "    print('정확도: {0:.4f}, 정밀도: {1:.4f}, 재현율: {2:.4f}, F1:{3:.4f}'.format(accuracy, precision, recall, f1))\n",
        "    \n",
        "thresholds = [0.4, 0.45, 0.50, 0.55, 0.60]\n",
        "pred_proba = lr_clf.predict_proba(X_test)\n",
        "get_eval_by_threshold(y_test, pred_proba[:, 1].reshape(-1, 1), thresholds)\n",
        "\n",
        "# 임곗값이 0.6일때 가장 좋지만, 재현율은 크게 감소하므로 주의 "
      ],
      "metadata": {
        "id": "CMVNDhEjM5wg",
        "colab": {
          "base_uri": "https://localhost:8080/"
        },
        "outputId": "abad59ae-886d-4586-f8f8-785ab4a5d389"
      },
      "execution_count": 21,
      "outputs": [
        {
          "output_type": "stream",
          "name": "stdout",
          "text": [
            "임곗값: 0.4\n",
            "오차행렬\n",
            "[[98 20]\n",
            " [10 51]]\n",
            "정확도: 0.8324, 정밀도: 0.7183, 재현율: 0.8361, F1:0.7727\n",
            "임곗값: 0.45\n",
            "오차행렬\n",
            "[[103  15]\n",
            " [ 12  49]]\n",
            "정확도: 0.8492, 정밀도: 0.7656, 재현율: 0.8033, F1:0.7840\n",
            "임곗값: 0.5\n",
            "오차행렬\n",
            "[[104  14]\n",
            " [ 13  48]]\n",
            "정확도: 0.8492, 정밀도: 0.7742, 재현율: 0.7869, F1:0.7805\n",
            "임곗값: 0.55\n",
            "오차행렬\n",
            "[[109   9]\n",
            " [ 15  46]]\n",
            "정확도: 0.8659, 정밀도: 0.8364, 재현율: 0.7541, F1:0.7931\n",
            "임곗값: 0.6\n",
            "오차행렬\n",
            "[[112   6]\n",
            " [ 16  45]]\n",
            "정확도: 0.8771, 정밀도: 0.8824, 재현율: 0.7377, F1:0.8036\n"
          ]
        }
      ]
    },
    {
      "cell_type": "markdown",
      "source": [
        "* 5.ROC곡선(수신자 판단 곡선)과 AUC :이진 분류의 예측 성능 측정에서 중요하게 사용되는 지표\n",
        "  * ROC곡선(수신자 판단 곡선):FPR이 변할 때, TPR(재현율)이 어떻게 변하는지를 나타냄 \n",
        "  * 민감도(TPR): 실제값 Postive(양성)가 정확히 예측되어야 하는 수준(질병 있는 사람은 질병이 있는 것으로 양성 판정)\n",
        "\n",
        "  * 특이성(TNR): 실제값 Negative(음성)가 정확히 예측되어야 하는 수준(질병 없는 사람은 질병 없는 것으로 음성 판정)"
      ],
      "metadata": {
        "id": "Z20_uUozOGL5"
      }
    },
    {
      "cell_type": "code",
      "source": [
        "from sklearn.metrics import roc_curve\n",
        "\n",
        "# 레이블 값이 1일 때의 예측 확률을 추출\n",
        "pred_proba_class1 = lr_clf.predict_proba(X_test)[:, 1]\n",
        "\n",
        "fprs, tprs, thresholds = roc_curve(y_test, pred_proba_class1)\n",
        "# 반환된 임곗값 배열 로우가 47건이므로 샘플로 10건만 추출하되, 임곗값을 5 Step으로 추출.\n",
        "# thresholds[0]은 max(예측확률)+1로 임의 설정됨. 이를 제외하기 위해 np.arange는 1부터 시작\n",
        "thr_index = np.arange(1, thresholds.shape[0], 5)\n",
        "print('샘플 추출을 위한 임곗값 배열의 index 10개:', thr_index)\n",
        "print('샘플용 10개의 임곗값: ', np.round(thresholds[thr_index], 2))\n",
        "\n",
        "# 5 Step 단위로 추출된 임계값에 따른 FPR, TPR 값\n",
        "print('샘플 임곗값별 FPR: ', np.round(fprs[thr_index], 3))\n",
        "print('샘플 임곗값별 TPR: ', np.round(tprs[thr_index], 3))\n",
        "     "
      ],
      "metadata": {
        "id": "SO2d8o6cM5uP",
        "colab": {
          "base_uri": "https://localhost:8080/"
        },
        "outputId": "a4c06724-5dd4-4d05-e47b-f0c6ebb08fbc"
      },
      "execution_count": 24,
      "outputs": [
        {
          "output_type": "stream",
          "name": "stdout",
          "text": [
            "샘플 추출을 위한 임곗값 배열의 index 10개: [ 1  6 11 16 21 26 31 36 41 46 51]\n",
            "샘플용 10개의 임곗값:  [0.97 0.65 0.63 0.56 0.45 0.4  0.35 0.15 0.13 0.11 0.11]\n",
            "샘플 임곗값별 FPR:  [0.    0.017 0.034 0.076 0.127 0.169 0.203 0.466 0.585 0.686 0.797]\n",
            "샘플 임곗값별 TPR:  [0.033 0.639 0.721 0.754 0.803 0.836 0.885 0.902 0.934 0.967 0.984]\n"
          ]
        }
      ]
    },
    {
      "cell_type": "code",
      "source": [
        "def roc_curve_plot(y_test, pred_proba_c1):\n",
        "    # 임곗값에 따른 FPR, TPR 값을 반환받음.\n",
        "    fprs, tprs, thresholds = roc_curve(y_test, pred_proba_c1)\n",
        "    # ROC 곡선을 그래프 곡선으로 그림.\n",
        "    plt.plot(fprs, tprs, label='ROC')\n",
        "    # 가운데 대각선 직선을 그림\n",
        "    plt.plot([0, 1], [0, 1], 'k--', label='Random')\n",
        "    \n",
        "    # FPR X 축의 Scale을 0.1 단위로 변경, X, Y축 명 설정 등\n",
        "    start, end = plt.xlim()\n",
        "    plt.xticks(np.round(np.arange(start, end, 0.1), 2))\n",
        "    plt.xlim(0, 1); plt.ylim(0, 1)\n",
        "    plt.xlabel('FPR(1 - Sensitivity)'); plt.ylabel('TPR( Recall )')\n",
        "    plt.legend()\n",
        "    \n",
        "roc_curve_plot(y_test, pred_proba[:, 1])  \n",
        "\n",
        "# 임곗값이 1에 가까운 값에서 점점 작아지면서 FPR 커짐"
      ],
      "metadata": {
        "id": "3UJ-i4GjM5r-",
        "colab": {
          "base_uri": "https://localhost:8080/",
          "height": 455
        },
        "outputId": "8f346e06-574c-4d68-cec2-be6d7f58ab16"
      },
      "execution_count": 25,
      "outputs": [
        {
          "output_type": "display_data",
          "data": {
            "text/plain": [
              "<Figure size 640x480 with 1 Axes>"
            ],
            "image/png": "[encoded data removed]"
          },
          "metadata": {}
        }
      ]
    },
    {
      "cell_type": "code",
      "source": [
        "\n",
        "from sklearn.metrics import accuracy_score, confusion_matrix, precision_score\n",
        "from sklearn.metrics import recall_score, f1_score, roc_auc_score\n",
        "import numpy as np\n",
        "\n",
        "'''\n",
        "print(confusion_matrix(y_target, preds))\n",
        "print(\"정확도:\", np.round(accuracy_score(y_target, preds), 4))\n",
        "print(\"정밀도:\", np.round(precision_score(y_target, preds), 4))\n",
        "print(\"재현율:\", np.round(recall_score(y_target, preds), 4))\n",
        "'''\n"
      ],
      "metadata": {
        "id": "RWu9O7HHM5pe",
        "colab": {
          "base_uri": "https://localhost:8080/",
          "height": 54
        },
        "outputId": "0edce070-2c5d-4c0b-94f4-91eddd6fdef1"
      },
      "execution_count": 27,
      "outputs": [
        {
          "output_type": "execute_result",
          "data": {
            "text/plain": [
              "'\\nprint(confusion_matrix(y_target, preds))\\nprint(\"정확도:\", np.round(accuracy_score(y_target, preds), 4))\\nprint(\"정밀도:\", np.round(precision_score(y_target, preds), 4))\\nprint(\"재현율:\", np.round(recall_score(y_target, preds), 4))\\n'"
            ],
            "application/vnd.google.colaboratory.intrinsic+json": {
              "type": "string"
            }
          },
          "metadata": {},
          "execution_count": 27
        }
      ]
    },
    {
      "cell_type": "code",
      "source": [
        "def get_clf_eval(y_test, pred=None, pred_proba=None):\n",
        "    confusion = confusion_matrix(y_test, pred)\n",
        "    accuracy = accuracy_score(y_test, pred)\n",
        "    precision = precision_score(y_test, pred)\n",
        "    recall = recall_score(y_test, pred)\n",
        "    f1 = f1_score(y_test, pred)\n",
        "    # ROC-AUC 추가\n",
        "    roc_auc = roc_auc_score(y_test, pred_proba)\n",
        "    print('오차 행렬')\n",
        "    print(confusion)\n",
        "    # ROC-AUC print 추가\n",
        "    print('정확도: {0:.4f}, 정밀도: {1:.4f}, 재현율: {2:.4f}, \\\n",
        "        F1: {3:.4f}, AUC:{4:.4f}'.format(accuracy, precision, recall, f1, roc_auc))"
      ],
      "metadata": {
        "id": "968JLL41M5m_"
      },
      "execution_count": 28,
      "outputs": []
    }
  ]
}
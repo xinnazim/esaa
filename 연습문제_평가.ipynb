{
  "nbformat": 4,
  "nbformat_minor": 0,
  "metadata": {
    "colab": {
      "provenance": [],
      "include_colab_link": true
    },
    "kernelspec": {
      "name": "python3",
      "display_name": "Python 3"
    },
    "language_info": {
      "name": "python"
    }
  },
  "cells": [
    {
      "cell_type": "markdown",
      "metadata": {
        "id": "view-in-github",
        "colab_type": "text"
      },
      "source": [
        "<a href=\"https://colab.research.google.com/github/xinnazim/esaa/blob/main/%EC%97%B0%EC%8A%B5%EB%AC%B8%EC%A0%9C_%ED%8F%89%EA%B0%80.ipynb\" target=\"_parent\"><img src=\"https://colab.research.google.com/assets/colab-badge.svg\" alt=\"Open In Colab\"/></a>"
      ]
    },
    {
      "cell_type": "code",
      "metadata": {
        "id": "4Zqc4O_BfWqZ"
      },
      "source": [
        "# 모듈 및 데이터 로드 \n",
        "from sklearn.datasets import load_breast_cancer \n",
        "from sklearn.linear_model import LogisticRegression \n",
        "\n",
        "data = load_breast_cancer() \n",
        "\n",
        "# x, y 데이터 생성 \n",
        "X = data.data \n",
        "\n",
        "# 악성을 1, 양성을 0으로 \n",
        "y = 1 - data.target \n",
        "\n",
        "# 특징으로 사용할 데이터를 평균으로 구분하는 10개 열로 축소\n",
        "X = X[:, :10] \n",
        "\n",
        "# 로지스틱 회귀 모델 생성 \n",
        "model_lor = LogisticRegression(solver = 'lbfgs') \n",
        "model_lor.fit(X,y) \n",
        "y_pred = model_lor.predict(X)"
      ],
      "execution_count": 1,
      "outputs": []
    },
    {
      "cell_type": "markdown",
      "metadata": {
        "id": "faoAfc1ZgAcq"
      },
      "source": [
        "* 오차 행렬(혼동 행렬) 생성"
      ]
    },
    {
      "cell_type": "code",
      "metadata": {
        "id": "JdML8YM0gBtu",
        "colab": {
          "base_uri": "https://localhost:8080/"
        },
        "outputId": "6dbef462-cab5-4d6f-895c-f35b63cb8132"
      },
      "source": [
        "# 종속 변수와 예측 결과로 혼동 행렬 생성\n",
        "from sklearn.metrics import accuracy_score, precision_score, recall_score, confusion_matrix\n",
        "\n",
        "confusion = confusion_matrix(y, y_pred)\n",
        "print(confusion)"
      ],
      "execution_count": 7,
      "outputs": [
        {
          "output_type": "stream",
          "name": "stdout",
          "text": [
            "[[337  20]\n",
            " [ 30 182]]\n"
          ]
        }
      ]
    },
    {
      "cell_type": "markdown",
      "metadata": {
        "id": "xbcK3rT-gFRk"
      },
      "source": [
        "* 정확도"
      ]
    },
    {
      "cell_type": "code",
      "metadata": {
        "id": "NLiXFuYvgI1e",
        "colab": {
          "base_uri": "https://localhost:8080/"
        },
        "outputId": "ca7faf70-f0e2-4dda-def5-52e0f51613ae"
      },
      "source": [
        "accuracy = accuracy_score(y, y_pred)\n",
        "print(accuracy)"
      ],
      "execution_count": 9,
      "outputs": [
        {
          "output_type": "stream",
          "name": "stdout",
          "text": [
            "0.9121265377855887\n"
          ]
        }
      ]
    },
    {
      "cell_type": "markdown",
      "metadata": {
        "id": "UYnVZS9igNNf"
      },
      "source": [
        "* 정밀도"
      ]
    },
    {
      "cell_type": "code",
      "metadata": {
        "id": "j108NueLgMKF",
        "colab": {
          "base_uri": "https://localhost:8080/"
        },
        "outputId": "92175f51-994e-4074-dd8f-c320927717f2"
      },
      "source": [
        "precision = precision_score(y, y_pred)\n",
        "print(precision)"
      ],
      "execution_count": 10,
      "outputs": [
        {
          "output_type": "stream",
          "name": "stdout",
          "text": [
            "0.900990099009901\n"
          ]
        }
      ]
    },
    {
      "cell_type": "markdown",
      "metadata": {
        "id": "2-MBquNJZOM4"
      },
      "source": [
        "* 재현율"
      ]
    },
    {
      "cell_type": "code",
      "metadata": {
        "id": "uje4ivPvZPwv",
        "colab": {
          "base_uri": "https://localhost:8080/"
        },
        "outputId": "a5ee8eb6-72ed-4257-d4d6-e5ed5c1c89e9"
      },
      "source": [
        "recall = recall_score(y, y_pred)\n",
        "print(recall)"
      ],
      "execution_count": 13,
      "outputs": [
        {
          "output_type": "stream",
          "name": "stdout",
          "text": [
            "0.8584905660377359\n"
          ]
        }
      ]
    },
    {
      "cell_type": "markdown",
      "metadata": {
        "id": "Cw1p3yjagUCH"
      },
      "source": [
        "* F1 score"
      ]
    },
    {
      "cell_type": "code",
      "metadata": {
        "id": "hPdtYdoDgYgV"
      },
      "source": [
        "from sklearn.metrics import f1_score\n",
        "f1 = f1_score(y, y_pred)"
      ],
      "execution_count": 14,
      "outputs": []
    },
    {
      "cell_type": "markdown",
      "metadata": {
        "id": "fzwIFsKOW5a1"
      },
      "source": [
        "* 예측 확률(pred_proba) : 0으로 예측할 확률이 0.1보다 크면 y_pred2 에 넣는다 가정."
      ]
    },
    {
      "cell_type": "code",
      "metadata": {
        "id": "nw9dxOiPW40l"
      },
      "source": [
        "from sklearn.preprocessing import Binarizer\n",
        "pred_proba=model_lor.predict_proba(X)\n",
        "\n",
        "mypred_proba=pred_proba[:,1].reshape(-1,1)\n",
        "binarizer=Binarizer(threshold=0.1) \n",
        "\n",
        "y_pred2=binarizer.transform(mypred_proba)"
      ],
      "execution_count": 22,
      "outputs": []
    },
    {
      "cell_type": "code",
      "metadata": {
        "id": "Y-WrHrICYFB1",
        "colab": {
          "base_uri": "https://localhost:8080/"
        },
        "outputId": "60f4c0c6-c012-49aa-bbac-714272f27ce8"
      },
      "source": [
        "# y과 y_pred2의 혼동행렬, 정확도, 정밀도, 재현율, f1 score 구하기\n",
        "\n",
        "# 혼동행렬\n",
        "print(confusion_matrix(y,y_pred2))\n",
        "# 정확도\n",
        "print(accuracy_score(y, y_pred2))\n",
        "# 정밀도\n",
        "print(precision_score(y,y_pred2))\n",
        "# 재현율\n",
        "print(recall_score(y,y_pred2))\n",
        "# f1 score\n",
        "print(f1_score(y, y_pred2))"
      ],
      "execution_count": 26,
      "outputs": [
        {
          "output_type": "stream",
          "name": "stdout",
          "text": [
            "[[267  90]\n",
            " [  6 206]]\n",
            "0.8312829525483304\n",
            "0.6959459459459459\n",
            "0.9716981132075472\n",
            "0.8110236220472441\n"
          ]
        }
      ]
    },
    {
      "cell_type": "markdown",
      "metadata": {
        "id": "itgf_OjsjU-R"
      },
      "source": [
        "* ROC 곡선 시각화"
      ]
    },
    {
      "cell_type": "code",
      "metadata": {
        "id": "DW75xBokjXKy"
      },
      "source": [
        "from sklearn.metrics import roc_curve \n",
        "myproba = model_lor.predict_proba(X) \n",
        "fpr, tpr, thresholds = roc_curve(y, myproba[:,1])"
      ],
      "execution_count": 27,
      "outputs": []
    },
    {
      "cell_type": "code",
      "metadata": {
        "id": "CSJ69SGJVh7m",
        "colab": {
          "base_uri": "https://localhost:8080/",
          "height": 448
        },
        "outputId": "a7a8454a-cafa-4b9a-fa39-5c786dd98e09"
      },
      "source": [
        "import matplotlib.pyplot as plt \n",
        "plt.plot(fpr, tpr, label=\"ROC\")"
      ],
      "execution_count": 28,
      "outputs": [
        {
          "output_type": "execute_result",
          "data": {
            "text/plain": [
              "[<matplotlib.lines.Line2D at 0x7fc41b53b610>]"
            ]
          },
          "metadata": {},
          "execution_count": 28
        },
        {
          "output_type": "display_data",
          "data": {
            "text/plain": [
              "<Figure size 640x480 with 1 Axes>"
            ],
            "image/png": "[encoded data removed]"
          },
          "metadata": {}
        }
      ]
    },
    {
      "cell_type": "markdown",
      "metadata": {
        "id": "fL4as0YsWYD7"
      },
      "source": [
        "* ROC AUC 값"
      ]
    },
    {
      "cell_type": "code",
      "metadata": {
        "id": "-SEElVZTWaVp",
        "colab": {
          "base_uri": "https://localhost:8080/"
        },
        "outputId": "aa96812d-979b-4812-b1d7-04c64563fc69"
      },
      "source": [
        "from sklearn.metrics import roc_auc_score\n",
        "print(round(roc_auc_score(y, y_pred), 3))"
      ],
      "execution_count": 29,
      "outputs": [
        {
          "output_type": "stream",
          "name": "stdout",
          "text": [
            "0.901\n"
          ]
        }
      ]
    }
  ]
}
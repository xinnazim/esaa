{
  "nbformat": 4,
  "nbformat_minor": 0,
  "metadata": {
    "colab": {
      "provenance": [],
      "authorship_tag": "ABX9TyNFK/+jZBQBFPnyE9avhh8M",
      "include_colab_link": true
    },
    "kernelspec": {
      "name": "python3",
      "display_name": "Python 3"
    },
    "language_info": {
      "name": "python"
    }
  },
  "cells": [
    {
      "cell_type": "markdown",
      "metadata": {
        "id": "view-in-github",
        "colab_type": "text"
      },
      "source": [
        "<a href=\"https://colab.research.google.com/github/xinnazim/esaa/blob/main/%EB%91%90%EC%9E%87_%ED%8C%90%EB%8B%A4%EC%8A%A4_pg_241~_242%2C_256~263.ipynb\" target=\"_parent\"><img src=\"https://colab.research.google.com/assets/colab-badge.svg\" alt=\"Open In Colab\"/></a>"
      ]
    },
    {
      "cell_type": "markdown",
      "source": [
        "# 12-1 datetime 오브젝트\n",
        "\n",
        "* datetime 라이브러리: 날짜와 시간을 처리하는 다양한 기능 제공"
      ],
      "metadata": {
        "id": "C0hU_qHNznpZ"
      }
    },
    {
      "cell_type": "code",
      "execution_count": 2,
      "metadata": {
        "id": "tfmcMQ5pMzZ4"
      },
      "outputs": [],
      "source": [
        "# date 오브젝트 사용\n",
        "\n",
        "#1.라이브러리 불러오기\n",
        "\n",
        "from datetime import datetime"
      ]
    },
    {
      "cell_type": "code",
      "source": [
        "#2.now.today 메서드 사용: 현재 시간 출력\n",
        "now1=datetime.now()\n",
        "print(now1)\n",
        "\n",
        "now2=datetime.today()\n",
        "print(now2)"
      ],
      "metadata": {
        "colab": {
          "base_uri": "https://localhost:8080/"
        },
        "id": "O3acbVE_0BzK",
        "outputId": "e706e1c7-d222-42ce-aab2-58a8043f9ed2"
      },
      "execution_count": 3,
      "outputs": [
        {
          "output_type": "stream",
          "name": "stdout",
          "text": [
            "2023-04-07 07:24:37.223491\n",
            "2023-04-07 07:24:37.223742\n"
          ]
        }
      ]
    },
    {
      "cell_type": "code",
      "source": [
        "#3.시간을 직접 입력하여 인자로 전달\n",
        "\n",
        "t1=datetime.now() #밀리초도 나옴옴\n",
        "t2=datetime(1970,1,1)\n",
        "t3=datetime(1970,12,12,13,24,34)\n",
        "\n",
        "print(t1)\n",
        "print(t2)\n",
        "print(t3)\n",
        "\n"
      ],
      "metadata": {
        "colab": {
          "base_uri": "https://localhost:8080/"
        },
        "id": "KblEIJn00Bxn",
        "outputId": "a19f190a-e4d4-4727-ec11-22bc7379021b"
      },
      "execution_count": 4,
      "outputs": [
        {
          "output_type": "stream",
          "name": "stdout",
          "text": [
            "2023-04-07 07:24:37.241148\n",
            "1970-01-01 00:00:00\n",
            "1970-12-12 13:24:34\n"
          ]
        }
      ]
    },
    {
      "cell_type": "code",
      "source": [
        "#4.시간 계산\n",
        "\n",
        "diff1=t1-t2\n",
        "print(diff1)\n",
        "print(type(diff1))\n",
        "\n",
        "diff2=t2-t1\n",
        "print(diff2)\n",
        "print(type(diff2))"
      ],
      "metadata": {
        "colab": {
          "base_uri": "https://localhost:8080/"
        },
        "id": "zcyTYbCb0BvL",
        "outputId": "1b2950f0-e340-4655-b48c-3227359f38bc"
      },
      "execution_count": 5,
      "outputs": [
        {
          "output_type": "stream",
          "name": "stdout",
          "text": [
            "19454 days, 7:24:37.241148\n",
            "<class 'datetime.timedelta'>\n",
            "-19455 days, 16:35:22.758852\n",
            "<class 'datetime.timedelta'>\n"
          ]
        }
      ]
    },
    {
      "cell_type": "markdown",
      "source": [
        "# 테슬라 주식 데이터로 시간 계산하기기"
      ],
      "metadata": {
        "id": "vsISYR793dz_"
      }
    },
    {
      "cell_type": "code",
      "source": [
        "# pandas-datareader 라이브러리 이용\n",
        "\n",
        "#pip install pandas-datareader"
      ],
      "metadata": {
        "id": "N1bKtZQL3dmm"
      },
      "execution_count": 6,
      "outputs": []
    },
    {
      "cell_type": "code",
      "source": [
        "# 1.주식 데이터 저장\n",
        "\n",
        "import pandas as pd\n",
        "\n",
        "pd.core.common.is_list_like=pd.api.types.is_list_like\n",
        "import pandas_datareader as pdr\n",
        "\n",
        "tesla=pd.read_csv('tesla_stock_quandl.csv')\n",
        "\n",
        "#tesla에 데이터 프레임 저장\n",
        "#tesla = pdr.get_data_quandl('TSLA',api_key = 'eHzxZDiCctAzjinwwRJw')\n",
        "\n",
        "#tesla에 저장된 데이터프레임을 파일로 저장\n",
        "#tesla.to_csv('tesla_stock_quandl.csv')\n",
        "\n",
        "     "
      ],
      "metadata": {
        "id": "wTCRXKcA3dit"
      },
      "execution_count": 7,
      "outputs": []
    },
    {
      "cell_type": "code",
      "source": [
        "#2.시간 계산을 위한 자료형 변환\n",
        "print(tesla.head())"
      ],
      "metadata": {
        "id": "gDS2x0s83dfm",
        "colab": {
          "base_uri": "https://localhost:8080/"
        },
        "outputId": "55221bb6-19ac-445f-97fd-45943d76d787"
      },
      "execution_count": 8,
      "outputs": [
        {
          "output_type": "stream",
          "name": "stdout",
          "text": [
            "         Date    Open    High     Low   Close    Volume  ExDividend  \\\n",
            "0  2018-03-27  304.00  304.27  277.18  279.18  13696168           0   \n",
            "1  2018-03-26  307.34  307.59  291.36  304.18   8324639           0   \n",
            "2  2018-03-23  311.25  311.61  300.45  301.54   6600538           0   \n",
            "3  2018-03-22  313.89  318.82  308.18  309.10   4914307           0   \n",
            "4  2018-03-21  310.25  322.44  310.19  316.53   5927881           0   \n",
            "\n",
            "   SplitRatio  AdjOpen  AdjHigh  AdjLow  AdjClose  AdjVolume  \n",
            "0           1   304.00   304.27  277.18    279.18   13696168  \n",
            "1           1   307.34   307.59  291.36    304.18    8324639  \n",
            "2           1   311.25   311.61  300.45    301.54    6600538  \n",
            "3           1   313.89   318.82  308.18    309.10    4914307  \n",
            "4           1   310.25   322.44  310.19    316.53    5927881  \n"
          ]
        }
      ]
    },
    {
      "cell_type": "code",
      "source": [
        "# 3. date 열을 datetime형으로 변환하려면 read_csv 메서드에서 parse_dates 인자에 date 열 전달\n",
        "\n",
        "tesla = pd.read_csv(\"tesla_stock_quandl.csv\", parse_dates = [0])\n",
        "print(tesla.info())\n"
      ],
      "metadata": {
        "id": "yKmEBPp20BqQ",
        "colab": {
          "base_uri": "https://localhost:8080/"
        },
        "outputId": "d173c76f-3bca-452f-d05f-3c23561ca9c3"
      },
      "execution_count": 9,
      "outputs": [
        {
          "output_type": "stream",
          "name": "stdout",
          "text": [
            "<class 'pandas.core.frame.DataFrame'>\n",
            "RangeIndex: 1949 entries, 0 to 1948\n",
            "Data columns (total 13 columns):\n",
            " #   Column      Non-Null Count  Dtype         \n",
            "---  ------      --------------  -----         \n",
            " 0   Date        1949 non-null   datetime64[ns]\n",
            " 1   Open        1949 non-null   float64       \n",
            " 2   High        1949 non-null   float64       \n",
            " 3   Low         1949 non-null   float64       \n",
            " 4   Close       1949 non-null   float64       \n",
            " 5   Volume      1949 non-null   int64         \n",
            " 6   ExDividend  1949 non-null   int64         \n",
            " 7   SplitRatio  1949 non-null   int64         \n",
            " 8   AdjOpen     1949 non-null   float64       \n",
            " 9   AdjHigh     1949 non-null   float64       \n",
            " 10  AdjLow      1949 non-null   float64       \n",
            " 11  AdjClose    1949 non-null   float64       \n",
            " 12  AdjVolume   1949 non-null   int64         \n",
            "dtypes: datetime64[ns](1), float64(8), int64(4)\n",
            "memory usage: 198.1 KB\n",
            "None\n"
          ]
        }
      ]
    },
    {
      "cell_type": "code",
      "source": [
        "# 4. date열의 자료형이 datetime 오브젝트로 변환됨, dt접근자 사용 가능\n",
        "\n",
        "#2010년 6월 데이터 추출\n",
        "print(tesla.loc[(tesla.Date.dt.year == 2010) & (tesla.Date.dt.month == 6)])"
      ],
      "metadata": {
        "colab": {
          "base_uri": "https://localhost:8080/"
        },
        "id": "DN_r6_Oh6z5g",
        "outputId": "ba70cdc4-b5e5-443f-85bb-1b4f4c2ae15f"
      },
      "execution_count": 10,
      "outputs": [
        {
          "output_type": "stream",
          "name": "stdout",
          "text": [
            "           Date   Open     High    Low  Close    Volume  ExDividend  \\\n",
            "1947 2010-06-30  25.79  30.4192  23.30  23.83  17187100           0   \n",
            "1948 2010-06-29  19.00  25.0000  17.54  23.89  18766300           0   \n",
            "\n",
            "      SplitRatio  AdjOpen  AdjHigh  AdjLow  AdjClose  AdjVolume  \n",
            "1947           1    25.79  30.4192   23.30     23.83   17187100  \n",
            "1948           1    19.00  25.0000   17.54     23.89   18766300  \n"
          ]
        }
      ]
    },
    {
      "cell_type": "markdown",
      "source": [
        "# datetime 오브젝트와 인덱스-DatetimeIndex\n",
        "\n",
        "* dateuime 오브젝트를 데이터프레임의 인덱스로 설정하면 바로 추출 가능능"
      ],
      "metadata": {
        "id": "G6eRXD336_ze"
      }
    },
    {
      "cell_type": "code",
      "source": [
        "# 1.data열을 tesla df의 인덱스로 지정\n",
        "\n",
        "tesla.index=tesla['Date']\n",
        "print(tesla.index)"
      ],
      "metadata": {
        "colab": {
          "base_uri": "https://localhost:8080/"
        },
        "id": "Xctc7e2Q6z3N",
        "outputId": "3dc01e43-ea79-42a5-ff62-45f95d3bac7b"
      },
      "execution_count": 11,
      "outputs": [
        {
          "output_type": "stream",
          "name": "stdout",
          "text": [
            "DatetimeIndex(['2018-03-27', '2018-03-26', '2018-03-23', '2018-03-22',\n",
            "               '2018-03-21', '2018-03-20', '2018-03-19', '2018-03-16',\n",
            "               '2018-03-15', '2018-03-14',\n",
            "               ...\n",
            "               '2010-07-13', '2010-07-12', '2010-07-09', '2010-07-08',\n",
            "               '2010-07-07', '2010-07-06', '2010-07-02', '2010-07-01',\n",
            "               '2010-06-30', '2010-06-29'],\n",
            "              dtype='datetime64[ns]', name='Date', length=1949, freq=None)\n"
          ]
        }
      ]
    },
    {
      "cell_type": "code",
      "source": [
        "#2.시간 데이터 추출\n",
        "#2015년 데이터 추출\n",
        "\n",
        "print(tesla['2015'].iloc[:,:5])"
      ],
      "metadata": {
        "colab": {
          "base_uri": "https://localhost:8080/"
        },
        "id": "pZt_y7Tx6z1I",
        "outputId": "cc8f0bd6-9078-45e1-bbd6-725af3698c01"
      },
      "execution_count": 12,
      "outputs": [
        {
          "output_type": "stream",
          "name": "stdout",
          "text": [
            "                 Date    Open      High       Low    Close\n",
            "Date                                                      \n",
            "2015-12-31 2015-12-31  238.51  243.4500  238.3700  240.010\n",
            "2015-12-30 2015-12-30  236.60  243.6340  235.6707  238.090\n",
            "2015-12-29 2015-12-29  230.06  237.7200  229.5470  237.190\n",
            "2015-12-28 2015-12-28  231.49  231.9800  225.5400  228.950\n",
            "2015-12-24 2015-12-24  230.56  231.8800  228.2800  230.570\n",
            "...               ...     ...       ...       ...      ...\n",
            "2015-01-08 2015-01-08  212.81  213.7999  210.0100  210.615\n",
            "2015-01-07 2015-01-07  213.35  214.7800  209.7800  210.950\n",
            "2015-01-06 2015-01-06  210.06  214.2000  204.2100  211.280\n",
            "2015-01-05 2015-01-05  214.55  216.5000  207.1626  210.090\n",
            "2015-01-02 2015-01-02  222.87  223.2500  213.2600  219.310\n",
            "\n",
            "[252 rows x 5 columns]\n"
          ]
        },
        {
          "output_type": "stream",
          "name": "stderr",
          "text": [
            "<ipython-input-12-2b7e9082f28a>:4: FutureWarning: Indexing a DataFrame with a datetimelike index using a single string to slice the rows, like `frame[string]`, is deprecated and will be removed in a future version. Use `frame.loc[string]` instead.\n",
            "  print(tesla['2015'].iloc[:,:5])\n"
          ]
        }
      ]
    },
    {
      "cell_type": "code",
      "source": [
        "#2010년 6월 추출\n",
        "\n",
        "print(tesla['2010-06'].iloc[:,:5])"
      ],
      "metadata": {
        "colab": {
          "base_uri": "https://localhost:8080/"
        },
        "id": "hHm8Qjkd7eJ_",
        "outputId": "8067906a-af80-4d47-8cff-4a5c06478455"
      },
      "execution_count": 13,
      "outputs": [
        {
          "output_type": "stream",
          "name": "stdout",
          "text": [
            "                 Date   Open     High    Low  Close\n",
            "Date                                               \n",
            "2010-06-30 2010-06-30  25.79  30.4192  23.30  23.83\n",
            "2010-06-29 2010-06-29  19.00  25.0000  17.54  23.89\n"
          ]
        },
        {
          "output_type": "stream",
          "name": "stderr",
          "text": [
            "<ipython-input-13-d0742427e604>:3: FutureWarning: Indexing a DataFrame with a datetimelike index using a single string to slice the rows, like `frame[string]`, is deprecated and will be removed in a future version. Use `frame.loc[string]` instead.\n",
            "  print(tesla['2010-06'].iloc[:,:5])\n"
          ]
        }
      ]
    },
    {
      "cell_type": "markdown",
      "source": [
        "# 시간간격과 인덱스 - TimedeltaIndex\n",
        "\n",
        "* 예를 들어 주식에서 최초 5일간 수집된 데이터를 보고 싶을때, 시간 간격을 인덱스로 지정하여 추출 "
      ],
      "metadata": {
        "id": "Z3Xo_VR17mRv"
      }
    },
    {
      "cell_type": "code",
      "source": [
        "# 1.date 열에서 date열의 최솟값(2010-06-29)을 빼면 시간이 얼마나 흘렀는지 알 수 있음\n",
        "\n",
        "tesla[\"ref_date\"] = tesla[\"Date\"] - tesla[\"Date\"].min()\n",
        "print(tesla.head())"
      ],
      "metadata": {
        "colab": {
          "base_uri": "https://localhost:8080/"
        },
        "id": "OjfaM6n97lmG",
        "outputId": "e2ac1adb-c999-4a68-d713-52526eb106b1"
      },
      "execution_count": 14,
      "outputs": [
        {
          "output_type": "stream",
          "name": "stdout",
          "text": [
            "                 Date    Open    High     Low   Close    Volume  ExDividend  \\\n",
            "Date                                                                          \n",
            "2018-03-27 2018-03-27  304.00  304.27  277.18  279.18  13696168           0   \n",
            "2018-03-26 2018-03-26  307.34  307.59  291.36  304.18   8324639           0   \n",
            "2018-03-23 2018-03-23  311.25  311.61  300.45  301.54   6600538           0   \n",
            "2018-03-22 2018-03-22  313.89  318.82  308.18  309.10   4914307           0   \n",
            "2018-03-21 2018-03-21  310.25  322.44  310.19  316.53   5927881           0   \n",
            "\n",
            "            SplitRatio  AdjOpen  AdjHigh  AdjLow  AdjClose  AdjVolume  \\\n",
            "Date                                                                    \n",
            "2018-03-27           1   304.00   304.27  277.18    279.18   13696168   \n",
            "2018-03-26           1   307.34   307.59  291.36    304.18    8324639   \n",
            "2018-03-23           1   311.25   311.61  300.45    301.54    6600538   \n",
            "2018-03-22           1   313.89   318.82  308.18    309.10    4914307   \n",
            "2018-03-21           1   310.25   322.44  310.19    316.53    5927881   \n",
            "\n",
            "            ref_date  \n",
            "Date                  \n",
            "2018-03-27 2828 days  \n",
            "2018-03-26 2827 days  \n",
            "2018-03-23 2824 days  \n",
            "2018-03-22 2823 days  \n",
            "2018-03-21 2822 days  \n"
          ]
        }
      ]
    },
    {
      "cell_type": "code",
      "source": [
        "#2.ref_date 열을 인덱스지정\n",
        "\n",
        "tesla.index=tesla['ref_date']\n",
        "print(tesla.iloc[:5,:5])"
      ],
      "metadata": {
        "colab": {
          "base_uri": "https://localhost:8080/"
        },
        "id": "ckmY-KAe7-PB",
        "outputId": "bf1e902c-e082-41d7-c1c1-605004362f78"
      },
      "execution_count": 15,
      "outputs": [
        {
          "output_type": "stream",
          "name": "stdout",
          "text": [
            "                Date    Open    High     Low   Close\n",
            "ref_date                                            \n",
            "2828 days 2018-03-27  304.00  304.27  277.18  279.18\n",
            "2827 days 2018-03-26  307.34  307.59  291.36  304.18\n",
            "2824 days 2018-03-23  311.25  311.61  300.45  301.54\n",
            "2823 days 2018-03-22  313.89  318.82  308.18  309.10\n",
            "2822 days 2018-03-21  310.25  322.44  310.19  316.53\n"
          ]
        }
      ]
    },
    {
      "cell_type": "code",
      "source": [
        "#3. 데이터 수집한 이후 최초 5일 데이터 추출 \n",
        "print(tesla[\"5 days\":].iloc[:5, :5])"
      ],
      "metadata": {
        "colab": {
          "base_uri": "https://localhost:8080/"
        },
        "id": "dO-ik-Qu7-Md",
        "outputId": "ab4bdbb4-b8ff-4422-cbb0-924904652de4"
      },
      "execution_count": 16,
      "outputs": [
        {
          "output_type": "stream",
          "name": "stdout",
          "text": [
            "               Date   Open     High    Low  Close\n",
            "ref_date                                         \n",
            "3 days   2010-07-02  23.00  23.1000  18.71  19.20\n",
            "2 days   2010-07-01  25.00  25.9200  20.27  21.96\n",
            "1 days   2010-06-30  25.79  30.4192  23.30  23.83\n",
            "0 days   2010-06-29  19.00  25.0000  17.54  23.89\n"
          ]
        }
      ]
    },
    {
      "cell_type": "markdown",
      "source": [
        "# 시간 범위와 인덱스\n",
        "* 만약 특정 일에 누락된 데이터도 포함시키려면, 임의로 시간 범위를 생성해 인덱스로 지정해야함 "
      ],
      "metadata": {
        "id": "xlkO1Tr4jkgC"
      }
    },
    {
      "cell_type": "code",
      "source": [
        "# 1.에볼라 앞쪽 데이터 (2015,1,1 데이터 누락)\n",
        "ebola = pd.read_csv(\"country_timeseries.csv\")\n",
        "print(ebola.iloc[:5, :5])\n"
      ],
      "metadata": {
        "colab": {
          "base_uri": "https://localhost:8080/"
        },
        "id": "9X9tJhsLjggG",
        "outputId": "782e672f-a845-4a99-d7ed-ab2246fa09f1"
      },
      "execution_count": 18,
      "outputs": [
        {
          "output_type": "stream",
          "name": "stdout",
          "text": [
            "         Date  Day  Cases_Guinea  Cases_Liberia  Cases_SierraLeone\n",
            "0    1/5/2015  289        2776.0            NaN            10030.0\n",
            "1    1/4/2015  288        2775.0            NaN             9780.0\n",
            "2    1/3/2015  287        2769.0         8166.0             9722.0\n",
            "3    1/2/2015  286           NaN         8157.0                NaN\n",
            "4  12/31/2014  284        2730.0         8115.0             9633.0\n"
          ]
        }
      ]
    },
    {
      "cell_type": "code",
      "source": [
        "# 2.에볼라 뒷쪽 데이터 (2014,3,23 데이터 누락)\n",
        "print(ebola.iloc[:-5,:5])"
      ],
      "metadata": {
        "colab": {
          "base_uri": "https://localhost:8080/"
        },
        "id": "5LIwRPbr7-KO",
        "outputId": "e851fcab-c164-4014-cd4a-d66f20cc22fd"
      },
      "execution_count": 19,
      "outputs": [
        {
          "output_type": "stream",
          "name": "stdout",
          "text": [
            "           Date  Day  Cases_Guinea  Cases_Liberia  Cases_SierraLeone\n",
            "0      1/5/2015  289        2776.0            NaN            10030.0\n",
            "1      1/4/2015  288        2775.0            NaN             9780.0\n",
            "2      1/3/2015  287        2769.0         8166.0             9722.0\n",
            "3      1/2/2015  286           NaN         8157.0                NaN\n",
            "4    12/31/2014  284        2730.0         8115.0             9633.0\n",
            "..          ...  ...           ...            ...                ...\n",
            "112    4/4/2014   13         143.0           18.0                2.0\n",
            "113    4/1/2014   10         127.0            8.0                2.0\n",
            "114   3/31/2014    9         122.0            8.0                2.0\n",
            "115   3/29/2014    7         112.0            7.0                NaN\n",
            "116   3/28/2014    6         112.0            3.0                2.0\n",
            "\n",
            "[117 rows x 5 columns]\n"
          ]
        }
      ]
    },
    {
      "cell_type": "code",
      "source": [
        "# 3.data_range 메서드 사용, 2014.12.31~2015.01.05 사이 시간 인덱스 생성 \n",
        "head_range = pd.date_range(start = \"2014-12-31\", end = \"2015-01-05\")\n",
        "print(head_range)"
      ],
      "metadata": {
        "colab": {
          "base_uri": "https://localhost:8080/"
        },
        "id": "qk8Xp9pFkUV3",
        "outputId": "d4ee9fbf-e7a9-49ac-a719-c7d3216dab39"
      },
      "execution_count": 20,
      "outputs": [
        {
          "output_type": "stream",
          "name": "stdout",
          "text": [
            "DatetimeIndex(['2014-12-31', '2015-01-01', '2015-01-02', '2015-01-03',\n",
            "               '2015-01-04', '2015-01-05'],\n",
            "              dtype='datetime64[ns]', freq='D')\n"
          ]
        }
      ]
    },
    {
      "cell_type": "code",
      "source": [
        "# 4. 원본 데이터 손상 방지를 위해 /앞쪽 5개의 데이터를 추출하여 새로운 데이터프레임 생성\n",
        "# date열을 인덱스로 먼저 지정하지 않으면 오류 발생\n",
        "ebola_5 = ebola.head()\n",
        "ebola_5.index = ebola_5[\"Date\"]\n",
        "ebola_5.reindex(head_range)\n",
        "print(ebola_5.iloc[:5, :5])"
      ],
      "metadata": {
        "colab": {
          "base_uri": "https://localhost:8080/"
        },
        "id": "LuTCSB4gkUSW",
        "outputId": "a8b759f5-fa0e-47d9-b7ec-b0d0542b5d3f"
      },
      "execution_count": 21,
      "outputs": [
        {
          "output_type": "stream",
          "name": "stdout",
          "text": [
            "                  Date  Day  Cases_Guinea  Cases_Liberia  Cases_SierraLeone\n",
            "Date                                                                       \n",
            "1/5/2015      1/5/2015  289        2776.0            NaN            10030.0\n",
            "1/4/2015      1/4/2015  288        2775.0            NaN             9780.0\n",
            "1/3/2015      1/3/2015  287        2769.0         8166.0             9722.0\n",
            "1/2/2015      1/2/2015  286           NaN         8157.0                NaN\n",
            "12/31/2014  12/31/2014  284        2730.0         8115.0             9633.0\n"
          ]
        }
      ]
    },
    {
      "cell_type": "markdown",
      "source": [
        "# 시간 범위의 주기 설정: freq 속성 값을 지정하면 시간 간격을 조절하여 DatetimeIndex를 만들 수 있음\n",
        "\n",
        "* B - 평일만 포함\n",
        "* C - 사용자가 정의한 평일만 포함\n",
        "* D - 달력 일자 단위\n",
        "* W - 주간 단위\n",
        "* M - 월 마지막 날만 포함\n",
        "* SM - 15일과 월 마지막 날만 포함\n",
        "* BM - M 주기의 값이 휴일이면 제외하고 평일만 포함\n",
        "* CBM - BM에 사용자 정의 평일을 적용\n",
        "* MS - 월 시작일만 포함\n",
        "* SMS - 월 시작일과 15일만 포함\n",
        "* BMS - MS 주기의 값이 휴일이면 제외하고 평일만 포함\n",
        "* CBMS - BMS에 사용자 정의 평일을 적용\n",
        "* Q - 3, 6, 9, 12월 분기 마지막 날만 포함\n",
        "* BQ - 3, 6, 9, 12월 분기 마지막 날이 휴일이면 제외하고 평일만 포함\n",
        "* QS - 3, 6, 9, 12월 분기 시작일만 포함\n",
        "* BQS - 3, 6, 9, 12월 분기 시작일이 휴일이면 제외하고 평일만 포함\n",
        "* A - 년의 마지막 날만 포함\n",
        "* BA - 년의 마지막 날이 휴일이면 제외하고 평일만 포함\n",
        "* AS - 년의 시작일만 포함\n",
        "* BAS - 년의 시작일이 휴일이면 제외하고 평일만 포함\n",
        "* BH - 평일을 시간 단위로 포함(09:00 ~ 16:00)\n",
        "* H - 시간 단위로 포함(00:00 ~ 00:00)\n",
        "* T - 분 단위 포함\n",
        "* S - 초 단위 포함\n",
        "* L - 밀리초 단위 포함\n",
        "* U - 마이크로초 단위 포함\n",
        "* N - 나노초 단위 포함함\n",
        "\n",
        "\n",
        "\n"
      ],
      "metadata": {
        "id": "HybGAkcwlGN2"
      }
    }
  ]
}
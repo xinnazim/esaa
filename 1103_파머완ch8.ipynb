{
  "nbformat": 4,
  "nbformat_minor": 0,
  "metadata": {
    "colab": {
      "provenance": [],
      "authorship_tag": "ABX9TyPX9IxRhh+xEyMz/IMNNm8g",
      "include_colab_link": true
    },
    "kernelspec": {
      "name": "python3",
      "display_name": "Python 3"
    },
    "language_info": {
      "name": "python"
    }
  },
  "cells": [
    {
      "cell_type": "markdown",
      "metadata": {
        "id": "view-in-github",
        "colab_type": "text"
      },
      "source": [
        "<a href=\"https://colab.research.google.com/github/xinnazim/esaa/blob/main/1103_%ED%8C%8C%EB%A8%B8%EC%99%84ch8.ipynb\" target=\"_parent\"><img src=\"https://colab.research.google.com/assets/colab-badge.svg\" alt=\"Open In Colab\"/></a>"
      ]
    },
    {
      "cell_type": "markdown",
      "source": [
        "기한: 11월 3일 (금) 18:30\n",
        "\n",
        "과제: 파이썬 머신러닝 완벽 가이드 ch8. 6~9 (7 제외)\n",
        "\n",
        "pg. 512-516, 529-543 필사하여 깃허브에 업로드한 뒤, 깃허브 링크를 댓글로 달아주세요."
      ],
      "metadata": {
        "id": "W5CaKghHZjRg"
      }
    },
    {
      "cell_type": "markdown",
      "source": [
        "# 06 토픽 모델링 - 20 뉴스그룹\n",
        "\n",
        "* 토픽 모델링: 문서 집합에 숨어 있는 주제를 찾아내는 것\n",
        "  * LSA(Latent Semantic Analysis)\n",
        "  * LDA(Latent Dirichlet Allocation)\n",
        "* 사이킷런은 LDA 기반의 토픽 모델링을 LatentDirichletAllocation 클래스 제공"
      ],
      "metadata": {
        "id": "BLFaZvoOaluw"
      }
    },
    {
      "cell_type": "code",
      "execution_count": 1,
      "metadata": {
        "colab": {
          "base_uri": "https://localhost:8080/"
        },
        "id": "f4lmZ7O3ZiTl",
        "outputId": "c2dc96b8-17d6-46cf-d221-5f3eb49e322a"
      },
      "outputs": [
        {
          "output_type": "stream",
          "name": "stdout",
          "text": [
            "CountVectorizer Shape:  (7862, 1000)\n"
          ]
        }
      ],
      "source": [
        "from sklearn.datasets import fetch_20newsgroups\n",
        "from sklearn.feature_extraction.text import CountVectorizer\n",
        "from sklearn.decomposition import LatentDirichletAllocation\n",
        "\n",
        "# 모토사이클, 야구, 그래픽스, 윈도우즈, 중동, 기독교, 전자공학, 의학 8개 주제를 추출.\n",
        "cats = [\"rec.motorcycles\", \"rec.sport.baseball\", \"comp.graphics\", \"comp.windows.x\",\n",
        "        \"talk.politics.mideast\", \"soc.religion.christian\", \"sci.electronics\", \"sci.med\"]\n",
        "\n",
        "# 위에서 cats 변수로 기재된 카테고리만 추출. fetch_20newsgroups()의 categories에 cats 입력\n",
        "news_df = fetch_20newsgroups(subset = \"all\", remove = (\"headers\", \"footers\", \"quotes\"),\n",
        "                             categories = cats, random_state = 0)\n",
        "\n",
        "# LDA는 Count기반의 벡터화만 적용합니다.\n",
        "count_vect = CountVectorizer(max_df = 0.95, max_features = 1000, min_df = 2, stop_words = \"english\",\n",
        "                             ngram_range = (1, 2))\n",
        "feat_vect = count_vect.fit_transform(news_df.data)\n",
        "print(\"CountVectorizer Shape: \", feat_vect.shape)"
      ]
    },
    {
      "cell_type": "markdown",
      "source": [
        "> 토픽 개수-8개"
      ],
      "metadata": {
        "id": "EvS7rv5Kc31w"
      }
    },
    {
      "cell_type": "code",
      "source": [
        "lda = LatentDirichletAllocation(n_components = 8, random_state = 0)\n",
        "lda.fit(feat_vect)"
      ],
      "metadata": {
        "colab": {
          "base_uri": "https://localhost:8080/",
          "height": 74
        },
        "id": "Zd56J9wwaRSl",
        "outputId": "5e835218-e633-4b11-e3a4-2fe2a7cec925"
      },
      "execution_count": 2,
      "outputs": [
        {
          "output_type": "execute_result",
          "data": {
            "text/plain": [
              "LatentDirichletAllocation(n_components=8, random_state=0)"
            ],
            "text/html": [
              "<style>#sk-container-id-1 {color: black;background-color: white;}#sk-container-id-1 pre{padding: 0;}#sk-container-id-1 div.sk-toggleable {background-color: white;}#sk-container-id-1 label.sk-toggleable__label {cursor: pointer;display: block;width: 100%;margin-bottom: 0;padding: 0.3em;box-sizing: border-box;text-align: center;}#sk-container-id-1 label.sk-toggleable__label-arrow:before {content: \"▸\";float: left;margin-right: 0.25em;color: #696969;}#sk-container-id-1 label.sk-toggleable__label-arrow:hover:before {color: black;}#sk-container-id-1 div.sk-estimator:hover label.sk-toggleable__label-arrow:before {color: black;}#sk-container-id-1 div.sk-toggleable__content {max-height: 0;max-width: 0;overflow: hidden;text-align: left;background-color: #f0f8ff;}#sk-container-id-1 div.sk-toggleable__content pre {margin: 0.2em;color: black;border-radius: 0.25em;background-color: #f0f8ff;}#sk-container-id-1 input.sk-toggleable__control:checked~div.sk-toggleable__content {max-height: 200px;max-width: 100%;overflow: auto;}#sk-container-id-1 input.sk-toggleable__control:checked~label.sk-toggleable__label-arrow:before {content: \"▾\";}#sk-container-id-1 div.sk-estimator input.sk-toggleable__control:checked~label.sk-toggleable__label {background-color: #d4ebff;}#sk-container-id-1 div.sk-label input.sk-toggleable__control:checked~label.sk-toggleable__label {background-color: #d4ebff;}#sk-container-id-1 input.sk-hidden--visually {border: 0;clip: rect(1px 1px 1px 1px);clip: rect(1px, 1px, 1px, 1px);height: 1px;margin: -1px;overflow: hidden;padding: 0;position: absolute;width: 1px;}#sk-container-id-1 div.sk-estimator {font-family: monospace;background-color: #f0f8ff;border: 1px dotted black;border-radius: 0.25em;box-sizing: border-box;margin-bottom: 0.5em;}#sk-container-id-1 div.sk-estimator:hover {background-color: #d4ebff;}#sk-container-id-1 div.sk-parallel-item::after {content: \"\";width: 100%;border-bottom: 1px solid gray;flex-grow: 1;}#sk-container-id-1 div.sk-label:hover label.sk-toggleable__label {background-color: #d4ebff;}#sk-container-id-1 div.sk-serial::before {content: \"\";position: absolute;border-left: 1px solid gray;box-sizing: border-box;top: 0;bottom: 0;left: 50%;z-index: 0;}#sk-container-id-1 div.sk-serial {display: flex;flex-direction: column;align-items: center;background-color: white;padding-right: 0.2em;padding-left: 0.2em;position: relative;}#sk-container-id-1 div.sk-item {position: relative;z-index: 1;}#sk-container-id-1 div.sk-parallel {display: flex;align-items: stretch;justify-content: center;background-color: white;position: relative;}#sk-container-id-1 div.sk-item::before, #sk-container-id-1 div.sk-parallel-item::before {content: \"\";position: absolute;border-left: 1px solid gray;box-sizing: border-box;top: 0;bottom: 0;left: 50%;z-index: -1;}#sk-container-id-1 div.sk-parallel-item {display: flex;flex-direction: column;z-index: 1;position: relative;background-color: white;}#sk-container-id-1 div.sk-parallel-item:first-child::after {align-self: flex-end;width: 50%;}#sk-container-id-1 div.sk-parallel-item:last-child::after {align-self: flex-start;width: 50%;}#sk-container-id-1 div.sk-parallel-item:only-child::after {width: 0;}#sk-container-id-1 div.sk-dashed-wrapped {border: 1px dashed gray;margin: 0 0.4em 0.5em 0.4em;box-sizing: border-box;padding-bottom: 0.4em;background-color: white;}#sk-container-id-1 div.sk-label label {font-family: monospace;font-weight: bold;display: inline-block;line-height: 1.2em;}#sk-container-id-1 div.sk-label-container {text-align: center;}#sk-container-id-1 div.sk-container {/* jupyter's `normalize.less` sets `[hidden] { display: none; }` but bootstrap.min.css set `[hidden] { display: none !important; }` so we also need the `!important` here to be able to override the default hidden behavior on the sphinx rendered scikit-learn.org. See: https://github.com/scikit-learn/scikit-learn/issues/21755 */display: inline-block !important;position: relative;}#sk-container-id-1 div.sk-text-repr-fallback {display: none;}</style><div id=\"sk-container-id-1\" class=\"sk-top-container\"><div class=\"sk-text-repr-fallback\"><pre>LatentDirichletAllocation(n_components=8, random_state=0)</pre><b>In a Jupyter environment, please rerun this cell to show the HTML representation or trust the notebook. <br />On GitHub, the HTML representation is unable to render, please try loading this page with nbviewer.org.</b></div><div class=\"sk-container\" hidden><div class=\"sk-item\"><div class=\"sk-estimator sk-toggleable\"><input class=\"sk-toggleable__control sk-hidden--visually\" id=\"sk-estimator-id-1\" type=\"checkbox\" checked><label for=\"sk-estimator-id-1\" class=\"sk-toggleable__label sk-toggleable__label-arrow\">LatentDirichletAllocation</label><div class=\"sk-toggleable__content\"><pre>LatentDirichletAllocation(n_components=8, random_state=0)</pre></div></div></div></div></div>"
            ]
          },
          "metadata": {},
          "execution_count": 2
        }
      ]
    },
    {
      "cell_type": "code",
      "source": [
        "print(lda.components_.shape)\n",
        "lda.components_"
      ],
      "metadata": {
        "colab": {
          "base_uri": "https://localhost:8080/"
        },
        "id": "yCCTBLfyaRPw",
        "outputId": "0bd88a68-f00c-489c-9283-67fa65d10721"
      },
      "execution_count": 3,
      "outputs": [
        {
          "output_type": "stream",
          "name": "stdout",
          "text": [
            "(8, 1000)\n"
          ]
        },
        {
          "output_type": "execute_result",
          "data": {
            "text/plain": [
              "array([[3.60992018e+01, 1.35626798e+02, 2.15751867e+01, ...,\n",
              "        3.02911688e+01, 8.66830093e+01, 6.79285199e+01],\n",
              "       [1.25199920e-01, 1.44401815e+01, 1.25045596e-01, ...,\n",
              "        1.81506995e+02, 1.25097844e-01, 9.39593286e+01],\n",
              "       [3.34762663e+02, 1.25176265e-01, 1.46743299e+02, ...,\n",
              "        1.25105772e-01, 3.63689741e+01, 1.25025218e-01],\n",
              "       ...,\n",
              "       [3.60204965e+01, 2.08640688e+01, 4.29606813e+00, ...,\n",
              "        1.45056650e+01, 8.33854413e+00, 1.55690009e+01],\n",
              "       [1.25128711e-01, 1.25247756e-01, 1.25005143e-01, ...,\n",
              "        9.17278769e+01, 1.25177668e-01, 3.74575887e+01],\n",
              "       [5.49258690e+01, 4.47009532e+00, 9.88524814e+00, ...,\n",
              "        4.87048440e+01, 1.25034678e-01, 1.25074632e-01]])"
            ]
          },
          "metadata": {},
          "execution_count": 3
        }
      ]
    },
    {
      "cell_type": "markdown",
      "source": [
        "* display_topics() 함수를 만들어서 각 토픽별로 연관도가 높은 순으로 Word를 나열"
      ],
      "metadata": {
        "id": "fMKC9Jk9dYqe"
      }
    },
    {
      "cell_type": "code",
      "source": [
        "def display_topics(model, feature_names, no_top_words):\n",
        "  for topic_index, topic in enumerate(model.components_):\n",
        "    print(\"Topic #\", topic_index)\n",
        "\n",
        "    # components_array에서 가장 값이 큰 순으로 정렬했을 때, 그 값의 array 인덱스를 반환.\n",
        "    topic_word_indexes = topic.argsort()[::-1]\n",
        "    top_indexes = topic_word_indexes[:no_top_words]\n",
        "\n",
        "    # top_indexes 대상인 인덱스별로 feature_names에 해당하는 word features 추출 후 join으로 concat\n",
        "    feature_concat = \" \".join([feature_names[i] for i in top_indexes])\n",
        "    print(feature_concat)\n",
        "\n",
        "# CountVectorizer 객체 내의 전체 word의 명칭을 get_feature_names()를 통해 추출\n",
        "feature_names = count_vect.get_feature_names_out()\n",
        "\n",
        "# 토픽별 가장 연관도가 높은 word를 15개만 추출\n",
        "display_topics(lda, feature_names, 15)"
      ],
      "metadata": {
        "colab": {
          "base_uri": "https://localhost:8080/"
        },
        "id": "H4c_WzqAaRM7",
        "outputId": "cf334fbe-72b0-46a9-cdec-0f33639b0e4f"
      },
      "execution_count": 4,
      "outputs": [
        {
          "output_type": "stream",
          "name": "stdout",
          "text": [
            "Topic # 0\n",
            "year 10 game medical health team 12 20 disease cancer 1993 games years patients good\n",
            "Topic # 1\n",
            "don just like know people said think time ve didn right going say ll way\n",
            "Topic # 2\n",
            "image file jpeg program gif images output format files color entry 00 use bit 03\n",
            "Topic # 3\n",
            "like know don think use does just good time book read information people used post\n",
            "Topic # 4\n",
            "armenian israel armenians jews turkish people israeli jewish government war dos dos turkey arab armenia 000\n",
            "Topic # 5\n",
            "edu com available graphics ftp data pub motif mail widget software mit information version sun\n",
            "Topic # 6\n",
            "god people jesus church believe christ does christian say think christians bible faith sin life\n",
            "Topic # 7\n",
            "use dos thanks windows using window does display help like problem server need know run\n"
          ]
        }
      ]
    },
    {
      "cell_type": "markdown",
      "source": [
        "* Topic #0: 명확하지 않고 일반적인 단어가 주를 이룸\n",
        "* Topic #1: 컴퓨터 그래픽스 영역의 주제어 추출\n",
        "* Topic #2: 기독교에 관련된 주제어\n",
        "* Topic #3: 의학에 관련된 주제어\n",
        "* Topic #4: 윈도우 운영체제와 관련된 주제어 추출\n",
        "* Topic #5: 일반적인 단어로 주제어 추출\n",
        "* Topic #6: 중동 분쟁 등에 관련된 주제어 추출\n",
        "* Topic #7: 애매하지만 윈도우 운영체제와 관련된 주제어가 일부 추출"
      ],
      "metadata": {
        "id": "GRhzBPL0dpiD"
      }
    },
    {
      "cell_type": "markdown",
      "source": [
        "# 08 문서 유사도\n",
        "\n",
        "### 문서 유사도 측정 방법 - 코사인 유사도\n",
        "* 문서와 문서간의 유사도 비교는 코사인 유사도를 사용\n",
        "* 벡터의 상호 방향성이 얼마나 유사한지에 기반\n",
        "* 두 벡터 사이의 사잇각을 구해 얼마나 유사한지 수치로 적용\n",
        "\n",
        "### 두 벡터 사잇각\n",
        "![스크린샷 2023-11-02 002323.png](data:image/png;base64,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)"
      ],
      "metadata": {
        "id": "z5bCNrRLcpbh"
      }
    },
    {
      "cell_type": "markdown",
      "source": [
        "* 코사인 유사도 구하는 cos_similarity()"
      ],
      "metadata": {
        "id": "Q0zjUZHIftB6"
      }
    },
    {
      "cell_type": "code",
      "source": [
        "import numpy as np\n",
        "\n",
        "def cos_similarity(v1, v2):\n",
        "  dot_product = np.dot(v1, v2)\n",
        "  l2_norm = (np.sqrt(sum(np.square(v1))) * np.sqrt(sum(np.square(v2))))\n",
        "  similarity = dot_product / l2_norm\n",
        "\n",
        "  return similarity"
      ],
      "metadata": {
        "id": "wzHy4EQJaRKc"
      },
      "execution_count": 6,
      "outputs": []
    },
    {
      "cell_type": "markdown",
      "source": [
        "* TF-IDF로 벡터화된 행렬로 변환"
      ],
      "metadata": {
        "id": "dru76WMafyqG"
      }
    },
    {
      "cell_type": "code",
      "source": [
        "from sklearn.feature_extraction.text import TfidfVectorizer\n",
        "\n",
        "doc_list = [\"if you take the blue pill, the story ends\",\n",
        "            \"if you take the red pill, you stay in Wonderland\",\n",
        "            \"if you take the red pill, I show you how deep the rabbit hole goes\"]\n",
        "\n",
        "tfidf_vect_simple = TfidfVectorizer()\n",
        "feature_vect_simple = tfidf_vect_simple.fit_transform(doc_list)\n",
        "print(feature_vect_simple.shape)"
      ],
      "metadata": {
        "colab": {
          "base_uri": "https://localhost:8080/"
        },
        "id": "00CcEzG5fA7B",
        "outputId": "b2734fce-5213-473a-cd48-e2bbea295d4c"
      },
      "execution_count": 7,
      "outputs": [
        {
          "output_type": "stream",
          "name": "stdout",
          "text": [
            "(3, 18)\n"
          ]
        }
      ]
    },
    {
      "cell_type": "markdown",
      "source": [
        "* 문서의 유사도 측정"
      ],
      "metadata": {
        "id": "hpGOEcfXgGDZ"
      }
    },
    {
      "cell_type": "code",
      "source": [
        "# TFidfVectorizer로 transform()한 결과는 희소 행렬이므로 밀집 행렬로 변환.\n",
        "feature_vect_dense = feature_vect_simple.todense()\n",
        "\n",
        "# 첫 번째 문장과 두 번째 문장의 피처 벡터 추출\n",
        "vect1 = np.array(feature_vect_dense[0]).reshape(-1, )\n",
        "vect2 = np.array(feature_vect_dense[1]).reshape(-1, )\n",
        "\n",
        "# 첫 번째 문장과 두 번째 문장의 피처 벡터로 두 개 문장의 코사인 유사도 추출\n",
        "similarity_simple = cos_similarity(vect1, vect2)\n",
        "print(\"문장 1, 문장 2 Cosine 유사도: {0:.3f}\".format(similarity_simple))"
      ],
      "metadata": {
        "colab": {
          "base_uri": "https://localhost:8080/"
        },
        "id": "o30tDvFXfA47",
        "outputId": "842769e1-0767-45a0-9f64-c8ee462dc6ab"
      },
      "execution_count": 8,
      "outputs": [
        {
          "output_type": "stream",
          "name": "stdout",
          "text": [
            "문장 1, 문장 2 Cosine 유사도: 0.402\n"
          ]
        }
      ]
    },
    {
      "cell_type": "code",
      "source": [
        "vect1 = np.array(feature_vect_dense[0]).reshape(-1, )\n",
        "vect3 = np.array(feature_vect_dense[2]).reshape(-1, )\n",
        "similarity_simple = cos_similarity(vect1, vect3)\n",
        "print(\"문장 1, 문장 3 Cosine 유사도: {0:.3f}\".format(similarity_simple))\n",
        "\n",
        "vect2 = np.array(feature_vect_dense[1]).reshape(-1, )\n",
        "vect3 = np.array(feature_vect_dense[2]).reshape(-1, )\n",
        "similarity_simple = cos_similarity(vect2, vect3)\n",
        "print(\"문장 2, 문장 3 Cosine 유사도: {0:.3f}\".format(similarity_simple))"
      ],
      "metadata": {
        "colab": {
          "base_uri": "https://localhost:8080/"
        },
        "id": "D_oIlykqfA2S",
        "outputId": "c10c0d9e-9a66-4245-ffc4-27d908643e2f"
      },
      "execution_count": 9,
      "outputs": [
        {
          "output_type": "stream",
          "name": "stdout",
          "text": [
            "문장 1, 문장 3 Cosine 유사도: 0.404\n",
            "문장 2, 문장 3 Cosine 유사도: 0.456\n"
          ]
        }
      ]
    },
    {
      "cell_type": "code",
      "source": [
        "from sklearn.metrics.pairwise import cosine_similarity\n",
        "\n",
        "similarity_simple_pair = cosine_similarity(feature_vect_simple[0], feature_vect_simple)\n",
        "print(similarity_simple_pair)"
      ],
      "metadata": {
        "colab": {
          "base_uri": "https://localhost:8080/"
        },
        "id": "Fz_iiIcSfGcr",
        "outputId": "ddee8483-49bf-4687-b82e-d1c4fc76f031"
      },
      "execution_count": 10,
      "outputs": [
        {
          "output_type": "stream",
          "name": "stdout",
          "text": [
            "[[1.         0.40207758 0.40425045]]\n"
          ]
        }
      ]
    },
    {
      "cell_type": "code",
      "source": [
        "from sklearn.metrics.pairwise import cosine_similarity #쌍으로 코사인 유사도 값 제공\n",
        "\n",
        "similarity_simple_pair = cosine_similarity(feature_vect_simple[0], feature_vect_simple[1:])\n",
        "print(similarity_simple_pair)"
      ],
      "metadata": {
        "colab": {
          "base_uri": "https://localhost:8080/"
        },
        "id": "72OrVD7tfG99",
        "outputId": "ef24bf16-8356-4460-f1e1-40582a681a54"
      },
      "execution_count": 11,
      "outputs": [
        {
          "output_type": "stream",
          "name": "stdout",
          "text": [
            "[[0.40207758 0.40425045]]\n"
          ]
        }
      ]
    },
    {
      "cell_type": "code",
      "source": [
        "similarity_simple_pair = cosine_similarity(feature_vect_simple, feature_vect_simple)\n",
        "print(similarity_simple_pair)\n",
        "print(\"shape: \", similarity_simple_pair.shape)"
      ],
      "metadata": {
        "colab": {
          "base_uri": "https://localhost:8080/"
        },
        "id": "EWURnQZcfG7r",
        "outputId": "89689e86-02ed-4ff2-a5ed-805b164ccaa6"
      },
      "execution_count": 12,
      "outputs": [
        {
          "output_type": "stream",
          "name": "stdout",
          "text": [
            "[[1.         0.40207758 0.40425045]\n",
            " [0.40207758 1.         0.45647296]\n",
            " [0.40425045 0.45647296 1.        ]]\n",
            "shape:  (3, 3)\n"
          ]
        }
      ]
    },
    {
      "cell_type": "markdown",
      "source": [
        "## Opinion Review 데이터 세트 이용한 문서 유사도 측정\n"
      ],
      "metadata": {
        "id": "QTVA7OeqhCC4"
      }
    },
    {
      "cell_type": "code",
      "source": [
        "from nltk.stem import WordNetLemmatizer\n",
        "import nltk\n",
        "import string\n",
        "\n",
        "remove_punct_dict = dict((ord(punct), None) for punct in string.punctuation)\n",
        "lemmar = WordNetLemmatizer()\n",
        "\n",
        "def LemTokens(tokens):\n",
        "    return [lemmar.lemmatize(token) for token in tokens]\n",
        "\n",
        "def LemNormalize(text):\n",
        "    return LemTokens(nltk.word_tokenize(text.lower().translate(remove_punct_dict)))"
      ],
      "metadata": {
        "id": "BY2AG0cOfMWw"
      },
      "execution_count": 27,
      "outputs": []
    },
    {
      "cell_type": "code",
      "source": [
        "from google.colab import drive\n",
        "drive.mount(\"/content/drive\")"
      ],
      "metadata": {
        "colab": {
          "base_uri": "https://localhost:8080/"
        },
        "id": "CgEmf9Hlj5sD",
        "outputId": "f440d851-f61b-408b-e13f-939178558d3a"
      },
      "execution_count": 21,
      "outputs": [
        {
          "output_type": "stream",
          "name": "stdout",
          "text": [
            "Mounted at /content/drive\n"
          ]
        }
      ]
    },
    {
      "cell_type": "code",
      "source": [
        "%cd /content/drive/MyDrive/opinosis_data/OpinosisDataset1.0/topics"
      ],
      "metadata": {
        "colab": {
          "base_uri": "https://localhost:8080/"
        },
        "id": "o8TaI8DIkYpK",
        "outputId": "7afeb594-d133-4d0b-ac5c-a91b0ceec42a"
      },
      "execution_count": 25,
      "outputs": [
        {
          "output_type": "stream",
          "name": "stdout",
          "text": [
            "/content/drive/MyDrive/opinosis_data/OpinosisDataset1.0/topics\n"
          ]
        }
      ]
    },
    {
      "cell_type": "code",
      "source": [
        "import pandas as pd\n",
        "import glob\n",
        "from sklearn.feature_extraction.text import TfidfVectorizer\n",
        "from sklearn.cluster import KMeans\n",
        "\n",
        "all_files = glob.glob('*.data')\n",
        "filename_list = []\n",
        "opinion_text = []\n",
        "\n",
        "for file_ in all_files:\n",
        "  df = pd.read_table(file_, index_col=None, header=0, encoding='latin1')\n",
        "  filename_ = file_.split('/')[-1]\n",
        "  filename = filename_.split('.')[0]\n",
        "  filename_list.append(filename)\n",
        "  opinion_text.append(df.to_string())\n",
        "\n",
        "document_df = pd.DataFrame({'filename':filename_list, 'opinion_text':opinion_text})\n",
        "\n",
        "tfidf_vect = TfidfVectorizer(tokenizer=LemNormalize, stop_words='english',\n",
        "                             ngram_range=(1,2), min_df=0.05, max_df=0.85)\n",
        "feature_vect = tfidf_vect.fit_transform(document_df['opinion_text'])\n",
        "\n",
        "km_cluster = KMeans(n_clusters=3, max_iter=10000, random_state=0)\n",
        "km_cluster.fit(feature_vect)\n",
        "cluster_label = km_cluster.labels_\n",
        "cluster_centers = km_cluster.cluster_centers_\n",
        "document_df['cluster_label'] = cluster_label"
      ],
      "metadata": {
        "colab": {
          "base_uri": "https://localhost:8080/"
        },
        "id": "3Bw3ylLklg6o",
        "outputId": "404486d0-e379-4ac1-9150-f6d63fdcb7e9"
      },
      "execution_count": 29,
      "outputs": [
        {
          "output_type": "stream",
          "name": "stderr",
          "text": [
            "/usr/local/lib/python3.10/dist-packages/sklearn/feature_extraction/text.py:528: UserWarning: The parameter 'token_pattern' will not be used since 'tokenizer' is not None'\n",
            "  warnings.warn(\n",
            "/usr/local/lib/python3.10/dist-packages/sklearn/feature_extraction/text.py:409: UserWarning: Your stop_words may be inconsistent with your preprocessing. Tokenizing the stop words generated tokens ['ha', 'le', 'u', 'wa'] not in stop_words.\n",
            "  warnings.warn(\n",
            "/usr/local/lib/python3.10/dist-packages/sklearn/cluster/_kmeans.py:870: FutureWarning: The default value of `n_init` will change from 10 to 'auto' in 1.4. Set the value of `n_init` explicitly to suppress the warning\n",
            "  warnings.warn(\n"
          ]
        }
      ]
    },
    {
      "cell_type": "code",
      "source": [
        "from sklearn.metrics.pairwise import cosine_similarity\n",
        "\n",
        "# cluster_label = 1인 데이터는 호텔로 군집화된 데이터임. DataFrame에서 해당 인덱스를 추출\n",
        "hotel_indexes = document_df[document_df[\"cluster_label\"] == 1].index\n",
        "print(\"호텔로 군집화 된 문서들의 DataFrame Index: \", hotel_indexes)\n",
        "\n",
        "# 호텔로 군집화된 데이터 중 첫 번째 문서를 추출해 파일명 표시.\n",
        "comparison_docname = document_df.iloc[hotel_indexes[0]][\"filename\"]\n",
        "print(\"#### 비교 기준 문서명 \", comparison_docname, \"와 타 문서 유사도####\")\n",
        "\n",
        "\"\"\"document_df에서 추출한 Index 객체를 feature_vect로 입력해 호텔 군집화된 feature_vect 추출\n",
        "이를 이용해 호텔로 군집화된 문서 중 첫 번째 문서와 다른 문서 간의 코사인 유사도 측정.\"\"\"\n",
        "similarity_pair = cosine_similarity(feature_vect[hotel_indexes[0]], feature_vect[hotel_indexes])\n",
        "print(similarity_pair)"
      ],
      "metadata": {
        "colab": {
          "base_uri": "https://localhost:8080/"
        },
        "id": "M-ZG4RKxfRkS",
        "outputId": "de5fbb09-a0cb-4dcd-8283-8b16ba1f92d8"
      },
      "execution_count": 30,
      "outputs": [
        {
          "output_type": "stream",
          "name": "stdout",
          "text": [
            "호텔로 군집화 된 문서들의 DataFrame Index:  Int64Index([ 0,  2,  4,  5,  6,  8,  9, 11, 12, 14, 16, 17, 18, 19, 20, 22, 28,\n",
            "            30, 33, 36, 39, 43, 44, 49, 50],\n",
            "           dtype='int64')\n",
            "#### 비교 기준 문서명  directions_garmin_nuvi_255W_gps 와 타 문서 유사도####\n",
            "[[1.         0.02477727 0.02271738 0.34657949 0.15187003 0.04817064\n",
            "  0.02211323 0.28497799 0.1764187  0.0302352  0.02999396 0.0362441\n",
            "  0.05431799 0.2644128  0.06016007 0.07303126 0.11432497 0.02266515\n",
            "  0.06332225 0.02528717 0.02261621 0.04275113 0.06161541 0.02630391\n",
            "  0.01720395]]\n"
          ]
        }
      ]
    },
    {
      "cell_type": "code",
      "source": [
        "import seaborn as sns\n",
        "import numpy as np\n",
        "import matplotlib.pyplot as plt\n",
        "%matplotlib inline\n",
        "\n",
        "# 첫 번째 문서와 타 문서 간 유사도가 큰 순으로 정렬한 인덱스를 추출하되 자기 자신은 제외.\n",
        "sorted_index = similarity_pair.argsort()[:, ::-1]\n",
        "sorted_index = sorted_index[:, 1:]\n",
        "\n",
        "# 유사도가 큰 순으로 hotel_indexes를 추출해 재정렬\n",
        "hotel_sorted_indexes = hotel_indexes[sorted_index.reshape(-1)]\n",
        "\n",
        "# 유사도가 큰 순으로 유사도 값을 재정렬하되 자기 자신은 제외\n",
        "hotel_1_sim_value = np.sort(similarity_pair.reshape(-1))[::-1]\n",
        "hotel_1_sim_value = hotel_1_sim_value[1:]\n",
        "\n",
        "# 유사도가 큰 순으로 정렬된 인덱스와 유사도 값을 이용해 파일명과 유사도 값을 막대 그래프로 시각화\n",
        "hotel_1_sim_df = pd.DataFrame()\n",
        "hotel_1_sim_df[\"filename\"] = document_df.iloc[hotel_sorted_indexes][\"filename\"]\n",
        "hotel_1_sim_df[\"similarity\"] = hotel_1_sim_value\n",
        "\n",
        "sns.barplot(x = \"similarity\", y = \"filename\", data = hotel_1_sim_df)\n",
        "plt.title(comparison_docname)"
      ],
      "metadata": {
        "colab": {
          "base_uri": "https://localhost:8080/",
          "height": 403
        },
        "id": "MgOnKGS1fTqL",
        "outputId": "e1a02fed-1252-41f0-98a9-dbd58c5825b4"
      },
      "execution_count": 35,
      "outputs": [
        {
          "output_type": "execute_result",
          "data": {
            "text/plain": [
              "Text(0.5, 1.0, 'directions_garmin_nuvi_255W_gps')"
            ]
          },
          "metadata": {},
          "execution_count": 35
        },
        {
          "output_type": "display_data",
          "data": {
            "text/plain": [
              "<Figure size 640x480 with 1 Axes>"
            ],
            "image/png": "[encoded data removed]"
          },
          "metadata": {}
        }
      ]
    },
    {
      "cell_type": "markdown",
      "source": [
        "# 09. 한글 텍스트 처리 - 네이버 영화 평점 감성 분석\n",
        "\n",
        "### 한글 NLP 처리의 어려움\n",
        "* 띄어쓰기, 다양한 조사\n",
        "\n",
        "### KoNLPy\n",
        "* 파이썬의 대표적인 한글 형태소 패키지"
      ],
      "metadata": {
        "id": "u414O1iElueA"
      }
    },
    {
      "cell_type": "code",
      "source": [
        "pip install konlpy"
      ],
      "metadata": {
        "id": "RlXfTvGwfVVy"
      },
      "execution_count": null,
      "outputs": []
    },
    {
      "cell_type": "markdown",
      "source": [
        "### 데이터 로딩"
      ],
      "metadata": {
        "id": "fJGR-X9FmMeW"
      }
    },
    {
      "cell_type": "code",
      "source": [
        "import pandas as pd\n",
        "train_df = pd.read_csv(\"/content/ratings_train.txt\", sep = \"\\t\")\n",
        "train_df.head(3)"
      ],
      "metadata": {
        "colab": {
          "base_uri": "https://localhost:8080/",
          "height": 143
        },
        "id": "24gtLhWHfXXQ",
        "outputId": "dcc60cdd-3241-4a73-ff7a-955ff49bbbc8"
      },
      "execution_count": 36,
      "outputs": [
        {
          "output_type": "execute_result",
          "data": {
            "text/plain": [
              "         id                           document  label\n",
              "0   9976970                아 더빙.. 진짜 짜증나네요 목소리      0\n",
              "1   3819312  흠...포스터보고 초딩영화줄....오버연기조차 가볍지 않구나      1\n",
              "2  10265843                  너무재밓었다그래서보는것을추천한다      0"
            ],
            "text/html": [
              "\n",
              "  <div id=\"df-4e647194-b086-49f6-aa73-5c60a03059db\" class=\"colab-df-container\">\n",
              "    <div>\n",
              "<style scoped>\n",
              "    .dataframe tbody tr th:only-of-type {\n",
              "        vertical-align: middle;\n",
              "    }\n",
              "\n",
              "    .dataframe tbody tr th {\n",
              "        vertical-align: top;\n",
              "    }\n",
              "\n",
              "    .dataframe thead th {\n",
              "        text-align: right;\n",
              "    }\n",
              "</style>\n",
              "<table border=\"1\" class=\"dataframe\">\n",
              "  <thead>\n",
              "    <tr style=\"text-align: right;\">\n",
              "      <th></th>\n",
              "      <th>id</th>\n",
              "      <th>document</th>\n",
              "      <th>label</th>\n",
              "    </tr>\n",
              "  </thead>\n",
              "  <tbody>\n",
              "    <tr>\n",
              "      <th>0</th>\n",
              "      <td>9976970</td>\n",
              "      <td>아 더빙.. 진짜 짜증나네요 목소리</td>\n",
              "      <td>0</td>\n",
              "    </tr>\n",
              "    <tr>\n",
              "      <th>1</th>\n",
              "      <td>3819312</td>\n",
              "      <td>흠...포스터보고 초딩영화줄....오버연기조차 가볍지 않구나</td>\n",
              "      <td>1</td>\n",
              "    </tr>\n",
              "    <tr>\n",
              "      <th>2</th>\n",
              "      <td>10265843</td>\n",
              "      <td>너무재밓었다그래서보는것을추천한다</td>\n",
              "      <td>0</td>\n",
              "    </tr>\n",
              "  </tbody>\n",
              "</table>\n",
              "</div>\n",
              "    <div class=\"colab-df-buttons\">\n",
              "\n",
              "  <div class=\"colab-df-container\">\n",
              "    <button class=\"colab-df-convert\" onclick=\"convertToInteractive('df-4e647194-b086-49f6-aa73-5c60a03059db')\"\n",
              "            title=\"Convert this dataframe to an interactive table.\"\n",
              "            style=\"display:none;\">\n",
              "\n",
              "  <svg xmlns=\"http://www.w3.org/2000/svg\" height=\"24px\" viewBox=\"0 -960 960 960\">\n",
              "    <path d=\"M120-120v-720h720v720H120Zm60-500h600v-160H180v160Zm220 220h160v-160H400v160Zm0 220h160v-160H400v160ZM180-400h160v-160H180v160Zm440 0h160v-160H620v160ZM180-180h160v-160H180v160Zm440 0h160v-160H620v160Z\"/>\n",
              "  </svg>\n",
              "    </button>\n",
              "\n",
              "  <style>\n",
              "    .colab-df-container {\n",
              "      display:flex;\n",
              "      gap: 12px;\n",
              "    }\n",
              "\n",
              "    .colab-df-convert {\n",
              "      background-color: #E8F0FE;\n",
              "      border: none;\n",
              "      border-radius: 50%;\n",
              "      cursor: pointer;\n",
              "      display: none;\n",
              "      fill: #1967D2;\n",
              "      height: 32px;\n",
              "      padding: 0 0 0 0;\n",
              "      width: 32px;\n",
              "    }\n",
              "\n",
              "    .colab-df-convert:hover {\n",
              "      background-color: #E2EBFA;\n",
              "      box-shadow: 0px 1px 2px rgba(60, 64, 67, 0.3), 0px 1px 3px 1px rgba(60, 64, 67, 0.15);\n",
              "      fill: #174EA6;\n",
              "    }\n",
              "\n",
              "    .colab-df-buttons div {\n",
              "      margin-bottom: 4px;\n",
              "    }\n",
              "\n",
              "    [theme=dark] .colab-df-convert {\n",
              "      background-color: #3B4455;\n",
              "      fill: #D2E3FC;\n",
              "    }\n",
              "\n",
              "    [theme=dark] .colab-df-convert:hover {\n",
              "      background-color: #434B5C;\n",
              "      box-shadow: 0px 1px 3px 1px rgba(0, 0, 0, 0.15);\n",
              "      filter: drop-shadow(0px 1px 2px rgba(0, 0, 0, 0.3));\n",
              "      fill: #FFFFFF;\n",
              "    }\n",
              "  </style>\n",
              "\n",
              "    <script>\n",
              "      const buttonEl =\n",
              "        document.querySelector('#df-4e647194-b086-49f6-aa73-5c60a03059db button.colab-df-convert');\n",
              "      buttonEl.style.display =\n",
              "        google.colab.kernel.accessAllowed ? 'block' : 'none';\n",
              "\n",
              "      async function convertToInteractive(key) {\n",
              "        const element = document.querySelector('#df-4e647194-b086-49f6-aa73-5c60a03059db');\n",
              "        const dataTable =\n",
              "          await google.colab.kernel.invokeFunction('convertToInteractive',\n",
              "                                                    [key], {});\n",
              "        if (!dataTable) return;\n",
              "\n",
              "        const docLinkHtml = 'Like what you see? Visit the ' +\n",
              "          '<a target=\"_blank\" href=https://colab.research.google.com/notebooks/data_table.ipynb>data table notebook</a>'\n",
              "          + ' to learn more about interactive tables.';\n",
              "        element.innerHTML = '';\n",
              "        dataTable['output_type'] = 'display_data';\n",
              "        await google.colab.output.renderOutput(dataTable, element);\n",
              "        const docLink = document.createElement('div');\n",
              "        docLink.innerHTML = docLinkHtml;\n",
              "        element.appendChild(docLink);\n",
              "      }\n",
              "    </script>\n",
              "  </div>\n",
              "\n",
              "\n",
              "<div id=\"df-cc245ee9-e572-4125-96ec-dcae267220b3\">\n",
              "  <button class=\"colab-df-quickchart\" onclick=\"quickchart('df-cc245ee9-e572-4125-96ec-dcae267220b3')\"\n",
              "            title=\"Suggest charts.\"\n",
              "            style=\"display:none;\">\n",
              "\n",
              "<svg xmlns=\"http://www.w3.org/2000/svg\" height=\"24px\"viewBox=\"0 0 24 24\"\n",
              "     width=\"24px\">\n",
              "    <g>\n",
              "        <path d=\"M19 3H5c-1.1 0-2 .9-2 2v14c0 1.1.9 2 2 2h14c1.1 0 2-.9 2-2V5c0-1.1-.9-2-2-2zM9 17H7v-7h2v7zm4 0h-2V7h2v10zm4 0h-2v-4h2v4z\"/>\n",
              "    </g>\n",
              "</svg>\n",
              "  </button>\n",
              "\n",
              "<style>\n",
              "  .colab-df-quickchart {\n",
              "      --bg-color: #E8F0FE;\n",
              "      --fill-color: #1967D2;\n",
              "      --hover-bg-color: #E2EBFA;\n",
              "      --hover-fill-color: #174EA6;\n",
              "      --disabled-fill-color: #AAA;\n",
              "      --disabled-bg-color: #DDD;\n",
              "  }\n",
              "\n",
              "  [theme=dark] .colab-df-quickchart {\n",
              "      --bg-color: #3B4455;\n",
              "      --fill-color: #D2E3FC;\n",
              "      --hover-bg-color: #434B5C;\n",
              "      --hover-fill-color: #FFFFFF;\n",
              "      --disabled-bg-color: #3B4455;\n",
              "      --disabled-fill-color: #666;\n",
              "  }\n",
              "\n",
              "  .colab-df-quickchart {\n",
              "    background-color: var(--bg-color);\n",
              "    border: none;\n",
              "    border-radius: 50%;\n",
              "    cursor: pointer;\n",
              "    display: none;\n",
              "    fill: var(--fill-color);\n",
              "    height: 32px;\n",
              "    padding: 0;\n",
              "    width: 32px;\n",
              "  }\n",
              "\n",
              "  .colab-df-quickchart:hover {\n",
              "    background-color: var(--hover-bg-color);\n",
              "    box-shadow: 0 1px 2px rgba(60, 64, 67, 0.3), 0 1px 3px 1px rgba(60, 64, 67, 0.15);\n",
              "    fill: var(--button-hover-fill-color);\n",
              "  }\n",
              "\n",
              "  .colab-df-quickchart-complete:disabled,\n",
              "  .colab-df-quickchart-complete:disabled:hover {\n",
              "    background-color: var(--disabled-bg-color);\n",
              "    fill: var(--disabled-fill-color);\n",
              "    box-shadow: none;\n",
              "  }\n",
              "\n",
              "  .colab-df-spinner {\n",
              "    border: 2px solid var(--fill-color);\n",
              "    border-color: transparent;\n",
              "    border-bottom-color: var(--fill-color);\n",
              "    animation:\n",
              "      spin 1s steps(1) infinite;\n",
              "  }\n",
              "\n",
              "  @keyframes spin {\n",
              "    0% {\n",
              "      border-color: transparent;\n",
              "      border-bottom-color: var(--fill-color);\n",
              "      border-left-color: var(--fill-color);\n",
              "    }\n",
              "    20% {\n",
              "      border-color: transparent;\n",
              "      border-left-color: var(--fill-color);\n",
              "      border-top-color: var(--fill-color);\n",
              "    }\n",
              "    30% {\n",
              "      border-color: transparent;\n",
              "      border-left-color: var(--fill-color);\n",
              "      border-top-color: var(--fill-color);\n",
              "      border-right-color: var(--fill-color);\n",
              "    }\n",
              "    40% {\n",
              "      border-color: transparent;\n",
              "      border-right-color: var(--fill-color);\n",
              "      border-top-color: var(--fill-color);\n",
              "    }\n",
              "    60% {\n",
              "      border-color: transparent;\n",
              "      border-right-color: var(--fill-color);\n",
              "    }\n",
              "    80% {\n",
              "      border-color: transparent;\n",
              "      border-right-color: var(--fill-color);\n",
              "      border-bottom-color: var(--fill-color);\n",
              "    }\n",
              "    90% {\n",
              "      border-color: transparent;\n",
              "      border-bottom-color: var(--fill-color);\n",
              "    }\n",
              "  }\n",
              "</style>\n",
              "\n",
              "  <script>\n",
              "    async function quickchart(key) {\n",
              "      const quickchartButtonEl =\n",
              "        document.querySelector('#' + key + ' button');\n",
              "      quickchartButtonEl.disabled = true;  // To prevent multiple clicks.\n",
              "      quickchartButtonEl.classList.add('colab-df-spinner');\n",
              "      try {\n",
              "        const charts = await google.colab.kernel.invokeFunction(\n",
              "            'suggestCharts', [key], {});\n",
              "      } catch (error) {\n",
              "        console.error('Error during call to suggestCharts:', error);\n",
              "      }\n",
              "      quickchartButtonEl.classList.remove('colab-df-spinner');\n",
              "      quickchartButtonEl.classList.add('colab-df-quickchart-complete');\n",
              "    }\n",
              "    (() => {\n",
              "      let quickchartButtonEl =\n",
              "        document.querySelector('#df-cc245ee9-e572-4125-96ec-dcae267220b3 button');\n",
              "      quickchartButtonEl.style.display =\n",
              "        google.colab.kernel.accessAllowed ? 'block' : 'none';\n",
              "    })();\n",
              "  </script>\n",
              "</div>\n",
              "    </div>\n",
              "  </div>\n"
            ]
          },
          "metadata": {},
          "execution_count": 36
        }
      ]
    },
    {
      "cell_type": "markdown",
      "source": [
        "> 1 긍정, 0 부정"
      ],
      "metadata": {
        "id": "WyywNK9nnb2w"
      }
    },
    {
      "cell_type": "code",
      "source": [
        "train_df[\"label\"].value_counts()"
      ],
      "metadata": {
        "colab": {
          "base_uri": "https://localhost:8080/"
        },
        "id": "d_9MeXVhfYVY",
        "outputId": "c71ca714-013a-4fc1-cca3-abc298d4ea69"
      },
      "execution_count": 37,
      "outputs": [
        {
          "output_type": "execute_result",
          "data": {
            "text/plain": [
              "0    75173\n",
              "1    74827\n",
              "Name: label, dtype: int64"
            ]
          },
          "metadata": {},
          "execution_count": 37
        }
      ]
    },
    {
      "cell_type": "code",
      "source": [
        "import re\n",
        "\n",
        "train_df = train_df.fillna(\" \")\n",
        "# 정규 표현식을 이용해 숫자를 공백으로 변경(정규 표현식으로 \\d는 숫자를 의미함.)\n",
        "train_df[\"document\"] = train_df[\"document\"].apply(lambda x: re.sub(r\"\\d+\", \" \", x))\n",
        "\n",
        "# 테스트 데이터 세트를 로딩하고 동일하게 Null 및 숫자를 공백으로 변환\n",
        "test_df = pd.read_csv(\"/content/ratings_test.txt\", sep = \"\\t\")\n",
        "test_df = test_df.fillna(\" \")\n",
        "test_df[\"document\"] = test_df[\"document\"].apply(lambda x: re.sub(r\"\\d\", \" \", x))\n",
        "\n",
        "# id 칼럼 삭제 수행\n",
        "train_df.drop(\"id\", axis = 1, inplace = True)\n",
        "test_df.drop(\"id\", axis = 1, inplace = True)"
      ],
      "metadata": {
        "id": "2b5jf7g7fZeg"
      },
      "execution_count": 39,
      "outputs": []
    },
    {
      "cell_type": "markdown",
      "source": [
        "형태소 단어 토큰화"
      ],
      "metadata": {
        "id": "GpV2IODRpRYU"
      }
    },
    {
      "cell_type": "code",
      "source": [
        "from konlpy.tag import Twitter\n",
        "\n",
        "twitter = Twitter()\n",
        "def tw_tokenizer(text):\n",
        "  # 입력 인자로 들어온 텍스트를 형태소 단어로 토큰화해 리스트 형태로 반환\n",
        "  tokens_ko = twitter.morphs(text)\n",
        "  return tokens_ko"
      ],
      "metadata": {
        "colab": {
          "base_uri": "https://localhost:8080/"
        },
        "id": "DuI1IcuDfam9",
        "outputId": "0d086594-430f-4045-c7a5-43f758e67041"
      },
      "execution_count": 40,
      "outputs": [
        {
          "output_type": "stream",
          "name": "stderr",
          "text": [
            "/usr/local/lib/python3.10/dist-packages/konlpy/tag/_okt.py:17: UserWarning: \"Twitter\" has changed to \"Okt\" since KoNLPy v0.4.5.\n",
            "  warn('\"Twitter\" has changed to \"Okt\" since KoNLPy v0.4.5.')\n"
          ]
        }
      ]
    },
    {
      "cell_type": "markdown",
      "source": [
        "피처 모델 생성"
      ],
      "metadata": {
        "id": "H6c3F5-5pLT9"
      }
    },
    {
      "cell_type": "code",
      "source": [
        "from sklearn.feature_extraction.text import TfidfVectorizer\n",
        "from sklearn.linear_model import LogisticRegression\n",
        "from sklearn.model_selection import GridSearchCV\n",
        "\n",
        "# Twitter 객체의 morphs() 객체를 이용한 tokenizer를 사용. ngram_range는 (1, 2)\n",
        "tfidf_vect = TfidfVectorizer(tokenizer = tw_tokenizer, ngram_range = (1, 2), min_df = 3, max_df = 0.9)\n",
        "tfidf_vect.fit(train_df[\"document\"])\n",
        "tfidf_matrix_train = tfidf_vect.transform(train_df[\"document\"])"
      ],
      "metadata": {
        "colab": {
          "base_uri": "https://localhost:8080/"
        },
        "id": "rykOu9eEfb5S",
        "outputId": "962e47e1-bb3d-4e8a-c2fb-69e46a5ebd8f"
      },
      "execution_count": 41,
      "outputs": [
        {
          "output_type": "stream",
          "name": "stderr",
          "text": [
            "/usr/local/lib/python3.10/dist-packages/sklearn/feature_extraction/text.py:528: UserWarning: The parameter 'token_pattern' will not be used since 'tokenizer' is not None'\n",
            "  warnings.warn(\n"
          ]
        }
      ]
    },
    {
      "cell_type": "markdown",
      "source": [
        "로지스틱 회귀로 분류 기반 감성 분석 수행"
      ],
      "metadata": {
        "id": "hm7jsfaypWvr"
      }
    },
    {
      "cell_type": "code",
      "source": [
        "# 로지스틱 회귀를 이용해 감성 분석 분류 수행.\n",
        "lg_clf = LogisticRegression(random_state = 0)\n",
        "\n",
        "# 파라미터 C 최적화를 위해 GridSearchCV를 이용\n",
        "params = {\"C\": [1, 3.5, 4.5, 5.5, 10]}\n",
        "grid_cv = GridSearchCV(lg_clf, param_grid = params, cv = 3, scoring = \"accuracy\", verbose = 1)\n",
        "grid_cv.fit(tfidf_matrix_train, train_df[\"label\"])\n",
        "print(grid_cv.best_params_, round(grid_cv.best_score_, 4))"
      ],
      "metadata": {
        "colab": {
          "base_uri": "https://localhost:8080/"
        },
        "id": "qbQw6-lwfdLF",
        "outputId": "1aaa93cb-32b1-4dd6-a9f2-c01a1b9623e6"
      },
      "execution_count": 42,
      "outputs": [
        {
          "output_type": "stream",
          "name": "stdout",
          "text": [
            "Fitting 3 folds for each of 5 candidates, totalling 15 fits\n"
          ]
        },
        {
          "output_type": "stream",
          "name": "stderr",
          "text": [
            "/usr/local/lib/python3.10/dist-packages/sklearn/linear_model/_logistic.py:458: ConvergenceWarning: lbfgs failed to converge (status=1):\n",
            "STOP: TOTAL NO. of ITERATIONS REACHED LIMIT.\n",
            "\n",
            "Increase the number of iterations (max_iter) or scale the data as shown in:\n",
            "    https://scikit-learn.org/stable/modules/preprocessing.html\n",
            "Please also refer to the documentation for alternative solver options:\n",
            "    https://scikit-learn.org/stable/modules/linear_model.html#logistic-regression\n",
            "  n_iter_i = _check_optimize_result(\n",
            "/usr/local/lib/python3.10/dist-packages/sklearn/linear_model/_logistic.py:458: ConvergenceWarning: lbfgs failed to converge (status=1):\n",
            "STOP: TOTAL NO. of ITERATIONS REACHED LIMIT.\n",
            "\n",
            "Increase the number of iterations (max_iter) or scale the data as shown in:\n",
            "    https://scikit-learn.org/stable/modules/preprocessing.html\n",
            "Please also refer to the documentation for alternative solver options:\n",
            "    https://scikit-learn.org/stable/modules/linear_model.html#logistic-regression\n",
            "  n_iter_i = _check_optimize_result(\n",
            "/usr/local/lib/python3.10/dist-packages/sklearn/linear_model/_logistic.py:458: ConvergenceWarning: lbfgs failed to converge (status=1):\n",
            "STOP: TOTAL NO. of ITERATIONS REACHED LIMIT.\n",
            "\n",
            "Increase the number of iterations (max_iter) or scale the data as shown in:\n",
            "    https://scikit-learn.org/stable/modules/preprocessing.html\n",
            "Please also refer to the documentation for alternative solver options:\n",
            "    https://scikit-learn.org/stable/modules/linear_model.html#logistic-regression\n",
            "  n_iter_i = _check_optimize_result(\n",
            "/usr/local/lib/python3.10/dist-packages/sklearn/linear_model/_logistic.py:458: ConvergenceWarning: lbfgs failed to converge (status=1):\n",
            "STOP: TOTAL NO. of ITERATIONS REACHED LIMIT.\n",
            "\n",
            "Increase the number of iterations (max_iter) or scale the data as shown in:\n",
            "    https://scikit-learn.org/stable/modules/preprocessing.html\n",
            "Please also refer to the documentation for alternative solver options:\n",
            "    https://scikit-learn.org/stable/modules/linear_model.html#logistic-regression\n",
            "  n_iter_i = _check_optimize_result(\n",
            "/usr/local/lib/python3.10/dist-packages/sklearn/linear_model/_logistic.py:458: ConvergenceWarning: lbfgs failed to converge (status=1):\n",
            "STOP: TOTAL NO. of ITERATIONS REACHED LIMIT.\n",
            "\n",
            "Increase the number of iterations (max_iter) or scale the data as shown in:\n",
            "    https://scikit-learn.org/stable/modules/preprocessing.html\n",
            "Please also refer to the documentation for alternative solver options:\n",
            "    https://scikit-learn.org/stable/modules/linear_model.html#logistic-regression\n",
            "  n_iter_i = _check_optimize_result(\n",
            "/usr/local/lib/python3.10/dist-packages/sklearn/linear_model/_logistic.py:458: ConvergenceWarning: lbfgs failed to converge (status=1):\n",
            "STOP: TOTAL NO. of ITERATIONS REACHED LIMIT.\n",
            "\n",
            "Increase the number of iterations (max_iter) or scale the data as shown in:\n",
            "    https://scikit-learn.org/stable/modules/preprocessing.html\n",
            "Please also refer to the documentation for alternative solver options:\n",
            "    https://scikit-learn.org/stable/modules/linear_model.html#logistic-regression\n",
            "  n_iter_i = _check_optimize_result(\n",
            "/usr/local/lib/python3.10/dist-packages/sklearn/linear_model/_logistic.py:458: ConvergenceWarning: lbfgs failed to converge (status=1):\n",
            "STOP: TOTAL NO. of ITERATIONS REACHED LIMIT.\n",
            "\n",
            "Increase the number of iterations (max_iter) or scale the data as shown in:\n",
            "    https://scikit-learn.org/stable/modules/preprocessing.html\n",
            "Please also refer to the documentation for alternative solver options:\n",
            "    https://scikit-learn.org/stable/modules/linear_model.html#logistic-regression\n",
            "  n_iter_i = _check_optimize_result(\n",
            "/usr/local/lib/python3.10/dist-packages/sklearn/linear_model/_logistic.py:458: ConvergenceWarning: lbfgs failed to converge (status=1):\n",
            "STOP: TOTAL NO. of ITERATIONS REACHED LIMIT.\n",
            "\n",
            "Increase the number of iterations (max_iter) or scale the data as shown in:\n",
            "    https://scikit-learn.org/stable/modules/preprocessing.html\n",
            "Please also refer to the documentation for alternative solver options:\n",
            "    https://scikit-learn.org/stable/modules/linear_model.html#logistic-regression\n",
            "  n_iter_i = _check_optimize_result(\n",
            "/usr/local/lib/python3.10/dist-packages/sklearn/linear_model/_logistic.py:458: ConvergenceWarning: lbfgs failed to converge (status=1):\n",
            "STOP: TOTAL NO. of ITERATIONS REACHED LIMIT.\n",
            "\n",
            "Increase the number of iterations (max_iter) or scale the data as shown in:\n",
            "    https://scikit-learn.org/stable/modules/preprocessing.html\n",
            "Please also refer to the documentation for alternative solver options:\n",
            "    https://scikit-learn.org/stable/modules/linear_model.html#logistic-regression\n",
            "  n_iter_i = _check_optimize_result(\n",
            "/usr/local/lib/python3.10/dist-packages/sklearn/linear_model/_logistic.py:458: ConvergenceWarning: lbfgs failed to converge (status=1):\n",
            "STOP: TOTAL NO. of ITERATIONS REACHED LIMIT.\n",
            "\n",
            "Increase the number of iterations (max_iter) or scale the data as shown in:\n",
            "    https://scikit-learn.org/stable/modules/preprocessing.html\n",
            "Please also refer to the documentation for alternative solver options:\n",
            "    https://scikit-learn.org/stable/modules/linear_model.html#logistic-regression\n",
            "  n_iter_i = _check_optimize_result(\n",
            "/usr/local/lib/python3.10/dist-packages/sklearn/linear_model/_logistic.py:458: ConvergenceWarning: lbfgs failed to converge (status=1):\n",
            "STOP: TOTAL NO. of ITERATIONS REACHED LIMIT.\n",
            "\n",
            "Increase the number of iterations (max_iter) or scale the data as shown in:\n",
            "    https://scikit-learn.org/stable/modules/preprocessing.html\n",
            "Please also refer to the documentation for alternative solver options:\n",
            "    https://scikit-learn.org/stable/modules/linear_model.html#logistic-regression\n",
            "  n_iter_i = _check_optimize_result(\n",
            "/usr/local/lib/python3.10/dist-packages/sklearn/linear_model/_logistic.py:458: ConvergenceWarning: lbfgs failed to converge (status=1):\n",
            "STOP: TOTAL NO. of ITERATIONS REACHED LIMIT.\n",
            "\n",
            "Increase the number of iterations (max_iter) or scale the data as shown in:\n",
            "    https://scikit-learn.org/stable/modules/preprocessing.html\n",
            "Please also refer to the documentation for alternative solver options:\n",
            "    https://scikit-learn.org/stable/modules/linear_model.html#logistic-regression\n",
            "  n_iter_i = _check_optimize_result(\n"
          ]
        },
        {
          "output_type": "stream",
          "name": "stdout",
          "text": [
            "{'C': 3.5} 0.8593\n"
          ]
        },
        {
          "output_type": "stream",
          "name": "stderr",
          "text": [
            "/usr/local/lib/python3.10/dist-packages/sklearn/linear_model/_logistic.py:458: ConvergenceWarning: lbfgs failed to converge (status=1):\n",
            "STOP: TOTAL NO. of ITERATIONS REACHED LIMIT.\n",
            "\n",
            "Increase the number of iterations (max_iter) or scale the data as shown in:\n",
            "    https://scikit-learn.org/stable/modules/preprocessing.html\n",
            "Please also refer to the documentation for alternative solver options:\n",
            "    https://scikit-learn.org/stable/modules/linear_model.html#logistic-regression\n",
            "  n_iter_i = _check_optimize_result(\n"
          ]
        }
      ]
    }
  ]
}
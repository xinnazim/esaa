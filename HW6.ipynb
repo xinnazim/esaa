{
  "nbformat": 4,
  "nbformat_minor": 0,
  "metadata": {
    "colab": {
      "provenance": [],
      "authorship_tag": "ABX9TyO2rWyYGMkQUKx8Cu4s3pO2",
      "include_colab_link": true
    },
    "kernelspec": {
      "name": "python3",
      "display_name": "Python 3"
    },
    "language_info": {
      "name": "python"
    }
  },
  "cells": [
    {
      "cell_type": "markdown",
      "metadata": {
        "id": "view-in-github",
        "colab_type": "text"
      },
      "source": [
        "<a href=\"https://colab.research.google.com/github/xinnazim/esaa/blob/main/HW6.ipynb\" target=\"_parent\"><img src=\"https://colab.research.google.com/assets/colab-badge.svg\" alt=\"Open In Colab\"/></a>"
      ]
    },
    {
      "cell_type": "markdown",
      "source": [
        "# 2031031 유지민 통프 HW6"
      ],
      "metadata": {
        "id": "gVMSX2OpLnfB"
      }
    },
    {
      "cell_type": "code",
      "execution_count": null,
      "metadata": {
        "id": "e1cfMJ2o6FHf"
      },
      "outputs": [],
      "source": [
        "%pip install ISLP"
      ]
    },
    {
      "cell_type": "code",
      "source": [
        "import torch\n",
        "import numpy as np\n",
        "import matplotlib.pyplot as plt\n",
        "from torch.utils.data import TensorDataset, DataLoader\n",
        "from tqdm import tqdm"
      ],
      "metadata": {
        "id": "c8fLg-o36TPu"
      },
      "execution_count": null,
      "outputs": []
    },
    {
      "cell_type": "markdown",
      "source": [
        "# HW Problem 1: Iris data"
      ],
      "metadata": {
        "id": "GUxpo0IdNzmp"
      }
    },
    {
      "cell_type": "markdown",
      "source": [
        "We will be using the famous Iris dataset, which contains measurements of the sepal length, sepal width, petal length, and petal width for three species of iris flowers (Iris setosa, Iris versicolor, and Iris virginica). The goal is to predict the species of an iris flower based on these measurements."
      ],
      "metadata": {
        "id": "_dPfo6OoSXGe"
      }
    },
    {
      "cell_type": "code",
      "source": [
        "from sklearn.datasets import load_iris\n",
        "from sklearn.model_selection import train_test_split\n",
        "\n",
        "# Load the Iris dataset\n",
        "iris = load_iris()\n",
        "\n",
        "# Convert the data to PyTorch tensors\n",
        "X = torch.tensor(iris.data, dtype=torch.float32)\n",
        "y = torch.tensor(iris.target, dtype=torch.long)\n",
        "\n",
        "t = torch.nn.functional.one_hot(torch.tensor(y, dtype=torch.int64), num_classes=3)\n",
        "t = torch.tensor(t, dtype=torch.float32)\n",
        "\n",
        "\n",
        "# Normalize the input data\n",
        "mean = torch.mean(X, dim=0)\n",
        "std = torch.std(X, dim=0)\n",
        "X = (X - mean) / std\n",
        "\n",
        "# Split the dataset into training and validation sets\n",
        "X_train, X_val, t_train, t_val = train_test_split(X, t, test_size=0.2, random_state=42)\n",
        "\n",
        "# Create PyTorch Datasets\n",
        "train_dataset = TensorDataset(X_train, t_train)\n",
        "val_dataset = TensorDataset(X_val, t_val)\n",
        "\n",
        "# Define the data loaders\n",
        "batch_size = 32\n",
        "train_loader = DataLoader(train_dataset, batch_size=batch_size, shuffle=True)\n",
        "test_loader = DataLoader(val_dataset, batch_size=batch_size, shuffle=False)\n"
      ],
      "metadata": {
        "colab": {
          "base_uri": "https://localhost:8080/"
        },
        "id": "Kyo_KXiCSHBM",
        "outputId": "1d1a6c39-3722-455f-c747-c0b11fe2ccb1"
      },
      "execution_count": null,
      "outputs": [
        {
          "output_type": "stream",
          "name": "stderr",
          "text": [
            "<ipython-input-2-d11aa3dd3743>:11: UserWarning: To copy construct from a tensor, it is recommended to use sourceTensor.clone().detach() or sourceTensor.clone().detach().requires_grad_(True), rather than torch.tensor(sourceTensor).\n",
            "  t = torch.nn.functional.one_hot(torch.tensor(y, dtype=torch.int64), num_classes=3)\n",
            "<ipython-input-2-d11aa3dd3743>:12: UserWarning: To copy construct from a tensor, it is recommended to use sourceTensor.clone().detach() or sourceTensor.clone().detach().requires_grad_(True), rather than torch.tensor(sourceTensor).\n",
            "  t = torch.tensor(t, dtype=torch.float32)\n"
          ]
        }
      ]
    },
    {
      "cell_type": "markdown",
      "source": [
        "Use `neural networks` and `multinomial logistic regression model` to classiy the iris, and calculate the test error. Try to provide the best `neural networks` with the smallest test error rate."
      ],
      "metadata": {
        "id": "NNktCPQ3Sf-w"
      }
    },
    {
      "cell_type": "code",
      "source": [
        "X.shape"
      ],
      "metadata": {
        "colab": {
          "base_uri": "https://localhost:8080/"
        },
        "id": "4GWiXEyZM_qg",
        "outputId": "4aff4226-73a1-4b61-d05f-a765f1d197f9"
      },
      "execution_count": null,
      "outputs": [
        {
          "output_type": "execute_result",
          "data": {
            "text/plain": [
              "torch.Size([150, 4])"
            ]
          },
          "metadata": {},
          "execution_count": 3
        }
      ]
    },
    {
      "cell_type": "markdown",
      "source": [
        "## Exercise 2.3.3. Iris data (Offline)"
      ],
      "metadata": {
        "id": "jL6Q41VhSDtg"
      }
    },
    {
      "cell_type": "markdown",
      "source": [
        "We will be using the famous Iris dataset, which contains measurements of the sepal length, sepal width, petal length, and petal width for three species of iris flowers (Iris setosa, Iris versicolor, and Iris virginica). The goal is to predict the species of an iris flower based on these measurements."
      ],
      "metadata": {
        "id": "hLwA7VKyOcwp"
      }
    },
    {
      "cell_type": "code",
      "source": [
        "from sklearn.datasets import load_iris\n",
        "from sklearn.model_selection import train_test_split\n",
        "\n",
        "# Load the Iris dataset\n",
        "iris = load_iris()\n",
        "\n",
        "# Convert the data to PyTorch tensors\n",
        "X = torch.tensor(iris.data, dtype=torch.float32)\n",
        "y = torch.tensor(iris.target, dtype=torch.long)\n",
        "\n",
        "t = torch.nn.functional.one_hot(torch.tensor(y, dtype=torch.int64), num_classes=3)\n",
        "t = torch.tensor(t, dtype=torch.float32)\n",
        "\n",
        "\n",
        "# Normalize the input data\n",
        "mean = torch.mean(X, dim=0)\n",
        "std = torch.std(X, dim=0)\n",
        "X = (X - mean) / std\n",
        "\n",
        "# Split the dataset into training and validation sets\n",
        "X_train, X_val, t_train, t_val = train_test_split(X, t, test_size=0.2, random_state=42)\n",
        "\n",
        "# Create PyTorch Datasets\n",
        "train_dataset = TensorDataset(X_train, t_train)\n",
        "val_dataset = TensorDataset(X_val, t_val)\n",
        "\n",
        "# Define the data loaders\n",
        "batch_size = 16\n",
        "train_loader = DataLoader(train_dataset, batch_size=batch_size, shuffle=True)\n",
        "test_loader = DataLoader(val_dataset, batch_size=batch_size, shuffle=False)\n"
      ],
      "metadata": {
        "colab": {
          "base_uri": "https://localhost:8080/"
        },
        "outputId": "ce512222-ce4d-4535-f065-98db52606477",
        "id": "MapnLbhTOcwp"
      },
      "execution_count": null,
      "outputs": [
        {
          "output_type": "stream",
          "name": "stderr",
          "text": [
            "<ipython-input-44-8c6f6fee426b>:11: UserWarning: To copy construct from a tensor, it is recommended to use sourceTensor.clone().detach() or sourceTensor.clone().detach().requires_grad_(True), rather than torch.tensor(sourceTensor).\n",
            "  t = torch.nn.functional.one_hot(torch.tensor(y, dtype=torch.int64), num_classes=3)\n",
            "<ipython-input-44-8c6f6fee426b>:12: UserWarning: To copy construct from a tensor, it is recommended to use sourceTensor.clone().detach() or sourceTensor.clone().detach().requires_grad_(True), rather than torch.tensor(sourceTensor).\n",
            "  t = torch.tensor(t, dtype=torch.float32)\n"
          ]
        }
      ]
    },
    {
      "cell_type": "markdown",
      "source": [
        "Use multinomial logistic regression model to classiy the iris, and calculate the test error.\n",
        "\n",
        "> hw6. neural network 사용"
      ],
      "metadata": {
        "id": "y07LmOd0Ocwq"
      }
    },
    {
      "cell_type": "markdown",
      "source": [
        "# mulitinomial logistic\n",
        "* 다중 클래스: 3\n",
        "* x의 파라미터: 4"
      ],
      "metadata": {
        "id": "RZqKWClg7Lzl"
      }
    },
    {
      "cell_type": "code",
      "source": [
        "z_model = torch.nn.Linear(4,3, bias=True) #X:[n, 4] #name changed\n",
        "\n",
        "#z_model(X) = X@W+b,    W:[4,3],    b = [3]\n",
        "loss_fn = torch.nn.CrossEntropyLoss(reduction='mean')\n",
        "# loss_fn(Z, T): -loglike(Multinomial(Q, T))\n",
        "\n",
        "optimizer = torch.optim.SGD(z_model.parameters(), lr=0.01)\n",
        "history=[]\n",
        "epochs = 100000\n",
        "n=len(train_loader.dataset)\n",
        "\n",
        "for epoch in range(epochs):\n",
        "  epoch_loss = 0.0\n",
        "  for xx, tt in train_loader:\n",
        "    zhat = z_model(xx) #xx@W+b, x 2차원 배열이니까 reshape 필요 없음\n",
        "\n",
        "    loss = loss_fn(zhat, tt) #cross-entropy loss = - log-lik(Multi(q, tt))\n",
        "    loss.backward()\n",
        "    epoch_loss += loss.item()*len(xx)\n",
        "\n",
        "    optimizer.step()\n",
        "    optimizer.zero_grad()\n",
        "  history.append(epoch_loss/n)"
      ],
      "metadata": {
        "id": "I4JGkw1eqWj5"
      },
      "execution_count": null,
      "outputs": []
    },
    {
      "cell_type": "code",
      "source": [
        "plt.plot(history)"
      ],
      "metadata": {
        "colab": {
          "base_uri": "https://localhost:8080/",
          "height": 448
        },
        "id": "4lqTOZbUr0g_",
        "outputId": "6b9a77ba-3aa7-4ffb-dcb7-3d48b42ad1d8"
      },
      "execution_count": null,
      "outputs": [
        {
          "output_type": "execute_result",
          "data": {
            "text/plain": [
              "[<matplotlib.lines.Line2D at 0x7c68a14ca7a0>]"
            ]
          },
          "metadata": {},
          "execution_count": 52
        },
        {
          "output_type": "display_data",
          "data": {
            "text/plain": [
              "<Figure size 640x480 with 1 Axes>"
            ],
            "image/png": "[encoded data removed]"
          },
          "metadata": {}
        }
      ]
    },
    {
      "cell_type": "code",
      "source": [
        "test_acc_sum=0\n",
        "for xx, tt in test_loader:\n",
        "  zhat_test = z_model(xx) # x_test: [n_test, 4]\n",
        "  Q_test= torch.softmax(zhat_test, axis=1) # Q_test: [n_test, 3]\n",
        "  # y_test\n",
        "  y_hat = torch.argmax(Q_test, axis=1).to(torch.float32) # y_hat: [n_test,]\n",
        "  yy = torch.argmax(tt, axis=1).to(torch.float32)\n",
        "  test_acc_sum +=torch.sum(y_hat == yy) # 여기서의 tt는 yy와 같음\n",
        "\n",
        "print(f'test accuracy: {test_acc_sum / len(val_dataset)}')"
      ],
      "metadata": {
        "colab": {
          "base_uri": "https://localhost:8080/"
        },
        "id": "YVtBHJTMYoX1",
        "outputId": "e1f5b955-17aa-4a67-ef51-9436f1e9327a"
      },
      "execution_count": null,
      "outputs": [
        {
          "output_type": "stream",
          "name": "stdout",
          "text": [
            "test accuracy: 1.0\n"
          ]
        }
      ]
    },
    {
      "cell_type": "markdown",
      "source": [
        "test_error = 1 - accuracy = 0"
      ],
      "metadata": {
        "id": "9Q4bh2iPubOv"
      }
    },
    {
      "cell_type": "markdown",
      "source": [
        "# Nerual network"
      ],
      "metadata": {
        "id": "ugUG2oVesqIq"
      }
    },
    {
      "cell_type": "code",
      "source": [
        "class my_dn2(torch.nn.Module):\n",
        "    def __init__(self):\n",
        "        super().__init__()\n",
        "        self.linear1 = torch.nn.Linear(4,128) # 노드 너무 많아지면 과적합 우려\n",
        "        self.relu1 = torch.nn.ReLU() #활성화 함수 중 Relu 가장 안정적\n",
        "        self.linear2 = torch.nn.Linear(128, 64) #128 자리에 2의 거듭제곱\n",
        "        self.linear3 = torch.nn.Linear(64, 32)\n",
        "        self.linear4 = torch.nn.Linear(32, 3) # output값 = class num !!\n",
        "    def forward(self, x):\n",
        "        x = self.linear1(x)\n",
        "        x = self.relu1(x)\n",
        "        x = self.linear2(x)\n",
        "        x = self.relu1(x)\n",
        "        x = self.linear3(x)\n",
        "        x = self.relu1(x)\n",
        "        x = self.linear4(x) # linear 개수도 상관 없음\n",
        "        x = self.relu1(x)\n",
        "        return x"
      ],
      "metadata": {
        "id": "KjyaNDAysFDW"
      },
      "execution_count": null,
      "outputs": []
    },
    {
      "cell_type": "code",
      "execution_count": null,
      "metadata": {
        "id": "D_biBm-OsnYN"
      },
      "outputs": [],
      "source": [
        "DN2 = my_dn2()\n",
        "loss_ftn = torch.nn.CrossEntropyLoss() #qhat으로 안바꿔도되니까 크로스엔트로피 사용\n",
        "optimizer = torch.optim.SGD(DN2.parameters(), lr=0.01)\n",
        "history = []"
      ]
    },
    {
      "cell_type": "code",
      "execution_count": null,
      "metadata": {
        "id": "EYkynLE3snYO",
        "colab": {
          "base_uri": "https://localhost:8080/"
        },
        "outputId": "9dd619f9-56d8-46e5-eab3-f3eca20975d0"
      },
      "outputs": [
        {
          "output_type": "stream",
          "name": "stderr",
          "text": [
            "100%|██████████| 100000/100000 [18:44<00:00, 88.93it/s]\n"
          ]
        }
      ],
      "source": [
        "epochs=100000\n",
        "history=[]\n",
        "\n",
        "for epoch in tqdm(range(epochs)):\n",
        "  running_loss =0\n",
        "  for xx, tt in train_loader:\n",
        "    optimizer.zero_grad() # 그래디언트 비우기\n",
        "    zhat = DN2(xx)\n",
        "    loss = loss_ftn(zhat, tt) # 크로스엔트로피 -> zhat\n",
        "    loss.backward()\n",
        "    optimizer.step()\n",
        "    running_loss += loss.item()*len(xx)\n",
        "  history.append(running_loss/len(train_loader.dataset))"
      ]
    },
    {
      "cell_type": "code",
      "source": [
        "plt.plot(history)"
      ],
      "metadata": {
        "colab": {
          "base_uri": "https://localhost:8080/",
          "height": 448
        },
        "id": "hqPrtrAH1hwa",
        "outputId": "a0811cf3-e251-43d7-a561-c2ad8e82e4be"
      },
      "execution_count": null,
      "outputs": [
        {
          "output_type": "execute_result",
          "data": {
            "text/plain": [
              "[<matplotlib.lines.Line2D at 0x7c68a14411e0>]"
            ]
          },
          "metadata": {},
          "execution_count": 49
        },
        {
          "output_type": "display_data",
          "data": {
            "text/plain": [
              "<Figure size 640x480 with 1 Axes>"
            ],
            "image/png": "[encoded data removed]"
          },
          "metadata": {}
        }
      ]
    },
    {
      "cell_type": "code",
      "source": [
        "for xx, tt in test_loader: # xx,tt가 test안의 모든 데이터 셋\n",
        "  zhat_test = DN2(xx) # x_test: [n_test, 4]\n",
        "  Q_test= torch.softmax(zhat_test, axis=1) # Q_test: [n_test, 3]\n",
        "  # y_test\n",
        "  y_hat = torch.argmax(Q_test, axis=1).to(torch.float32) # y_hat: [n_test,], 어떤 클래스로 분류되어있는지\n",
        "  yy = torch.argmax(tt, axis=1).to(torch.float32) #원핫인코딩된 값 클래스로 바뀌게 argmax\n",
        "\n",
        "print(f'accuracy: {sum(y_hat == yy) / len(val_dataset)}')"
      ],
      "metadata": {
        "colab": {
          "base_uri": "https://localhost:8080/"
        },
        "id": "S_oBLHHPvW2D",
        "outputId": "3cf3e079-5a0f-44ff-ac57-f8dae0c0413f"
      },
      "execution_count": null,
      "outputs": [
        {
          "output_type": "stream",
          "name": "stdout",
          "text": [
            "accuracy: 0.4333333373069763\n"
          ]
        }
      ]
    },
    {
      "cell_type": "markdown",
      "source": [
        "> validation set이 30개고 test가 32라서 전체 다 돌림\n"
      ],
      "metadata": {
        "id": "jH7VFJgaK46w"
      }
    },
    {
      "cell_type": "code",
      "source": [
        "1- 0.4333333"
      ],
      "metadata": {
        "colab": {
          "base_uri": "https://localhost:8080/"
        },
        "id": "4mSgReibuqaj",
        "outputId": "2a4bd0dc-4abe-40b6-875a-880a7d6ddb6d"
      },
      "execution_count": null,
      "outputs": [
        {
          "output_type": "execute_result",
          "data": {
            "text/plain": [
              "0.5666667000000001"
            ]
          },
          "metadata": {},
          "execution_count": 54
        }
      ]
    },
    {
      "cell_type": "markdown",
      "source": [
        "test_error = 1 - accuracy = 0.567"
      ],
      "metadata": {
        "id": "ZrjcsCpYumZQ"
      }
    },
    {
      "cell_type": "markdown",
      "metadata": {
        "id": "6MMnjhQOPR-2"
      },
      "source": [
        "## HW Problem 2: Fashion MNIST data"
      ]
    },
    {
      "cell_type": "markdown",
      "metadata": {
        "id": "Q0wBOhSpRP6A"
      },
      "source": [
        "You are given the following fashion MNIST data. Use `the multinomial regression` and `neural networks` so that the model can determine the label from the images. Calculate the test accuracy. Compare your test accuracy with that of the `linear` version of the `multinomial regression`.\n",
        "\n",
        "1. the picture\n",
        "\n",
        "2. predicted label\n",
        "\n",
        "3. real label\n",
        "\n",
        "4. Explain the possible reason why your model is wrong in this case."
      ]
    },
    {
      "cell_type": "markdown",
      "source": [
        "Hint: Each training and test example is assigned to one of the following labels:\n",
        "\n",
        "0 T-shirt/top\n",
        "\n",
        "1 Trouser\n",
        "\n",
        "2 Pullover\n",
        "\n",
        "3 Dress\n",
        "\n",
        "4 Coat\n",
        "\n",
        "5 Sandal\n",
        "\n",
        "6 Shirt\n",
        "\n",
        "7 Sneaker\n",
        "\n",
        "8 Bag\n",
        "\n",
        "9 Ankle boot"
      ],
      "metadata": {
        "id": "f0332X2pWmn0"
      }
    },
    {
      "cell_type": "code",
      "execution_count": null,
      "metadata": {
        "id": "E-OllAGT6pr-"
      },
      "outputs": [],
      "source": [
        "import torch\n",
        "from torch import nn, optim\n",
        "import torch.nn.functional as F\n",
        "from torch.utils.data import DataLoader\n",
        "from torchvision import datasets, transforms"
      ]
    },
    {
      "cell_type": "code",
      "execution_count": null,
      "metadata": {
        "id": "Y2dqyxnr6psU",
        "colab": {
          "base_uri": "https://localhost:8080/"
        },
        "outputId": "3d827519-16da-4f76-aba2-5314a1d46946"
      },
      "outputs": [
        {
          "output_type": "stream",
          "name": "stdout",
          "text": [
            "Downloading http://fashion-mnist.s3-website.eu-central-1.amazonaws.com/train-images-idx3-ubyte.gz\n",
            "Downloading http://fashion-mnist.s3-website.eu-central-1.amazonaws.com/train-images-idx3-ubyte.gz to ./data/FashionMNIST/raw/train-images-idx3-ubyte.gz\n"
          ]
        },
        {
          "output_type": "stream",
          "name": "stderr",
          "text": [
            "100%|██████████| 26421880/26421880 [00:02<00:00, 12336649.93it/s]\n"
          ]
        },
        {
          "output_type": "stream",
          "name": "stdout",
          "text": [
            "Extracting ./data/FashionMNIST/raw/train-images-idx3-ubyte.gz to ./data/FashionMNIST/raw\n",
            "\n",
            "Downloading http://fashion-mnist.s3-website.eu-central-1.amazonaws.com/train-labels-idx1-ubyte.gz\n",
            "Downloading http://fashion-mnist.s3-website.eu-central-1.amazonaws.com/train-labels-idx1-ubyte.gz to ./data/FashionMNIST/raw/train-labels-idx1-ubyte.gz\n"
          ]
        },
        {
          "output_type": "stream",
          "name": "stderr",
          "text": [
            "100%|██████████| 29515/29515 [00:00<00:00, 197693.82it/s]\n"
          ]
        },
        {
          "output_type": "stream",
          "name": "stdout",
          "text": [
            "Extracting ./data/FashionMNIST/raw/train-labels-idx1-ubyte.gz to ./data/FashionMNIST/raw\n",
            "\n",
            "Downloading http://fashion-mnist.s3-website.eu-central-1.amazonaws.com/t10k-images-idx3-ubyte.gz\n",
            "Downloading http://fashion-mnist.s3-website.eu-central-1.amazonaws.com/t10k-images-idx3-ubyte.gz to ./data/FashionMNIST/raw/t10k-images-idx3-ubyte.gz\n"
          ]
        },
        {
          "output_type": "stream",
          "name": "stderr",
          "text": [
            "100%|██████████| 4422102/4422102 [00:01<00:00, 3693927.09it/s]\n"
          ]
        },
        {
          "output_type": "stream",
          "name": "stdout",
          "text": [
            "Extracting ./data/FashionMNIST/raw/t10k-images-idx3-ubyte.gz to ./data/FashionMNIST/raw\n",
            "\n",
            "Downloading http://fashion-mnist.s3-website.eu-central-1.amazonaws.com/t10k-labels-idx1-ubyte.gz\n",
            "Downloading http://fashion-mnist.s3-website.eu-central-1.amazonaws.com/t10k-labels-idx1-ubyte.gz to ./data/FashionMNIST/raw/t10k-labels-idx1-ubyte.gz\n"
          ]
        },
        {
          "output_type": "stream",
          "name": "stderr",
          "text": [
            "100%|██████████| 5148/5148 [00:00<00:00, 17684092.54it/s]"
          ]
        },
        {
          "output_type": "stream",
          "name": "stdout",
          "text": [
            "Extracting ./data/FashionMNIST/raw/t10k-labels-idx1-ubyte.gz to ./data/FashionMNIST/raw\n",
            "\n"
          ]
        },
        {
          "output_type": "stream",
          "name": "stderr",
          "text": [
            "\n"
          ]
        }
      ],
      "source": [
        "# transform to normalize the data\n",
        "transform = transforms.Compose([transforms.ToTensor(),\n",
        "                                transforms.Normalize((0.5,), (0.5,))])\n",
        "\n",
        "# Download and load the training data\n",
        "trainset = datasets.FashionMNIST('./data', download=True, train=True, transform=transform)\n",
        "train_loader = DataLoader(trainset, batch_size=64, shuffle=True)\n",
        "\n",
        "# Download and load the test data\n",
        "validationset = datasets.FashionMNIST('./data', download=True, train=False, transform=transform)\n",
        "test_loader = DataLoader(validationset, batch_size=64, shuffle=True)"
      ]
    },
    {
      "cell_type": "code",
      "source": [
        "xx, yy = trainset[0]"
      ],
      "metadata": {
        "id": "fH_-sM1iXlj4"
      },
      "execution_count": null,
      "outputs": []
    },
    {
      "cell_type": "code",
      "source": [
        "plt.imshow(xx.reshape(28,28))\n",
        "my_name = { 0: \"T-shirt/top\", 1: \"Trouser\",\n",
        "              2: \"Pullover\", 3: \"Dress\", 4: \"Coat\", 5: \"Sandal\", 6: \"Shirt\", 7: \"Sneaker\", 8: \"Bag\", 9: \"Ankle boot\"}\n",
        "print(my_name[yy])"
      ],
      "metadata": {
        "colab": {
          "base_uri": "https://localhost:8080/",
          "height": 448
        },
        "id": "2ZGC0KmyQ9nR",
        "outputId": "bd112ced-aef7-4e1a-d279-07aee07af760"
      },
      "execution_count": null,
      "outputs": [
        {
          "output_type": "stream",
          "name": "stdout",
          "text": [
            "Ankle boot\n"
          ]
        },
        {
          "output_type": "display_data",
          "data": {
            "text/plain": [
              "<Figure size 640x480 with 1 Axes>"
            ],
            "image/png": "[encoded data removed]"
          },
          "metadata": {}
        }
      ]
    },
    {
      "cell_type": "code",
      "source": [
        "X_train.shape"
      ],
      "metadata": {
        "colab": {
          "base_uri": "https://localhost:8080/"
        },
        "id": "rj2CwioUL8OI",
        "outputId": "07c4375a-61e7-4e46-a065-62a9a86e43ae"
      },
      "execution_count": null,
      "outputs": [
        {
          "output_type": "execute_result",
          "data": {
            "text/plain": [
              "torch.Size([120, 4])"
            ]
          },
          "metadata": {},
          "execution_count": 26
        }
      ]
    },
    {
      "cell_type": "code",
      "source": [
        "tmp = xx.reshape(-1,784)\n",
        "print(xx.shape, tmp.shape) # 64= x의 데이터 수"
      ],
      "metadata": {
        "id": "Mx4m_G6lwomd",
        "colab": {
          "base_uri": "https://localhost:8080/"
        },
        "outputId": "1ecf90be-4e3f-4690-99b9-88a171b20672"
      },
      "execution_count": null,
      "outputs": [
        {
          "output_type": "stream",
          "name": "stdout",
          "text": [
            "torch.Size([1, 28, 28]) torch.Size([1, 784])\n"
          ]
        }
      ]
    },
    {
      "cell_type": "code",
      "execution_count": null,
      "metadata": {
        "id": "DpQNS4192wjO",
        "colab": {
          "base_uri": "https://localhost:8080/"
        },
        "outputId": "c8f8632b-f7f0-4288-d0a6-354251ace031"
      },
      "outputs": [
        {
          "output_type": "stream",
          "name": "stderr",
          "text": [
            "100%|██████████| 30/30 [08:12<00:00, 16.43s/it]\n"
          ]
        }
      ],
      "source": [
        "z_model = torch.nn.Linear(784, 10, bias=True) #X:[n, 784] #name changed 28*28인 2차원 배열을 784인 1차원 배열로 변경해야 input을 받아올 수 있음\n",
        "# 클래스 수: 10\n",
        "#z_model(X) = X@W+b,    W:[784, 10],    b = [10]\n",
        "\n",
        "loss_ftn = torch.nn.CrossEntropyLoss(reduction='mean')\n",
        "# loss_fn(Z, T): -loglike(Multinomial(Q, T))\n",
        "\n",
        "optimizer = torch.optim.SGD(z_model.parameters(), lr=0.01)\n",
        "history=[]\n",
        "epochs = 30\n",
        "n=len(train_loader.dataset)\n",
        "\n",
        "for epoch in tqdm(range(epochs)):\n",
        "  epoch_loss = 0.0\n",
        "  for xx, tt in train_loader:\n",
        "    zhat = z_model(xx.reshape(-1,784)) #xx@W+b (1차원 배열로 바꿔야함)\n",
        "\n",
        "    loss = loss_ftn(zhat, tt) #cross-entropy loss = - log-lik(Multi(q, tt))\n",
        "    loss.backward()\n",
        "    epoch_loss += loss.item()*len(xx)\n",
        "\n",
        "    optimizer.step()\n",
        "    optimizer.zero_grad()\n",
        "\n",
        "  history.append(epoch_loss/n)"
      ]
    },
    {
      "cell_type": "code",
      "execution_count": null,
      "metadata": {
        "colab": {
          "base_uri": "https://localhost:8080/",
          "height": 448
        },
        "id": "ULt06Yw44MDg",
        "outputId": "b3e2e8c1-3b94-410a-9f88-8bcf8be2b6d1"
      },
      "outputs": [
        {
          "output_type": "execute_result",
          "data": {
            "text/plain": [
              "[<matplotlib.lines.Line2D at 0x7c68a17d6050>]"
            ]
          },
          "metadata": {},
          "execution_count": 34
        },
        {
          "output_type": "display_data",
          "data": {
            "text/plain": [
              "<Figure size 640x480 with 1 Axes>"
            ],
            "image/png": "[encoded data removed]"
          },
          "metadata": {}
        }
      ],
      "source": [
        "plt.plot(history)"
      ]
    },
    {
      "cell_type": "code",
      "source": [
        "test_acc_sum=0\n",
        "for xx, tt in test_loader:\n",
        "  zhat_test = z_model(xx.reshape(-1,784)) # x_test: [n_test, 4]\n",
        "  Q_test= torch.softmax(zhat_test, axis=1) # Q_test: [n_test, 3]\n",
        "  # y_test\n",
        "  y_hat = torch.argmax(Q_test, axis=1).to(torch.float32) # y_hat: [n_test,]\n",
        "\n",
        "  test_acc_sum +=torch.sum(y_hat == tt) # 여기서의 tt는 yy와 같음\n",
        "\n",
        "print(f'test accuracy: {test_acc_sum / len(validationset)}')"
      ],
      "metadata": {
        "id": "1TjpSqQT0PRY",
        "colab": {
          "base_uri": "https://localhost:8080/"
        },
        "outputId": "a033e12e-aa1e-446c-fd27-b4190d5dabdc"
      },
      "execution_count": null,
      "outputs": [
        {
          "output_type": "stream",
          "name": "stdout",
          "text": [
            "test accuracy: 0.8424999713897705\n"
          ]
        }
      ]
    },
    {
      "cell_type": "markdown",
      "source": [
        "# NN modeling"
      ],
      "metadata": {
        "id": "lILu0vQN32m3"
      }
    },
    {
      "cell_type": "code",
      "source": [
        "class my_dn2(torch.nn.Module):\n",
        "    def __init__(self):\n",
        "        super().__init__()\n",
        "        self.linear1 = torch.nn.Linear(784,128)\n",
        "        self.relu1 = torch.nn.ReLU()\n",
        "        self.linear2 = torch.nn.Linear(128, 64)\n",
        "        self.linear3 = torch.nn.Linear(64, 32) # 증폭하지말고 거듭제곱 값 줄이면서하는게 좋음, 손실해둔걸 다시 증폭 X (성능면에서)\n",
        "        self.linear4 = torch.nn.Linear(32, 10) # output값 = class num !!\n",
        "    def forward(self, x):\n",
        "        x = self.linear1(x)\n",
        "        x = self.relu1(x)\n",
        "        x = self.linear2(x)\n",
        "        x = self.relu1(x)\n",
        "        x = self.linear3(x)\n",
        "        x = self.relu1(x)\n",
        "        x = self.linear4(x)\n",
        "        x = self.relu1(x)\n",
        "        return x"
      ],
      "metadata": {
        "id": "zYXfcAKI32Cw"
      },
      "execution_count": null,
      "outputs": []
    },
    {
      "cell_type": "code",
      "execution_count": null,
      "metadata": {
        "id": "7SMUKZn74P9g"
      },
      "outputs": [],
      "source": [
        "DN2 = my_dn2() # 클래스 받아오는 값\n",
        "loss_ftn = torch.nn.CrossEntropyLoss()\n",
        "optimizer = torch.optim.SGD(DN2.parameters(), lr=0.01)\n",
        "history = []"
      ]
    },
    {
      "cell_type": "code",
      "execution_count": null,
      "metadata": {
        "id": "O2FnR19t4P90",
        "colab": {
          "base_uri": "https://localhost:8080/"
        },
        "outputId": "1eae4100-77eb-4ba6-85f9-d2626327910a"
      },
      "outputs": [
        {
          "output_type": "stream",
          "name": "stderr",
          "text": [
            "100%|██████████| 30/30 [08:27<00:00, 16.92s/it]\n"
          ]
        }
      ],
      "source": [
        "epochs=30\n",
        "history=[]\n",
        "\n",
        "for epoch in tqdm(range(epochs)):\n",
        "  running_loss =0\n",
        "  for xx, tt in train_loader:\n",
        "    optimizer.zero_grad()\n",
        "    zhat = DN2(xx.reshape(-1,784)) # 이미지 데이터니까 784로 바꿈\n",
        "    loss = loss_ftn(zhat, tt) # 크로스엔트로피 -> zhat\n",
        "    loss.backward()\n",
        "    optimizer.step()\n",
        "    running_loss += loss.item()*len(xx)\n",
        "  history.append(running_loss/len(train_loader.dataset))"
      ]
    },
    {
      "cell_type": "code",
      "source": [
        "plt.plot(history)"
      ],
      "metadata": {
        "colab": {
          "base_uri": "https://localhost:8080/",
          "height": 448
        },
        "outputId": "39c7bdce-7bae-484f-be60-f1656c545a69",
        "id": "N86_7p3w4P91"
      },
      "execution_count": null,
      "outputs": [
        {
          "output_type": "execute_result",
          "data": {
            "text/plain": [
              "[<matplotlib.lines.Line2D at 0x7c68a16ce410>]"
            ]
          },
          "metadata": {},
          "execution_count": 40
        },
        {
          "output_type": "display_data",
          "data": {
            "text/plain": [
              "<Figure size 640x480 with 1 Axes>"
            ],
            "image/png": "[encoded data removed]"
          },
          "metadata": {}
        }
      ]
    },
    {
      "cell_type": "code",
      "source": [
        "test_acc_sum=0\n",
        "for xx, tt in test_loader: # xx,tt가 test안의 모든 데이터 셋\n",
        "  zhat_test = DN2(xx.reshape(-1,28*28)) # x_test: [n_test, 784]\n",
        "  Q_test= torch.softmax(zhat_test, axis=1) # Q_test: [n_test,10]\n",
        "  # y_test\n",
        "  y_hat = torch.argmax(Q_test, axis=1).to(torch.float32) # y_hat: [n_test,]\n",
        "  test_acc_sum += torch.sum(y_hat == tt)\n",
        "\n",
        "print(f'total accuracy: {test_acc_sum / len(validationset)}')"
      ],
      "metadata": {
        "id": "VRFAr3JU4P91",
        "colab": {
          "base_uri": "https://localhost:8080/"
        },
        "outputId": "a6ebe7f4-5ef3-436a-b30f-4dac49eee005"
      },
      "execution_count": null,
      "outputs": [
        {
          "output_type": "stream",
          "name": "stdout",
          "text": [
            "total accuracy: 0.8740000128746033\n"
          ]
        }
      ]
    },
    {
      "cell_type": "markdown",
      "source": [
        "NN model의 accuracy가 더 높음"
      ],
      "metadata": {
        "id": "T7af2-gNtxXe"
      }
    }
  ]
}
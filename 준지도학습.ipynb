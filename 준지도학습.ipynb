{
  "nbformat": 4,
  "nbformat_minor": 0,
  "metadata": {
    "colab": {
      "provenance": [],
      "authorship_tag": "ABX9TyPXW/s78K5+Ue+CdGzW1WYu",
      "include_colab_link": true
    },
    "kernelspec": {
      "name": "python3",
      "display_name": "Python 3"
    },
    "language_info": {
      "name": "python"
    }
  },
  "cells": [
    {
      "cell_type": "markdown",
      "metadata": {
        "id": "view-in-github",
        "colab_type": "text"
      },
      "source": [
        "<a href=\"https://colab.research.google.com/github/xinnazim/esaa/blob/main/%EC%A4%80%EC%A7%80%EB%8F%84%ED%95%99%EC%8A%B5.ipynb\" target=\"_parent\"><img src=\"https://colab.research.google.com/assets/colab-badge.svg\" alt=\"Open In Colab\"/></a>"
      ]
    },
    {
      "cell_type": "code",
      "execution_count": 69,
      "metadata": {
        "id": "7h3elKyyPvqA"
      },
      "outputs": [],
      "source": [
        "import pandas as pd\n",
        "import numpy as np\n",
        "import seaborn as sns\n",
        "import matplotlib.pyplot as plt\n",
        "import random\n",
        "\n",
        "# os 관리를 위한 라이브러리\n",
        "import os\n",
        "import gc\n",
        "\n",
        "from sklearn.ensemble import RandomForestClassifier\n",
        "from sklearn.preprocessing import LabelEncoder\n",
        "from sklearn.semi_supervised import SelfTrainingClassifier\n",
        "from sklearn.preprocessing import StandardScaler\n",
        "from sklearn.linear_model import LogisticRegression\n",
        "from sklearn.model_selection import train_test_split"
      ]
    },
    {
      "cell_type": "code",
      "source": [
        "def seed_everything(seed):\n",
        "    random.seed(seed)\n",
        "    os.environ['PYTHONHASHSEED'] = str(seed)\n",
        "    np.random.seed(seed)\n",
        "seed_everything(42) # Seed 고정"
      ],
      "metadata": {
        "id": "hjLkgT0_QY3z"
      },
      "execution_count": 16,
      "outputs": []
    },
    {
      "cell_type": "markdown",
      "source": [
        "# 데이터 불러오기"
      ],
      "metadata": {
        "id": "3KS4cNcpQhdW"
      }
    },
    {
      "cell_type": "code",
      "source": [
        "from google.colab import drive\n",
        "drive.mount('/content/drive')"
      ],
      "metadata": {
        "colab": {
          "base_uri": "https://localhost:8080/"
        },
        "id": "_bVawjq_QOmz",
        "outputId": "ea7d1577-64f6-492a-d5cd-e960361be03f"
      },
      "execution_count": 2,
      "outputs": [
        {
          "output_type": "stream",
          "name": "stdout",
          "text": [
            "Mounted at /content/drive\n"
          ]
        }
      ]
    },
    {
      "cell_type": "code",
      "source": [
        "train = pd.read_parquet('/content/drive/MyDrive/air/train_pre.parquet')\n",
        "test = pd.read_parquet('/content/drive/MyDrive/air/test_pre.parquet')\n",
        "sample_submission = pd.read_csv('/content/drive/MyDrive/air/sample_submission.csv', index_col = 0)"
      ],
      "metadata": {
        "id": "LbS2uPUNQa-T"
      },
      "execution_count": 54,
      "outputs": []
    },
    {
      "cell_type": "code",
      "source": [
        "train['Delay'].info()"
      ],
      "metadata": {
        "colab": {
          "base_uri": "https://localhost:8080/"
        },
        "id": "Vqdovfw7R36r",
        "outputId": "260818e0-9b90-4714-d1fc-158359643487"
      },
      "execution_count": 53,
      "outputs": [
        {
          "output_type": "stream",
          "name": "stdout",
          "text": [
            "<class 'pandas.core.series.Series'>\n",
            "Int64Index: 675015 entries, 1 to 999999\n",
            "Series name: Delay\n",
            "Non-Null Count   Dtype  \n",
            "--------------   -----  \n",
            "172245 non-null  float64\n",
            "dtypes: float64(1)\n",
            "memory usage: 10.3 MB\n"
          ]
        }
      ]
    },
    {
      "cell_type": "markdown",
      "source": [
        "# 준지도학습"
      ],
      "metadata": {
        "id": "qropwdqeQ-Kb"
      }
    },
    {
      "cell_type": "markdown",
      "source": [
        "## **Self-Training**\n",
        "* **SelfTrainingClassifier**는 사이킷런의 **BaseEstimator**와 **ClassifierMixin** 클래스를 확장한 사용자 지정 분류기\n",
        "* 레이블이 없는 데이터를 사용하여 모델을 반복 학습, 가상 레이블 생성\n",
        "* 사이킷런의 다른 분류기를 기반으로 만들 수 있음\n",
        "* 일반적으로 기본 분류기는 **레이블이 있는 데이터**로 학습 후 가상 레이블이 있는 데이터로 다시 학습\n",
        "* 반복하여 모델 업데이트 및 성능 향상\n",
        "\n",
        "\n",
        "#### chatGPT\n",
        "```\n",
        "from sklearn.semi_supervised import SelfTrainingClassifier\n",
        "from sklearn.linear_model import LogisticRegression\n",
        "\n",
        "# 데이터 전처리\n",
        "X_train = train.drop('delayed', axis=1)\n",
        "y_train = train['delayed']\n",
        "X_test = test\n",
        "\n",
        "# 데이터 스케일링\n",
        "scaler = StandardScaler()\n",
        "X_train_scaled = scaler.fit_transform(X_train)\n",
        "X_test_scaled = scaler.transform(X_test)\n",
        "\n",
        "# 기본 분류기 생성 (여기서는 로지스틱 회귀를 사용하겠습니다)\n",
        "base_classifier = LogisticRegression()\n",
        "\n",
        "# SelfTrainingClassifier 생성\n",
        "self_training_model = SelfTrainingClassifier(base_classifier, criterion='k_best', k_best=100)\n",
        "\n",
        "# 모델 학습 (가상 레이블을 생성하고 모델을 업데이트하는 과정이 자동으로 수행됩니다)\n",
        "self_training_model.fit(X_train_scaled, y_train)\n",
        "\n",
        "# 예측\n",
        "y_pred = self_training_model.predict(X_test_scaled)\n",
        "```\n",
        "\n"
      ],
      "metadata": {
        "id": "PjX53wX6T6FF"
      }
    },
    {
      "cell_type": "markdown",
      "source": [
        "### Step 0.데이터 분리"
      ],
      "metadata": {
        "id": "kMcPMgJ_RDJs"
      }
    },
    {
      "cell_type": "code",
      "source": [
        "# 데이터 분리\n",
        "\n",
        "# 1. 레이블이 있는 데이터와 레이블이 없는 데이터로 분리\n",
        "X_train_labeled = train.drop('Delay', axis=1)\n",
        "y_train_labeled = train['Delay']\n",
        "X_train_unlabeled = test.copy()  # 레이블이 없는 데이터로 테스트 데이터를 사용\n",
        "\n",
        "# 2. X, y 분리 (레이블이 있는 데이터)\n",
        "X_train_labeled, X_val_labeled, y_train_labeled, y_val_labeled = train_test_split(X_train_labeled, y_train_labeled, test_size=0.2, random_state=42)\n"
      ],
      "metadata": {
        "id": "y3zlNtEmRIr7"
      },
      "execution_count": 62,
      "outputs": []
    },
    {
      "cell_type": "code",
      "source": [
        "train = pd.read_parquet('/content/drive/MyDrive/air/train_pre.parquet')\n",
        "test = pd.read_parquet('/content/drive/MyDrive/air/test_pre.parquet')\n",
        "train_labeled = train.loc[train['Delay'].notnull(),:]\n",
        "train_unlabeled = train.loc[train['Delay'].isnull(),:]"
      ],
      "metadata": {
        "id": "NNLvxxrH7BpC"
      },
      "execution_count": 64,
      "outputs": []
    },
    {
      "cell_type": "code",
      "source": [
        "# train\n",
        "X_labeled = train_labeled.drop(['Delay'],axis = 1)\n",
        "y_labeled = train_labeled['Delay']\n",
        "X_unlabeled = train_unlabeled.drop(['Delay'],axis = 1)\n",
        "X_test= test"
      ],
      "metadata": {
        "id": "NcbyHS3ScAtx"
      },
      "execution_count": 66,
      "outputs": []
    },
    {
      "cell_type": "code",
      "source": [
        "# 5. Self-training 수행\n",
        "\n",
        "base_classifier = RandomForestClassifier()\n",
        "self_training_model = SelfTrainingClassifier(base_classifier, criterion='k_best', k_best=10)\n",
        "\n",
        "# Step 1. Base Model 학습\n",
        "self_training_model.fit(X_labeled, y_labeled)\n",
        "\n",
        "# Step 2. Self-training을 통해 의사 레이블 생성\n",
        "pseudo_labels = self_training_model.predict(X_unlabeled)"
      ],
      "metadata": {
        "colab": {
          "base_uri": "https://localhost:8080/"
        },
        "id": "-OHBJmc8cZfq",
        "outputId": "77c5dca6-6a23-4b26-cfba-732b579f1a53"
      },
      "execution_count": 70,
      "outputs": [
        {
          "output_type": "stream",
          "name": "stderr",
          "text": [
            "/usr/local/lib/python3.10/dist-packages/sklearn/semi_supervised/_self_training.py:212: UserWarning: y contains no unlabeled samples\n",
            "  warnings.warn(\"y contains no unlabeled samples\", UserWarning)\n",
            "/usr/local/lib/python3.10/dist-packages/sklearn/semi_supervised/_self_training.py:217: UserWarning: k_best is larger than the amount of unlabeled samples. All unlabeled samples will be labeled in the first iteration\n",
            "  warnings.warn(\n"
          ]
        }
      ]
    },
    {
      "cell_type": "code",
      "source": [
        "pseudo_labels # 왜??"
      ],
      "metadata": {
        "colab": {
          "base_uri": "https://localhost:8080/"
        },
        "id": "6PFVymEk8Rr5",
        "outputId": "a5a9ed53-6ec8-4283-bffc-b8b66e3ade82"
      },
      "execution_count": 71,
      "outputs": [
        {
          "output_type": "execute_result",
          "data": {
            "text/plain": [
              "array([1., 1., 1., ..., 1., 1., 1.])"
            ]
          },
          "metadata": {},
          "execution_count": 71
        }
      ]
    },
    {
      "cell_type": "code",
      "source": [
        "# Step 3. 의사 레이블을 기존 레이블이 있는 데이터에 추가하여 새로운 학습용 데이터 구성\n",
        "X_labeled_augmented = pd.concat([X_labeled, X_unlabeled])\n",
        "y_labeled_augmented = pd.concat([y_labeled, pd.Series(pseudo_labels)])\n",
        "\n",
        "# Step 4. 모델 재학습\n",
        "self_training_model.fit(X_labeled_augmented, y_labeled_augmented)\n",
        "\n",
        "# Step 5. 테스트 데이터에 대한 예측 수행\n",
        "y_pred = self_training_model.predict(X_test)\n",
        "\n",
        "# 결과 출력\n",
        "print(y_pred)"
      ],
      "metadata": {
        "id": "9AjA0Qvy8MtV"
      },
      "execution_count": null,
      "outputs": []
    },
    {
      "cell_type": "markdown",
      "source": [
        "* 의사 레이블(Pseudo label)은 준지도학습에서 사용되는 개념으로, 레이블이 없는 데이터에 대해 모델이 예측한 가상의 레이블"
      ],
      "metadata": {
        "id": "tiEkFWivfN8q"
      }
    },
    {
      "cell_type": "code",
      "source": [
        "# 6. 예측\n",
        "# Self-training을 완료한 모델을 사용하여 테스트 데이터에 대한 예측 수행\n",
        "y_pred = self_training_model.predict(X_val_labeled_scaled)\n",
        "\n",
        "# 결과 출력\n",
        "print(y_pred)"
      ],
      "metadata": {
        "colab": {
          "base_uri": "https://localhost:8080/"
        },
        "id": "xufRpdqBeobB",
        "outputId": "03634e76-60f9-4e50-cf5e-a1d84c4590ba"
      },
      "execution_count": 41,
      "outputs": [
        {
          "output_type": "stream",
          "name": "stdout",
          "text": [
            "[0. 0. 0. ... 0. 0. 0.]\n"
          ]
        }
      ]
    },
    {
      "cell_type": "markdown",
      "source": [
        "잘못함"
      ],
      "metadata": {
        "id": "i0SzDebCgXof"
      }
    },
    {
      "cell_type": "markdown",
      "source": [
        "* 준지도학습(Self-training)을 활용하여 NaN 값을 의사 레이블로 취급하고 모델링\n"
      ],
      "metadata": {
        "id": "OS9dLRfTgeDJ"
      }
    },
    {
      "cell_type": "code",
      "source": [
        "import pandas as pd\n",
        "import numpy as np\n",
        "from sklearn.model_selection import train_test_split\n",
        "from sklearn.preprocessing import StandardScaler\n",
        "from sklearn.linear_model import LogisticRegression\n",
        "from sklearn.semi_supervised import SelfTrainingClassifier\n",
        "\n",
        "# Step 0. 데이터 분리\n",
        "# 데이터 불러오기\n",
        "train = pd.read_parquet('/content/drive/MyDrive/air/train_pre.parquet')\n",
        "test = pd.read_parquet('/content/drive/MyDrive/air/test_pre.parquet')\n",
        "\n",
        "#새로운 데이터프레임 train_st와 test_st를 생성\n",
        "train_st = train.copy()\n",
        "test_st = test.copy()\n",
        "\n",
        "# 레이블 인코딩 수행\n",
        "label_encoder = LabelEncoder()\n",
        "train_st['Delay'] = label_encoder.fit_transform(train_st['Delay'])\n",
        "\n",
        "# 학습 데이터와 레이블 분리\n",
        "X_train_st = train_st.drop('Delay', axis=1)\n",
        "y_train_st = train_st['Delay']\n",
        "\n",
        "# SelfTrainingClassifier 생성\n",
        "base_classifier = RandomForestClassifier()  # 기본 분류기로 RandomForestClassifier를 사용\n",
        "self_training_model = SelfTrainingClassifier(base_classifier, criterion='k_best', k_best=30)\n",
        "\n",
        "# Self-training 수행\n",
        "self_training_model.fit(X_train_st, y_train_st)"
      ],
      "metadata": {
        "colab": {
          "base_uri": "https://localhost:8080/",
          "height": 232
        },
        "id": "bmD6XkwDgWvU",
        "outputId": "f0195ef1-2e11-478c-df7f-31a47bcf248f"
      },
      "execution_count": 59,
      "outputs": [
        {
          "output_type": "stream",
          "name": "stderr",
          "text": [
            "/usr/local/lib/python3.10/dist-packages/sklearn/semi_supervised/_self_training.py:212: UserWarning: y contains no unlabeled samples\n",
            "  warnings.warn(\"y contains no unlabeled samples\", UserWarning)\n",
            "/usr/local/lib/python3.10/dist-packages/sklearn/semi_supervised/_self_training.py:217: UserWarning: k_best is larger than the amount of unlabeled samples. All unlabeled samples will be labeled in the first iteration\n",
            "  warnings.warn(\n"
          ]
        },
        {
          "output_type": "execute_result",
          "data": {
            "text/plain": [
              "SelfTrainingClassifier(base_estimator=RandomForestClassifier(),\n",
              "                       criterion='k_best', k_best=30)"
            ],
            "text/html": [
              "<style>#sk-container-id-2 {color: black;background-color: white;}#sk-container-id-2 pre{padding: 0;}#sk-container-id-2 div.sk-toggleable {background-color: white;}#sk-container-id-2 label.sk-toggleable__label {cursor: pointer;display: block;width: 100%;margin-bottom: 0;padding: 0.3em;box-sizing: border-box;text-align: center;}#sk-container-id-2 label.sk-toggleable__label-arrow:before {content: \"▸\";float: left;margin-right: 0.25em;color: #696969;}#sk-container-id-2 label.sk-toggleable__label-arrow:hover:before {color: black;}#sk-container-id-2 div.sk-estimator:hover label.sk-toggleable__label-arrow:before {color: black;}#sk-container-id-2 div.sk-toggleable__content {max-height: 0;max-width: 0;overflow: hidden;text-align: left;background-color: #f0f8ff;}#sk-container-id-2 div.sk-toggleable__content pre {margin: 0.2em;color: black;border-radius: 0.25em;background-color: #f0f8ff;}#sk-container-id-2 input.sk-toggleable__control:checked~div.sk-toggleable__content {max-height: 200px;max-width: 100%;overflow: auto;}#sk-container-id-2 input.sk-toggleable__control:checked~label.sk-toggleable__label-arrow:before {content: \"▾\";}#sk-container-id-2 div.sk-estimator input.sk-toggleable__control:checked~label.sk-toggleable__label {background-color: #d4ebff;}#sk-container-id-2 div.sk-label input.sk-toggleable__control:checked~label.sk-toggleable__label {background-color: #d4ebff;}#sk-container-id-2 input.sk-hidden--visually {border: 0;clip: rect(1px 1px 1px 1px);clip: rect(1px, 1px, 1px, 1px);height: 1px;margin: -1px;overflow: hidden;padding: 0;position: absolute;width: 1px;}#sk-container-id-2 div.sk-estimator {font-family: monospace;background-color: #f0f8ff;border: 1px dotted black;border-radius: 0.25em;box-sizing: border-box;margin-bottom: 0.5em;}#sk-container-id-2 div.sk-estimator:hover {background-color: #d4ebff;}#sk-container-id-2 div.sk-parallel-item::after {content: \"\";width: 100%;border-bottom: 1px solid gray;flex-grow: 1;}#sk-container-id-2 div.sk-label:hover label.sk-toggleable__label {background-color: #d4ebff;}#sk-container-id-2 div.sk-serial::before {content: \"\";position: absolute;border-left: 1px solid gray;box-sizing: border-box;top: 0;bottom: 0;left: 50%;z-index: 0;}#sk-container-id-2 div.sk-serial {display: flex;flex-direction: column;align-items: center;background-color: white;padding-right: 0.2em;padding-left: 0.2em;position: relative;}#sk-container-id-2 div.sk-item {position: relative;z-index: 1;}#sk-container-id-2 div.sk-parallel {display: flex;align-items: stretch;justify-content: center;background-color: white;position: relative;}#sk-container-id-2 div.sk-item::before, #sk-container-id-2 div.sk-parallel-item::before {content: \"\";position: absolute;border-left: 1px solid gray;box-sizing: border-box;top: 0;bottom: 0;left: 50%;z-index: -1;}#sk-container-id-2 div.sk-parallel-item {display: flex;flex-direction: column;z-index: 1;position: relative;background-color: white;}#sk-container-id-2 div.sk-parallel-item:first-child::after {align-self: flex-end;width: 50%;}#sk-container-id-2 div.sk-parallel-item:last-child::after {align-self: flex-start;width: 50%;}#sk-container-id-2 div.sk-parallel-item:only-child::after {width: 0;}#sk-container-id-2 div.sk-dashed-wrapped {border: 1px dashed gray;margin: 0 0.4em 0.5em 0.4em;box-sizing: border-box;padding-bottom: 0.4em;background-color: white;}#sk-container-id-2 div.sk-label label {font-family: monospace;font-weight: bold;display: inline-block;line-height: 1.2em;}#sk-container-id-2 div.sk-label-container {text-align: center;}#sk-container-id-2 div.sk-container {/* jupyter's `normalize.less` sets `[hidden] { display: none; }` but bootstrap.min.css set `[hidden] { display: none !important; }` so we also need the `!important` here to be able to override the default hidden behavior on the sphinx rendered scikit-learn.org. See: https://github.com/scikit-learn/scikit-learn/issues/21755 */display: inline-block !important;position: relative;}#sk-container-id-2 div.sk-text-repr-fallback {display: none;}</style><div id=\"sk-container-id-2\" class=\"sk-top-container\"><div class=\"sk-text-repr-fallback\"><pre>SelfTrainingClassifier(base_estimator=RandomForestClassifier(),\n",
              "                       criterion=&#x27;k_best&#x27;, k_best=30)</pre><b>In a Jupyter environment, please rerun this cell to show the HTML representation or trust the notebook. <br />On GitHub, the HTML representation is unable to render, please try loading this page with nbviewer.org.</b></div><div class=\"sk-container\" hidden><div class=\"sk-item sk-dashed-wrapped\"><div class=\"sk-label-container\"><div class=\"sk-label sk-toggleable\"><input class=\"sk-toggleable__control sk-hidden--visually\" id=\"sk-estimator-id-2\" type=\"checkbox\" ><label for=\"sk-estimator-id-2\" class=\"sk-toggleable__label sk-toggleable__label-arrow\">SelfTrainingClassifier</label><div class=\"sk-toggleable__content\"><pre>SelfTrainingClassifier(base_estimator=RandomForestClassifier(),\n",
              "                       criterion=&#x27;k_best&#x27;, k_best=30)</pre></div></div></div><div class=\"sk-parallel\"><div class=\"sk-parallel-item\"><div class=\"sk-item\"><div class=\"sk-label-container\"><div class=\"sk-label sk-toggleable\"><input class=\"sk-toggleable__control sk-hidden--visually\" id=\"sk-estimator-id-3\" type=\"checkbox\" ><label for=\"sk-estimator-id-3\" class=\"sk-toggleable__label sk-toggleable__label-arrow\">base_estimator: RandomForestClassifier</label><div class=\"sk-toggleable__content\"><pre>RandomForestClassifier()</pre></div></div></div><div class=\"sk-serial\"><div class=\"sk-item\"><div class=\"sk-estimator sk-toggleable\"><input class=\"sk-toggleable__control sk-hidden--visually\" id=\"sk-estimator-id-4\" type=\"checkbox\" ><label for=\"sk-estimator-id-4\" class=\"sk-toggleable__label sk-toggleable__label-arrow\">RandomForestClassifier</label><div class=\"sk-toggleable__content\"><pre>RandomForestClassifier()</pre></div></div></div></div></div></div></div></div></div></div>"
            ]
          },
          "metadata": {},
          "execution_count": 59
        }
      ]
    },
    {
      "cell_type": "code",
      "source": [
        "# 레이블이 없는 데이터에 대한 예측 수행\n",
        "X_test_st=test_st\n",
        "pseudo_labels = self_training_model.predict(X_test_st)\n",
        "\n",
        "# 예측 결과 출력\n",
        "print(pseudo_labels)"
      ],
      "metadata": {
        "colab": {
          "base_uri": "https://localhost:8080/"
        },
        "id": "rfXM-qXM4KzP",
        "outputId": "995d9446-8f29-4f73-9d01-5e3b66d991fc"
      },
      "execution_count": 60,
      "outputs": [
        {
          "output_type": "stream",
          "name": "stdout",
          "text": [
            "[1 0 2 ... 2 2 2]\n"
          ]
        }
      ]
    },
    {
      "cell_type": "code",
      "source": [
        "pseudo_labels"
      ],
      "metadata": {
        "colab": {
          "base_uri": "https://localhost:8080/"
        },
        "id": "JQOiszAn5Jj4",
        "outputId": "992c35c9-5384-49fe-d0e1-c9cd3b1e55c3"
      },
      "execution_count": 61,
      "outputs": [
        {
          "output_type": "execute_result",
          "data": {
            "text/plain": [
              "array([1, 0, 2, ..., 2, 2, 2])"
            ]
          },
          "metadata": {},
          "execution_count": 61
        }
      ]
    },
    {
      "cell_type": "markdown",
      "source": [
        "* k_best 값은 Self-training 과정에서 의사 레이블로 변환할 때 사용되는 기준\n",
        "* 즉, Self-training의 각 반복에서 가장 확신 있는 상위 k_best개의 샘플을 의사 레이블로 선택하게 됩니다. 이 k_best 값을 어떻게 설정하느냐에 따라 Self-training의 성능과 학습 속도에 영향\n",
        "\n",
        "* 보통은 작은 값 (예: 10, 20, 50)으로 시작하여 여러 가지 값을 시도\n",
        "\n",
        "\n",
        "\n",
        "\n",
        "\n"
      ],
      "metadata": {
        "id": "2RM5IkKsjJ27"
      }
    }
  ]
}